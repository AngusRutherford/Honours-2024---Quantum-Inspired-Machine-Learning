{
 "cells": [
  {
   "cell_type": "code",
   "execution_count": 212,
   "metadata": {},
   "outputs": [],
   "source": [
    "using ITensors\n",
    "using Zygote\n",
    "using Random"
   ]
  },
  {
   "cell_type": "code",
   "execution_count": 213,
   "metadata": {},
   "outputs": [
    {
     "data": {
      "text/plain": [
       "MPS\n",
       "[1] ((dim=2|id=334|\"S=1/2,Site,n=1\"), (dim=4|id=117|\"Link,l=1\"), (dim=2|id=24|\"f(x)\"))\n",
       "[2] ((dim=4|id=117|\"Link,l=1\"), (dim=2|id=111|\"S=1/2,Site,n=2\"), (dim=4|id=497|\"Link,l=2\"))\n",
       "[3] ((dim=4|id=497|\"Link,l=2\"), (dim=2|id=51|\"S=1/2,Site,n=3\"), (dim=4|id=213|\"Link,l=3\"))\n",
       "[4] ((dim=4|id=213|\"Link,l=3\"), (dim=2|id=207|\"S=1/2,Site,n=4\"), (dim=2|id=587|\"Link,l=4\"))\n",
       "[5] ((dim=2|id=587|\"Link,l=4\"), (dim=2|id=554|\"S=1/2,Site,n=5\"))\n"
      ]
     },
     "metadata": {},
     "output_type": "display_data"
    }
   ],
   "source": [
    "s = siteinds(\"S=1/2\", 5)\n",
    "l_index = Index(2, \"f(x)\")\n",
    "l_tensor = randomITensor(ComplexF64, l_index)\n",
    "mps = randomMPS(ComplexF64, s; linkdims=4)\n",
    "mps[1] *= l_tensor;\n",
    "normalize!(mps)"
   ]
  },
  {
   "cell_type": "code",
   "execution_count": 214,
   "metadata": {},
   "outputs": [],
   "source": [
    "function angle_encoder(x)\n",
    "    return [exp(1im * (3π/2) * x) * cospi(0.5 * x), exp(-1im * (3π/2) * x) * sinpi(0.5 * x)]\n",
    "end;"
   ]
  },
  {
   "cell_type": "code",
   "execution_count": 215,
   "metadata": {},
   "outputs": [],
   "source": [
    "sample = rand(5)\n",
    "ps = MPS([ITensor(angle_encoder(sample[i]), s[i]) for i in eachindex(sample)]);"
   ]
  },
  {
   "cell_type": "code",
   "execution_count": 216,
   "metadata": {},
   "outputs": [
    {
     "data": {
      "text/plain": [
       "get_probas (generic function with 1 method)"
      ]
     },
     "metadata": {},
     "output_type": "display_data"
    }
   ],
   "source": [
    "function get_probas(mps, ps)\n",
    "    amp = 1\n",
    "    for i in 1:5\n",
    "        amp *= conj(ps[i]) * mps[i]\n",
    "    end\n",
    "    abs_amp_sq = real(abs.(amp)).^2\n",
    "    orthogonalize!(mps, 1)\n",
    "    Z = conj(mps[1]) * mps[1]\n",
    "    p = abs_amp_sq / abs(Z[])\n",
    "    return p\n",
    "end"
   ]
  },
  {
   "cell_type": "code",
   "execution_count": 217,
   "metadata": {},
   "outputs": [
    {
     "data": {
      "text/plain": [
       "loss1 (generic function with 1 method)"
      ]
     },
     "metadata": {},
     "output_type": "display_data"
    }
   ],
   "source": [
    "function loss1(mps, ps)\n",
    "    # pretend the ground truth label is y = 1\n",
    "    ground_truth_label = 1\n",
    "    amp = 1\n",
    "    for i in 1:5\n",
    "        amp *= conj(ps[i]) * mps[i]\n",
    "    end\n",
    "    yhat = amp\n",
    "    label_idx = first(inds(yhat))\n",
    "    y = onehot(label_idx => (ground_truth_label + 1))\n",
    "    f_ln = first(yhat * y)\n",
    "    orthogonalize!(mps, 1)\n",
    "    Z = conj(mps[1]) * mps[1]\n",
    "    p = abs2.(f_ln) / abs(Z[])\n",
    "    loss = -log(p)\n",
    "    return loss\n",
    "end"
   ]
  },
  {
   "cell_type": "code",
   "execution_count": 218,
   "metadata": {},
   "outputs": [
    {
     "data": {
      "text/plain": [
       "4.315999213703352"
      ]
     },
     "metadata": {},
     "output_type": "display_data"
    }
   ],
   "source": [
    "loss1(mps, ps)"
   ]
  },
  {
   "cell_type": "code",
   "execution_count": 219,
   "metadata": {},
   "outputs": [
    {
     "data": {
      "text/plain": [
       "#69 (generic function with 1 method)"
      ]
     },
     "metadata": {},
     "output_type": "display_data"
    }
   ],
   "source": [
    "ll = x -> loss1(x, ps)"
   ]
  },
  {
   "cell_type": "code",
   "execution_count": 220,
   "metadata": {},
   "outputs": [],
   "source": [
    "g, = gradient(ll, mps);"
   ]
  },
  {
   "cell_type": "code",
   "execution_count": 221,
   "metadata": {},
   "outputs": [
    {
     "data": {
      "text/plain": [
       "MPS\n",
       "[1] ((dim=2|id=334|\"S=1/2,Site,n=1\"), (dim=4|id=117|\"Link,l=1\"), (dim=2|id=24|\"f(x)\"))\n",
       "[2] ((dim=4|id=117|\"Link,l=1\"), (dim=2|id=111|\"S=1/2,Site,n=2\"), (dim=4|id=497|\"Link,l=2\"))\n",
       "[3] ((dim=4|id=497|\"Link,l=2\"), (dim=2|id=51|\"S=1/2,Site,n=3\"), (dim=4|id=213|\"Link,l=3\"))\n",
       "[4] ((dim=4|id=213|\"Link,l=3\"), (dim=2|id=207|\"S=1/2,Site,n=4\"), (dim=2|id=587|\"Link,l=4\"))\n",
       "[5] ((dim=2|id=587|\"Link,l=4\"), (dim=2|id=554|\"S=1/2,Site,n=5\"))\n"
      ]
     },
     "metadata": {},
     "output_type": "display_data"
    }
   ],
   "source": [
    "mps_new = mps .- 0.8 .* g.data"
   ]
  },
  {
   "cell_type": "code",
   "execution_count": 222,
   "metadata": {},
   "outputs": [
    {
     "data": {
      "text/plain": [
       "0.03174352780773894"
      ]
     },
     "metadata": {},
     "output_type": "display_data"
    }
   ],
   "source": [
    "ll(mps_new)"
   ]
  },
  {
   "cell_type": "code",
   "execution_count": 223,
   "metadata": {},
   "outputs": [],
   "source": [
    "g, = gradient(ll, mps_new);"
   ]
  },
  {
   "cell_type": "code",
   "execution_count": 224,
   "metadata": {},
   "outputs": [
    {
     "data": {
      "text/plain": [
       "MPS\n",
       "[1] ((dim=2|id=334|\"S=1/2,Site,n=1\"), (dim=2|id=24|\"f(x)\"), (dim=4|id=515|\"Link,l=1\"))\n",
       "[2] ((dim=2|id=111|\"S=1/2,Site,n=2\"), (dim=4|id=870|\"Link,l=2\"), (dim=4|id=515|\"Link,l=1\"))\n",
       "[3] ((dim=2|id=51|\"S=1/2,Site,n=3\"), (dim=4|id=852|\"Link,l=3\"), (dim=4|id=870|\"Link,l=2\"))\n",
       "[4] ((dim=2|id=207|\"S=1/2,Site,n=4\"), (dim=2|id=448|\"Link,l=4\"), (dim=4|id=852|\"Link,l=3\"))\n",
       "[5] ((dim=2|id=554|\"S=1/2,Site,n=5\"), (dim=2|id=448|\"Link,l=4\"))\n"
      ]
     },
     "metadata": {},
     "output_type": "display_data"
    }
   ],
   "source": [
    "mps_new2 = mps_new .- 0.95 .* g.data"
   ]
  },
  {
   "cell_type": "code",
   "execution_count": 225,
   "metadata": {},
   "outputs": [
    {
     "data": {
      "text/plain": [
       "0.012319773114485781"
      ]
     },
     "metadata": {},
     "output_type": "display_data"
    }
   ],
   "source": [
    "ll(mps_new2)"
   ]
  },
  {
   "cell_type": "code",
   "execution_count": 226,
   "metadata": {},
   "outputs": [
    {
     "data": {
      "text/plain": [
       "Dim 1: (dim=2|id=24|\"f(x)\")\n",
       "NDTensors.Dense{Float64, Vector{Float64}}\n",
       " 2-element\n",
       " 0.009468035091881044\n",
       " 0.9877558046051496"
      ]
     },
     "metadata": {},
     "output_type": "display_data"
    }
   ],
   "source": [
    "get_probas(mps_new2, ps).tensor"
   ]
  },
  {
   "cell_type": "code",
   "execution_count": 227,
   "metadata": {},
   "outputs": [
    {
     "data": {
      "text/plain": [
       "34297.31615548319"
      ]
     },
     "metadata": {},
     "output_type": "display_data"
    }
   ],
   "source": [
    "norm(mps_new2)"
   ]
  },
  {
   "cell_type": "markdown",
   "metadata": {},
   "source": [
    "With bond tensor?"
   ]
  },
  {
   "cell_type": "code",
   "execution_count": 228,
   "metadata": {},
   "outputs": [
    {
     "data": {
      "text/plain": [
       "ITensor ord=4 (dim=2|id=334|\"S=1/2,Site,n=1\") (dim=2|id=24|\"f(x)\") (dim=2|id=111|\"S=1/2,Site,n=2\") (dim=4|id=497|\"Link,l=2\")\n",
       "NDTensors.Dense{ComplexF64, Vector{ComplexF64}}"
      ]
     },
     "metadata": {},
     "output_type": "display_data"
    }
   ],
   "source": [
    "bt = mps[1] * mps[2]"
   ]
  },
  {
   "cell_type": "code",
   "execution_count": 234,
   "metadata": {},
   "outputs": [
    {
     "data": {
      "text/plain": [
       "lossbt (generic function with 2 methods)"
      ]
     },
     "metadata": {},
     "output_type": "display_data"
    }
   ],
   "source": [
    "function lossbt(bt, ps, mps)\n",
    "    ground_truth_label = 1\n",
    "    amp = conj(ps[1]) * conj(ps[2])\n",
    "    for i in 3:5\n",
    "        amp *= conj(ps[i]) * mps[i]\n",
    "    end\n",
    "    yhat = bt * amp\n",
    "    label_idx = first(inds(yhat))\n",
    "    y = onehot(label_idx => (ground_truth_label + 1))\n",
    "    f_ln = first(yhat * y)\n",
    "    orthogonalize!(mps, 1)\n",
    "    Z = conj(mps[1]) * mps[1]\n",
    "    p = abs2.(f_ln) / abs(Z[])\n",
    "    loss = -log(p)\n",
    "    return loss\n",
    "end\n",
    "    "
   ]
  },
  {
   "cell_type": "code",
   "execution_count": 236,
   "metadata": {},
   "outputs": [
    {
     "data": {
      "text/plain": [
       "#73 (generic function with 1 method)"
      ]
     },
     "metadata": {},
     "output_type": "display_data"
    }
   ],
   "source": [
    "lbt = x -> lossbt(x, ps, mps)"
   ]
  },
  {
   "cell_type": "code",
   "execution_count": 237,
   "metadata": {},
   "outputs": [
    {
     "data": {
      "text/plain": [
       "4.31599921370335"
      ]
     },
     "metadata": {},
     "output_type": "display_data"
    }
   ],
   "source": [
    "lbt(bt)"
   ]
  },
  {
   "cell_type": "code",
   "execution_count": 240,
   "metadata": {},
   "outputs": [],
   "source": [
    "g, = gradient(lbt, bt);"
   ]
  },
  {
   "cell_type": "code",
   "execution_count": 250,
   "metadata": {},
   "outputs": [
    {
     "data": {
      "text/plain": [
       "ITensor ord=4 (dim=2|id=334|\"S=1/2,Site,n=1\") (dim=2|id=24|\"f(x)\") (dim=2|id=111|\"S=1/2,Site,n=2\") (dim=4|id=497|\"Link,l=2\")\n",
       "NDTensors.Dense{ComplexF64, Vector{ComplexF64}}"
      ]
     },
     "metadata": {},
     "output_type": "display_data"
    }
   ],
   "source": [
    "bt_new = bt - 0.05 * g"
   ]
  },
  {
   "cell_type": "code",
   "execution_count": 251,
   "metadata": {},
   "outputs": [
    {
     "data": {
      "text/plain": [
       "1.3161165727640542"
      ]
     },
     "metadata": {},
     "output_type": "display_data"
    }
   ],
   "source": [
    "lbt(bt_new)"
   ]
  },
  {
   "cell_type": "code",
   "execution_count": null,
   "metadata": {},
   "outputs": [],
   "source": []
  }
 ],
 "metadata": {
  "kernelspec": {
   "display_name": "Julia 1.10.2",
   "language": "julia",
   "name": "julia-1.10"
  },
  "language_info": {
   "file_extension": ".jl",
   "mimetype": "application/julia",
   "name": "julia",
   "version": "1.10.2"
  }
 },
 "nbformat": 4,
 "nbformat_minor": 2
}
