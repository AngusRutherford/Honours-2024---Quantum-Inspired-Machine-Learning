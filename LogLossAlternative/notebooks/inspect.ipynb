{
 "cells": [
  {
   "cell_type": "code",
   "execution_count": 45,
   "metadata": {},
   "outputs": [],
   "source": [
    "using HDF5\n",
    "using ITensors\n",
    "using Plots\n",
    "using Base.Threads\n",
    "using Normalization\n",
    "using Random, Distributions\n",
    "using StatsBase\n",
    "using QuadGK, Roots"
   ]
  },
  {
   "cell_type": "code",
   "execution_count": 2,
   "metadata": {},
   "outputs": [
    {
     "data": {
      "text/plain": [
       "loadMPS (generic function with 1 method)"
      ]
     },
     "metadata": {},
     "output_type": "display_data"
    }
   ],
   "source": [
    "function loadMPS(path::String; id::String=\"W\")\n",
    "    \"\"\"Loads an MPS from a .h5 file. Returns and ITensor MPS.\"\"\"\n",
    "        file = path[end-2:end] != \".h5\" ? path * \".h5\" : path\n",
    "        f = h5open(\"$file\",\"r\")\n",
    "        mps = read(f, \"$id\", MPS)\n",
    "        close(f)\n",
    "        return mps\n",
    "    end"
   ]
  },
  {
   "cell_type": "code",
   "execution_count": 103,
   "metadata": {},
   "outputs": [],
   "source": [
    "loaded_mps = loadMPS(\"../saved/saved.h5\");"
   ]
  },
  {
   "cell_type": "code",
   "execution_count": 104,
   "metadata": {},
   "outputs": [
    {
     "data": {
      "text/plain": [
       "slice_mps_into_label_states (generic function with 1 method)"
      ]
     },
     "metadata": {},
     "output_type": "display_data"
    }
   ],
   "source": [
    "function slice_mps_into_label_states(mps::MPS)\n",
    "    \"\"\"Gets the label index of the MPS and slices according to the number of classes (dim of the label index)\"\"\"\n",
    "    \"\"\"Assume one-hot encoding scheme i.e. class 0 = [1, 0], class 1 = [0, 1], etc. \"\"\"\n",
    "    dec_index = findindex(mps[end], \"f(x)\")\n",
    "    if isnothing(dec_index)\n",
    "        error(\"Label index not found on the first site of the MPS!\")\n",
    "    end\n",
    "    # infer num classes from the dimension of the label index\n",
    "    n_states = ITensors.dim(dec_index)\n",
    "    states = []\n",
    "\n",
    "    for i = 1:n_states\n",
    "        # make a copy of the MPS so we are protected from any unintentional changes\n",
    "        state = deepcopy(mps)\n",
    "        if !isapprox(norm(state), 1.0) @warn \"WARNING, MPS NOT NORMALISED!\" end\n",
    "        # create a onehot encoded tensor to slice the MPS\n",
    "        decision_state = onehot(dec_index => (i))\n",
    "        println(\"Class $(i-1) state: $(vector(decision_state))\")\n",
    "        # slice the mps along the dimension i by contracting with the label site\n",
    "        state[end] *= decision_state\n",
    "\n",
    "        # normalise the label MPS\n",
    "        normalize!(state)\n",
    "        push!(states, state)\n",
    "\n",
    "    end\n",
    "\n",
    "    return states\n",
    "\n",
    "end"
   ]
  },
  {
   "cell_type": "code",
   "execution_count": 105,
   "metadata": {},
   "outputs": [
    {
     "data": {
      "text/plain": [
       "sample_mps (generic function with 1 method)"
      ]
     },
     "metadata": {},
     "output_type": "display_data"
    }
   ],
   "source": [
    "function probability_density(x::Float64, rdm::Matrix)\n",
    "    \"\"\"Function to compute the probability density for a given value, x ∈ [0, 1] according to\n",
    "    the 1-site reduced density matrix (RDM).\"\"\"\n",
    "    state = [exp(1im * (3π/2) * x) * cospi(0.5 * x), exp(-1im * (3π/2) * x) * sinpi(0.5 * x)] # our complex feature map\n",
    "    return real(state' * rdm * state) # |<x|ρ|x>|\n",
    "end\n",
    "\n",
    "function get_normalisation_factor(rdm::Matrix)\n",
    "    # get the normalisation factor for the rdm\n",
    "    prob_density_wrapper(x) = probability_density(x, rdm)\n",
    "    norm_factor, _ = quadgk(prob_density_wrapper, 0, 1)\n",
    "    return norm_factor\n",
    "end\n",
    "\n",
    "function cdf(x, rdm, norm_factor)\n",
    "    \"\"\"Compute the cumulative distribution function\"\"\"\n",
    "    prob_density_wrapper(x_prime) = probability_density(x_prime, rdm) / norm_factor\n",
    "    cdf_value, _ = quadgk(prob_density_wrapper, 0, x)\n",
    "    return cdf_value\n",
    "end\n",
    "\n",
    "function sample_individual_state(rdm, norm_factor)\n",
    "    \"\"\"Sample a state from the rdm using inverse transform sampling. Returns both the sampled value of\n",
    "    x and the state after applying the feature map to the sample value for projective measurment.\"\"\"\n",
    "    u = rand()\n",
    "    cdf_wrapper(x) = cdf(x, rdm, norm_factor) - u\n",
    "    sampled_x = find_zero(cdf_wrapper, (0, 1))\n",
    "    sampled_state = [exp(1im * (3π/2) * sampled_x) * cospi(0.5 * sampled_x), exp(-1im * (3π/2) * sampled_x) * sinpi(0.5 * sampled_x)]\n",
    "    return sampled_x, sampled_state\n",
    "end\n",
    "\n",
    "function sample_mps(mps_original::MPS)\n",
    "    \"\"\"Revised version of the original sampling algorithm, fixed for continuous distribution\"\"\"\n",
    "    mps = deepcopy(mps_original) # just in case ITensor does some funny business with in-place operations\n",
    "    s = siteinds(mps)  \n",
    "    x_samples = Vector{Float64}(undef, length(mps))\n",
    "    for i in eachindex(mps)\n",
    "\n",
    "        orthogonalize!(mps, i)\n",
    "        # get the rdm \n",
    "        rdm = prime(mps[i], s[i]) * dag(mps[i])\n",
    "        # check properties\n",
    "        if !isapprox(real(tr(rdm)), 1.0; atol=1E-3) @warn \"Trace of RDM ρ at site $i not equal to 1 ($(abs(tr(rdm)))).\" end\n",
    "        if !isequal(rdm.tensor, adjoint(rdm).tensor) @warn \"RDM at site $i not Hermitian.\" end\n",
    "        rdm_m = matrix(rdm)\n",
    "        # now sample from the rdm\n",
    "        norm_factor = get_normalisation_factor(rdm_m)\n",
    "        #println(norm_factor)\n",
    "        sampled_x, sampled_state = sample_individual_state(rdm_m, norm_factor)\n",
    "        x_samples[i] = sampled_x\n",
    "\n",
    "        # construct projector\n",
    "        sampled_state_as_ITensor = ITensor(sampled_state, s[i])\n",
    "        m = MPS(1)\n",
    "        m[1] = sampled_state_as_ITensor\n",
    "        state_projector = projector(m)\n",
    "        # make into a local MPO\n",
    "        state_projector_operator = op(matrix(state_projector[1]), s[i])\n",
    "        # apply to mps at site i\n",
    "        mps[i] *= state_projector_operator\n",
    "        # unprime indicies on updated site - indices get primed when applying MPO \n",
    "        noprime!(mps[i])\n",
    "        normalize!(mps)\n",
    "    end\n",
    "\n",
    "    return x_samples\n",
    "    \n",
    "end"
   ]
  },
  {
   "cell_type": "code",
   "execution_count": 6,
   "metadata": {},
   "outputs": [
    {
     "data": {
      "text/plain": [
       "feature_map (generic function with 1 method)"
      ]
     },
     "metadata": {},
     "output_type": "display_data"
    }
   ],
   "source": [
    "function feature_map(x::Float64)\n",
    "    s1 = exp(1im * (3π/2) * x) * cospi(0.5 * x)\n",
    "    s2 = exp(-1im * (3π/2) * x) * sinpi(0.5 * x)\n",
    "    return [s1, s2]\n",
    "end"
   ]
  },
  {
   "cell_type": "code",
   "execution_count": 177,
   "metadata": {},
   "outputs": [
    {
     "data": {
      "text/plain": [
       "generate_toy_timeseries (generic function with 2 methods)"
      ]
     },
     "metadata": {},
     "output_type": "display_data"
    }
   ],
   "source": [
    "function generate_toy_timeseries(time_series_length::Int, total_dataset_size::Int, \n",
    "    train_split=0.7; random_state=1234, plot_examples=false)\n",
    "    \"\"\"Generate two sinusoids of different frequency, and with randomised phase.\n",
    "    Inject noise with a given amplitude.\"\"\"\n",
    "    Random.seed!(random_state)\n",
    "\n",
    "    train_size = floor(Int, total_dataset_size * train_split)\n",
    "    test_size = total_dataset_size - train_size\n",
    "\n",
    "    X_train = zeros(Float64, train_size, time_series_length)\n",
    "    y_train = zeros(Int, train_size)\n",
    "    \n",
    "    X_test = zeros(Float64, test_size, time_series_length)\n",
    "    y_test = zeros(Int, test_size)\n",
    "\n",
    "    function generate_sinusoid(length::Int, A::Float64=1.0, \n",
    "        f::Float64=1.0, sigma=0.2)\n",
    "        # sigma is scale of the gaussian noise added to the sinusoid\n",
    "        t = range(0, 2π, length)\n",
    "        phase = rand(Uniform(0, 2π)) # randomise the phase\n",
    "\n",
    "        return A .* sin.(f .*t .+ phase) .+ sigma .* randn(length)\n",
    "\n",
    "    end\n",
    "\n",
    "    # generation parameters\n",
    "    A1, f1, sigma1 = 1.0, 5.0, 0.0 # Class 0\n",
    "    A2, f2, sigma2 = 1.0, 10.0, 0.0 # Class 1\n",
    "\n",
    "    for i in 1:train_size\n",
    "        label = rand(0:1) # choose a label, if 0 use freq f0, if 1 use freq f1. \n",
    "        data = label == 0 ? generate_sinusoid(time_series_length, A1, f1, sigma1) : \n",
    "            generate_sinusoid(time_series_length, A2, f2, sigma2)\n",
    "        X_train[i, :] = data\n",
    "        y_train[i] = label\n",
    "    end\n",
    "\n",
    "    for i in 1:test_size\n",
    "        label = rand(0:1) # choose a label, if 0 use freq f0, if 1 use freq f1. \n",
    "        data = label == 0 ? generate_sinusoid(time_series_length, A1, f1, sigma1) : \n",
    "            generate_sinusoid(time_series_length, A2, f2, sigma2)\n",
    "        X_test[i, :] = data\n",
    "        y_test[i] = label\n",
    "    end\n",
    "\n",
    "    # plot some examples\n",
    "    if plot_examples\n",
    "        class_0_idxs = findall(x -> x.== 0, y_train)[1:2] # select subset of 5 samples\n",
    "        class_1_idxs = findall(x -> x.== 1, y_train)[1:2]\n",
    "        p0 = plot(X_train[class_0_idxs, :]', xlabel=\"Time\", ylabel=\"x\", title=\"Class 0 Samples (Unscaled)\", \n",
    "            alpha=0.4, c=:red, label=\"\")\n",
    "        p1 = plot(X_train[class_1_idxs, :]', xlabel=\"Time\", ylabel=\"x\", title=\"Class 1 Samples (Unscaled)\", \n",
    "            alpha=0.4, c=:magenta, label=\"\")\n",
    "        p = plot(p0, p1, size=(1200, 500), bottom_margin=5mm, left_margin=5mm)\n",
    "        display(p)\n",
    "    end\n",
    "\n",
    "    return (X_train, y_train), (X_test, y_test)\n",
    "\n",
    "end"
   ]
  },
  {
   "cell_type": "code",
   "execution_count": 178,
   "metadata": {},
   "outputs": [
    {
     "data": {
      "text/plain": [
       "70×100 Matrix{Float64}:\n",
       " 0.428252  0.363951  0.316105  0.28739   …  0.576028  0.502296  0.428252\n",
       " 0.318661  0.432894  0.580586  0.688679     0.315227  0.278149  0.318661\n",
       " 0.302811  0.279705  0.334183  0.459073     0.548534  0.402034  0.302811\n",
       " 0.295756  0.331678  0.386128  0.455051     0.282217  0.279309  0.295756\n",
       " 0.721802  0.715292  0.689351  0.644146     0.676692  0.708983  0.721802\n",
       " 0.412614  0.307937  0.278716  0.327085  …  0.677383  0.560003  0.412614\n",
       " 0.285317  0.311763  0.357457  0.420105     0.290644  0.278313  0.285317\n",
       " 0.704672  0.717861  0.653528  0.522068     0.47066   0.614651  0.704672\n",
       " 0.28036   0.299358  0.33781   0.394478     0.300489  0.280734  0.28036\n",
       " 0.343228  0.473038  0.616628  0.705487     0.297345  0.281504  0.343228\n",
       " ⋮                                       ⋱                      \n",
       " 0.617744  0.671167  0.705941  0.721242     0.474389  0.549492  0.617744\n",
       " 0.705484  0.721137  0.717449  0.694357     0.616621  0.670358  0.705484\n",
       " 0.718864  0.720318  0.702416  0.665055     0.657772  0.698027  0.718864\n",
       " 0.280758  0.280338  0.299292  0.337699     0.339798  0.300557  0.280758\n",
       " 0.722055  0.712697  0.683884  0.63595   …  0.682667  0.71209   0.722055\n",
       " 0.331594  0.386013  0.454916  0.530101     0.279296  0.295708  0.331594\n",
       " 0.673099  0.707021  0.72147   0.716583     0.552704  0.620444  0.673099\n",
       " 0.4854    0.560134  0.626618  0.677459     0.351685  0.412738  0.4854\n",
       " 0.712572  0.63558   0.497025  0.360036     0.634533  0.712218  0.712572"
      ]
     },
     "metadata": {},
     "output_type": "display_data"
    }
   ],
   "source": [
    "(X_train, y_train), (X_test, y_test) = generate_toy_timeseries(100, 100);\n",
    "rs = RobustSigmoid(X_train)\n",
    "X_train_scaled = rs(X_train)"
   ]
  },
  {
   "cell_type": "code",
   "execution_count": 179,
   "metadata": {},
   "outputs": [
    {
     "data": {
      "text/plain": [
       "generate_sample (generic function with 1 method)"
      ]
     },
     "metadata": {},
     "output_type": "display_data"
    }
   ],
   "source": [
    "function generate_sample(mps_original::MPS; dx=0.1)\n",
    "    mps = deepcopy(mps_original)\n",
    "    s = siteinds(mps)\n",
    "    xs = 0.0:dx:1.0\n",
    "\n",
    "    x_samples = Vector{Float64}(undef, length(mps))\n",
    "    for i in eachindex(mps)\n",
    "        orthogonalize!(mps, i)\n",
    "        ρ = prime(mps[i], s[i]) * dag(mps[i])\n",
    "        # check properties\n",
    "        if !isapprox(real(tr(ρ)), 1.0; atol=1E-3) @warn \"Trace of RDM ρ at site $i not equal to 1 ($(abs(tr(ρ)))).\" end\n",
    "        if !isequal(ρ.tensor, adjoint(ρ).tensor) @warn \"RDM at site $i not Hermitian.\" end\n",
    "        ρ_m = matrix(ρ)\n",
    "        probs = [real(feature_map(x)' * ρ_m * feature_map(x)) for x in xs];\n",
    "        probs_normed = probs ./ sum(probs)\n",
    "        cdf = cumsum(probs_normed)\n",
    "        r = rand()\n",
    "        cdf_selected_index = findfirst(x -> x > r, cdf)\n",
    "        selected_x = xs[cdf_selected_index]\n",
    "        x_samples[i] = selected_x\n",
    "        selected_state = feature_map(selected_x)\n",
    "        site_measured_state = ITensor(selected_state, s[i])\n",
    "        m = MPS(1)\n",
    "        m[1] = site_measured_state\n",
    "        # make into a projector\n",
    "        site_projector = projector(m)\n",
    "        # make into projector operator\n",
    "        site_projector_operator = op(matrix(site_projector[1]), s[i])\n",
    "        mps[i] *= site_projector_operator\n",
    "        noprime!(mps[i])\n",
    "        normalize!(mps)\n",
    "\n",
    "    end\n",
    "\n",
    "    return x_samples\n",
    "\n",
    "end"
   ]
  },
  {
   "cell_type": "code",
   "execution_count": 180,
   "metadata": {},
   "outputs": [
    {
     "name": "stdout",
     "output_type": "stream",
     "text": [
      "Class 0 state: [1.0, 0.0]\n",
      "Class 1 state: [0.0, 1.0]\n"
     ]
    }
   ],
   "source": [
    "states = slice_mps_into_label_states(loaded_mps);"
   ]
  },
  {
   "cell_type": "code",
   "execution_count": 181,
   "metadata": {},
   "outputs": [],
   "source": [
    "s = siteinds(states[1]);\n",
    "samp = X_train_scaled[2,:]\n",
    "ps = MPS([ITensor(feature_map(samp[i]), s[i]) for i in eachindex(samp)]);"
   ]
  },
  {
   "cell_type": "code",
   "execution_count": 187,
   "metadata": {},
   "outputs": [],
   "source": [
    "res = 1\n",
    "for i in eachindex(states[1])\n",
    "    res *= states[1][i] * conj(ps[i])\n",
    "end"
   ]
  },
  {
   "cell_type": "code",
   "execution_count": 185,
   "metadata": {},
   "outputs": [
    {
     "data": {
      "text/plain": [
       "1.2854894643552516e-32"
      ]
     },
     "metadata": {},
     "output_type": "display_data"
    }
   ],
   "source": [
    "abs2(res[])/abs(inner(states[2], states[2]))"
   ]
  },
  {
   "cell_type": "code",
   "execution_count": 199,
   "metadata": {},
   "outputs": [
    {
     "data": {
      "text/plain": [
       "forecast_sites (generic function with 1 method)"
      ]
     },
     "metadata": {},
     "output_type": "display_data"
    }
   ],
   "source": [
    "function forecast_sites(mps::MPS, sample::Vector, start_site::Int)\n",
    "    \"\"\"Assumes forward sequential interpolation for now, i.e., \n",
    "    is sample corresponds to sites 1:50, then interpolate sites 51 to 100.\n",
    "    Start site is the starting point IN THE MPS (last site in sample + 1).\n",
    "    Return a new mps conditioned on the sample.\"\"\"\n",
    "    @assert length(mps) > length(sample) \"Sample is longer than MPS.\"\n",
    "    s = siteinds(mps)\n",
    "    @assert isapprox(norm(mps), 1.0; atol=1E-3) \"MPS is not normalised!\"\n",
    "\n",
    "    for i in 1:(start_site-1)\n",
    "        # condition each site in the mps on the sample values\n",
    "        # start by getting the state corresponding to the site\n",
    "        site_state = ITensor(feature_map(sample[i]), s[i])\n",
    "        # construct projector, need to use 1 site mps to make one site projector \n",
    "        m = MPS(1)\n",
    "        m[1] = site_state\n",
    "        site_projector = projector(m)\n",
    "        # turn projector into a local MPO\n",
    "        site_projector_operator = op(matrix(site_projector[1]), s[i])\n",
    "        orthogonalize!(mps, i)\n",
    "        mps[i] *= site_projector_operator\n",
    "        noprime!(mps[i])\n",
    "        # normalise \n",
    "        normalize!(mps)\n",
    "    end\n",
    "\n",
    "    # now generate the remaining sites by sampling from the conditional distribution \n",
    "    x_samples = []\n",
    "    for i in start_site:length(mps)\n",
    "        orthogonalize!(mps, i)\n",
    "        # get the rdm \n",
    "        rdm = prime(mps[i], s[i]) * dag(mps[i])\n",
    "        # check properties\n",
    "        if !isapprox(real(tr(rdm)), 1.0; atol=1E-3) @warn \"Trace of RDM ρ at site $i not equal to 1 ($(abs(tr(rdm)))).\" end\n",
    "        if !isequal(rdm.tensor, adjoint(rdm).tensor) @warn \"RDM at site $i not Hermitian.\" end\n",
    "        rdm_m = matrix(rdm)\n",
    "        # now sample from the rdm\n",
    "        norm_factor = get_normalisation_factor(rdm_m)\n",
    "        #println(norm_factor)\n",
    "        sampled_x, sampled_state = sample_individual_state(rdm_m, norm_factor)\n",
    "        push!(x_samples, sampled_x)\n",
    "\n",
    "        # construct projector\n",
    "        sampled_state_as_ITensor = ITensor(sampled_state, s[i])\n",
    "        m = MPS(1)\n",
    "        m[1] = sampled_state_as_ITensor\n",
    "        state_projector = projector(m)\n",
    "        # make into a local MPO\n",
    "        state_projector_operator = op(matrix(state_projector[1]), s[i])\n",
    "        # apply to mps at site i\n",
    "        mps[i] *= state_projector_operator\n",
    "        # unprime indicies on updated site - indices get primed when applying MPO \n",
    "        noprime!(mps[i])\n",
    "        normalize!(mps)\n",
    "    end\n",
    "\n",
    "    return x_samples\n",
    "        \n",
    "end"
   ]
  }
 ],
 "metadata": {
  "kernelspec": {
   "display_name": "Julia 1.10.2",
   "language": "julia",
   "name": "julia-1.10"
  },
  "language_info": {
   "file_extension": ".jl",
   "mimetype": "application/julia",
   "name": "julia",
   "version": "1.10.2"
  }
 },
 "nbformat": 4,
 "nbformat_minor": 2
}
