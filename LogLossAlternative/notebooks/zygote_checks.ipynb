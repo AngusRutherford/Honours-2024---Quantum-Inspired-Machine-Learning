{
 "cells": [
  {
   "cell_type": "code",
   "execution_count": 1010,
   "metadata": {},
   "outputs": [],
   "source": [
    "using ITensors\n",
    "using Zygote\n",
    "using Random\n",
    "using Pkg"
   ]
  },
  {
   "cell_type": "markdown",
   "metadata": {},
   "source": [
    "Rather than defining the probability as the square of the overlap, an alternative formulation is define it as the normalised squared overlap:\n",
    "$$p_i = \\frac{|\\langle y_i | \\hat{y} \\rangle|^2}{|\\langle \\hat{y} | \\hat{y} \\rangle|}$$\n",
    "Here, $\\langle y_i|$ is one for the i-th class and zero for all other classes."
   ]
  },
  {
   "cell_type": "code",
   "execution_count": 1011,
   "metadata": {},
   "outputs": [],
   "source": [
    "s = siteinds(\"S=1/2\", 5)\n",
    "l_index = Index(2, \"f(x)\")\n",
    "l_tensor = randomITensor(ComplexF64, l_index)\n",
    "mps = randomMPS(ComplexF64, s; linkdims=4)\n",
    "mps[1] *= l_tensor;"
   ]
  },
  {
   "cell_type": "markdown",
   "metadata": {},
   "source": [
    "Make product state"
   ]
  },
  {
   "cell_type": "code",
   "execution_count": 1012,
   "metadata": {},
   "outputs": [],
   "source": [
    "function angle_encoder(x)\n",
    "    return [exp(1im * (3π/2) * x) * cospi(0.5 * x), exp(-1im * (3π/2) * x) * sinpi(0.5 * x)]\n",
    "end;"
   ]
  },
  {
   "cell_type": "code",
   "execution_count": 1013,
   "metadata": {},
   "outputs": [],
   "source": [
    "Random.seed!(42)\n",
    "sample = rand(5)\n",
    "ps = MPS([ITensor(angle_encoder(sample[i]), s[i]) for i in eachindex(sample)]);"
   ]
  },
  {
   "cell_type": "code",
   "execution_count": 1014,
   "metadata": {},
   "outputs": [],
   "source": [
    "function get_overlap(ps, mps)\n",
    "    res = 1\n",
    "    for i in eachindex(mps)\n",
    "        res *= mps[i] * ps[i]\n",
    "    end\n",
    "    return res\n",
    "end;"
   ]
  },
  {
   "cell_type": "code",
   "execution_count": 1015,
   "metadata": {},
   "outputs": [],
   "source": [
    "function label_to_tensor(label, l_idx)\n",
    "    tensor = onehot(l_idx => label + 1)\n",
    "    return tensor\n",
    "end;"
   ]
  },
  {
   "cell_type": "code",
   "execution_count": 1016,
   "metadata": {},
   "outputs": [
    {
     "name": "stdout",
     "output_type": "stream",
     "text": [
      "label_to_tensor(0, l_index) = ITensor ord=1\n",
      "Dim 1: (dim=2|id=482|\"f(x)\")\n",
      "NDTensors.Dense{Float64, Vector{Float64}}\n",
      " 2-element\n",
      " 1.0\n",
      " 0.0\n"
     ]
    },
    {
     "data": {
      "text/plain": [
       "ITensor ord=1 (dim=2|id=482|\"f(x)\")\n",
       "NDTensors.Dense{Float64, Vector{Float64}}"
      ]
     },
     "metadata": {},
     "output_type": "display_data"
    }
   ],
   "source": [
    "@show label_to_tensor(0, l_index)"
   ]
  },
  {
   "cell_type": "code",
   "execution_count": 1017,
   "metadata": {},
   "outputs": [],
   "source": [
    "function get_probas(yhat)\n",
    "    norm_val = abs((conj(yhat)*yhat)[])\n",
    "    return [abs(yhat[i])^2 / norm_val for i in 1:dim(yhat)]\n",
    "end;"
   ]
  },
  {
   "cell_type": "code",
   "execution_count": 1018,
   "metadata": {},
   "outputs": [
    {
     "data": {
      "text/plain": [
       "ITensor ord=4 (dim=2|id=27|\"S=1/2,Site,n=1\") (dim=2|id=482|\"f(x)\") (dim=2|id=744|\"S=1/2,Site,n=2\") (dim=4|id=730|\"Link,l=2\")\n",
       "NDTensors.Dense{ComplexF64, Vector{ComplexF64}}"
      ]
     },
     "metadata": {},
     "output_type": "display_data"
    }
   ],
   "source": [
    "bt = mps[1] * mps[2]"
   ]
  },
  {
   "cell_type": "code",
   "execution_count": 1019,
   "metadata": {},
   "outputs": [
    {
     "data": {
      "text/plain": [
       "loss (generic function with 2 methods)"
      ]
     },
     "metadata": {},
     "output_type": "display_data"
    }
   ],
   "source": [
    "function loss(bt, mps, ps)\n",
    "    gt_label = 1\n",
    "    phi_tilde = conj(ps[1]) * conj(ps[2])\n",
    "    for i in 3:5\n",
    "        phi_tilde *= mps[i] * conj(ps[i])\n",
    "    end\n",
    "    yhat = bt * phi_tilde\n",
    "    y = label_to_tensor(gt_label, l_index)\n",
    "    y_yhat = (y * yhat)[]\n",
    "    prob = abs(y_yhat)^2 / abs((conj(yhat)*yhat)[])\n",
    "    return -log(prob)\n",
    "end"
   ]
  },
  {
   "cell_type": "code",
   "execution_count": 1020,
   "metadata": {},
   "outputs": [
    {
     "data": {
      "text/plain": [
       "1.2542379326734892"
      ]
     },
     "metadata": {},
     "output_type": "display_data"
    }
   ],
   "source": [
    "l(bt)"
   ]
  },
  {
   "cell_type": "code",
   "execution_count": 1021,
   "metadata": {},
   "outputs": [],
   "source": [
    "l = x -> loss(x, mps, ps);"
   ]
  },
  {
   "cell_type": "code",
   "execution_count": 1022,
   "metadata": {},
   "outputs": [
    {
     "data": {
      "text/plain": [
       "(ITensor ord=4\n",
       "Dim 1: (dim=2|id=482|\"f(x)\")\n",
       "Dim 2: (dim=2|id=27|\"S=1/2,Site,n=1\")\n",
       "Dim 3: (dim=2|id=744|\"S=1/2,Site,n=2\")\n",
       "Dim 4: (dim=4|id=730|\"Link,l=2\")\n",
       "NDTensors.Dense{ComplexF64, Vector{ComplexF64}}\n",
       " 2×2×2×4\n",
       "[:, :, 1, 1] =\n",
       " -1.5712768730217714 + 1.3437649030639047im  …  -2.9437952846202786 + 1.093829543731132im\n",
       "  -2.051050245855548 - 2.5498655164088118im     -1.5902491231088167 - 4.709356966196219im\n",
       "\n",
       "[:, :, 2, 1] =\n",
       " -0.419273344886655 - 1.7172868444585057im  …  0.30085708193018873 - 2.6681778545640764im\n",
       "  2.736816456446854 - 0.5814979931250537im       4.206869266186243 + 0.6030900994858214im\n",
       "\n",
       "[:, :, 1, 2] =\n",
       " 3.287236480619436 - 1.6160117620716603im  …  5.5331363280507455 - 0.5840153311379886im\n",
       " 2.400007559427803 + 5.277577549912979im      0.6603334143548532 + 8.781546928751053im\n",
       "\n",
       "[:, :, 2, 2] =\n",
       " -0.03488142267370419 + 3.1316599632188615im   …  -1.6886492063633014 + 4.44732099497472im\n",
       "   -4.952794876335148 - 0.20438341055656384im      -6.955453219833564 - 2.883415112880523im\n",
       "\n",
       "[:, :, 1, 3] =\n",
       " 0.22483024855544648 - 2.294285231738383im   …  1.5212775440499884 - 3.153863414228121im\n",
       "   3.618972847665522 + 0.4649984478206171im      4.917106798117867 + 2.5570008877644836im\n",
       "\n",
       "[:, :, 2, 3] =\n",
       "  1.6639273613205856 + 1.0565245392069922im  …  1.8197520810731906 + 2.3773391520795397im\n",
       " -1.7507525125065757 + 2.582088622149462im      -3.847777029045453 + 2.7656853355783246im\n",
       "\n",
       "[:, :, 1, 4] =\n",
       " 2.1513384782872444 + 0.6504072698226532im  …    2.727309417998817 + 2.053317909127186im\n",
       " -1.131474190216495 + 3.3725478787563343im     -3.3783957746178626 + 4.216927572117583im\n",
       "\n",
       "[:, :, 2, 4] =\n",
       " -1.3261219226058758 + 1.3906954522365231im  …   -2.618778186821521 + 1.2890483342488717im\n",
       " -2.1369766474667524 - 2.1642529001140813im     -1.9145804092118102 - 4.20446285580885im,)"
      ]
     },
     "metadata": {},
     "output_type": "display_data"
    }
   ],
   "source": [
    "g, = gradient(l, bt)"
   ]
  },
  {
   "cell_type": "code",
   "execution_count": 1023,
   "metadata": {},
   "outputs": [
    {
     "data": {
      "text/plain": [
       "ITensor ord=4 (dim=2|id=27|\"S=1/2,Site,n=1\") (dim=2|id=482|\"f(x)\") (dim=2|id=744|\"S=1/2,Site,n=2\") (dim=4|id=730|\"Link,l=2\")\n",
       "NDTensors.Dense{ComplexF64, Vector{ComplexF64}}"
      ]
     },
     "metadata": {},
     "output_type": "display_data"
    }
   ],
   "source": [
    "bt_new = bt - 0.1 * g"
   ]
  },
  {
   "cell_type": "code",
   "execution_count": 1024,
   "metadata": {},
   "outputs": [
    {
     "data": {
      "text/plain": [
       "0.26922639628722067"
      ]
     },
     "metadata": {},
     "output_type": "display_data"
    }
   ],
   "source": [
    "l(bt_new)"
   ]
  },
  {
   "cell_type": "markdown",
   "metadata": {},
   "source": [
    "----"
   ]
  },
  {
   "cell_type": "markdown",
   "metadata": {},
   "source": [
    "# Formulation 2"
   ]
  },
  {
   "cell_type": "markdown",
   "metadata": {},
   "source": [
    "The more common formulation - the MPS Born Machine - is defined as the following:\n",
    "$$p(x) = \\frac{|\\langle x | \\Psi \\rangle|^2}{|\\langle \\Psi | \\Psi \\rangle|}$$"
   ]
  },
  {
   "cell_type": "code",
   "execution_count": 1025,
   "metadata": {},
   "outputs": [
    {
     "data": {
      "text/plain": [
       "MPS\n",
       "[1] ((dim=2|id=487|\"S=1/2,Site,n=1\"), (dim=4|id=753|\"Link,l=1\"))\n",
       "[2] ((dim=4|id=753|\"Link,l=1\"), (dim=2|id=264|\"S=1/2,Site,n=2\"), (dim=4|id=236|\"Link,l=2\"))\n",
       "[3] ((dim=4|id=236|\"Link,l=2\"), (dim=2|id=596|\"S=1/2,Site,n=3\"), (dim=4|id=727|\"Link,l=3\"))\n",
       "[4] ((dim=4|id=727|\"Link,l=3\"), (dim=2|id=290|\"S=1/2,Site,n=4\"), (dim=2|id=329|\"Link,l=4\"))\n",
       "[5] ((dim=2|id=329|\"Link,l=4\"), (dim=2|id=653|\"S=1/2,Site,n=5\"))\n"
      ]
     },
     "metadata": {},
     "output_type": "display_data"
    }
   ],
   "source": [
    "s = siteinds(\"S=1/2\", 5)\n",
    "l_index = Index(2, \"f(x)\")\n",
    "l_tensor = randomITensor(ComplexF64, l_index)\n",
    "mps = randomMPS(ComplexF64, s; linkdims=4)"
   ]
  },
  {
   "cell_type": "code",
   "execution_count": 1026,
   "metadata": {},
   "outputs": [],
   "source": [
    "function angle_encoder(x)\n",
    "    return [exp(1im * (3π/2) * x) * cospi(0.5 * x), exp(-1im * (3π/2) * x) * sinpi(0.5 * x)]\n",
    "end;"
   ]
  },
  {
   "cell_type": "code",
   "execution_count": 1027,
   "metadata": {},
   "outputs": [],
   "source": [
    "Random.seed!(42)\n",
    "sample = rand(5)\n",
    "ps = MPS([ITensor(angle_encoder(sample[i]), s[i]) for i in eachindex(sample)]);"
   ]
  },
  {
   "cell_type": "code",
   "execution_count": 1028,
   "metadata": {},
   "outputs": [
    {
     "data": {
      "text/plain": [
       "loss (generic function with 2 methods)"
      ]
     },
     "metadata": {},
     "output_type": "display_data"
    }
   ],
   "source": [
    "function loss(mps, ps)\n",
    "    amp = 1\n",
    "    for i in 1:5\n",
    "        amp *= conj(ps[i]) * mps[i]\n",
    "    end\n",
    "    abs_amp_sq = abs(amp[])^2\n",
    "    # partition function calculation, put mps into canonical form\n",
    "    orthogonalize!(mps, 1)\n",
    "    Z = conj(mps[1]) * mps[1]\n",
    "    p = abs_amp_sq / abs(Z[])\n",
    "    return -log(p)\n",
    "end"
   ]
  },
  {
   "cell_type": "code",
   "execution_count": 1029,
   "metadata": {},
   "outputs": [
    {
     "data": {
      "text/plain": [
       "#191 (generic function with 1 method)"
      ]
     },
     "metadata": {},
     "output_type": "display_data"
    }
   ],
   "source": [
    "l1 = x -> loss(x, ps)"
   ]
  },
  {
   "cell_type": "code",
   "execution_count": 1030,
   "metadata": {},
   "outputs": [
    {
     "data": {
      "text/plain": [
       "3.541627088028318"
      ]
     },
     "metadata": {},
     "output_type": "display_data"
    }
   ],
   "source": [
    "l1(mps)"
   ]
  },
  {
   "cell_type": "code",
   "execution_count": 1031,
   "metadata": {},
   "outputs": [
    {
     "data": {
      "text/plain": [
       "((data = ITensor[ITensor ord=2\n",
       "Dim 1: (dim=2|id=487|\"S=1/2,Site,n=1\")\n",
       "Dim 2: (dim=4|id=753|\"Link,l=1\")\n",
       "NDTensors.Dense{ComplexF64, Vector{ComplexF64}}\n",
       " 2×4\n",
       " 0.43549716503541136 + 0.31029825701430847im  …  1.3987087034994419 + 1.2495033822819541im\n",
       "  1.5903788595416521 - 1.7216440912691144im      1.6991921165968031 + 2.8089533062661167im, ITensor ord=3\n",
       "Dim 1: (dim=2|id=264|\"S=1/2,Site,n=2\")\n",
       "Dim 2: (dim=4|id=753|\"Link,l=1\")\n",
       "Dim 3: (dim=4|id=236|\"Link,l=2\")\n",
       "NDTensors.Dense{ComplexF64, Vector{ComplexF64}}\n",
       " 2×4×4\n",
       "[:, :, 1] =\n",
       " -0.6128527944010728 - 1.3189705939402672im   …  -0.13991352468462265 - 0.595275636366965im\n",
       "  1.2428322874298248 + 0.04112652277219919im       0.5081925274303595 + 0.12285321777643854im\n",
       "\n",
       "[:, :, 2] =\n",
       " -0.4644675605533743 - 0.9036949260267133im    …  -0.11421247797249637 - 0.41165263080835807im\n",
       "  0.8687206657118655 - 0.005831489545712898im      0.35816570823815785 + 0.07163597250012907im\n",
       "\n",
       "[:, :, 3] =\n",
       " -0.40556134444356534 - 1.6482421465599821im   …  -0.02650547717959318 - 0.7131764995986407im\n",
       "   1.4141244454124733 + 0.32630890692023956im       0.5544120160838586 + 0.2548666070113745im\n",
       "\n",
       "[:, :, 4] =\n",
       " 0.2663535425933114 - 1.081713952642099im   …  0.20185209399269455 - 0.42266204203839325im\n",
       " 0.7226602153471713 + 0.6204871073324943im     0.24465172191754903 + 0.3170551437232569im, ITensor ord=3\n",
       "Dim 1: (dim=2|id=596|\"S=1/2,Site,n=3\")\n",
       "Dim 2: (dim=4|id=236|\"Link,l=2\")\n",
       "Dim 3: (dim=4|id=727|\"Link,l=3\")\n",
       "NDTensors.Dense{ComplexF64, Vector{ComplexF64}}\n",
       " 2×4×4\n",
       "[:, :, 1] =\n",
       "  -0.301525629892241 + 0.6395411247444539im   …  -0.5875744284129546 + 0.7419238744426264im\n",
       " -0.5228815849921543 - 0.40039097830512094im     -0.5597852655003535 - 0.6809599143996579im\n",
       "\n",
       "[:, :, 2] =\n",
       " -1.175727596751751 - 0.5140188507068733im  …  -1.3762068292978757 - 1.0276566609853341im\n",
       " 0.6993837181887546 - 0.9691947726077644im      1.2064566188999533 - 1.0506069403223426im\n",
       "\n",
       "[:, :, 3] =\n",
       " 0.20300698240813875 + 0.19684532732879045im  …   0.20474320238163696 + 0.31833861596793583im\n",
       " -0.2191653384280069 + 0.14606955307128103im     -0.33011351955331997 + 0.12373594778421702im\n",
       "\n",
       "[:, :, 4] =\n",
       "  0.47837760815320285 - 0.006977432067323282im  …   0.6256877036061744 + 0.13641788451415907im\n",
       " -0.08780970947116519 + 0.4368842127204679im       -0.2473514754542934 + 0.5427686882725362im, ITensor ord=3\n",
       "Dim 1: (dim=2|id=290|\"S=1/2,Site,n=4\")\n",
       "Dim 2: (dim=4|id=727|\"Link,l=3\")\n",
       "Dim 3: (dim=2|id=329|\"Link,l=4\")\n",
       "NDTensors.Dense{ComplexF64, Vector{ComplexF64}}\n",
       " 2×4×2\n",
       "[:, :, 1] =\n",
       " 0.28791009512020277 - 0.6505547590646952im  …  0.7436711259440576 + 0.38208038046493714im\n",
       " 0.10307441870048868 - 1.4096055176331417im     1.6468186549041006 + 0.21689237369881617im\n",
       "\n",
       "[:, :, 2] =\n",
       " 0.004396623981073648 + 0.30514643033846356im  …  -0.3583157688817041 - 0.01561451154040318im\n",
       "  0.21248396990062857 + 0.5678430389130458im      -0.6806930925232949 + 0.21064317783465822im, ITensor ord=2\n",
       "Dim 1: (dim=2|id=653|\"S=1/2,Site,n=5\")\n",
       "Dim 2: (dim=2|id=329|\"Link,l=4\")\n",
       "NDTensors.Dense{ComplexF64, Vector{ComplexF64}}\n",
       " 2×2\n",
       " -0.30372752891342614 - 1.1298274591594475im  …    0.013639249289815279 - 0.23818373196084988im\n",
       "  -0.6641372537895703 - 1.9673305230931946im     -0.0024352938865915192 - 0.42341343492232963im], llim = nothing, rlim = nothing),)"
      ]
     },
     "metadata": {},
     "output_type": "display_data"
    }
   ],
   "source": [
    "(g,) = gradient(l1, mps)"
   ]
  },
  {
   "cell_type": "code",
   "execution_count": 1032,
   "metadata": {},
   "outputs": [
    {
     "data": {
      "text/plain": [
       "MPS\n",
       "[1] ((dim=2|id=487|\"S=1/2,Site,n=1\"), (dim=4|id=753|\"Link,l=1\"))\n",
       "[2] ((dim=4|id=753|\"Link,l=1\"), (dim=2|id=264|\"S=1/2,Site,n=2\"), (dim=4|id=236|\"Link,l=2\"))\n",
       "[3] ((dim=4|id=236|\"Link,l=2\"), (dim=2|id=596|\"S=1/2,Site,n=3\"), (dim=4|id=727|\"Link,l=3\"))\n",
       "[4] ((dim=4|id=727|\"Link,l=3\"), (dim=2|id=290|\"S=1/2,Site,n=4\"), (dim=2|id=329|\"Link,l=4\"))\n",
       "[5] ((dim=2|id=329|\"Link,l=4\"), (dim=2|id=653|\"S=1/2,Site,n=5\"))\n"
      ]
     },
     "metadata": {},
     "output_type": "display_data"
    }
   ],
   "source": [
    "mps_new = mps .- 0.8 .* g.data"
   ]
  },
  {
   "cell_type": "code",
   "execution_count": 1033,
   "metadata": {},
   "outputs": [
    {
     "data": {
      "text/plain": [
       "0.06541785766041702"
      ]
     },
     "metadata": {},
     "output_type": "display_data"
    }
   ],
   "source": [
    "loss1(mps_new, ps)"
   ]
  },
  {
   "cell_type": "code",
   "execution_count": 1034,
   "metadata": {},
   "outputs": [
    {
     "data": {
      "text/plain": [
       "((data = ITensor[ITensor ord=2\n",
       "Dim 1: (dim=2|id=487|\"S=1/2,Site,n=1\")\n",
       "Dim 2: (dim=4|id=337|\"Link,l=1\")\n",
       "NDTensors.Dense{ComplexF64, Vector{ComplexF64}}\n",
       " 2×4\n",
       "  5.471239265081177e-5 - 0.0005407774521311763im   …  -6.1454709414873e-5 - 0.00032728952798663686im\n",
       " -5.695570571341915e-5 + 0.00032362011842111834im     7.38620100945612e-5 - 0.0005069174975743613im, ITensor ord=3\n",
       "Dim 1: (dim=2|id=264|\"S=1/2,Site,n=2\")\n",
       "Dim 2: (dim=4|id=337|\"Link,l=1\")\n",
       "Dim 3: (dim=4|id=292|\"Link,l=2\")\n",
       "NDTensors.Dense{ComplexF64, Vector{ComplexF64}}\n",
       " 2×4×4\n",
       "[:, :, 1] =\n",
       "  0.8935213260425252 + 1.1668990500270808im   …   0.05959893317786471 - 0.01576101437899264im\n",
       " -1.2350558346412357 + 0.23169525921331863im     -0.01096251339500321 + 0.051556317867300507im\n",
       "\n",
       "[:, :, 2] =\n",
       "   -0.367087312036387 + 0.1278030293135897im   …  -0.0009764537492605135 + 0.01627495073246405im\n",
       " 0.044075669906422005 - 0.32940246160825043im      -0.012041929121852805 - 0.007022772405648199im\n",
       "\n",
       "[:, :, 3] =\n",
       " -0.19761475001255785 + 0.2233693718633392im   …   0.005458697796446404 + 0.011255955082348909im\n",
       " -0.09421624270544124 - 0.23694924390458602im     -0.010694405823051404 - 0.00017647771561929413im\n",
       "\n",
       "[:, :, 4] =\n",
       "   0.1281636730272654 + 0.08116143976312444im  …   0.005210749476236009 - 0.0036521488486320627im\n",
       " -0.11136631401809749 + 0.06648890185119241im     0.0007768383068536466 + 0.005384786767308015im, ITensor ord=3\n",
       "Dim 1: (dim=2|id=596|\"S=1/2,Site,n=3\")\n",
       "Dim 2: (dim=4|id=292|\"Link,l=2\")\n",
       "Dim 3: (dim=4|id=839|\"Link,l=3\")\n",
       "NDTensors.Dense{ComplexF64, Vector{ComplexF64}}\n",
       " 2×4×4\n",
       "[:, :, 1] =\n",
       " 0.20725668798597788 + 1.430829612822756im    …   0.06993677417949659 + 0.07580273412380757im\n",
       "  -1.343410367289923 - 0.09295400006465769im     -0.08277621839435632 + 0.04874912752810528im\n",
       "\n",
       "[:, :, 2] =\n",
       "   0.2854699669055469 + 0.1723336641271909im  …   0.023747495290049363 - 0.0013835738711074495im\n",
       " -0.21308181245716132 + 0.2259679112362153im     -0.003414766801318315 + 0.021891849705461618im\n",
       "\n",
       "[:, :, 3] =\n",
       " -0.03806034550548691 - 0.08295428884131001im   …  -0.0055867132898659334 - 0.003343674021676828im\n",
       "  0.08301250487689645 - 0.018321421857118606im       0.004143717597363749 - 0.004427939871734503im\n",
       "\n",
       "[:, :, 4] =\n",
       " -0.09022722054529872 + 0.009758556413183758im  …  -0.004913694405944875 + 0.004215407567006187im\n",
       " 0.008875854459217668 - 0.08406290942652396im       -0.00287047867136069 - 0.005303128224532666im, ITensor ord=3\n",
       "Dim 1: (dim=2|id=290|\"S=1/2,Site,n=4\")\n",
       "Dim 2: (dim=4|id=839|\"Link,l=3\")\n",
       "Dim 3: (dim=2|id=266|\"Link,l=4\")\n",
       "NDTensors.Dense{ComplexF64, Vector{ComplexF64}}\n",
       " 2×4×2\n",
       "[:, :, 1] =\n",
       " 0.37151830338039177 - 0.7816640389453923im  …   -0.0476987525867015 - 0.013881835666591924im\n",
       " 0.17170384978803596 - 1.7108155236623261im     -0.09851429787048366 + 0.005962338251203229im\n",
       "\n",
       "[:, :, 2] =\n",
       " -0.0006583848222490602 + 0.12074685184419384im  …  0.006847881969084816 - 0.0010701802307925919im\n",
       "    0.07959440476170637 + 0.22630152383982974im     0.012092819336338063 - 0.00658566432816554im, ITensor ord=2\n",
       "Dim 1: (dim=2|id=653|\"S=1/2,Site,n=5\")\n",
       "Dim 2: (dim=2|id=266|\"Link,l=4\")\n",
       "NDTensors.Dense{ComplexF64, Vector{ComplexF64}}\n",
       " 2×2\n",
       " 0.25027639119433415 + 0.9411914560751297im  …  0.027282320663070417 - 0.1216774518435107im\n",
       "   0.548398185674791 + 1.639171021430459im       0.03473886594737606 - 0.21857126819911799im], llim = nothing, rlim = nothing),)"
      ]
     },
     "metadata": {},
     "output_type": "display_data"
    }
   ],
   "source": [
    "(g,) = gradient(l1, mps_new)"
   ]
  },
  {
   "cell_type": "code",
   "execution_count": 1035,
   "metadata": {},
   "outputs": [
    {
     "data": {
      "text/plain": [
       "MPS\n",
       "[1] ((dim=2|id=487|\"S=1/2,Site,n=1\"), (dim=4|id=337|\"Link,l=1\"))\n",
       "[2] ((dim=2|id=264|\"S=1/2,Site,n=2\"), (dim=4|id=292|\"Link,l=2\"), (dim=4|id=337|\"Link,l=1\"))\n",
       "[3] ((dim=2|id=596|\"S=1/2,Site,n=3\"), (dim=4|id=839|\"Link,l=3\"), (dim=4|id=292|\"Link,l=2\"))\n",
       "[4] ((dim=2|id=290|\"S=1/2,Site,n=4\"), (dim=2|id=266|\"Link,l=4\"), (dim=4|id=839|\"Link,l=3\"))\n",
       "[5] ((dim=2|id=653|\"S=1/2,Site,n=5\"), (dim=2|id=266|\"Link,l=4\"))\n"
      ]
     },
     "metadata": {},
     "output_type": "display_data"
    }
   ],
   "source": [
    "mps_new2 = deepcopy(mps_new) .- 0.8 .* g.data"
   ]
  },
  {
   "cell_type": "code",
   "execution_count": 1036,
   "metadata": {},
   "outputs": [
    {
     "data": {
      "text/plain": [
       "0.010334078111464523"
      ]
     },
     "metadata": {},
     "output_type": "display_data"
    }
   ],
   "source": [
    "loss1(mps_new2, ps)"
   ]
  }
 ],
 "metadata": {
  "kernelspec": {
   "display_name": "Julia 1.10.2",
   "language": "julia",
   "name": "julia-1.10"
  },
  "language_info": {
   "file_extension": ".jl",
   "mimetype": "application/julia",
   "name": "julia",
   "version": "1.10.2"
  }
 },
 "nbformat": 4,
 "nbformat_minor": 2
}
