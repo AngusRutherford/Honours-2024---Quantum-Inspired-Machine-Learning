{
 "cells": [
  {
   "cell_type": "code",
   "execution_count": 1,
   "metadata": {},
   "outputs": [],
   "source": [
    "using ITensors\n",
    "using Random"
   ]
  },
  {
   "cell_type": "markdown",
   "metadata": {},
   "source": [
    "# Effective Overlap Trial"
   ]
  },
  {
   "cell_type": "markdown",
   "metadata": {},
   "source": [
    "We will start with a small-scale test using only 5 sites initially:"
   ]
  },
  {
   "cell_type": "code",
   "execution_count": 3,
   "metadata": {},
   "outputs": [],
   "source": [
    "s = siteinds(\"S=1/2\", 5); # create five sites"
   ]
  },
  {
   "cell_type": "markdown",
   "metadata": {},
   "source": [
    "Construct the test MPS and product state:"
   ]
  },
  {
   "cell_type": "code",
   "execution_count": 4,
   "metadata": {},
   "outputs": [
    {
     "data": {
      "text/plain": [
       "MPS\n",
       "[1] ((dim=2|id=567|\"S=1/2,Site,n=1\"), (dim=4|id=168|\"Link,l=1\"))\n",
       "[2] ((dim=4|id=168|\"Link,l=1\"), (dim=2|id=581|\"S=1/2,Site,n=2\"), (dim=4|id=12|\"Link,l=2\"))\n",
       "[3] ((dim=4|id=12|\"Link,l=2\"), (dim=2|id=944|\"S=1/2,Site,n=3\"), (dim=4|id=235|\"Link,l=3\"))\n",
       "[4] ((dim=4|id=235|\"Link,l=3\"), (dim=2|id=489|\"S=1/2,Site,n=4\"), (dim=2|id=56|\"Link,l=4\"))\n",
       "[5] ((dim=2|id=56|\"Link,l=4\"), (dim=2|id=65|\"S=1/2,Site,n=5\"))\n"
      ]
     },
     "metadata": {},
     "output_type": "display_data"
    }
   ],
   "source": [
    "Random.seed!(42)\n",
    "psi = randomMPS(s; linkdims=4) # use arbitary bond dimension χ=4"
   ]
  },
  {
   "cell_type": "markdown",
   "metadata": {},
   "source": [
    "To make things simpler, we will construct a product state manually because ITensor represents product states as an MPS with bond dimension 1. These additional 'bonds' can make things confusing. By manually constructing a product state as a vector of ITensors (each corresponding only to the physical site) we can get around these annoying additional bonds indices:"
   ]
  },
  {
   "cell_type": "code",
   "execution_count": 5,
   "metadata": {},
   "outputs": [
    {
     "data": {
      "text/plain": [
       "MPS\n",
       "[1] ((dim=2|id=567|\"S=1/2,Site,n=1\"),)\n",
       "[2] ((dim=2|id=581|\"S=1/2,Site,n=2\"),)\n",
       "[3] ((dim=2|id=944|\"S=1/2,Site,n=3\"),)\n",
       "[4] ((dim=2|id=489|\"S=1/2,Site,n=4\"),)\n",
       "[5] ((dim=2|id=65|\"S=1/2,Site,n=5\"),)\n"
      ]
     },
     "metadata": {},
     "output_type": "display_data"
    }
   ],
   "source": [
    "phi = Vector{ITensor}(undef, length(s)); # container for physical sites\n",
    "for i=1:length(phi)\n",
    "    phi[i] = randomITensor(s[i])\n",
    "end\n",
    "# convert to a \"MPS\" data type so we can use ITensor operations on the product state\n",
    "phi = MPS(phi)\n",
    "normalize!(phi)"
   ]
  },
  {
   "cell_type": "markdown",
   "metadata": {},
   "source": [
    "Now the resulting 'MPS' only has the physical indices."
   ]
  },
  {
   "cell_type": "markdown",
   "metadata": {},
   "source": [
    "# Ground Truth Overlap"
   ]
  },
  {
   "cell_type": "markdown",
   "metadata": {},
   "source": [
    "Now let's get the ground truth overlap using ITensors `inner` function:"
   ]
  },
  {
   "cell_type": "code",
   "execution_count": 6,
   "metadata": {},
   "outputs": [
    {
     "data": {
      "text/plain": [
       "0.001855525188603962"
      ]
     },
     "metadata": {},
     "output_type": "display_data"
    }
   ],
   "source": [
    "gt_overlap = inner(phi, psi)"
   ]
  },
  {
   "cell_type": "markdown",
   "metadata": {},
   "source": [
    "Let's also get the squared norm:"
   ]
  },
  {
   "cell_type": "code",
   "execution_count": 7,
   "metadata": {},
   "outputs": [
    {
     "data": {
      "text/plain": [
       "3.442973725543769e-6"
      ]
     },
     "metadata": {},
     "output_type": "display_data"
    }
   ],
   "source": [
    "gt_sq_norm_overlap = (abs(inner(phi, psi)))^2"
   ]
  },
  {
   "cell_type": "markdown",
   "metadata": {},
   "source": [
    "# Scheme"
   ]
  },
  {
   "cell_type": "markdown",
   "metadata": {},
   "source": [
    "## Site 1"
   ]
  },
  {
   "cell_type": "markdown",
   "metadata": {},
   "source": [
    "We begin with site 1 and do the following operation. We compute the state $\\ket{\\phi_1} = \\braket{\\Phi_1 | \\psi}$ where $\\bra{\\Phi_1}$ is the data ket for site 1. Then we calculate $\\braket{\\phi_1 | \\phi_1}$ to mimic the process of the MPO without explicitly constructing the outer product:"
   ]
  },
  {
   "cell_type": "code",
   "execution_count": 8,
   "metadata": {},
   "outputs": [],
   "source": [
    "orthogonalize!(psi, 1); "
   ]
  },
  {
   "cell_type": "code",
   "execution_count": 9,
   "metadata": {},
   "outputs": [
    {
     "data": {
      "text/plain": [
       "ITensor ord=2 (dim=4|id=168|\"Link,l=1\") (dim=4|id=168|\"Link,l=1\")'\n",
       "NDTensors.Dense{Float64, Vector{Float64}}"
      ]
     },
     "metadata": {},
     "output_type": "display_data"
    }
   ],
   "source": [
    "phi_1_psi_1 = phi[1] * psi[1] \n",
    "phi_1_psi_1_dag = prime(dag(phi_1_psi_1))\n",
    "site_1_combined = phi_1_psi_1 * phi_1_psi_1_dag"
   ]
  },
  {
   "cell_type": "markdown",
   "metadata": {},
   "source": [
    "The result is the same as what we would have obtained if we used an MPO form constructed from $\\ket{\\psi}\\bra{\\psi}$ and contracted with the first data ket/bra."
   ]
  },
  {
   "cell_type": "markdown",
   "metadata": {},
   "source": [
    "### Trace"
   ]
  },
  {
   "cell_type": "markdown",
   "metadata": {},
   "source": [
    "We compute the trace by contracting the ket version of a site with the bra version of itself. Because the physical indices are primed, we need to construct a delta tensor with the physical site indices:"
   ]
  },
  {
   "cell_type": "code",
   "execution_count": 10,
   "metadata": {},
   "outputs": [
    {
     "data": {
      "text/plain": [
       "ITensor ord=2 (dim=2|id=581|\"S=1/2,Site,n=2\") (dim=2|id=581|\"S=1/2,Site,n=2\")'\n",
       "NDTensors.Diag{Float64, Float64}"
      ]
     },
     "metadata": {},
     "output_type": "display_data"
    }
   ],
   "source": [
    "delta(s[2], prime(s[2]))"
   ]
  },
  {
   "cell_type": "code",
   "execution_count": 11,
   "metadata": {},
   "outputs": [
    {
     "data": {
      "text/plain": [
       "ITensor ord=4 (dim=4|id=168|\"Link,l=1\") (dim=4|id=12|\"Link,l=2\") (dim=4|id=168|\"Link,l=1\")' (dim=4|id=12|\"Link,l=2\")'\n",
       "NDTensors.Dense{Float64, Vector{Float64}}"
      ]
     },
     "metadata": {},
     "output_type": "display_data"
    }
   ],
   "source": [
    "s2_tr = psi[2] * prime(dag(psi[2])) * delta(s[2], prime(s[2]))"
   ]
  },
  {
   "cell_type": "code",
   "execution_count": 12,
   "metadata": {},
   "outputs": [],
   "source": [
    "s3_tr = psi[3] * prime(dag(psi[3])) * delta(s[3], prime(s[3]))\n",
    "s4_tr = psi[4] * prime(dag(psi[4])) * delta(s[4], prime(s[4]))\n",
    "s5_tr = psi[5] * prime(dag(psi[5])) * delta(s[5], prime(s[5]));"
   ]
  },
  {
   "cell_type": "markdown",
   "metadata": {},
   "source": [
    "Contract the traces together"
   ]
  },
  {
   "cell_type": "code",
   "execution_count": 13,
   "metadata": {},
   "outputs": [
    {
     "data": {
      "text/plain": [
       "ITensor ord=2 (dim=4|id=168|\"Link,l=1\") (dim=4|id=168|\"Link,l=1\")'\n",
       "NDTensors.Dense{Float64, Vector{Float64}}"
      ]
     },
     "metadata": {},
     "output_type": "display_data"
    }
   ],
   "source": [
    "R = s2_tr * s3_tr * s4_tr * s5_tr"
   ]
  },
  {
   "cell_type": "code",
   "execution_count": 14,
   "metadata": {},
   "outputs": [
    {
     "name": "stdout",
     "output_type": "stream",
     "text": [
      "matrix(R) = [1.0000000000000002 9.71445146547012e-17 3.3306690738754696e-16 6.938893903907228e-17; 9.71445146547012e-17 0.9999999999999999 -1.942890293094024e-16 -1.6653345369377348e-16; 3.3306690738754696e-16 -1.9949319973733282e-16 1.0000000000000007 -1.8735013540549517e-16; 6.938893903907228e-17 -1.942890293094024e-16 -1.8041124150158794e-16 1.0]\n"
     ]
    },
    {
     "data": {
      "text/plain": [
       "4×4 Matrix{Float64}:\n",
       " 1.0           9.71445e-17   3.33067e-16   6.93889e-17\n",
       " 9.71445e-17   1.0          -1.94289e-16  -1.66533e-16\n",
       " 3.33067e-16  -1.99493e-16   1.0          -1.8735e-16\n",
       " 6.93889e-17  -1.94289e-16  -1.80411e-16   1.0"
      ]
     },
     "metadata": {},
     "output_type": "display_data"
    }
   ],
   "source": [
    "@show matrix(R)"
   ]
  },
  {
   "cell_type": "markdown",
   "metadata": {},
   "source": [
    "Result is essentially a diagonal matrix of ones. We then contract this with the operation on the first site:"
   ]
  },
  {
   "cell_type": "code",
   "execution_count": 15,
   "metadata": {},
   "outputs": [
    {
     "data": {
      "text/plain": [
       "ITensor ord=0\n",
       "NDTensors.Dense{Float64, Vector{Float64}}"
      ]
     },
     "metadata": {},
     "output_type": "display_data"
    }
   ],
   "source": [
    "effective_overlap = site_1_combined * R"
   ]
  },
  {
   "cell_type": "code",
   "execution_count": 16,
   "metadata": {},
   "outputs": [
    {
     "name": "stdout",
     "output_type": "stream",
     "text": [
      "effective_overlap = ITensor ord=0\n",
      "NDTensors.Dense{Float64, Vector{Float64}}\n",
      " 0-dimensional\n",
      "0.849436192448368\n"
     ]
    },
    {
     "data": {
      "text/plain": [
       "ITensor ord=0\n",
       "NDTensors.Dense{Float64, Vector{Float64}}"
      ]
     },
     "metadata": {},
     "output_type": "display_data"
    }
   ],
   "source": [
    "@show effective_overlap"
   ]
  },
  {
   "cell_type": "markdown",
   "metadata": {},
   "source": [
    "# Second Site"
   ]
  },
  {
   "cell_type": "markdown",
   "metadata": {},
   "source": [
    "Repeating the same process as above but for the second site..."
   ]
  },
  {
   "cell_type": "code",
   "execution_count": 17,
   "metadata": {},
   "outputs": [
    {
     "data": {
      "text/plain": [
       "MPS\n",
       "[1] ((dim=2|id=567|\"S=1/2,Site,n=1\"), (dim=2|id=854|\"Link,l=1\"))\n",
       "[2] ((dim=2|id=581|\"S=1/2,Site,n=2\"), (dim=4|id=12|\"Link,l=2\"), (dim=2|id=854|\"Link,l=1\"))\n",
       "[3] ((dim=4|id=12|\"Link,l=2\"), (dim=2|id=944|\"S=1/2,Site,n=3\"), (dim=4|id=235|\"Link,l=3\"))\n",
       "[4] ((dim=4|id=235|\"Link,l=3\"), (dim=2|id=489|\"S=1/2,Site,n=4\"), (dim=2|id=56|\"Link,l=4\"))\n",
       "[5] ((dim=2|id=56|\"Link,l=4\"), (dim=2|id=65|\"S=1/2,Site,n=5\"))\n"
      ]
     },
     "metadata": {},
     "output_type": "display_data"
    }
   ],
   "source": [
    "orthogonalize!(psi, 2)"
   ]
  },
  {
   "cell_type": "code",
   "execution_count": 18,
   "metadata": {},
   "outputs": [
    {
     "data": {
      "text/plain": [
       "ITensor ord=4 (dim=4|id=12|\"Link,l=2\") (dim=2|id=854|\"Link,l=1\") (dim=4|id=12|\"Link,l=2\")' (dim=2|id=854|\"Link,l=1\")'\n",
       "NDTensors.Dense{Float64, Vector{Float64}}"
      ]
     },
     "metadata": {},
     "output_type": "display_data"
    }
   ],
   "source": [
    "phi_2_psi_2 = phi[2] * psi[2] \n",
    "phi_2_psi_2_dag = prime(dag(phi_2_psi_2))\n",
    "site_2_combined = phi_2_psi_2 * phi_2_psi_2_dag"
   ]
  },
  {
   "cell_type": "code",
   "execution_count": 19,
   "metadata": {},
   "outputs": [
    {
     "data": {
      "text/plain": [
       "ITensor ord=2 (dim=2|id=854|\"Link,l=1\") (dim=2|id=854|\"Link,l=1\")'\n",
       "NDTensors.Dense{Float64, Vector{Float64}}"
      ]
     },
     "metadata": {},
     "output_type": "display_data"
    }
   ],
   "source": [
    "s1_tr = psi[1] * prime(dag(psi[1])) * delta(s[1], prime(s[1]))"
   ]
  },
  {
   "cell_type": "code",
   "execution_count": 20,
   "metadata": {},
   "outputs": [
    {
     "name": "stdout",
     "output_type": "stream",
     "text": [
      "s1_tr = ITensor ord=2\n",
      "Dim 1: (dim=2|id=854|\"Link,l=1\")\n",
      "Dim 2: (dim=2|id=854|\"Link,l=1\")'\n",
      "NDTensors.Dense{Float64, Vector{Float64}}\n",
      " 2×2\n",
      " 1.0  0.0\n",
      " 0.0  1.0\n"
     ]
    },
    {
     "data": {
      "text/plain": [
       "ITensor ord=2 (dim=2|id=854|\"Link,l=1\") (dim=2|id=854|\"Link,l=1\")'\n",
       "NDTensors.Dense{Float64, Vector{Float64}}"
      ]
     },
     "metadata": {},
     "output_type": "display_data"
    }
   ],
   "source": [
    "@show s1_tr"
   ]
  },
  {
   "cell_type": "code",
   "execution_count": 21,
   "metadata": {},
   "outputs": [
    {
     "data": {
      "text/plain": [
       "ITensor ord=2 (dim=4|id=12|\"Link,l=2\") (dim=4|id=12|\"Link,l=2\")'\n",
       "NDTensors.Dense{Float64, Vector{Float64}}"
      ]
     },
     "metadata": {},
     "output_type": "display_data"
    }
   ],
   "source": [
    "s3_tr = psi[3] * prime(dag(psi[3])) * delta(s[3], prime(s[3]))\n",
    "s4_tr = psi[4] * prime(dag(psi[4])) * delta(s[4], prime(s[4]))\n",
    "s5_tr = psi[5] * prime(dag(psi[5])) * delta(s[5], prime(s[5]))\n",
    "L = s1_tr\n",
    "R = s3_tr * s4_tr * s5_tr"
   ]
  },
  {
   "cell_type": "code",
   "execution_count": 22,
   "metadata": {},
   "outputs": [
    {
     "name": "stdout",
     "output_type": "stream",
     "text": [
      "R = ITensor ord=2\n",
      "Dim 1: (dim=4|id=12|\"Link,l=2\")\n",
      "Dim 2: (dim=4|id=12|\"Link,l=2\")'\n",
      "NDTensors.Dense{Float64, Vector{Float64}}\n",
      " 4×4\n",
      "  0.9999999999999999      -1.6653345369377348e-16   5.551115123125783e-17   -5.551115123125783e-17\n",
      " -1.1102230246251565e-16   1.0000000000000002       1.6653345369377348e-16  -4.440892098500626e-16\n",
      "  1.1102230246251565e-16   9.71445146547012e-17     1.0000000000000002       0.0\n",
      " -5.551115123125783e-17   -4.163336342344337e-16   -5.551115123125783e-17    1.0000000000000002\n"
     ]
    },
    {
     "data": {
      "text/plain": [
       "ITensor ord=2 (dim=4|id=12|\"Link,l=2\") (dim=4|id=12|\"Link,l=2\")'\n",
       "NDTensors.Dense{Float64, Vector{Float64}}"
      ]
     },
     "metadata": {},
     "output_type": "display_data"
    }
   ],
   "source": [
    "@show R"
   ]
  },
  {
   "cell_type": "code",
   "execution_count": 23,
   "metadata": {},
   "outputs": [
    {
     "data": {
      "text/plain": [
       "ITensor ord=4 (dim=4|id=12|\"Link,l=2\") (dim=2|id=854|\"Link,l=1\") (dim=4|id=12|\"Link,l=2\")' (dim=2|id=854|\"Link,l=1\")'\n",
       "NDTensors.Dense{Float64, Vector{Float64}}"
      ]
     },
     "metadata": {},
     "output_type": "display_data"
    }
   ],
   "source": [
    "site_2_combined"
   ]
  },
  {
   "cell_type": "code",
   "execution_count": 24,
   "metadata": {},
   "outputs": [
    {
     "data": {
      "text/plain": [
       "ITensor ord=0\n",
       "NDTensors.Dense{Float64, Vector{Float64}}"
      ]
     },
     "metadata": {},
     "output_type": "display_data"
    }
   ],
   "source": [
    "effective_overlap2 = site_2_combined * R * L"
   ]
  },
  {
   "cell_type": "code",
   "execution_count": 25,
   "metadata": {},
   "outputs": [
    {
     "name": "stdout",
     "output_type": "stream",
     "text": [
      "effective_overlap2 = ITensor ord=0\n",
      "NDTensors.Dense{Float64, Vector{Float64}}\n",
      " 0-dimensional\n",
      "0.3100227744825973\n"
     ]
    },
    {
     "data": {
      "text/plain": [
       "ITensor ord=0\n",
       "NDTensors.Dense{Float64, Vector{Float64}}"
      ]
     },
     "metadata": {},
     "output_type": "display_data"
    }
   ],
   "source": [
    "@show effective_overlap2"
   ]
  },
  {
   "cell_type": "markdown",
   "metadata": {},
   "source": [
    "# Third Site"
   ]
  },
  {
   "cell_type": "code",
   "execution_count": 26,
   "metadata": {},
   "outputs": [
    {
     "data": {
      "text/plain": [
       "MPS\n",
       "[1] ((dim=2|id=567|\"S=1/2,Site,n=1\"), (dim=2|id=854|\"Link,l=1\"))\n",
       "[2] ((dim=2|id=581|\"S=1/2,Site,n=2\"), (dim=2|id=854|\"Link,l=1\"), (dim=4|id=933|\"Link,l=2\"))\n",
       "[3] ((dim=2|id=944|\"S=1/2,Site,n=3\"), (dim=4|id=235|\"Link,l=3\"), (dim=4|id=933|\"Link,l=2\"))\n",
       "[4] ((dim=4|id=235|\"Link,l=3\"), (dim=2|id=489|\"S=1/2,Site,n=4\"), (dim=2|id=56|\"Link,l=4\"))\n",
       "[5] ((dim=2|id=56|\"Link,l=4\"), (dim=2|id=65|\"S=1/2,Site,n=5\"))\n"
      ]
     },
     "metadata": {},
     "output_type": "display_data"
    }
   ],
   "source": [
    "orthogonalize!(psi, 3)"
   ]
  },
  {
   "cell_type": "code",
   "execution_count": 27,
   "metadata": {},
   "outputs": [
    {
     "data": {
      "text/plain": [
       "ITensor ord=4 (dim=4|id=235|\"Link,l=3\") (dim=4|id=933|\"Link,l=2\") (dim=4|id=235|\"Link,l=3\")' (dim=4|id=933|\"Link,l=2\")'\n",
       "NDTensors.Dense{Float64, Vector{Float64}}"
      ]
     },
     "metadata": {},
     "output_type": "display_data"
    }
   ],
   "source": [
    "phi_3_psi_3 = phi[3] * psi[3] \n",
    "phi_3_psi_3_dag = prime(dag(phi_3_psi_3))\n",
    "site_3_combined = phi_3_psi_3 * phi_3_psi_3_dag"
   ]
  },
  {
   "cell_type": "code",
   "execution_count": 28,
   "metadata": {},
   "outputs": [
    {
     "data": {
      "text/plain": [
       "ITensor ord=2 (dim=4|id=933|\"Link,l=2\") (dim=4|id=933|\"Link,l=2\")'\n",
       "NDTensors.Dense{Float64, Vector{Float64}}"
      ]
     },
     "metadata": {},
     "output_type": "display_data"
    }
   ],
   "source": [
    "s1_tr = psi[1] * prime(dag(psi[1])) * delta(s[1], prime(s[1]))\n",
    "s2_tr = psi[2] * prime(dag(psi[2])) * delta(s[2], prime(s[2]))\n",
    "L = s1_tr * s2_tr"
   ]
  },
  {
   "cell_type": "code",
   "execution_count": 29,
   "metadata": {},
   "outputs": [
    {
     "data": {
      "text/plain": [
       "ITensor ord=2 (dim=4|id=235|\"Link,l=3\") (dim=4|id=235|\"Link,l=3\")'\n",
       "NDTensors.Dense{Float64, Vector{Float64}}"
      ]
     },
     "metadata": {},
     "output_type": "display_data"
    }
   ],
   "source": [
    "s4_tr = psi[4] * prime(dag(psi[4])) * delta(s[4], prime(s[4]))\n",
    "s5_tr = psi[5] * prime(dag(psi[5])) * delta(s[5], prime(s[5]))\n",
    "R = s4_tr * s5_tr"
   ]
  },
  {
   "cell_type": "code",
   "execution_count": 30,
   "metadata": {},
   "outputs": [
    {
     "data": {
      "text/plain": [
       "ITensor ord=0\n",
       "NDTensors.Dense{Float64, Vector{Float64}}"
      ]
     },
     "metadata": {},
     "output_type": "display_data"
    }
   ],
   "source": [
    "effective_overlap3 = site_3_combined * R * L"
   ]
  },
  {
   "cell_type": "code",
   "execution_count": 31,
   "metadata": {},
   "outputs": [
    {
     "name": "stdout",
     "output_type": "stream",
     "text": [
      "effective_overlap3 = ITensor ord=0\n",
      "NDTensors.Dense{Float64, Vector{Float64}}\n",
      " 0-dimensional\n",
      "0.0875063691710853\n"
     ]
    },
    {
     "data": {
      "text/plain": [
       "ITensor ord=0\n",
       "NDTensors.Dense{Float64, Vector{Float64}}"
      ]
     },
     "metadata": {},
     "output_type": "display_data"
    }
   ],
   "source": [
    "@show effective_overlap3"
   ]
  },
  {
   "cell_type": "markdown",
   "metadata": {},
   "source": [
    "# Site 4"
   ]
  },
  {
   "cell_type": "code",
   "execution_count": 32,
   "metadata": {},
   "outputs": [
    {
     "data": {
      "text/plain": [
       "MPS\n",
       "[1] ((dim=2|id=567|\"S=1/2,Site,n=1\"), (dim=2|id=854|\"Link,l=1\"))\n",
       "[2] ((dim=2|id=581|\"S=1/2,Site,n=2\"), (dim=2|id=854|\"Link,l=1\"), (dim=4|id=933|\"Link,l=2\"))\n",
       "[3] ((dim=2|id=944|\"S=1/2,Site,n=3\"), (dim=4|id=933|\"Link,l=2\"), (dim=4|id=607|\"Link,l=3\"))\n",
       "[4] ((dim=2|id=489|\"S=1/2,Site,n=4\"), (dim=2|id=56|\"Link,l=4\"), (dim=4|id=607|\"Link,l=3\"))\n",
       "[5] ((dim=2|id=56|\"Link,l=4\"), (dim=2|id=65|\"S=1/2,Site,n=5\"))\n"
      ]
     },
     "metadata": {},
     "output_type": "display_data"
    }
   ],
   "source": [
    "orthogonalize!(psi, 4)"
   ]
  },
  {
   "cell_type": "code",
   "execution_count": 33,
   "metadata": {},
   "outputs": [
    {
     "data": {
      "text/plain": [
       "ITensor ord=4 (dim=2|id=56|\"Link,l=4\") (dim=4|id=607|\"Link,l=3\") (dim=2|id=56|\"Link,l=4\")' (dim=4|id=607|\"Link,l=3\")'\n",
       "NDTensors.Dense{Float64, Vector{Float64}}"
      ]
     },
     "metadata": {},
     "output_type": "display_data"
    }
   ],
   "source": [
    "phi_4_psi_4 = phi[4] * psi[4] \n",
    "phi_4_psi_4_dag = prime(dag(phi_4_psi_4))\n",
    "site_4_combined = phi_4_psi_4 * phi_4_psi_4_dag"
   ]
  },
  {
   "cell_type": "code",
   "execution_count": 34,
   "metadata": {},
   "outputs": [
    {
     "data": {
      "text/plain": [
       "ITensor ord=2 (dim=4|id=607|\"Link,l=3\") (dim=4|id=607|\"Link,l=3\")'\n",
       "NDTensors.Dense{Float64, Vector{Float64}}"
      ]
     },
     "metadata": {},
     "output_type": "display_data"
    }
   ],
   "source": [
    "s1_tr = psi[1] * prime(dag(psi[1])) * delta(s[1], prime(s[1]))\n",
    "s2_tr = psi[2] * prime(dag(psi[2])) * delta(s[2], prime(s[2]))\n",
    "s3_tr = psi[3] * prime(dag(psi[3])) * delta(s[3], prime(s[3]))\n",
    "L = s1_tr * s2_tr * s3_tr"
   ]
  },
  {
   "cell_type": "code",
   "execution_count": 35,
   "metadata": {},
   "outputs": [
    {
     "data": {
      "text/plain": [
       "ITensor ord=2 (dim=2|id=56|\"Link,l=4\") (dim=2|id=56|\"Link,l=4\")'\n",
       "NDTensors.Dense{Float64, Vector{Float64}}"
      ]
     },
     "metadata": {},
     "output_type": "display_data"
    }
   ],
   "source": [
    "s5_tr = psi[5] * prime(dag(psi[5])) * delta(s[5], prime(s[5]))\n",
    "R = s5_tr"
   ]
  },
  {
   "cell_type": "code",
   "execution_count": 36,
   "metadata": {},
   "outputs": [
    {
     "data": {
      "text/plain": [
       "ITensor ord=0\n",
       "NDTensors.Dense{Float64, Vector{Float64}}"
      ]
     },
     "metadata": {},
     "output_type": "display_data"
    }
   ],
   "source": [
    "effective_overlap4 = site_4_combined * R * L"
   ]
  },
  {
   "cell_type": "code",
   "execution_count": 37,
   "metadata": {},
   "outputs": [
    {
     "name": "stdout",
     "output_type": "stream",
     "text": [
      "effective_overlap4 = ITensor ord=0\n",
      "NDTensors.Dense{Float64, Vector{Float64}}\n",
      " 0-dimensional\n",
      "0.5721364438292501\n"
     ]
    },
    {
     "data": {
      "text/plain": [
       "ITensor ord=0\n",
       "NDTensors.Dense{Float64, Vector{Float64}}"
      ]
     },
     "metadata": {},
     "output_type": "display_data"
    }
   ],
   "source": [
    "@show effective_overlap4"
   ]
  },
  {
   "cell_type": "markdown",
   "metadata": {},
   "source": [
    "# Site 5"
   ]
  },
  {
   "cell_type": "code",
   "execution_count": 38,
   "metadata": {},
   "outputs": [
    {
     "data": {
      "text/plain": [
       "MPS\n",
       "[1] ((dim=2|id=567|\"S=1/2,Site,n=1\"), (dim=2|id=854|\"Link,l=1\"))\n",
       "[2] ((dim=2|id=581|\"S=1/2,Site,n=2\"), (dim=2|id=854|\"Link,l=1\"), (dim=4|id=933|\"Link,l=2\"))\n",
       "[3] ((dim=2|id=944|\"S=1/2,Site,n=3\"), (dim=4|id=933|\"Link,l=2\"), (dim=4|id=607|\"Link,l=3\"))\n",
       "[4] ((dim=2|id=489|\"S=1/2,Site,n=4\"), (dim=4|id=607|\"Link,l=3\"), (dim=2|id=74|\"Link,l=4\"))\n",
       "[5] ((dim=2|id=65|\"S=1/2,Site,n=5\"), (dim=2|id=74|\"Link,l=4\"))\n"
      ]
     },
     "metadata": {},
     "output_type": "display_data"
    }
   ],
   "source": [
    "orthogonalize!(psi, 5)"
   ]
  },
  {
   "cell_type": "code",
   "execution_count": 39,
   "metadata": {},
   "outputs": [
    {
     "data": {
      "text/plain": [
       "ITensor ord=2 (dim=2|id=74|\"Link,l=4\") (dim=2|id=74|\"Link,l=4\")'\n",
       "NDTensors.Dense{Float64, Vector{Float64}}"
      ]
     },
     "metadata": {},
     "output_type": "display_data"
    }
   ],
   "source": [
    "phi_5_psi_5 = phi[5] * psi[5] \n",
    "phi_5_psi_5_dag = prime(dag(phi_5_psi_5))\n",
    "site_5_combined = phi_5_psi_5 * phi_5_psi_5_dag"
   ]
  },
  {
   "cell_type": "code",
   "execution_count": 40,
   "metadata": {},
   "outputs": [
    {
     "data": {
      "text/plain": [
       "ITensor ord=2 (dim=2|id=74|\"Link,l=4\") (dim=2|id=74|\"Link,l=4\")'\n",
       "NDTensors.Dense{Float64, Vector{Float64}}"
      ]
     },
     "metadata": {},
     "output_type": "display_data"
    }
   ],
   "source": [
    "s1_tr = psi[1] * prime(dag(psi[1])) * delta(s[1], prime(s[1]))\n",
    "s2_tr = psi[2] * prime(dag(psi[2])) * delta(s[2], prime(s[2]))\n",
    "s3_tr = psi[3] * prime(dag(psi[3])) * delta(s[3], prime(s[3]))\n",
    "s4_tr = psi[4] * prime(dag(psi[4])) * delta(s[4], prime(s[4]))\n",
    "L = s1_tr * s2_tr * s3_tr * s4_tr"
   ]
  },
  {
   "cell_type": "code",
   "execution_count": 41,
   "metadata": {},
   "outputs": [
    {
     "data": {
      "text/plain": [
       "ITensor ord=0\n",
       "NDTensors.Dense{Float64, Vector{Float64}}"
      ]
     },
     "metadata": {},
     "output_type": "display_data"
    }
   ],
   "source": [
    "effective_overlap5 = site_5_combined * L"
   ]
  },
  {
   "cell_type": "code",
   "execution_count": 42,
   "metadata": {},
   "outputs": [
    {
     "name": "stdout",
     "output_type": "stream",
     "text": [
      "effective_overlap5 = ITensor ord=0\n",
      "NDTensors.Dense{Float64, Vector{Float64}}\n",
      " 0-dimensional\n",
      "1.0015797382041307\n"
     ]
    },
    {
     "data": {
      "text/plain": [
       "ITensor ord=0\n",
       "NDTensors.Dense{Float64, Vector{Float64}}"
      ]
     },
     "metadata": {},
     "output_type": "display_data"
    }
   ],
   "source": [
    "@show effective_overlap5"
   ]
  },
  {
   "cell_type": "code",
   "execution_count": 43,
   "metadata": {},
   "outputs": [
    {
     "name": "stdout",
     "output_type": "stream",
     "text": [
      "sum / 5 = ITensor ord=0\n",
      "NDTensors.Dense{Float64, Vector{Float64}}\n",
      " 0-dimensional\n",
      "0.5641363036270863\n"
     ]
    },
    {
     "data": {
      "text/plain": [
       "ITensor ord=0\n",
       "NDTensors.Dense{Float64, Vector{Float64}}"
      ]
     },
     "metadata": {},
     "output_type": "display_data"
    }
   ],
   "source": [
    "sum = effective_overlap + effective_overlap2 + effective_overlap3 + effective_overlap4 + effective_overlap5\n",
    "@show sum/5"
   ]
  },
  {
   "cell_type": "code",
   "execution_count": 44,
   "metadata": {},
   "outputs": [
    {
     "data": {
      "text/plain": [
       "0.5641363036270863"
      ]
     },
     "metadata": {},
     "output_type": "display_data"
    }
   ],
   "source": [
    "effective_overlap_final = scalar(sum/5)"
   ]
  },
  {
   "cell_type": "markdown",
   "metadata": {},
   "source": [
    "# MPO Version"
   ]
  },
  {
   "cell_type": "code",
   "execution_count": 45,
   "metadata": {},
   "outputs": [
    {
     "name": "stderr",
     "output_type": "stream",
     "text": [
      "┌ Warning: Calling `outer(ψ::MPS, ϕ::MPS)` for MPS `ψ` and `ϕ` with shared indices is deprecated. Currently, we automatically prime `ψ` to make sure the site indices don't clash, but that will no longer be the case in ITensors v0.4. To upgrade your code, call `outer(ψ', ϕ)`. Although the new interface seems less convenient, it will allow `outer` to accept more general outer products going forward, such as outer products where some indices are shared (a batched outer product) or outer products of MPS between site indices that aren't just related by a single prime level.\n",
      "│ Stacktrace:\n",
      "│   [1] backtrace()\n",
      "│     @ Base ./error.jl:114\n",
      "│   [2] warn_once(msg::String, funcsym::Symbol; force::Bool, stacktrace::Bool)\n",
      "│     @ ITensors ~/.julia/packages/ITensors/WMeVS/src/utils.jl:8\n",
      "│   [3] warn_once\n",
      "│     @ ~/.julia/packages/ITensors/WMeVS/src/utils.jl:5 [inlined]\n",
      "│   [4] #deprecate_make_inds_unmatch#977\n",
      "│     @ ~/.julia/packages/ITensors/WMeVS/src/mps/mpo.jl:146 [inlined]\n",
      "│   [5] deprecate_make_inds_unmatch\n",
      "│     @ ~/.julia/packages/ITensors/WMeVS/src/mps/mpo.jl:144 [inlined]\n",
      "│   [6] outer(ψ::MPS, ϕ::MPS; kw::Base.Pairs{Symbol, Union{}, Tuple{}, NamedTuple{(), Tuple{}}})\n",
      "│     @ ITensors ~/.julia/packages/ITensors/WMeVS/src/mps/mpo.jl:199\n",
      "│   [7] outer(ψ::MPS, ϕ::MPS)\n",
      "│     @ ITensors ~/.julia/packages/ITensors/WMeVS/src/mps/mpo.jl:198\n",
      "│   [8] top-level scope\n",
      "│     @ ~/Documents/QuantumInspiredML/Alternative Overlap/alt_overlap_2.ipynb:1\n",
      "│   [9] eval\n",
      "│     @ ./boot.jl:370 [inlined]\n",
      "│  [10] include_string(mapexpr::typeof(REPL.softscope), mod::Module, code::String, filename::String)\n",
      "│     @ Base ./loading.jl:1903\n",
      "│  [11] #invokelatest#2\n",
      "│     @ ./essentials.jl:816 [inlined]\n",
      "│  [12] invokelatest\n",
      "│     @ ./essentials.jl:813 [inlined]\n",
      "│  [13] (::VSCodeServer.var\"#214#215\"{VSCodeServer.NotebookRunCellArguments, String})()\n",
      "│     @ VSCodeServer ~/.vscode/extensions/julialang.language-julia-1.73.2/scripts/packages/VSCodeServer/src/serve_notebook.jl:19\n",
      "│  [14] withpath(f::VSCodeServer.var\"#214#215\"{VSCodeServer.NotebookRunCellArguments, String}, path::String)\n",
      "│     @ VSCodeServer ~/.vscode/extensions/julialang.language-julia-1.73.2/scripts/packages/VSCodeServer/src/repl.jl:274\n",
      "│  [15] notebook_runcell_request(conn::VSCodeServer.JSONRPC.JSONRPCEndpoint{Base.PipeEndpoint, Base.PipeEndpoint}, params::VSCodeServer.NotebookRunCellArguments)\n",
      "│     @ VSCodeServer ~/.vscode/extensions/julialang.language-julia-1.73.2/scripts/packages/VSCodeServer/src/serve_notebook.jl:13\n",
      "│  [16] dispatch_msg(x::VSCodeServer.JSONRPC.JSONRPCEndpoint{Base.PipeEndpoint, Base.PipeEndpoint}, dispatcher::VSCodeServer.JSONRPC.MsgDispatcher, msg::Dict{String, Any})\n",
      "│     @ VSCodeServer.JSONRPC ~/.vscode/extensions/julialang.language-julia-1.73.2/scripts/packages/JSONRPC/src/typed.jl:67\n",
      "│  [17] serve_notebook(pipename::String, outputchannel_logger::Base.CoreLogging.SimpleLogger; crashreporting_pipename::String)\n",
      "│     @ VSCodeServer ~/.vscode/extensions/julialang.language-julia-1.73.2/scripts/packages/VSCodeServer/src/serve_notebook.jl:139\n",
      "│  [18] top-level scope\n",
      "│     @ ~/.vscode/extensions/julialang.language-julia-1.73.2/scripts/notebook/notebook.jl:35\n",
      "│  [19] include(mod::Module, _path::String)\n",
      "│     @ Base ./Base.jl:457\n",
      "│  [20] exec_options(opts::Base.JLOptions)\n",
      "│     @ Base ./client.jl:307\n",
      "│  [21] _start()\n",
      "│     @ Base ./client.jl:522\n",
      "│   caller = ip:0x0\n",
      "└ @ Core :-1\n"
     ]
    }
   ],
   "source": [
    "psi_mpo = outer(psi, psi);"
   ]
  },
  {
   "cell_type": "code",
   "execution_count": 46,
   "metadata": {},
   "outputs": [
    {
     "data": {
      "text/plain": [
       "MPO\n",
       "[1] ((dim=2|id=567|\"S=1/2,Site,n=1\")', (dim=2|id=567|\"S=1/2,Site,n=1\"), (dim=4|id=549|\"Link,l=1\"))\n",
       "[2] ((dim=2|id=581|\"S=1/2,Site,n=2\")', (dim=2|id=581|\"S=1/2,Site,n=2\"), (dim=15|id=505|\"Link,l=2\"), (dim=4|id=549|\"Link,l=1\"))\n",
       "[3] ((dim=2|id=944|\"S=1/2,Site,n=3\")', (dim=2|id=944|\"S=1/2,Site,n=3\"), (dim=16|id=905|\"Link,l=3\"), (dim=15|id=505|\"Link,l=2\"))\n",
       "[4] ((dim=2|id=489|\"S=1/2,Site,n=4\")', (dim=2|id=489|\"S=1/2,Site,n=4\"), (dim=4|id=481|\"Link,l=4\"), (dim=16|id=905|\"Link,l=3\"))\n",
       "[5] ((dim=2|id=65|\"S=1/2,Site,n=5\")', (dim=2|id=65|\"S=1/2,Site,n=5\"), (dim=4|id=481|\"Link,l=4\"))\n"
      ]
     },
     "metadata": {},
     "output_type": "display_data"
    }
   ],
   "source": [
    "psi_mpo"
   ]
  },
  {
   "cell_type": "markdown",
   "metadata": {},
   "source": [
    "Site 1"
   ]
  },
  {
   "cell_type": "code",
   "execution_count": 47,
   "metadata": {},
   "outputs": [
    {
     "data": {
      "text/plain": [
       "ITensor ord=1 (dim=4|id=549|\"Link,l=1\")\n",
       "NDTensors.Dense{Float64, Vector{Float64}}"
      ]
     },
     "metadata": {},
     "output_type": "display_data"
    }
   ],
   "source": [
    "s1 = psi_mpo[1] * phi[1] * prime(dag(phi[1]))"
   ]
  },
  {
   "cell_type": "markdown",
   "metadata": {},
   "source": [
    "Trace over remaining sites"
   ]
  },
  {
   "cell_type": "code",
   "execution_count": 48,
   "metadata": {},
   "outputs": [
    {
     "data": {
      "text/plain": [
       "ITensor ord=1 (dim=4|id=549|\"Link,l=1\")\n",
       "NDTensors.Dense{Float64, Vector{Float64}}"
      ]
     },
     "metadata": {},
     "output_type": "display_data"
    }
   ],
   "source": [
    "s2_tr = psi_mpo[2] * delta(s[2], prime(s[2]))\n",
    "s3_tr = psi_mpo[3] * delta(s[3], prime(s[3]))\n",
    "s4_tr = psi_mpo[4] * delta(s[4], prime(s[4]))\n",
    "s5_tr = psi_mpo[5] * delta(s[5], prime(s[5]))\n",
    "contracted_traces_s1 = s2_tr * s3_tr * s4_tr * s5_tr"
   ]
  },
  {
   "cell_type": "code",
   "execution_count": 49,
   "metadata": {},
   "outputs": [
    {
     "name": "stdout",
     "output_type": "stream",
     "text": [
      "s1 * contracted_traces_s1 = ITensor ord=0\n",
      "NDTensors.Dense{Float64, Vector{Float64}}\n",
      " 0-dimensional\n",
      "0.8494361619502766\n"
     ]
    },
    {
     "data": {
      "text/plain": [
       "ITensor ord=0\n",
       "NDTensors.Dense{Float64, Vector{Float64}}"
      ]
     },
     "metadata": {},
     "output_type": "display_data"
    }
   ],
   "source": [
    "@show s1 * contracted_traces_s1"
   ]
  },
  {
   "cell_type": "markdown",
   "metadata": {},
   "source": [
    "site 2"
   ]
  },
  {
   "cell_type": "code",
   "execution_count": 50,
   "metadata": {},
   "outputs": [
    {
     "data": {
      "text/plain": [
       "ITensor ord=2 (dim=15|id=505|\"Link,l=2\") (dim=4|id=549|\"Link,l=1\")\n",
       "NDTensors.Dense{Float64, Vector{Float64}}"
      ]
     },
     "metadata": {},
     "output_type": "display_data"
    }
   ],
   "source": [
    "s2 = psi_mpo[2] * phi[2] * prime(dag(phi[2]))"
   ]
  },
  {
   "cell_type": "code",
   "execution_count": 51,
   "metadata": {},
   "outputs": [
    {
     "data": {
      "text/plain": [
       "ITensor ord=1 (dim=4|id=549|\"Link,l=1\")\n",
       "NDTensors.Dense{Float64, Vector{Float64}}"
      ]
     },
     "metadata": {},
     "output_type": "display_data"
    }
   ],
   "source": [
    "s1_tr = psi_mpo[1] * delta(s[1], prime(s[1]))"
   ]
  },
  {
   "cell_type": "code",
   "execution_count": 52,
   "metadata": {},
   "outputs": [
    {
     "data": {
      "text/plain": [
       "ITensor ord=2 (dim=4|id=549|\"Link,l=1\") (dim=15|id=505|\"Link,l=2\")\n",
       "NDTensors.Dense{Float64, Vector{Float64}}"
      ]
     },
     "metadata": {},
     "output_type": "display_data"
    }
   ],
   "source": [
    "contracted_traces_s2 = s1_tr * s3_tr * s4_tr * s5_tr"
   ]
  },
  {
   "cell_type": "code",
   "execution_count": 53,
   "metadata": {},
   "outputs": [
    {
     "name": "stdout",
     "output_type": "stream",
     "text": [
      "s2 * contracted_traces_s2 = ITensor ord=0\n",
      "NDTensors.Dense{Float64, Vector{Float64}}\n",
      " 0-dimensional\n",
      "0.3100227705681342\n"
     ]
    },
    {
     "data": {
      "text/plain": [
       "ITensor ord=0\n",
       "NDTensors.Dense{Float64, Vector{Float64}}"
      ]
     },
     "metadata": {},
     "output_type": "display_data"
    }
   ],
   "source": [
    "@show s2 * contracted_traces_s2"
   ]
  },
  {
   "cell_type": "markdown",
   "metadata": {},
   "source": [
    "site 3"
   ]
  },
  {
   "cell_type": "code",
   "execution_count": 54,
   "metadata": {},
   "outputs": [
    {
     "data": {
      "text/plain": [
       "ITensor ord=2 (dim=16|id=905|\"Link,l=3\") (dim=15|id=505|\"Link,l=2\")\n",
       "NDTensors.Dense{Float64, Vector{Float64}}"
      ]
     },
     "metadata": {},
     "output_type": "display_data"
    }
   ],
   "source": [
    "s3 = psi_mpo[3] * phi[3] * prime(dag(phi[3]))"
   ]
  },
  {
   "cell_type": "code",
   "execution_count": 55,
   "metadata": {},
   "outputs": [
    {
     "data": {
      "text/plain": [
       "ITensor ord=2 (dim=15|id=505|\"Link,l=2\") (dim=16|id=905|\"Link,l=3\")\n",
       "NDTensors.Dense{Float64, Vector{Float64}}"
      ]
     },
     "metadata": {},
     "output_type": "display_data"
    }
   ],
   "source": [
    "contracted_traces_s3 = s1_tr * s2_tr * s4_tr * s5_tr"
   ]
  },
  {
   "cell_type": "code",
   "execution_count": 56,
   "metadata": {},
   "outputs": [
    {
     "name": "stdout",
     "output_type": "stream",
     "text": [
      "s3 * contracted_traces_s3 = ITensor ord=0\n",
      "NDTensors.Dense{Float64, Vector{Float64}}\n",
      " 0-dimensional\n",
      "0.08750636830667217\n"
     ]
    },
    {
     "data": {
      "text/plain": [
       "ITensor ord=0\n",
       "NDTensors.Dense{Float64, Vector{Float64}}"
      ]
     },
     "metadata": {},
     "output_type": "display_data"
    }
   ],
   "source": [
    "@show s3 * contracted_traces_s3"
   ]
  },
  {
   "cell_type": "markdown",
   "metadata": {},
   "source": [
    "site 4"
   ]
  },
  {
   "cell_type": "code",
   "execution_count": 57,
   "metadata": {},
   "outputs": [
    {
     "data": {
      "text/plain": [
       "ITensor ord=2 (dim=4|id=481|\"Link,l=4\") (dim=16|id=905|\"Link,l=3\")\n",
       "NDTensors.Dense{Float64, Vector{Float64}}"
      ]
     },
     "metadata": {},
     "output_type": "display_data"
    }
   ],
   "source": [
    "s4 = psi_mpo[4] * phi[4] * prime(dag(phi[4]))"
   ]
  },
  {
   "cell_type": "code",
   "execution_count": 58,
   "metadata": {},
   "outputs": [
    {
     "data": {
      "text/plain": [
       "ITensor ord=2 (dim=16|id=905|\"Link,l=3\") (dim=4|id=481|\"Link,l=4\")\n",
       "NDTensors.Dense{Float64, Vector{Float64}}"
      ]
     },
     "metadata": {},
     "output_type": "display_data"
    }
   ],
   "source": [
    "contracted_traces_s4 = s1_tr * s2_tr * s3_tr * s5_tr"
   ]
  },
  {
   "cell_type": "code",
   "execution_count": 59,
   "metadata": {},
   "outputs": [
    {
     "name": "stdout",
     "output_type": "stream",
     "text": [
      "s4 * contracted_traces_s4 = ITensor ord=0\n",
      "NDTensors.Dense{Float64, Vector{Float64}}\n",
      " 0-dimensional\n",
      "0.5721364351860072\n"
     ]
    },
    {
     "data": {
      "text/plain": [
       "ITensor ord=0\n",
       "NDTensors.Dense{Float64, Vector{Float64}}"
      ]
     },
     "metadata": {},
     "output_type": "display_data"
    }
   ],
   "source": [
    "@show s4 * contracted_traces_s4"
   ]
  },
  {
   "cell_type": "markdown",
   "metadata": {},
   "source": [
    "site 5"
   ]
  },
  {
   "cell_type": "code",
   "execution_count": 60,
   "metadata": {},
   "outputs": [
    {
     "data": {
      "text/plain": [
       "ITensor ord=1 (dim=4|id=481|\"Link,l=4\")\n",
       "NDTensors.Dense{Float64, Vector{Float64}}"
      ]
     },
     "metadata": {},
     "output_type": "display_data"
    }
   ],
   "source": [
    "s5 = psi_mpo[5] * phi[5] * prime(dag(phi[5]))"
   ]
  },
  {
   "cell_type": "code",
   "execution_count": 61,
   "metadata": {},
   "outputs": [
    {
     "data": {
      "text/plain": [
       "ITensor ord=1 (dim=4|id=481|\"Link,l=4\")\n",
       "NDTensors.Dense{Float64, Vector{Float64}}"
      ]
     },
     "metadata": {},
     "output_type": "display_data"
    }
   ],
   "source": [
    "contracted_traces_s5 = s1_tr * s2_tr * s3_tr * s4_tr"
   ]
  },
  {
   "cell_type": "code",
   "execution_count": 62,
   "metadata": {},
   "outputs": [
    {
     "name": "stdout",
     "output_type": "stream",
     "text": [
      "s5 * contracted_traces_s5 = ITensor ord=0\n",
      "NDTensors.Dense{Float64, Vector{Float64}}\n",
      " 0-dimensional\n",
      "1.001579706661465\n"
     ]
    },
    {
     "data": {
      "text/plain": [
       "ITensor ord=0\n",
       "NDTensors.Dense{Float64, Vector{Float64}}"
      ]
     },
     "metadata": {},
     "output_type": "display_data"
    }
   ],
   "source": [
    "@show s5 * contracted_traces_s5"
   ]
  },
  {
   "cell_type": "code",
   "execution_count": 63,
   "metadata": {},
   "outputs": [
    {
     "data": {
      "text/plain": [
       "ITensor ord=0\n",
       "NDTensors.Dense{Float64, Vector{Float64}}"
      ]
     },
     "metadata": {},
     "output_type": "display_data"
    }
   ],
   "source": [
    "sum = s5 * contracted_traces_s5 + s4 * contracted_traces_s4 + s3 * contracted_traces_s3 + s2 * contracted_traces_s2 + s1 * contracted_traces_s1"
   ]
  },
  {
   "cell_type": "code",
   "execution_count": 64,
   "metadata": {},
   "outputs": [
    {
     "name": "stdout",
     "output_type": "stream",
     "text": [
      "sum / 5 = ITensor ord=0\n",
      "NDTensors.Dense{Float64, Vector{Float64}}\n",
      " 0-dimensional\n",
      "0.564136288534511\n"
     ]
    },
    {
     "data": {
      "text/plain": [
       "ITensor ord=0\n",
       "NDTensors.Dense{Float64, Vector{Float64}}"
      ]
     },
     "metadata": {},
     "output_type": "display_data"
    }
   ],
   "source": [
    "@show sum/5"
   ]
  },
  {
   "cell_type": "markdown",
   "metadata": {},
   "source": [
    "# Validation of \"Effective Overlap\""
   ]
  },
  {
   "cell_type": "markdown",
   "metadata": {},
   "source": [
    "Approach:\n",
    "- Take in a trained MPS where we know the value of the overlaps with the trained set are large.\n",
    "- Using the same training samples, compute the effective overlap.\n",
    "- Compare the overlap with the effective overlap. Do they represent the same thing, that is, the similarity between the state represented by the MPS and the product state representation\n",
    "of the training data.\n",
    "\n",
    "Part 2 (benchmarking):\n",
    "- Quantify the performance of the effective overlap i.e. how long does it take to compute verus ITensors built-in overlap function.\n",
    "- Scaling -> how does the time taken to compute scale with the number of sites, $N$ and the local dimension $d$?"
   ]
  },
  {
   "cell_type": "code",
   "execution_count": 349,
   "metadata": {},
   "outputs": [],
   "source": []
  }
 ],
 "metadata": {
  "kernelspec": {
   "display_name": "Julia 1.9.2",
   "language": "julia",
   "name": "julia-1.9"
  },
  "language_info": {
   "file_extension": ".jl",
   "mimetype": "application/julia",
   "name": "julia",
   "version": "1.9.2"
  }
 },
 "nbformat": 4,
 "nbformat_minor": 2
}
