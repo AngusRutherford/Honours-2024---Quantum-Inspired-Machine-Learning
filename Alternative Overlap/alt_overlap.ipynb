{
 "cells": [
  {
   "cell_type": "code",
   "execution_count": 484,
   "metadata": {},
   "outputs": [],
   "source": [
    "using ITensors\n",
    "using Random, Distributions"
   ]
  },
  {
   "cell_type": "markdown",
   "metadata": {},
   "source": [
    "# Alternative Overlap Attempt"
   ]
  },
  {
   "cell_type": "code",
   "execution_count": 485,
   "metadata": {},
   "outputs": [],
   "source": [
    "sites = siteinds(\"S=1/2\", 5);"
   ]
  },
  {
   "cell_type": "code",
   "execution_count": 486,
   "metadata": {},
   "outputs": [],
   "source": [
    "Random.seed!(42);\n",
    "mps = randomMPS(sites; linkdims=2);"
   ]
  },
  {
   "cell_type": "code",
   "execution_count": 487,
   "metadata": {},
   "outputs": [
    {
     "data": {
      "text/plain": [
       "MPS\n",
       "[1] ((dim=2|id=540|\"S=1/2,Site,n=1\"), (dim=1|id=955|\"Link,l=1\"))\n",
       "[2] ((dim=1|id=955|\"Link,l=1\"), (dim=2|id=615|\"S=1/2,Site,n=2\"), (dim=1|id=601|\"Link,l=2\"))\n",
       "[3] ((dim=1|id=601|\"Link,l=2\"), (dim=2|id=927|\"S=1/2,Site,n=3\"), (dim=1|id=215|\"Link,l=3\"))\n",
       "[4] ((dim=1|id=215|\"Link,l=3\"), (dim=2|id=814|\"S=1/2,Site,n=4\"), (dim=1|id=523|\"Link,l=4\"))\n",
       "[5] ((dim=1|id=523|\"Link,l=4\"), (dim=2|id=945|\"S=1/2,Site,n=5\"))\n"
      ]
     },
     "metadata": {},
     "output_type": "display_data"
    }
   ],
   "source": [
    "product_state = randomMPS(sites; linkdims=1)"
   ]
  },
  {
   "cell_type": "code",
   "execution_count": 369,
   "metadata": {},
   "outputs": [
    {
     "data": {
      "text/plain": [
       "0.3197566132127257"
      ]
     },
     "metadata": {},
     "output_type": "display_data"
    }
   ],
   "source": [
    "inner(product_state, mps)"
   ]
  },
  {
   "cell_type": "markdown",
   "metadata": {},
   "source": [
    "Now that we have the ground truth, let's construct an effective overlap. To make sure each step is being done properly, we will do it in parts."
   ]
  },
  {
   "cell_type": "markdown",
   "metadata": {},
   "source": [
    "# Site 1"
   ]
  },
  {
   "cell_type": "code",
   "execution_count": 371,
   "metadata": {},
   "outputs": [
    {
     "data": {
      "text/plain": [
       "MPS\n",
       "[1] ((dim=2|id=139|\"S=1/2,Site,n=1\")', (dim=2|id=316|\"Link,l=1\")')\n",
       "[2] ((dim=2|id=316|\"Link,l=1\")', (dim=2|id=902|\"S=1/2,Site,n=2\")', (dim=2|id=846|\"Link,l=2\")')\n",
       "[3] ((dim=2|id=846|\"Link,l=2\")', (dim=2|id=593|\"S=1/2,Site,n=3\")', (dim=2|id=127|\"Link,l=3\")')\n",
       "[4] ((dim=2|id=127|\"Link,l=3\")', (dim=2|id=87|\"S=1/2,Site,n=4\")', (dim=2|id=179|\"Link,l=4\")')\n",
       "[5] ((dim=2|id=179|\"Link,l=4\")', (dim=2|id=443|\"S=1/2,Site,n=5\")')\n"
      ]
     },
     "metadata": {},
     "output_type": "display_data"
    }
   ],
   "source": [
    "mps_ket = mps\n",
    "mps_bra = dag(prime(mps))"
   ]
  },
  {
   "cell_type": "code",
   "execution_count": 372,
   "metadata": {},
   "outputs": [
    {
     "data": {
      "text/plain": [
       "ITensor ord=2 (dim=1|id=450|\"Link,l=1\")' (dim=2|id=316|\"Link,l=1\")'\n",
       "NDTensors.Dense{Float64, Vector{Float64}}"
      ]
     },
     "metadata": {},
     "output_type": "display_data"
    }
   ],
   "source": [
    "phi_1_ket = product_state[1] * mps_ket[1] # first mps site and first data ket\n",
    "phi_1_bra = prime(dag(product_state[1])) * mps_bra[1]"
   ]
  },
  {
   "cell_type": "markdown",
   "metadata": {},
   "source": [
    "trace over site 2"
   ]
  },
  {
   "cell_type": "code",
   "execution_count": 373,
   "metadata": {},
   "outputs": [
    {
     "data": {
      "text/plain": [
       "ITensor ord=4 (dim=2|id=316|\"Link,l=1\") (dim=2|id=846|\"Link,l=2\") (dim=2|id=316|\"Link,l=1\")' (dim=2|id=846|\"Link,l=2\")'\n",
       "NDTensors.Dense{Float64, Vector{Float64}}"
      ]
     },
     "metadata": {},
     "output_type": "display_data"
    }
   ],
   "source": [
    "s2_tr = mps_ket[2] * noprime(siteinds, mps_bra)[2] "
   ]
  },
  {
   "cell_type": "markdown",
   "metadata": {},
   "source": [
    "site 3"
   ]
  },
  {
   "cell_type": "code",
   "execution_count": 374,
   "metadata": {},
   "outputs": [
    {
     "data": {
      "text/plain": [
       "ITensor ord=4 (dim=2|id=846|\"Link,l=2\") (dim=2|id=127|\"Link,l=3\") (dim=2|id=846|\"Link,l=2\")' (dim=2|id=127|\"Link,l=3\")'\n",
       "NDTensors.Dense{Float64, Vector{Float64}}"
      ]
     },
     "metadata": {},
     "output_type": "display_data"
    }
   ],
   "source": [
    "s3_tr = mps_ket[3] * noprime(siteinds, mps_bra)[3] "
   ]
  },
  {
   "cell_type": "markdown",
   "metadata": {},
   "source": [
    "site 4"
   ]
  },
  {
   "cell_type": "code",
   "execution_count": 375,
   "metadata": {},
   "outputs": [
    {
     "data": {
      "text/plain": [
       "ITensor ord=4 (dim=2|id=127|\"Link,l=3\") (dim=2|id=179|\"Link,l=4\") (dim=2|id=127|\"Link,l=3\")' (dim=2|id=179|\"Link,l=4\")'\n",
       "NDTensors.Dense{Float64, Vector{Float64}}"
      ]
     },
     "metadata": {},
     "output_type": "display_data"
    }
   ],
   "source": [
    "s4_tr = mps_ket[4] * noprime(siteinds, mps_bra)[4] "
   ]
  },
  {
   "cell_type": "markdown",
   "metadata": {},
   "source": [
    "site 5"
   ]
  },
  {
   "cell_type": "code",
   "execution_count": 376,
   "metadata": {},
   "outputs": [
    {
     "data": {
      "text/plain": [
       "ITensor ord=2 (dim=2|id=179|\"Link,l=4\") (dim=2|id=179|\"Link,l=4\")'\n",
       "NDTensors.Dense{Float64, Vector{Float64}}"
      ]
     },
     "metadata": {},
     "output_type": "display_data"
    }
   ],
   "source": [
    "s5_tr = mps_ket[5] * noprime(siteinds, mps_bra)[5] "
   ]
  },
  {
   "cell_type": "code",
   "execution_count": 377,
   "metadata": {},
   "outputs": [
    {
     "data": {
      "text/plain": [
       "ITensor ord=2 (dim=2|id=316|\"Link,l=1\") (dim=2|id=316|\"Link,l=1\")'\n",
       "NDTensors.Dense{Float64, Vector{Float64}}"
      ]
     },
     "metadata": {},
     "output_type": "display_data"
    }
   ],
   "source": [
    "R = s2_tr * s3_tr * s4_tr * s5_tr"
   ]
  },
  {
   "cell_type": "code",
   "execution_count": 378,
   "metadata": {},
   "outputs": [
    {
     "name": "stdout",
     "output_type": "stream",
     "text": [
      "R = ITensor ord=2\n",
      "Dim 1: (dim=2|id=316|\"Link,l=1\")\n",
      "Dim 2: (dim=2|id=316|\"Link,l=1\")'\n",
      "NDTensors.Dense{Float64, Vector{Float64}}\n",
      " 2×2\n",
      " 0.9999999999999997  0.0\n",
      " 0.0                 0.9999999999999988\n"
     ]
    },
    {
     "data": {
      "text/plain": [
       "ITensor ord=2 (dim=2|id=316|\"Link,l=1\") (dim=2|id=316|\"Link,l=1\")'\n",
       "NDTensors.Dense{Float64, Vector{Float64}}"
      ]
     },
     "metadata": {},
     "output_type": "display_data"
    }
   ],
   "source": [
    "@show R"
   ]
  },
  {
   "cell_type": "code",
   "execution_count": 379,
   "metadata": {},
   "outputs": [
    {
     "name": "stdout",
     "output_type": "stream",
     "text": [
      "phi_1_bra * phi_1_ket * R = ITensor ord=2\n",
      "Dim 1: (dim=1|id=450|\"Link,l=1\")'\n",
      "Dim 2: (dim=1|id=450|\"Link,l=1\")\n",
      "NDTensors.Dense{Float64, Vector{Float64}}\n",
      " 1×1\n",
      " 0.5381851435009655\n"
     ]
    },
    {
     "data": {
      "text/plain": [
       "ITensor ord=2 (dim=1|id=450|\"Link,l=1\")' (dim=1|id=450|\"Link,l=1\")\n",
       "NDTensors.Dense{Float64, Vector{Float64}}"
      ]
     },
     "metadata": {},
     "output_type": "display_data"
    }
   ],
   "source": [
    "@show phi_1_bra * phi_1_ket * R"
   ]
  },
  {
   "cell_type": "code",
   "execution_count": 380,
   "metadata": {},
   "outputs": [
    {
     "data": {
      "text/plain": [
       "ITensor ord=2 (dim=1|id=450|\"Link,l=1\")' (dim=1|id=450|\"Link,l=1\")\n",
       "NDTensors.Dense{Float64, Vector{Float64}}"
      ]
     },
     "metadata": {},
     "output_type": "display_data"
    }
   ],
   "source": [
    "site_1_efo = phi_1_bra * phi_1_ket * R"
   ]
  },
  {
   "cell_type": "code",
   "execution_count": 381,
   "metadata": {},
   "outputs": [
    {
     "name": "stdout",
     "output_type": "stream",
     "text": [
      "site_1_efo = ITensor ord=2\n",
      "Dim 1: (dim=1|id=450|\"Link,l=1\")'\n",
      "Dim 2: (dim=1|id=450|\"Link,l=1\")\n",
      "NDTensors.Dense{Float64, Vector{Float64}}\n",
      " 1×1\n",
      " 0.5381851435009655\n"
     ]
    },
    {
     "data": {
      "text/plain": [
       "ITensor ord=2 (dim=1|id=450|\"Link,l=1\")' (dim=1|id=450|\"Link,l=1\")\n",
       "NDTensors.Dense{Float64, Vector{Float64}}"
      ]
     },
     "metadata": {},
     "output_type": "display_data"
    }
   ],
   "source": [
    "@show site_1_efo"
   ]
  },
  {
   "cell_type": "markdown",
   "metadata": {},
   "source": [
    "Result should be order 0 but is order 2 because of the way ITensor represents product states as an MPS with bond dimension $\\chi = 1$. One way to extract the value is just to use a delta tensor to extract the single component:"
   ]
  },
  {
   "cell_type": "code",
   "execution_count": 382,
   "metadata": {},
   "outputs": [
    {
     "data": {
      "text/plain": [
       "ITensor ord=2 (dim=1|id=450|\"Link,l=1\")' (dim=1|id=450|\"Link,l=1\")\n",
       "NDTensors.Diag{Float64, Float64}"
      ]
     },
     "metadata": {},
     "output_type": "display_data"
    }
   ],
   "source": [
    "delta_tensor = delta(inds(site_1_efo))"
   ]
  },
  {
   "cell_type": "code",
   "execution_count": 383,
   "metadata": {},
   "outputs": [
    {
     "name": "stdout",
     "output_type": "stream",
     "text": [
      "delta_tensor * site_1_efo = ITensor ord=0\n",
      "NDTensors.Dense{Float64, Vector{Float64}}\n",
      " 0-dimensional\n",
      "0.5381851435009655\n"
     ]
    },
    {
     "data": {
      "text/plain": [
       "ITensor ord=0\n",
       "NDTensors.Dense{Float64, Vector{Float64}}"
      ]
     },
     "metadata": {},
     "output_type": "display_data"
    }
   ],
   "source": [
    "@show delta_tensor * site_1_efo"
   ]
  },
  {
   "cell_type": "code",
   "execution_count": 384,
   "metadata": {},
   "outputs": [
    {
     "data": {
      "text/plain": [
       "0.5381851435009655"
      ]
     },
     "metadata": {},
     "output_type": "display_data"
    }
   ],
   "source": [
    "site_1_overlap = scalar(delta_tensor * site_1_efo)"
   ]
  },
  {
   "cell_type": "markdown",
   "metadata": {},
   "source": [
    "# Site 2"
   ]
  },
  {
   "cell_type": "code",
   "execution_count": 385,
   "metadata": {},
   "outputs": [
    {
     "data": {
      "text/plain": [
       "ITensor ord=4 (dim=1|id=450|\"Link,l=1\")' (dim=1|id=540|\"Link,l=2\")' (dim=2|id=316|\"Link,l=1\")' (dim=2|id=846|\"Link,l=2\")'\n",
       "NDTensors.Dense{Float64, Vector{Float64}}"
      ]
     },
     "metadata": {},
     "output_type": "display_data"
    }
   ],
   "source": [
    "phi_2_ket = product_state[2] * mps_ket[2] # second mps site and second data ket\n",
    "phi_2_bra = prime(dag(product_state[2])) * mps_bra[2]"
   ]
  },
  {
   "cell_type": "markdown",
   "metadata": {},
   "source": [
    "trace over site 1"
   ]
  },
  {
   "cell_type": "code",
   "execution_count": 386,
   "metadata": {},
   "outputs": [
    {
     "data": {
      "text/plain": [
       "ITensor ord=2 (dim=2|id=316|\"Link,l=1\") (dim=2|id=316|\"Link,l=1\")'\n",
       "NDTensors.Dense{Float64, Vector{Float64}}"
      ]
     },
     "metadata": {},
     "output_type": "display_data"
    }
   ],
   "source": [
    "s1_tr = mps_ket[1] * noprime(siteinds, mps_bra)[1] "
   ]
  },
  {
   "cell_type": "markdown",
   "metadata": {},
   "source": [
    "trace over site 3,4,5 already done"
   ]
  },
  {
   "cell_type": "code",
   "execution_count": 387,
   "metadata": {},
   "outputs": [
    {
     "data": {
      "text/plain": [
       "ITensor ord=2 (dim=2|id=846|\"Link,l=2\") (dim=2|id=846|\"Link,l=2\")'\n",
       "NDTensors.Dense{Float64, Vector{Float64}}"
      ]
     },
     "metadata": {},
     "output_type": "display_data"
    }
   ],
   "source": [
    "L = s1_tr\n",
    "R = s3_tr * s4_tr * s5_tr"
   ]
  },
  {
   "cell_type": "code",
   "execution_count": 388,
   "metadata": {},
   "outputs": [
    {
     "data": {
      "text/plain": [
       "ITensor ord=4 (dim=1|id=450|\"Link,l=1\")' (dim=1|id=540|\"Link,l=2\")' (dim=1|id=450|\"Link,l=1\") (dim=1|id=540|\"Link,l=2\")\n",
       "NDTensors.Dense{Float64, Vector{Float64}}"
      ]
     },
     "metadata": {},
     "output_type": "display_data"
    }
   ],
   "source": [
    "site_2_efo = L * phi_2_bra * phi_2_ket * R"
   ]
  },
  {
   "cell_type": "code",
   "execution_count": 389,
   "metadata": {},
   "outputs": [
    {
     "name": "stdout",
     "output_type": "stream",
     "text": [
      "site_2_efo = ITensor ord=4\n",
      "Dim 1: (dim=1|id=450|\"Link,l=1\")'\n",
      "Dim 2: (dim=1|id=540|\"Link,l=2\")'\n",
      "Dim 3: (dim=1|id=450|\"Link,l=1\")\n",
      "Dim 4: (dim=1|id=540|\"Link,l=2\")\n",
      "NDTensors.Dense{Float64, Vector{Float64}}\n",
      " 1×1×1×1\n",
      "[:, :, 1, 1] =\n",
      " 0.8262225432485901\n"
     ]
    },
    {
     "data": {
      "text/plain": [
       "ITensor ord=4 (dim=1|id=450|\"Link,l=1\")' (dim=1|id=540|\"Link,l=2\")' (dim=1|id=450|\"Link,l=1\") (dim=1|id=540|\"Link,l=2\")\n",
       "NDTensors.Dense{Float64, Vector{Float64}}"
      ]
     },
     "metadata": {},
     "output_type": "display_data"
    }
   ],
   "source": [
    "@show site_2_efo"
   ]
  },
  {
   "cell_type": "code",
   "execution_count": 390,
   "metadata": {},
   "outputs": [
    {
     "data": {
      "text/plain": [
       "ITensor ord=4 (dim=1|id=450|\"Link,l=1\")' (dim=1|id=540|\"Link,l=2\")' (dim=1|id=450|\"Link,l=1\") (dim=1|id=540|\"Link,l=2\")\n",
       "NDTensors.Diag{Float64, Float64}"
      ]
     },
     "metadata": {},
     "output_type": "display_data"
    }
   ],
   "source": [
    "delta_tensor = delta(inds(site_2_efo))"
   ]
  },
  {
   "cell_type": "code",
   "execution_count": 391,
   "metadata": {},
   "outputs": [
    {
     "data": {
      "text/plain": [
       "0.8262225432485901"
      ]
     },
     "metadata": {},
     "output_type": "display_data"
    }
   ],
   "source": [
    "site_2_overlap = scalar(delta_tensor * site_2_efo)\n",
    "site_2_overlap"
   ]
  },
  {
   "cell_type": "markdown",
   "metadata": {},
   "source": [
    "# Site 3"
   ]
  },
  {
   "cell_type": "code",
   "execution_count": 392,
   "metadata": {},
   "outputs": [
    {
     "data": {
      "text/plain": [
       "ITensor ord=4 (dim=1|id=540|\"Link,l=2\")' (dim=1|id=379|\"Link,l=3\")' (dim=2|id=846|\"Link,l=2\")' (dim=2|id=127|\"Link,l=3\")'\n",
       "NDTensors.Dense{Float64, Vector{Float64}}"
      ]
     },
     "metadata": {},
     "output_type": "display_data"
    }
   ],
   "source": [
    "phi_3_ket = product_state[3] * mps_ket[3] # second mps site and second data ket\n",
    "phi_3_bra = prime(dag(product_state[3])) * mps_bra[3]"
   ]
  },
  {
   "cell_type": "code",
   "execution_count": 393,
   "metadata": {},
   "outputs": [
    {
     "data": {
      "text/plain": [
       "ITensor ord=2 (dim=2|id=127|\"Link,l=3\") (dim=2|id=127|\"Link,l=3\")'\n",
       "NDTensors.Dense{Float64, Vector{Float64}}"
      ]
     },
     "metadata": {},
     "output_type": "display_data"
    }
   ],
   "source": [
    "L = s1_tr * s2_tr\n",
    "R = s4_tr * s5_tr"
   ]
  },
  {
   "cell_type": "code",
   "execution_count": 394,
   "metadata": {},
   "outputs": [
    {
     "data": {
      "text/plain": [
       "ITensor ord=4 (dim=1|id=540|\"Link,l=2\") (dim=1|id=379|\"Link,l=3\") (dim=1|id=540|\"Link,l=2\")' (dim=1|id=379|\"Link,l=3\")'\n",
       "NDTensors.Dense{Float64, Vector{Float64}}"
      ]
     },
     "metadata": {},
     "output_type": "display_data"
    }
   ],
   "source": [
    "site_3_efo = L * phi_3_ket * phi_3_bra * R"
   ]
  },
  {
   "cell_type": "code",
   "execution_count": 395,
   "metadata": {},
   "outputs": [
    {
     "data": {
      "text/plain": [
       "ITensor ord=4 (dim=1|id=540|\"Link,l=2\") (dim=1|id=379|\"Link,l=3\") (dim=1|id=540|\"Link,l=2\")' (dim=1|id=379|\"Link,l=3\")'\n",
       "NDTensors.Diag{Float64, Float64}"
      ]
     },
     "metadata": {},
     "output_type": "display_data"
    }
   ],
   "source": [
    "delta_tensor = delta(inds(site_3_efo))"
   ]
  },
  {
   "cell_type": "code",
   "execution_count": 396,
   "metadata": {},
   "outputs": [
    {
     "data": {
      "text/plain": [
       "0.36385701012063354"
      ]
     },
     "metadata": {},
     "output_type": "display_data"
    }
   ],
   "source": [
    "site_3_overlap = scalar(delta_tensor * site_3_efo)"
   ]
  },
  {
   "cell_type": "markdown",
   "metadata": {},
   "source": [
    "# Site 4"
   ]
  },
  {
   "cell_type": "code",
   "execution_count": 397,
   "metadata": {},
   "outputs": [
    {
     "data": {
      "text/plain": [
       "ITensor ord=4 (dim=1|id=379|\"Link,l=3\")' (dim=1|id=467|\"Link,l=4\")' (dim=2|id=127|\"Link,l=3\")' (dim=2|id=179|\"Link,l=4\")'\n",
       "NDTensors.Dense{Float64, Vector{Float64}}"
      ]
     },
     "metadata": {},
     "output_type": "display_data"
    }
   ],
   "source": [
    "phi_4_ket = product_state[4] * mps_ket[4] # second mps site and second data ket\n",
    "phi_4_bra = prime(dag(product_state[4])) * mps_bra[4]"
   ]
  },
  {
   "cell_type": "code",
   "execution_count": 398,
   "metadata": {},
   "outputs": [
    {
     "data": {
      "text/plain": [
       "ITensor ord=2 (dim=2|id=179|\"Link,l=4\") (dim=2|id=179|\"Link,l=4\")'\n",
       "NDTensors.Dense{Float64, Vector{Float64}}"
      ]
     },
     "metadata": {},
     "output_type": "display_data"
    }
   ],
   "source": [
    "L = s1_tr * s2_tr * s3_tr\n",
    "R = s5_tr"
   ]
  },
  {
   "cell_type": "code",
   "execution_count": 399,
   "metadata": {},
   "outputs": [
    {
     "data": {
      "text/plain": [
       "0.6319328733379184"
      ]
     },
     "metadata": {},
     "output_type": "display_data"
    }
   ],
   "source": [
    "site_4_efo = L * phi_4_ket * phi_4_bra * R\n",
    "delta_tensor = delta(inds(site_4_efo))\n",
    "site_4_overlap = scalar(delta_tensor * site_4_efo)"
   ]
  },
  {
   "cell_type": "markdown",
   "metadata": {},
   "source": [
    "# Site 5"
   ]
  },
  {
   "cell_type": "code",
   "execution_count": 400,
   "metadata": {},
   "outputs": [
    {
     "data": {
      "text/plain": [
       "ITensor ord=2 (dim=1|id=467|\"Link,l=4\")' (dim=2|id=179|\"Link,l=4\")'\n",
       "NDTensors.Dense{Float64, Vector{Float64}}"
      ]
     },
     "metadata": {},
     "output_type": "display_data"
    }
   ],
   "source": [
    "phi_5_ket = product_state[5] * mps_ket[5] # second mps site and second data ket\n",
    "phi_5_bra = prime(dag(product_state[5])) * mps_bra[5]"
   ]
  },
  {
   "cell_type": "code",
   "execution_count": 401,
   "metadata": {},
   "outputs": [
    {
     "data": {
      "text/plain": [
       "ITensor ord=2 (dim=2|id=179|\"Link,l=4\") (dim=2|id=179|\"Link,l=4\")'\n",
       "NDTensors.Dense{Float64, Vector{Float64}}"
      ]
     },
     "metadata": {},
     "output_type": "display_data"
    }
   ],
   "source": [
    "L = s1_tr * s2_tr * s3_tr * s4_tr\n"
   ]
  },
  {
   "cell_type": "code",
   "execution_count": 402,
   "metadata": {},
   "outputs": [
    {
     "data": {
      "text/plain": [
       "0.8472515898392929"
      ]
     },
     "metadata": {},
     "output_type": "display_data"
    }
   ],
   "source": [
    "site_5_efo = L * phi_5_ket * phi_5_bra * R\n",
    "delta_tensor = delta(inds(site_5_efo))\n",
    "site_5_overlap = scalar(delta_tensor * site_5_efo)"
   ]
  },
  {
   "cell_type": "markdown",
   "metadata": {},
   "source": [
    "# Average "
   ]
  },
  {
   "cell_type": "code",
   "execution_count": 403,
   "metadata": {},
   "outputs": [
    {
     "data": {
      "text/plain": [
       "0.6414898320094802"
      ]
     },
     "metadata": {},
     "output_type": "display_data"
    }
   ],
   "source": [
    "sum = site_1_overlap + site_2_overlap + site_3_overlap + site_4_overlap + site_5_overlap\n",
    "sum /= 5"
   ]
  },
  {
   "cell_type": "markdown",
   "metadata": {},
   "source": [
    "Make into a function"
   ]
  },
  {
   "cell_type": "code",
   "execution_count": 429,
   "metadata": {},
   "outputs": [
    {
     "data": {
      "text/plain": [
       "GetEffectiveOverlap (generic function with 1 method)"
      ]
     },
     "metadata": {},
     "output_type": "display_data"
    }
   ],
   "source": [
    "function GetEffectiveOverlap(mps::MPS, product_state::MPS)\n",
    "    # get ket and bra versions of the mps\n",
    "    num_sites = length(mps)\n",
    "    mps_ket = mps # do nothing\n",
    "    mps_bra = dag(prime(mps))\n",
    "\n",
    "    # compute traces over each site and store\n",
    "    traces = Vector{ITensor}(undef, num_sites)\n",
    "    for s=1:num_sites\n",
    "        site_trace = mps_ket[s] * noprime(siteinds, mps_bra)[s] # make the site indices match up so we can do the trace\n",
    "        traces[s] = site_trace\n",
    "    end\n",
    "\n",
    "    # now loop over each site and, contract with the data ket for the ket mps and the data bra for the bra mps\n",
    "    local_overlaps = Vector{Any}(undef, num_sites)\n",
    "    for s=1:num_sites\n",
    "        phi_ket = product_state[s] * mps_ket[s] # sth mps site and sth data ket\n",
    "        phi_bra = prime(dag(product_state[s])) * mps_bra[s] # sth mps site (bra) and sth data bra\n",
    "        R = 1\n",
    "        L = 1\n",
    "        if s == 1\n",
    "            # first site, only right environment\n",
    "            for j=(s+1):num_sites\n",
    "                R *= traces[j]\n",
    "            end\n",
    "        elseif s == num_sites\n",
    "            # last site, only left environment\n",
    "            for j=1:(s-1)\n",
    "                L *= traces[j]\n",
    "            end\n",
    "        else\n",
    "            for j=1:(s-1)\n",
    "                L *= traces[j]\n",
    "            end\n",
    "            for j=(s+1):num_sites\n",
    "                R *= traces[j]\n",
    "            end\n",
    "        end\n",
    "        # contract together\n",
    "        local_overlap = L * phi_ket * phi_bra * R\n",
    "        # convert to scalar\n",
    "        delta_tensor = delta(inds(local_overlap))\n",
    "        local_overlaps[s] = scalar(delta_tensor * local_overlap)\n",
    "    end\n",
    "\n",
    "    sum_val = +(local_overlaps...)\n",
    "    av_val = sum_val/num_sites\n",
    "\n",
    "\n",
    "    return local_overlaps, av_val\n",
    "\n",
    "    #phi_1_ket = product_state[1] * mps_ket[1] # first mps site and first data ket\n",
    "    #phi_1_bra = prime(dag(product_state[1])) * mps_bra[1]\n",
    "\n",
    "\n",
    "end"
   ]
  },
  {
   "cell_type": "code",
   "execution_count": 430,
   "metadata": {},
   "outputs": [],
   "source": [
    "local_overlaps, av_val = GetEffectiveOverlap(mps, product_state);"
   ]
  },
  {
   "cell_type": "code",
   "execution_count": 432,
   "metadata": {},
   "outputs": [
    {
     "data": {
      "text/plain": [
       "0.6414898320094802"
      ]
     },
     "metadata": {},
     "output_type": "display_data"
    }
   ],
   "source": [
    "av_val"
   ]
  },
  {
   "cell_type": "markdown",
   "metadata": {},
   "source": [
    "Gives the same result as the manual test. Now let's extend to a large number of sites..."
   ]
  },
  {
   "cell_type": "markdown",
   "metadata": {},
   "source": [
    "Orthogonalize? "
   ]
  },
  {
   "cell_type": "code",
   "execution_count": 497,
   "metadata": {},
   "outputs": [
    {
     "data": {
      "text/plain": [
       "ITensor ord=4 (dim=2|id=362|\"Link,l=1\") (dim=1|id=955|\"Link,l=1\") (dim=2|id=362|\"Link,l=1\")' (dim=1|id=955|\"Link,l=1\")'\n",
       "NDTensors.Dense{Float64, Vector{Float64}}"
      ]
     },
     "metadata": {},
     "output_type": "display_data"
    }
   ],
   "source": [
    "phi_1 = mps[1] * product_state[1]\n",
    "phi_1_dag = prime(dag(phi_1))\n",
    "phi_1_phi_1_dag = phi_1 * phi_1_dag"
   ]
  },
  {
   "cell_type": "code",
   "execution_count": 498,
   "metadata": {},
   "outputs": [
    {
     "data": {
      "text/plain": [
       "MPS\n",
       "[1] ((dim=2|id=540|\"S=1/2,Site,n=1\"), (dim=2|id=362|\"Link,l=1\"))\n",
       "[2] ((dim=2|id=362|\"Link,l=1\"), (dim=2|id=615|\"S=1/2,Site,n=2\"), (dim=2|id=585|\"Link,l=2\"))\n",
       "[3] ((dim=2|id=585|\"Link,l=2\"), (dim=2|id=927|\"S=1/2,Site,n=3\"), (dim=2|id=78|\"Link,l=3\"))\n",
       "[4] ((dim=2|id=78|\"Link,l=3\"), (dim=2|id=814|\"S=1/2,Site,n=4\"), (dim=2|id=759|\"Link,l=4\"))\n",
       "[5] ((dim=2|id=759|\"Link,l=4\"), (dim=2|id=945|\"S=1/2,Site,n=5\"))\n"
      ]
     },
     "metadata": {},
     "output_type": "display_data"
    }
   ],
   "source": [
    "orthogonalize!(mps, 1)"
   ]
  },
  {
   "cell_type": "markdown",
   "metadata": {},
   "source": [
    "Use a delta tensor to contract over the primed and regular site indices"
   ]
  },
  {
   "cell_type": "code",
   "execution_count": 499,
   "metadata": {},
   "outputs": [
    {
     "data": {
      "text/plain": [
       "ITensor ord=2 (dim=2|id=615|\"S=1/2,Site,n=2\") (dim=2|id=615|\"S=1/2,Site,n=2\")'\n",
       "NDTensors.Diag{Float64, Float64}"
      ]
     },
     "metadata": {},
     "output_type": "display_data"
    }
   ],
   "source": [
    "delta(sites[2], sites[2]')"
   ]
  },
  {
   "cell_type": "code",
   "execution_count": 500,
   "metadata": {},
   "outputs": [
    {
     "data": {
      "text/plain": [
       "ITensor ord=4 (dim=2|id=362|\"Link,l=1\") (dim=2|id=585|\"Link,l=2\") (dim=2|id=362|\"Link,l=1\")' (dim=2|id=585|\"Link,l=2\")'\n",
       "NDTensors.Dense{Float64, Vector{Float64}}"
      ]
     },
     "metadata": {},
     "output_type": "display_data"
    }
   ],
   "source": [
    "s2_tr = mps[2] * prime(dag(mps[2])) * delta(sites[2], sites[2]')"
   ]
  },
  {
   "cell_type": "code",
   "execution_count": 501,
   "metadata": {},
   "outputs": [
    {
     "data": {
      "text/plain": [
       "ITensor ord=4 (dim=2|id=585|\"Link,l=2\") (dim=2|id=78|\"Link,l=3\") (dim=2|id=585|\"Link,l=2\")' (dim=2|id=78|\"Link,l=3\")'\n",
       "NDTensors.Dense{Float64, Vector{Float64}}"
      ]
     },
     "metadata": {},
     "output_type": "display_data"
    }
   ],
   "source": [
    "s3_tr = mps[3] * prime(dag(mps[3])) * delta(sites[3], sites[3]')"
   ]
  },
  {
   "cell_type": "code",
   "execution_count": 503,
   "metadata": {},
   "outputs": [
    {
     "data": {
      "text/plain": [
       "ITensor ord=4 (dim=2|id=78|\"Link,l=3\") (dim=2|id=759|\"Link,l=4\") (dim=2|id=78|\"Link,l=3\")' (dim=2|id=759|\"Link,l=4\")'\n",
       "NDTensors.Dense{Float64, Vector{Float64}}"
      ]
     },
     "metadata": {},
     "output_type": "display_data"
    }
   ],
   "source": [
    "s4_tr = mps[4] * prime(dag(mps[4])) * delta(sites[4], sites[4]')"
   ]
  },
  {
   "cell_type": "code",
   "execution_count": 504,
   "metadata": {},
   "outputs": [
    {
     "data": {
      "text/plain": [
       "ITensor ord=2 (dim=2|id=759|\"Link,l=4\") (dim=2|id=759|\"Link,l=4\")'\n",
       "NDTensors.Dense{Float64, Vector{Float64}}"
      ]
     },
     "metadata": {},
     "output_type": "display_data"
    }
   ],
   "source": [
    "s5_tr = mps[5] * prime(dag(mps[5])) * delta(sites[5], sites[5]')"
   ]
  },
  {
   "cell_type": "markdown",
   "metadata": {},
   "source": [
    "Contract the traces"
   ]
  },
  {
   "cell_type": "code",
   "execution_count": 507,
   "metadata": {},
   "outputs": [
    {
     "data": {
      "text/plain": [
       "ITensor ord=2 (dim=2|id=362|\"Link,l=1\") (dim=2|id=362|\"Link,l=1\")'\n",
       "NDTensors.Dense{Float64, Vector{Float64}}"
      ]
     },
     "metadata": {},
     "output_type": "display_data"
    }
   ],
   "source": [
    "contracted_traces = s2_tr * s3_tr * s4_tr * s5_tr"
   ]
  },
  {
   "cell_type": "code",
   "execution_count": 508,
   "metadata": {},
   "outputs": [
    {
     "name": "stdout",
     "output_type": "stream",
     "text": [
      "contracted_traces = ITensor ord=2\n",
      "Dim 1: (dim=2|id=362|\"Link,l=1\")\n",
      "Dim 2: (dim=2|id=362|\"Link,l=1\")'\n",
      "NDTensors.Dense{Float64, Vector{Float64}}\n",
      " 2×2\n",
      " 0.9999999999999997      2.7755575615628914e-17\n",
      " 2.7755575615628914e-17  0.9999999999999988\n"
     ]
    },
    {
     "data": {
      "text/plain": [
       "ITensor ord=2 (dim=2|id=362|\"Link,l=1\") (dim=2|id=362|\"Link,l=1\")'\n",
       "NDTensors.Dense{Float64, Vector{Float64}}"
      ]
     },
     "metadata": {},
     "output_type": "display_data"
    }
   ],
   "source": [
    "@show contracted_traces"
   ]
  },
  {
   "cell_type": "code",
   "execution_count": 512,
   "metadata": {},
   "outputs": [
    {
     "name": "stdout",
     "output_type": "stream",
     "text": [
      "phi_1_phi_1_dag * contracted_traces = ITensor ord=2\n",
      "Dim 1: (dim=1|id=955|\"Link,l=1\")\n",
      "Dim 2: (dim=1|id=955|\"Link,l=1\")'\n",
      "NDTensors.Dense{Float64, Vector{Float64}}\n",
      " 1×1\n",
      " 0.5381851435009655\n"
     ]
    },
    {
     "data": {
      "text/plain": [
       "ITensor ord=2 (dim=1|id=955|\"Link,l=1\") (dim=1|id=955|\"Link,l=1\")'\n",
       "NDTensors.Dense{Float64, Vector{Float64}}"
      ]
     },
     "metadata": {},
     "output_type": "display_data"
    }
   ],
   "source": [
    "@show phi_1_phi_1_dag * contracted_traces"
   ]
  },
  {
   "cell_type": "code",
   "execution_count": null,
   "metadata": {},
   "outputs": [],
   "source": []
  }
 ],
 "metadata": {
  "kernelspec": {
   "display_name": "Julia 1.9.2",
   "language": "julia",
   "name": "julia-1.9"
  },
  "language_info": {
   "file_extension": ".jl",
   "mimetype": "application/julia",
   "name": "julia",
   "version": "1.9.2"
  }
 },
 "nbformat": 4,
 "nbformat_minor": 2
}
