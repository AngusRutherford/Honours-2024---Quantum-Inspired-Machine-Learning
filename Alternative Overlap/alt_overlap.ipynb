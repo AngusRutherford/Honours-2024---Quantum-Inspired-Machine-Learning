{
 "cells": [
  {
   "cell_type": "code",
   "execution_count": 7,
   "metadata": {},
   "outputs": [
    {
     "data": {
      "text/plain": [
       "ScoreMPS (generic function with 2 methods)"
      ]
     },
     "metadata": {},
     "output_type": "display_data"
    }
   ],
   "source": [
    "using ITensors\n",
    "using Random, Distributions\n",
    "include(\"../BinarisedMPS/MPSLLOptimkit.jl\")"
   ]
  },
  {
   "cell_type": "code",
   "execution_count": 13,
   "metadata": {},
   "outputs": [
    {
     "name": "stdout",
     "output_type": "stream",
     "text": [
      "Initialising training states.\n"
     ]
    },
    {
     "data": {
      "text/plain": [
       "5-element Vector{PState}:\n",
       " PState(MPS\n",
       "[1] ((dim=2|id=430|\"S=1/2,Site,n=1\"),)\n",
       "[2] ((dim=2|id=499|\"S=1/2,Site,n=2\"),)\n",
       "[3] ((dim=2|id=598|\"S=1/2,Site,n=3\"),)\n",
       "[4] ((dim=2|id=360|\"S=1/2,Site,n=4\"),)\n",
       "[5] ((dim=2|id=57|\"S=1/2,Site,n=5\"),)\n",
       "[6] ((dim=2|id=162|\"S=1/2,Site,n=6\"),)\n",
       "[7] ((dim=2|id=754|\"S=1/2,Site,n=7\"),)\n",
       "[8] ((dim=2|id=830|\"S=1/2,Site,n=8\"),)\n",
       "[9] ((dim=2|id=792|\"S=1/2,Site,n=9\"),)\n",
       "[10] ((dim=2|id=580|\"S=1/2,Site,n=10\"),)\n",
       ", 0, \"train\")\n",
       " PState(MPS\n",
       "[1] ((dim=2|id=430|\"S=1/2,Site,n=1\"),)\n",
       "[2] ((dim=2|id=499|\"S=1/2,Site,n=2\"),)\n",
       "[3] ((dim=2|id=598|\"S=1/2,Site,n=3\"),)\n",
       "[4] ((dim=2|id=360|\"S=1/2,Site,n=4\"),)\n",
       "[5] ((dim=2|id=57|\"S=1/2,Site,n=5\"),)\n",
       "[6] ((dim=2|id=162|\"S=1/2,Site,n=6\"),)\n",
       "[7] ((dim=2|id=754|\"S=1/2,Site,n=7\"),)\n",
       "[8] ((dim=2|id=830|\"S=1/2,Site,n=8\"),)\n",
       "[9] ((dim=2|id=792|\"S=1/2,Site,n=9\"),)\n",
       "[10] ((dim=2|id=580|\"S=1/2,Site,n=10\"),)\n",
       ", 0, \"train\")\n",
       " PState(MPS\n",
       "[1] ((dim=2|id=430|\"S=1/2,Site,n=1\"),)\n",
       "[2] ((dim=2|id=499|\"S=1/2,Site,n=2\"),)\n",
       "[3] ((dim=2|id=598|\"S=1/2,Site,n=3\"),)\n",
       "[4] ((dim=2|id=360|\"S=1/2,Site,n=4\"),)\n",
       "[5] ((dim=2|id=57|\"S=1/2,Site,n=5\"),)\n",
       "[6] ((dim=2|id=162|\"S=1/2,Site,n=6\"),)\n",
       "[7] ((dim=2|id=754|\"S=1/2,Site,n=7\"),)\n",
       "[8] ((dim=2|id=830|\"S=1/2,Site,n=8\"),)\n",
       "[9] ((dim=2|id=792|\"S=1/2,Site,n=9\"),)\n",
       "[10] ((dim=2|id=580|\"S=1/2,Site,n=10\"),)\n",
       ", 1, \"train\")\n",
       " PState(MPS\n",
       "[1] ((dim=2|id=430|\"S=1/2,Site,n=1\"),)\n",
       "[2] ((dim=2|id=499|\"S=1/2,Site,n=2\"),)\n",
       "[3] ((dim=2|id=598|\"S=1/2,Site,n=3\"),)\n",
       "[4] ((dim=2|id=360|\"S=1/2,Site,n=4\"),)\n",
       "[5] ((dim=2|id=57|\"S=1/2,Site,n=5\"),)\n",
       "[6] ((dim=2|id=162|\"S=1/2,Site,n=6\"),)\n",
       "[7] ((dim=2|id=754|\"S=1/2,Site,n=7\"),)\n",
       "[8] ((dim=2|id=830|\"S=1/2,Site,n=8\"),)\n",
       "[9] ((dim=2|id=792|\"S=1/2,Site,n=9\"),)\n",
       "[10] ((dim=2|id=580|\"S=1/2,Site,n=10\"),)\n",
       ", 1, \"train\")\n",
       " PState(MPS\n",
       "[1] ((dim=2|id=430|\"S=1/2,Site,n=1\"),)\n",
       "[2] ((dim=2|id=499|\"S=1/2,Site,n=2\"),)\n",
       "[3] ((dim=2|id=598|\"S=1/2,Site,n=3\"),)\n",
       "[4] ((dim=2|id=360|\"S=1/2,Site,n=4\"),)\n",
       "[5] ((dim=2|id=57|\"S=1/2,Site,n=5\"),)\n",
       "[6] ((dim=2|id=162|\"S=1/2,Site,n=6\"),)\n",
       "[7] ((dim=2|id=754|\"S=1/2,Site,n=7\"),)\n",
       "[8] ((dim=2|id=830|\"S=1/2,Site,n=8\"),)\n",
       "[9] ((dim=2|id=792|\"S=1/2,Site,n=9\"),)\n",
       "[10] ((dim=2|id=580|\"S=1/2,Site,n=10\"),)\n",
       ", 0, \"train\")"
      ]
     },
     "metadata": {},
     "output_type": "display_data"
    }
   ],
   "source": [
    "sites = siteinds(\"S=1/2\", 10);\n",
    "X = rand(5, 10)\n",
    "y = rand([0,1], 5)\n",
    "X_bin = BinariseDataset(X)\n",
    "ps = GenerateAllProductStates(X_bin, y, \"train\", sites)"
   ]
  },
  {
   "cell_type": "code",
   "execution_count": 17,
   "metadata": {},
   "outputs": [
    {
     "data": {
      "text/plain": [
       "MPS\n",
       "[1] ((dim=2|id=430|\"S=1/2,Site,n=1\"),)\n",
       "[2] ((dim=2|id=499|\"S=1/2,Site,n=2\"),)\n",
       "[3] ((dim=2|id=598|\"S=1/2,Site,n=3\"),)\n",
       "[4] ((dim=2|id=360|\"S=1/2,Site,n=4\"),)\n",
       "[5] ((dim=2|id=57|\"S=1/2,Site,n=5\"),)\n",
       "[6] ((dim=2|id=162|\"S=1/2,Site,n=6\"),)\n",
       "[7] ((dim=2|id=754|\"S=1/2,Site,n=7\"),)\n",
       "[8] ((dim=2|id=830|\"S=1/2,Site,n=8\"),)\n",
       "[9] ((dim=2|id=792|\"S=1/2,Site,n=9\"),)\n",
       "[10] ((dim=2|id=580|\"S=1/2,Site,n=10\"),)\n"
      ]
     },
     "metadata": {},
     "output_type": "display_data"
    }
   ],
   "source": [
    "ps[1].pstate"
   ]
  },
  {
   "cell_type": "code",
   "execution_count": 27,
   "metadata": {},
   "outputs": [
    {
     "data": {
      "text/plain": [
       "MPS\n",
       "[1] ((dim=2|id=430|\"S=1/2,Site,n=1\"), (dim=2|id=380|\"Link,l=1\"))\n",
       "[2] ((dim=2|id=380|\"Link,l=1\"), (dim=2|id=499|\"S=1/2,Site,n=2\"), (dim=2|id=240|\"Link,l=2\"))\n",
       "[3] ((dim=2|id=240|\"Link,l=2\"), (dim=2|id=598|\"S=1/2,Site,n=3\"), (dim=2|id=746|\"Link,l=3\"))\n",
       "[4] ((dim=2|id=746|\"Link,l=3\"), (dim=2|id=360|\"S=1/2,Site,n=4\"), (dim=2|id=472|\"Link,l=4\"))\n",
       "[5] ((dim=2|id=472|\"Link,l=4\"), (dim=2|id=57|\"S=1/2,Site,n=5\"), (dim=2|id=168|\"Link,l=5\"))\n",
       "[6] ((dim=2|id=168|\"Link,l=5\"), (dim=2|id=162|\"S=1/2,Site,n=6\"), (dim=2|id=251|\"Link,l=6\"))\n",
       "[7] ((dim=2|id=251|\"Link,l=6\"), (dim=2|id=754|\"S=1/2,Site,n=7\"), (dim=2|id=236|\"Link,l=7\"))\n",
       "[8] ((dim=2|id=236|\"Link,l=7\"), (dim=2|id=830|\"S=1/2,Site,n=8\"), (dim=2|id=369|\"Link,l=8\"))\n",
       "[9] ((dim=2|id=369|\"Link,l=8\"), (dim=2|id=792|\"S=1/2,Site,n=9\"), (dim=2|id=43|\"Link,l=9\"))\n",
       "[10] ((dim=2|id=43|\"Link,l=9\"), (dim=2|id=580|\"S=1/2,Site,n=10\"))\n"
      ]
     },
     "metadata": {},
     "output_type": "display_data"
    }
   ],
   "source": [
    "mps1 = randomMPS(sites; linkdims=2)"
   ]
  },
  {
   "cell_type": "code",
   "execution_count": 28,
   "metadata": {},
   "outputs": [
    {
     "data": {
      "text/plain": [
       "MPS\n",
       "[1] ((dim=2|id=430|\"S=1/2,Site,n=1\"), (dim=2|id=554|\"Link,l=1\"))\n",
       "[2] ((dim=2|id=554|\"Link,l=1\"), (dim=2|id=499|\"S=1/2,Site,n=2\"), (dim=2|id=806|\"Link,l=2\"))\n",
       "[3] ((dim=2|id=806|\"Link,l=2\"), (dim=2|id=598|\"S=1/2,Site,n=3\"), (dim=2|id=297|\"Link,l=3\"))\n",
       "[4] ((dim=2|id=297|\"Link,l=3\"), (dim=2|id=360|\"S=1/2,Site,n=4\"), (dim=2|id=108|\"Link,l=4\"))\n",
       "[5] ((dim=2|id=108|\"Link,l=4\"), (dim=2|id=57|\"S=1/2,Site,n=5\"), (dim=2|id=252|\"Link,l=5\"))\n",
       "[6] ((dim=2|id=252|\"Link,l=5\"), (dim=2|id=162|\"S=1/2,Site,n=6\"), (dim=2|id=662|\"Link,l=6\"))\n",
       "[7] ((dim=2|id=662|\"Link,l=6\"), (dim=2|id=754|\"S=1/2,Site,n=7\"), (dim=2|id=520|\"Link,l=7\"))\n",
       "[8] ((dim=2|id=520|\"Link,l=7\"), (dim=2|id=830|\"S=1/2,Site,n=8\"), (dim=2|id=563|\"Link,l=8\"))\n",
       "[9] ((dim=2|id=563|\"Link,l=8\"), (dim=2|id=792|\"S=1/2,Site,n=9\"), (dim=2|id=477|\"Link,l=9\"))\n",
       "[10] ((dim=2|id=477|\"Link,l=9\"), (dim=2|id=580|\"S=1/2,Site,n=10\"))\n"
      ]
     },
     "metadata": {},
     "output_type": "display_data"
    }
   ],
   "source": [
    "mps2 = randomMPS(sites; linkdims=2)"
   ]
  },
  {
   "cell_type": "code",
   "execution_count": 47,
   "metadata": {},
   "outputs": [
    {
     "data": {
      "text/plain": [
       "trunc (generic function with 65 methods)"
      ]
     },
     "metadata": {},
     "output_type": "display_data"
    }
   ],
   "source": [
    "ψ1 = randomMPS(sites; linkdims=1)\n",
    "ψ2 = randomMPS(sites; linkdims=1);\n",
    "psis = [ψ1, ψ2]\n",
    "ψ = ITensors.add(psis...; alg=\"directsum\");\n",
    "trunc"
   ]
  },
  {
   "cell_type": "code",
   "execution_count": null,
   "metadata": {},
   "outputs": [],
   "source": []
  }
 ],
 "metadata": {
  "kernelspec": {
   "display_name": "Julia 1.9.2",
   "language": "julia",
   "name": "julia-1.9"
  },
  "language_info": {
   "file_extension": ".jl",
   "mimetype": "application/julia",
   "name": "julia",
   "version": "1.9.2"
  }
 },
 "nbformat": 4,
 "nbformat_minor": 2
}
