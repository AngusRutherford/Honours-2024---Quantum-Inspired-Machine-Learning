{
 "cells": [
  {
   "cell_type": "code",
   "execution_count": 1,
   "metadata": {},
   "outputs": [],
   "source": [
    "using ITensors"
   ]
  },
  {
   "cell_type": "markdown",
   "metadata": {},
   "source": [
    "# Creating Number States in ITensor"
   ]
  },
  {
   "cell_type": "code",
   "execution_count": 29,
   "metadata": {},
   "outputs": [],
   "source": [
    "sites = siteinds(\"Qudit\", 10; dim=10);"
   ]
  },
  {
   "cell_type": "code",
   "execution_count": 30,
   "metadata": {},
   "outputs": [
    {
     "data": {
      "text/plain": [
       "MPS\n",
       "[1] ((dim=10|id=507|\"Qudit,Site,n=1\"), (dim=4|id=821|\"Link,l=1\"))\n",
       "[2] ((dim=4|id=821|\"Link,l=1\"), (dim=10|id=627|\"Qudit,Site,n=2\"), (dim=4|id=808|\"Link,l=2\"))\n",
       "[3] ((dim=4|id=808|\"Link,l=2\"), (dim=10|id=996|\"Qudit,Site,n=3\"), (dim=4|id=474|\"Link,l=3\"))\n",
       "[4] ((dim=4|id=474|\"Link,l=3\"), (dim=10|id=101|\"Qudit,Site,n=4\"), (dim=4|id=800|\"Link,l=4\"))\n",
       "[5] ((dim=4|id=800|\"Link,l=4\"), (dim=10|id=203|\"Qudit,Site,n=5\"), (dim=4|id=851|\"Link,l=5\"))\n",
       "[6] ((dim=4|id=851|\"Link,l=5\"), (dim=10|id=63|\"Qudit,Site,n=6\"), (dim=4|id=80|\"Link,l=6\"))\n",
       "[7] ((dim=4|id=80|\"Link,l=6\"), (dim=10|id=530|\"Qudit,Site,n=7\"), (dim=4|id=365|\"Link,l=7\"))\n",
       "[8] ((dim=4|id=365|\"Link,l=7\"), (dim=10|id=120|\"Qudit,Site,n=8\"), (dim=4|id=999|\"Link,l=8\"))\n",
       "[9] ((dim=4|id=999|\"Link,l=8\"), (dim=10|id=972|\"Qudit,Site,n=9\"), (dim=4|id=218|\"Link,l=9\"))\n",
       "[10] ((dim=4|id=218|\"Link,l=9\"), (dim=10|id=187|\"Qudit,Site,n=10\"))\n"
      ]
     },
     "metadata": {},
     "output_type": "display_data"
    }
   ],
   "source": [
    "mps = randomMPS(sites; linkdims=4)"
   ]
  },
  {
   "cell_type": "code",
   "execution_count": 31,
   "metadata": {},
   "outputs": [
    {
     "data": {
      "text/plain": [
       "MPS\n",
       "[1] ((dim=10|id=507|\"Qudit,Site,n=1\"), (dim=4|id=141|\"Link,l=1\"))\n",
       "[2] ((dim=4|id=141|\"Link,l=1\"), (dim=10|id=627|\"Qudit,Site,n=2\"), (dim=4|id=894|\"Link,l=2\"))\n",
       "[3] ((dim=4|id=894|\"Link,l=2\"), (dim=10|id=996|\"Qudit,Site,n=3\"), (dim=4|id=333|\"Link,l=3\"))\n",
       "[4] ((dim=4|id=333|\"Link,l=3\"), (dim=10|id=101|\"Qudit,Site,n=4\"), (dim=4|id=946|\"Link,l=4\"))\n",
       "[5] ((dim=4|id=946|\"Link,l=4\"), (dim=10|id=203|\"Qudit,Site,n=5\"), (dim=4|id=394|\"Link,l=5\"))\n",
       "[6] ((dim=4|id=394|\"Link,l=5\"), (dim=10|id=63|\"Qudit,Site,n=6\"), (dim=4|id=799|\"Link,l=6\"))\n",
       "[7] ((dim=4|id=799|\"Link,l=6\"), (dim=10|id=530|\"Qudit,Site,n=7\"), (dim=4|id=937|\"Link,l=7\"))\n",
       "[8] ((dim=4|id=937|\"Link,l=7\"), (dim=10|id=120|\"Qudit,Site,n=8\"), (dim=4|id=102|\"Link,l=8\"))\n",
       "[9] ((dim=4|id=102|\"Link,l=8\"), (dim=10|id=972|\"Qudit,Site,n=9\"), (dim=4|id=990|\"Link,l=9\"))\n",
       "[10] ((dim=4|id=990|\"Link,l=9\"), (dim=10|id=187|\"Qudit,Site,n=10\"))\n"
      ]
     },
     "metadata": {},
     "output_type": "display_data"
    }
   ],
   "source": [
    "mps2 = randomMPS(sites; linkdims=4)"
   ]
  },
  {
   "cell_type": "code",
   "execution_count": null,
   "metadata": {},
   "outputs": [],
   "source": []
  }
 ],
 "metadata": {
  "kernelspec": {
   "display_name": "Julia 1.9.2",
   "language": "julia",
   "name": "julia-1.9"
  },
  "language_info": {
   "file_extension": ".jl",
   "mimetype": "application/julia",
   "name": "julia",
   "version": "1.9.2"
  }
 },
 "nbformat": 4,
 "nbformat_minor": 2
}
