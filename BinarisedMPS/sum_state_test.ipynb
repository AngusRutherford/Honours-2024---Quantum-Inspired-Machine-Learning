{
 "cells": [
  {
   "cell_type": "code",
   "execution_count": 73,
   "metadata": {},
   "outputs": [],
   "source": [
    "using ITensors\n",
    "using Random\n",
    "include(\"MPSLLOptimkit.jl\");"
   ]
  },
  {
   "cell_type": "code",
   "execution_count": 74,
   "metadata": {},
   "outputs": [],
   "source": [
    "sites = siteinds(\"S=1/2\", 100);"
   ]
  },
  {
   "cell_type": "code",
   "execution_count": 75,
   "metadata": {},
   "outputs": [
    {
     "data": {
      "text/plain": [
       "GenerateSumState (generic function with 2 methods)"
      ]
     },
     "metadata": {},
     "output_type": "display_data"
    }
   ],
   "source": [
    "function GenerateSumState(training_pstates::Vector{PState}, sites; n_initial=50, maxdim=5, \n",
    "    cutoff=1E-10, random_state=42)\n",
    "\n",
    "    Random.seed!(random_state)\n",
    "\n",
    "    labels = [state.label for state in training_pstates]\n",
    "    num_classes = length(unique(labels))\n",
    "    label_idx = Index(num_classes, \"f(x)\")\n",
    "    \n",
    "    # determine min # of samples per class\n",
    "    sample_counts = [length(findall(labels .== class)) for class in unique(labels)]\n",
    "    min_samples = minimum(sample_counts)\n",
    "\n",
    "    n_samples = min(n_initial, min_samples)\n",
    "\n",
    "    # store individual label states for summing\n",
    "    label_states_store = []\n",
    "\n",
    "    @Threads.threads for class in sort(unique(labels))\n",
    "        class_indices = findall(labels .== class)\n",
    "        selected_indices = StatsBase.sample(class_indices, n_samples; replace=false)\n",
    "        selected_samples = training_pstates[selected_indices]\n",
    "        sample_mps = [sample.pstate for sample in selected_samples]\n",
    "        println(sample_mps)\n",
    "        label_state = +(sample_mps...; cutoff=cutoff, maxdim=maxdim)\n",
    "        # add random noise as mps\n",
    "        perturbation = 100 * randomMPS(sites; linkdims=maxdim)\n",
    "        perturbed_label_state = +(label_state, perturbation; cutoff=cutoff, maxdim=maxdim)\n",
    "        # construct label index\n",
    "        label = onehot(label_idx => (class + 1))\n",
    "        perturbed_label_state[1] *= label\n",
    "        push!(label_states_store, perturbed_label_state)\n",
    "    end\n",
    "\n",
    "    # sum together class-specific label states to get an MPS\n",
    "    W = +(label_states_store...; cutoff=cutoff, maxdim=maxdim)\n",
    "\n",
    "    # normalize\n",
    "    normalize!(W)\n",
    "    print(W)\n",
    "\n",
    "    return W\n",
    "\n",
    "end"
   ]
  },
  {
   "cell_type": "code",
   "execution_count": 76,
   "metadata": {},
   "outputs": [],
   "source": [
    "X_train = rand(50, 100)\n",
    "y_train = rand([0, 1], 50);\n",
    "X_binarised = BinariseDataset(X_train);\n",
    "ps = GenerateAllProductStates(X_binarised, y_train, \"train\", sites);"
   ]
  },
  {
   "cell_type": "code",
   "execution_count": 77,
   "metadata": {},
   "outputs": [
    {
     "data": {
      "text/plain": [
       "MPS\n",
       "[1] ((dim=2|id=404|\"S=1/2,Site,n=1\"), (dim=2|id=325|\"f(x)\"), (dim=4|id=715|\"Link,l=1\"))\n",
       "[2] ((dim=2|id=840|\"S=1/2,Site,n=2\"), (dim=5|id=918|\"Link,l=2\"), (dim=4|id=715|\"Link,l=1\"))\n",
       "[3] ((dim=2|id=254|\"S=1/2,Site,n=3\"), (dim=6|id=394|\"Link,l=3\"), (dim=5|id=918|\"Link,l=2\"))\n",
       "[4] ((dim=2|id=300|\"S=1/2,Site,n=4\"), (dim=7|id=160|\"Link,l=4\"), (dim=6|id=394|\"Link,l=3\"))\n",
       "[5] ((dim=2|id=689|\"S=1/2,Site,n=5\"), (dim=7|id=165|\"Link,l=5\"), (dim=7|id=160|\"Link,l=4\"))\n",
       "[6] ((dim=2|id=393|\"S=1/2,Site,n=6\"), (dim=8|id=90|\"Link,l=6\"), (dim=7|id=165|\"Link,l=5\"))\n",
       "[7] ((dim=2|id=249|\"S=1/2,Site,n=7\"), (dim=8|id=927|\"Link,l=7\"), (dim=8|id=90|\"Link,l=6\"))\n",
       "[8] ((dim=2|id=703|\"S=1/2,Site,n=8\"), (dim=8|id=82|\"Link,l=8\"), (dim=8|id=927|\"Link,l=7\"))\n",
       "[9] ((dim=2|id=300|\"S=1/2,Site,n=9\"), (dim=8|id=822|\"Link,l=9\"), (dim=8|id=82|\"Link,l=8\"))\n",
       "[10] ((dim=2|id=523|\"S=1/2,Site,n=10\"), (dim=8|id=255|\"Link,l=10\"), (dim=8|id=822|\"Link,l=9\"))\n",
       "[11] ((dim=2|id=365|\"S=1/2,Site,n=11\"), (dim=8|id=277|\"Link,l=11\"), (dim=8|id=255|\"Link,l=10\"))\n",
       "[12] ((dim=2|id=493|\"S=1/2,Site,n=12\"), (dim=8|id=805|\"Link,l=12\"), (dim=8|id=277|\"Link,l=11\"))\n",
       "[13] ((dim=2|id=251|\"S=1/2,Site,n=13\"), (dim=8|id=772|\"Link,l=13\"), (dim=8|id=805|\"Link,l=12\"))\n",
       "[14] ((dim=2|id=208|\"S=1/2,Site,n=14\"), (dim=8|id=384|\"Link,l=14\"), (dim=8|id=772|\"Link,l=13\"))\n",
       "[15] ((dim=2|id=844|\"S=1/2,Site,n=15\"), (dim=8|id=490|\"Link,l=15\"), (dim=8|id=384|\"Link,l=14\"))\n",
       "[16] ((dim=2|id=189|\"S=1/2,Site,n=16\"), (dim=8|id=312|\"Link,l=16\"), (dim=8|id=490|\"Link,l=15\"))\n",
       "[17] ((dim=2|id=764|\"S=1/2,Site,n=17\"), (dim=8|id=278|\"Link,l=17\"), (dim=8|id=312|\"Link,l=16\"))\n",
       "[18] ((dim=2|id=467|\"S=1/2,Site,n=18\"), (dim=8|id=49|\"Link,l=18\"), (dim=8|id=278|\"Link,l=17\"))\n",
       "[19] ((dim=2|id=136|\"S=1/2,Site,n=19\"), (dim=8|id=804|\"Link,l=19\"), (dim=8|id=49|\"Link,l=18\"))\n",
       "[20] ((dim=2|id=774|\"S=1/2,Site,n=20\"), (dim=8|id=217|\"Link,l=20\"), (dim=8|id=804|\"Link,l=19\"))\n",
       "[21] ((dim=2|id=135|\"S=1/2,Site,n=21\"), (dim=8|id=571|\"Link,l=21\"), (dim=8|id=217|\"Link,l=20\"))\n",
       "[22] ((dim=2|id=901|\"S=1/2,Site,n=22\"), (dim=8|id=650|\"Link,l=22\"), (dim=8|id=571|\"Link,l=21\"))\n",
       "[23] ((dim=2|id=508|\"S=1/2,Site,n=23\"), (dim=8|id=281|\"Link,l=23\"), (dim=8|id=650|\"Link,l=22\"))\n",
       "[24] ((dim=2|id=246|\"S=1/2,Site,n=24\"), (dim=8|id=925|\"Link,l=24\"), (dim=8|id=281|\"Link,l=23\"))\n",
       "[25] ((dim=2|id=738|\"S=1/2,Site,n=25\"), (dim=8|id=744|\"Link,l=25\"), (dim=8|id=925|\"Link,l=24\"))\n",
       "[26] ((dim=2|id=811|\"S=1/2,Site,n=26\"), (dim=8|id=21|\"Link,l=26\"), (dim=8|id=744|\"Link,l=25\"))\n",
       "[27] ((dim=2|id=485|\"S=1/2,Site,n=27\"), (dim=8|id=454|\"Link,l=27\"), (dim=8|id=21|\"Link,l=26\"))\n",
       "[28] ((dim=2|id=399|\"S=1/2,Site,n=28\"), (dim=8|id=492|\"Link,l=28\"), (dim=8|id=454|\"Link,l=27\"))\n",
       "[29] ((dim=2|id=778|\"S=1/2,Site,n=29\"), (dim=8|id=651|\"Link,l=29\"), (dim=8|id=492|\"Link,l=28\"))\n",
       "[30] ((dim=2|id=206|\"S=1/2,Site,n=30\"), (dim=8|id=319|\"Link,l=30\"), (dim=8|id=651|\"Link,l=29\"))\n",
       "[31] ((dim=2|id=826|\"S=1/2,Site,n=31\"), (dim=8|id=105|\"Link,l=31\"), (dim=8|id=319|\"Link,l=30\"))\n",
       "[32] ((dim=2|id=614|\"S=1/2,Site,n=32\"), (dim=8|id=971|\"Link,l=32\"), (dim=8|id=105|\"Link,l=31\"))\n",
       "[33] ((dim=2|id=31|\"S=1/2,Site,n=33\"), (dim=8|id=888|\"Link,l=33\"), (dim=8|id=971|\"Link,l=32\"))\n",
       "[34] ((dim=2|id=180|\"S=1/2,Site,n=34\"), (dim=8|id=831|\"Link,l=34\"), (dim=8|id=888|\"Link,l=33\"))\n",
       "[35] ((dim=2|id=760|\"S=1/2,Site,n=35\"), (dim=8|id=548|\"Link,l=35\"), (dim=8|id=831|\"Link,l=34\"))\n",
       "[36] ((dim=2|id=592|\"S=1/2,Site,n=36\"), (dim=8|id=608|\"Link,l=36\"), (dim=8|id=548|\"Link,l=35\"))\n",
       "[37] ((dim=2|id=506|\"S=1/2,Site,n=37\"), (dim=8|id=116|\"Link,l=37\"), (dim=8|id=608|\"Link,l=36\"))\n",
       "[38] ((dim=2|id=972|\"S=1/2,Site,n=38\"), (dim=8|id=676|\"Link,l=38\"), (dim=8|id=116|\"Link,l=37\"))\n",
       "[39] ((dim=2|id=878|\"S=1/2,Site,n=39\"), (dim=8|id=877|\"Link,l=39\"), (dim=8|id=676|\"Link,l=38\"))\n",
       "[40] ((dim=2|id=613|\"S=1/2,Site,n=40\"), (dim=8|id=828|\"Link,l=40\"), (dim=8|id=877|\"Link,l=39\"))\n",
       "[41] ((dim=2|id=943|\"S=1/2,Site,n=41\"), (dim=8|id=767|\"Link,l=41\"), (dim=8|id=828|\"Link,l=40\"))\n",
       "[42] ((dim=2|id=515|\"S=1/2,Site,n=42\"), (dim=8|id=325|\"Link,l=42\"), (dim=8|id=767|\"Link,l=41\"))\n",
       "[43] ((dim=2|id=550|\"S=1/2,Site,n=43\"), (dim=8|id=854|\"Link,l=43\"), (dim=8|id=325|\"Link,l=42\"))\n",
       "[44] ((dim=2|id=840|\"S=1/2,Site,n=44\"), (dim=8|id=158|\"Link,l=44\"), (dim=8|id=854|\"Link,l=43\"))\n",
       "[45] ((dim=2|id=730|\"S=1/2,Site,n=45\"), (dim=8|id=306|\"Link,l=45\"), (dim=8|id=158|\"Link,l=44\"))\n",
       "[46] ((dim=2|id=414|\"S=1/2,Site,n=46\"), (dim=8|id=752|\"Link,l=46\"), (dim=8|id=306|\"Link,l=45\"))\n",
       "[47] ((dim=2|id=644|\"S=1/2,Site,n=47\"), (dim=8|id=894|\"Link,l=47\"), (dim=8|id=752|\"Link,l=46\"))\n",
       "[48] ((dim=2|id=251|\"S=1/2,Site,n=48\"), (dim=8|id=265|\"Link,l=48\"), (dim=8|id=894|\"Link,l=47\"))\n",
       "[49] ((dim=2|id=481|\"S=1/2,Site,n=49\"), (dim=8|id=103|\"Link,l=49\"), (dim=8|id=265|\"Link,l=48\"))\n",
       "[50] ((dim=2|id=99|\"S=1/2,Site,n=50\"), (dim=8|id=743|\"Link,l=50\"), (dim=8|id=103|\"Link,l=49\"))\n",
       "[51] ((dim=2|id=910|\"S=1/2,Site,n=51\"), (dim=8|id=749|\"Link,l=51\"), (dim=8|id=743|\"Link,l=50\"))\n",
       "[52] ((dim=2|id=235|\"S=1/2,Site,n=52\"), (dim=8|id=92|\"Link,l=52\"), (dim=8|id=749|\"Link,l=51\"))\n",
       "[53] ((dim=2|id=81|\"S=1/2,Site,n=53\"), (dim=8|id=234|\"Link,l=53\"), (dim=8|id=92|\"Link,l=52\"))\n",
       "[54] ((dim=2|id=567|\"S=1/2,Site,n=54\"), (dim=8|id=653|\"Link,l=54\"), (dim=8|id=234|\"Link,l=53\"))\n",
       "[55] ((dim=2|id=2|\"S=1/2,Site,n=55\"), (dim=8|id=214|\"Link,l=55\"), (dim=8|id=653|\"Link,l=54\"))\n",
       "[56] ((dim=2|id=523|\"S=1/2,Site,n=56\"), (dim=8|id=965|\"Link,l=56\"), (dim=8|id=214|\"Link,l=55\"))\n",
       "[57] ((dim=2|id=655|\"S=1/2,Site,n=57\"), (dim=8|id=618|\"Link,l=57\"), (dim=8|id=965|\"Link,l=56\"))\n",
       "[58] ((dim=2|id=614|\"S=1/2,Site,n=58\"), (dim=8|id=62|\"Link,l=58\"), (dim=8|id=618|\"Link,l=57\"))\n",
       "[59] ((dim=2|id=804|\"S=1/2,Site,n=59\"), (dim=8|id=3|\"Link,l=59\"), (dim=8|id=62|\"Link,l=58\"))\n",
       "[60] ((dim=2|id=889|\"S=1/2,Site,n=60\"), (dim=8|id=746|\"Link,l=60\"), (dim=8|id=3|\"Link,l=59\"))\n",
       "[61] ((dim=2|id=128|\"S=1/2,Site,n=61\"), (dim=8|id=454|\"Link,l=61\"), (dim=8|id=746|\"Link,l=60\"))\n",
       "[62] ((dim=2|id=375|\"S=1/2,Site,n=62\"), (dim=8|id=964|\"Link,l=62\"), (dim=8|id=454|\"Link,l=61\"))\n",
       "[63] ((dim=2|id=618|\"S=1/2,Site,n=63\"), (dim=8|id=852|\"Link,l=63\"), (dim=8|id=964|\"Link,l=62\"))\n",
       "[64] ((dim=2|id=299|\"S=1/2,Site,n=64\"), (dim=8|id=203|\"Link,l=64\"), (dim=8|id=852|\"Link,l=63\"))\n",
       "[65] ((dim=2|id=948|\"S=1/2,Site,n=65\"), (dim=8|id=341|\"Link,l=65\"), (dim=8|id=203|\"Link,l=64\"))\n",
       "[66] ((dim=2|id=918|\"S=1/2,Site,n=66\"), (dim=8|id=679|\"Link,l=66\"), (dim=8|id=341|\"Link,l=65\"))\n",
       "[67] ((dim=2|id=86|\"S=1/2,Site,n=67\"), (dim=8|id=917|\"Link,l=67\"), (dim=8|id=679|\"Link,l=66\"))\n",
       "[68] ((dim=2|id=638|\"S=1/2,Site,n=68\"), (dim=8|id=735|\"Link,l=68\"), (dim=8|id=917|\"Link,l=67\"))\n",
       "[69] ((dim=2|id=588|\"S=1/2,Site,n=69\"), (dim=8|id=898|\"Link,l=69\"), (dim=8|id=735|\"Link,l=68\"))\n",
       "[70] ((dim=2|id=996|\"S=1/2,Site,n=70\"), (dim=8|id=669|\"Link,l=70\"), (dim=8|id=898|\"Link,l=69\"))\n",
       "[71] ((dim=2|id=634|\"S=1/2,Site,n=71\"), (dim=8|id=646|\"Link,l=71\"), (dim=8|id=669|\"Link,l=70\"))\n",
       "[72] ((dim=2|id=117|\"S=1/2,Site,n=72\"), (dim=8|id=691|\"Link,l=72\"), (dim=8|id=646|\"Link,l=71\"))\n",
       "[73] ((dim=2|id=60|\"S=1/2,Site,n=73\"), (dim=8|id=739|\"Link,l=73\"), (dim=8|id=691|\"Link,l=72\"))\n",
       "[74] ((dim=2|id=422|\"S=1/2,Site,n=74\"), (dim=8|id=483|\"Link,l=74\"), (dim=8|id=739|\"Link,l=73\"))\n",
       "[75] ((dim=2|id=503|\"S=1/2,Site,n=75\"), (dim=8|id=461|\"Link,l=75\"), (dim=8|id=483|\"Link,l=74\"))\n",
       "[76] ((dim=2|id=675|\"S=1/2,Site,n=76\"), (dim=8|id=208|\"Link,l=76\"), (dim=8|id=461|\"Link,l=75\"))\n",
       "[77] ((dim=2|id=725|\"S=1/2,Site,n=77\"), (dim=8|id=91|\"Link,l=77\"), (dim=8|id=208|\"Link,l=76\"))\n",
       "[78] ((dim=2|id=570|\"S=1/2,Site,n=78\"), (dim=8|id=499|\"Link,l=78\"), (dim=8|id=91|\"Link,l=77\"))\n",
       "[79] ((dim=2|id=791|\"S=1/2,Site,n=79\"), (dim=8|id=151|\"Link,l=79\"), (dim=8|id=499|\"Link,l=78\"))\n",
       "[80] ((dim=2|id=4|\"S=1/2,Site,n=80\"), (dim=8|id=877|\"Link,l=80\"), (dim=8|id=151|\"Link,l=79\"))\n",
       "[81] ((dim=2|id=972|\"S=1/2,Site,n=81\"), (dim=8|id=440|\"Link,l=81\"), (dim=8|id=877|\"Link,l=80\"))\n",
       "[82] ((dim=2|id=204|\"S=1/2,Site,n=82\"), (dim=8|id=447|\"Link,l=82\"), (dim=8|id=440|\"Link,l=81\"))\n",
       "[83] ((dim=2|id=410|\"S=1/2,Site,n=83\"), (dim=8|id=439|\"Link,l=83\"), (dim=8|id=447|\"Link,l=82\"))\n",
       "[84] ((dim=2|id=881|\"S=1/2,Site,n=84\"), (dim=8|id=218|\"Link,l=84\"), (dim=8|id=439|\"Link,l=83\"))\n",
       "[85] ((dim=2|id=135|\"S=1/2,Site,n=85\"), (dim=8|id=52|\"Link,l=85\"), (dim=8|id=218|\"Link,l=84\"))\n",
       "[86] ((dim=2|id=411|\"S=1/2,Site,n=86\"), (dim=8|id=40|\"Link,l=86\"), (dim=8|id=52|\"Link,l=85\"))\n",
       "[87] ((dim=2|id=761|\"S=1/2,Site,n=87\"), (dim=8|id=326|\"Link,l=87\"), (dim=8|id=40|\"Link,l=86\"))\n",
       "[88] ((dim=2|id=197|\"S=1/2,Site,n=88\"), (dim=8|id=442|\"Link,l=88\"), (dim=8|id=326|\"Link,l=87\"))\n",
       "[89] ((dim=2|id=274|\"S=1/2,Site,n=89\"), (dim=8|id=785|\"Link,l=89\"), (dim=8|id=442|\"Link,l=88\"))\n",
       "[90] ((dim=2|id=584|\"S=1/2,Site,n=90\"), (dim=8|id=325|\"Link,l=90\"), (dim=8|id=785|\"Link,l=89\"))\n",
       "[91] ((dim=2|id=397|\"S=1/2,Site,n=91\"), (dim=8|id=588|\"Link,l=91\"), (dim=8|id=325|\"Link,l=90\"))\n",
       "[92] ((dim=2|id=585|\"S=1/2,Site,n=92\"), (dim=8|id=430|\"Link,l=92\"), (dim=8|id=588|\"Link,l=91\"))\n",
       "[93] ((dim=2|id=781|\"S=1/2,Site,n=93\"), (dim=8|id=630|\"Link,l=93\"), (dim=8|id=430|\"Link,l=92\"))\n",
       "[94] ((dim=2|id=8|\"S=1/2,Site,n=94\"), (dim=8|id=560|\"Link,l=94\"), (dim=8|id=630|\"Link,l=93\"))\n",
       "[95] ((dim=2|id=812|\"S=1/2,Site,n=95\"), (dim=7|id=597|\"Link,l=95\"), (dim=8|id=560|\"Link,l=94\"))\n",
       "[96] ((dim=2|id=28|\"S=1/2,Site,n=96\"), (dim=6|id=70|\"Link,l=96\"), (dim=7|id=597|\"Link,l=95\"))\n",
       "[97] ((dim=2|id=721|\"S=1/2,Site,n=97\"), (dim=4|id=918|\"Link,l=97\"), (dim=6|id=70|\"Link,l=96\"))\n",
       "[98] ((dim=2|id=726|\"S=1/2,Site,n=98\"), (dim=3|id=683|\"Link,l=98\"), (dim=4|id=918|\"Link,l=97\"))\n",
       "[99] ((dim=2|id=368|\"S=1/2,Site,n=99\"), (dim=2|id=770|\"Link,l=99\"), (dim=3|id=683|\"Link,l=98\"))\n",
       "[100] ((dim=2|id=799|\"S=1/2,Site,n=100\"), (dim=2|id=770|\"Link,l=99\"))\n"
      ]
     },
     "metadata": {},
     "output_type": "display_data"
    }
   ],
   "source": [
    "W = GenerateSumState(ps; n_initial=4, maxdim=40, cutoff=1E-10, random_state=42)"
   ]
  },
  {
   "cell_type": "code",
   "execution_count": 78,
   "metadata": {},
   "outputs": [],
   "source": [
    "res = 1\n",
    "for i=1:100\n",
    "    res *= W[i] * ps[15].pstate[i]\n",
    "end"
   ]
  },
  {
   "cell_type": "code",
   "execution_count": 83,
   "metadata": {},
   "outputs": [
    {
     "data": {
      "text/plain": [
       "2-element Vector{Float64}:\n",
       " 0.0\n",
       " 0.0"
      ]
     },
     "metadata": {},
     "output_type": "display_data"
    }
   ],
   "source": [
    "vector(res)"
   ]
  },
  {
   "cell_type": "code",
   "execution_count": null,
   "metadata": {},
   "outputs": [],
   "source": []
  }
 ],
 "metadata": {
  "kernelspec": {
   "display_name": "Julia 1.9.2",
   "language": "julia",
   "name": "julia-1.9"
  },
  "language_info": {
   "file_extension": ".jl",
   "mimetype": "application/julia",
   "name": "julia",
   "version": "1.9.2"
  }
 },
 "nbformat": 4,
 "nbformat_minor": 2
}
