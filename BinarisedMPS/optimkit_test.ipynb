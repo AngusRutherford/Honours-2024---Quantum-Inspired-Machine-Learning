{
 "cells": [
  {
   "cell_type": "code",
   "execution_count": 3,
   "metadata": {},
   "outputs": [],
   "source": [
    "using ITensors\n",
    "using OptimKit\n",
    "using Random\n",
    "using Distributions"
   ]
  },
  {
   "cell_type": "markdown",
   "metadata": {},
   "source": [
    "# Small Scale OptimKit test"
   ]
  },
  {
   "cell_type": "markdown",
   "metadata": {},
   "source": [
    "Create mock data and MPS"
   ]
  },
  {
   "cell_type": "code",
   "execution_count": 4,
   "metadata": {},
   "outputs": [
    {
     "data": {
      "text/plain": [
       "10-element Vector{Index{Int64}}:\n",
       " (dim=2|id=251|\"S=1/2,Site,n=1\")\n",
       " (dim=2|id=970|\"S=1/2,Site,n=2\")\n",
       " (dim=2|id=974|\"S=1/2,Site,n=3\")\n",
       " (dim=2|id=507|\"S=1/2,Site,n=4\")\n",
       " (dim=2|id=519|\"S=1/2,Site,n=5\")\n",
       " (dim=2|id=620|\"S=1/2,Site,n=6\")\n",
       " (dim=2|id=591|\"S=1/2,Site,n=7\")\n",
       " (dim=2|id=677|\"S=1/2,Site,n=8\")\n",
       " (dim=2|id=440|\"S=1/2,Site,n=9\")\n",
       " (dim=2|id=348|\"S=1/2,Site,n=10\")"
      ]
     },
     "metadata": {},
     "output_type": "display_data"
    }
   ],
   "source": [
    "sites = siteinds(\"S=1/2\", 10)"
   ]
  },
  {
   "cell_type": "code",
   "execution_count": 5,
   "metadata": {},
   "outputs": [
    {
     "data": {
      "text/plain": [
       "MPS\n",
       "[1] ((dim=2|id=251|\"S=1/2,Site,n=1\"), (dim=2|id=306|\"Link,l=1\"))\n",
       "[2] ((dim=2|id=306|\"Link,l=1\"), (dim=2|id=970|\"S=1/2,Site,n=2\"), (dim=2|id=316|\"Link,l=2\"))\n",
       "[3] ((dim=2|id=316|\"Link,l=2\"), (dim=2|id=974|\"S=1/2,Site,n=3\"), (dim=2|id=972|\"Link,l=3\"))\n",
       "[4] ((dim=2|id=972|\"Link,l=3\"), (dim=2|id=507|\"S=1/2,Site,n=4\"), (dim=2|id=987|\"Link,l=4\"))\n",
       "[5] ((dim=2|id=987|\"Link,l=4\"), (dim=2|id=519|\"S=1/2,Site,n=5\"), (dim=2|id=60|\"Link,l=5\"))\n",
       "[6] ((dim=2|id=60|\"Link,l=5\"), (dim=2|id=620|\"S=1/2,Site,n=6\"), (dim=2|id=25|\"Link,l=6\"))\n",
       "[7] ((dim=2|id=25|\"Link,l=6\"), (dim=2|id=591|\"S=1/2,Site,n=7\"), (dim=2|id=206|\"Link,l=7\"))\n",
       "[8] ((dim=2|id=206|\"Link,l=7\"), (dim=2|id=677|\"S=1/2,Site,n=8\"), (dim=2|id=69|\"Link,l=8\"))\n",
       "[9] ((dim=2|id=69|\"Link,l=8\"), (dim=2|id=440|\"S=1/2,Site,n=9\"), (dim=2|id=839|\"Link,l=9\"))\n",
       "[10] ((dim=2|id=839|\"Link,l=9\"), (dim=2|id=348|\"S=1/2,Site,n=10\"))\n"
      ]
     },
     "metadata": {},
     "output_type": "display_data"
    }
   ],
   "source": [
    "ψ = randomMPS(sites; linkdims=2)"
   ]
  },
  {
   "cell_type": "code",
   "execution_count": 6,
   "metadata": {},
   "outputs": [],
   "source": [
    "train_data = rand([0, 1], 2, 10)\n",
    "train_labels = [0 ; 1];"
   ]
  },
  {
   "cell_type": "code",
   "execution_count": 7,
   "metadata": {},
   "outputs": [
    {
     "data": {
      "text/plain": [
       "encoder (generic function with 1 method)"
      ]
     },
     "metadata": {},
     "output_type": "display_data"
    }
   ],
   "source": [
    "function encoder(dat, sites)\n",
    "    ϕ = MPS(sites; linkdims=1)\n",
    "    for i=1:length(sites)\n",
    "        T = ITensor(sites[i])\n",
    "        T[(dat[i] +1)] = 1\n",
    "        ϕ[i] = T\n",
    "    end\n",
    "    return ϕ\n",
    "end"
   ]
  },
  {
   "cell_type": "code",
   "execution_count": 8,
   "metadata": {},
   "outputs": [],
   "source": [
    "ϕ1 = encoder(train_data[1, :], sites);\n",
    "ϕ2 = encoder(train_data[2, :], sites);"
   ]
  },
  {
   "cell_type": "markdown",
   "metadata": {},
   "source": [
    "Let's contract the product states with our random initial MPS to see what values we get..."
   ]
  },
  {
   "cell_type": "code",
   "execution_count": 9,
   "metadata": {},
   "outputs": [
    {
     "data": {
      "text/plain": [
       "0.014741835554575066"
      ]
     },
     "metadata": {},
     "output_type": "display_data"
    }
   ],
   "source": [
    "inner(ψ, ϕ1)"
   ]
  },
  {
   "cell_type": "code",
   "execution_count": 10,
   "metadata": {},
   "outputs": [
    {
     "data": {
      "text/plain": [
       "-0.007035887508537679"
      ]
     },
     "metadata": {},
     "output_type": "display_data"
    }
   ],
   "source": [
    "inner(ψ, ϕ2)"
   ]
  },
  {
   "cell_type": "markdown",
   "metadata": {},
   "source": [
    "Convert to probabilities"
   ]
  },
  {
   "cell_type": "code",
   "execution_count": 11,
   "metadata": {},
   "outputs": [
    {
     "data": {
      "text/plain": [
       "1.0000000000000002"
      ]
     },
     "metadata": {},
     "output_type": "display_data"
    }
   ],
   "source": [
    "Z = inner(ψ, ψ)"
   ]
  },
  {
   "cell_type": "code",
   "execution_count": 12,
   "metadata": {},
   "outputs": [
    {
     "data": {
      "text/plain": [
       "0.00021732171551813351"
      ]
     },
     "metadata": {},
     "output_type": "display_data"
    }
   ],
   "source": [
    "p1 = (abs(inner(ψ, ϕ1)))^2 / (Z) # label 0"
   ]
  },
  {
   "cell_type": "code",
   "execution_count": 13,
   "metadata": {},
   "outputs": [
    {
     "data": {
      "text/plain": [
       "4.950371303279654e-5"
      ]
     },
     "metadata": {},
     "output_type": "display_data"
    }
   ],
   "source": [
    "p2 = (abs(inner(ψ, ϕ2)))^2 / (Z) # label 1"
   ]
  },
  {
   "cell_type": "markdown",
   "metadata": {},
   "source": [
    "# Approach 2"
   ]
  },
  {
   "cell_type": "code",
   "execution_count": 14,
   "metadata": {},
   "outputs": [
    {
     "data": {
      "text/plain": [
       "MPS\n",
       "[1] ((dim=2|id=251|\"S=1/2,Site,n=1\"), (dim=2|id=306|\"Link,l=1\"))\n",
       "[2] ((dim=2|id=306|\"Link,l=1\"), (dim=2|id=970|\"S=1/2,Site,n=2\"), (dim=2|id=316|\"Link,l=2\"))\n",
       "[3] ((dim=2|id=316|\"Link,l=2\"), (dim=2|id=974|\"S=1/2,Site,n=3\"), (dim=2|id=972|\"Link,l=3\"))\n",
       "[4] ((dim=2|id=972|\"Link,l=3\"), (dim=2|id=507|\"S=1/2,Site,n=4\"), (dim=2|id=987|\"Link,l=4\"))\n",
       "[5] ((dim=2|id=987|\"Link,l=4\"), (dim=2|id=519|\"S=1/2,Site,n=5\"), (dim=2|id=60|\"Link,l=5\"))\n",
       "[6] ((dim=2|id=60|\"Link,l=5\"), (dim=2|id=620|\"S=1/2,Site,n=6\"), (dim=2|id=25|\"Link,l=6\"))\n",
       "[7] ((dim=2|id=25|\"Link,l=6\"), (dim=2|id=591|\"S=1/2,Site,n=7\"), (dim=2|id=206|\"Link,l=7\"))\n",
       "[8] ((dim=2|id=206|\"Link,l=7\"), (dim=2|id=677|\"S=1/2,Site,n=8\"), (dim=2|id=69|\"Link,l=8\"))\n",
       "[9] ((dim=2|id=69|\"Link,l=8\"), (dim=2|id=440|\"S=1/2,Site,n=9\"), (dim=2|id=839|\"Link,l=9\"))\n",
       "[10] ((dim=2|id=839|\"Link,l=9\"), (dim=2|id=348|\"S=1/2,Site,n=10\"))\n"
      ]
     },
     "metadata": {},
     "output_type": "display_data"
    }
   ],
   "source": [
    "ψ"
   ]
  },
  {
   "cell_type": "code",
   "execution_count": 15,
   "metadata": {},
   "outputs": [
    {
     "data": {
      "text/plain": [
       "(dim=2|id=100|\"f(x)\")"
      ]
     },
     "metadata": {},
     "output_type": "display_data"
    }
   ],
   "source": [
    "decision_index = Index(2, \"f(x)\")"
   ]
  },
  {
   "cell_type": "code",
   "execution_count": 16,
   "metadata": {},
   "outputs": [
    {
     "data": {
      "text/plain": [
       "(((dim=2|id=251|\"S=1/2,Site,n=1\"), (dim=2|id=306|\"Link,l=1\")), (dim=2|id=100|\"f(x)\"))"
      ]
     },
     "metadata": {},
     "output_type": "display_data"
    }
   ],
   "source": [
    "site_1_old_inds = inds(deepcopy(ψ[1]))\n",
    "site_1_new_inds = site_1_old_inds, decision_index"
   ]
  },
  {
   "cell_type": "code",
   "execution_count": 17,
   "metadata": {},
   "outputs": [
    {
     "data": {
      "text/plain": [
       "ITensor ord=3 (dim=2|id=251|\"S=1/2,Site,n=1\") (dim=2|id=306|\"Link,l=1\") (dim=2|id=100|\"f(x)\")\n",
       "NDTensors.Dense{Float64, Vector{Float64}}"
      ]
     },
     "metadata": {},
     "output_type": "display_data"
    }
   ],
   "source": [
    "new_tensor = randomITensor(site_1_new_inds)"
   ]
  },
  {
   "cell_type": "code",
   "execution_count": 18,
   "metadata": {},
   "outputs": [
    {
     "data": {
      "text/plain": [
       "MPS\n",
       "[1] ((dim=2|id=251|\"S=1/2,Site,n=1\"), (dim=2|id=306|\"Link,l=1\"))\n",
       "[2] ((dim=2|id=306|\"Link,l=1\"), (dim=2|id=970|\"S=1/2,Site,n=2\"), (dim=2|id=316|\"Link,l=2\"))\n",
       "[3] ((dim=2|id=316|\"Link,l=2\"), (dim=2|id=974|\"S=1/2,Site,n=3\"), (dim=2|id=972|\"Link,l=3\"))\n",
       "[4] ((dim=2|id=972|\"Link,l=3\"), (dim=2|id=507|\"S=1/2,Site,n=4\"), (dim=2|id=987|\"Link,l=4\"))\n",
       "[5] ((dim=2|id=987|\"Link,l=4\"), (dim=2|id=519|\"S=1/2,Site,n=5\"), (dim=2|id=60|\"Link,l=5\"))\n",
       "[6] ((dim=2|id=60|\"Link,l=5\"), (dim=2|id=620|\"S=1/2,Site,n=6\"), (dim=2|id=25|\"Link,l=6\"))\n",
       "[7] ((dim=2|id=25|\"Link,l=6\"), (dim=2|id=591|\"S=1/2,Site,n=7\"), (dim=2|id=206|\"Link,l=7\"))\n",
       "[8] ((dim=2|id=206|\"Link,l=7\"), (dim=2|id=677|\"S=1/2,Site,n=8\"), (dim=2|id=69|\"Link,l=8\"))\n",
       "[9] ((dim=2|id=69|\"Link,l=8\"), (dim=2|id=440|\"S=1/2,Site,n=9\"), (dim=2|id=839|\"Link,l=9\"))\n",
       "[10] ((dim=2|id=839|\"Link,l=9\"), (dim=2|id=348|\"S=1/2,Site,n=10\"))\n"
      ]
     },
     "metadata": {},
     "output_type": "display_data"
    }
   ],
   "source": [
    "W = deepcopy(ψ)"
   ]
  },
  {
   "cell_type": "code",
   "execution_count": 19,
   "metadata": {},
   "outputs": [
    {
     "data": {
      "text/plain": [
       "ITensor ord=3 (dim=2|id=251|\"S=1/2,Site,n=1\") (dim=2|id=306|\"Link,l=1\") (dim=2|id=100|\"f(x)\")\n",
       "NDTensors.Dense{Float64, Vector{Float64}}"
      ]
     },
     "metadata": {},
     "output_type": "display_data"
    }
   ],
   "source": [
    "W[1] = new_tensor"
   ]
  },
  {
   "cell_type": "code",
   "execution_count": 20,
   "metadata": {},
   "outputs": [
    {
     "data": {
      "text/plain": [
       "MPS\n",
       "[1] ((dim=2|id=251|\"S=1/2,Site,n=1\"), (dim=2|id=306|\"Link,l=1\"), (dim=2|id=100|\"f(x)\"))\n",
       "[2] ((dim=2|id=306|\"Link,l=1\"), (dim=2|id=970|\"S=1/2,Site,n=2\"), (dim=2|id=316|\"Link,l=2\"))\n",
       "[3] ((dim=2|id=316|\"Link,l=2\"), (dim=2|id=974|\"S=1/2,Site,n=3\"), (dim=2|id=972|\"Link,l=3\"))\n",
       "[4] ((dim=2|id=972|\"Link,l=3\"), (dim=2|id=507|\"S=1/2,Site,n=4\"), (dim=2|id=987|\"Link,l=4\"))\n",
       "[5] ((dim=2|id=987|\"Link,l=4\"), (dim=2|id=519|\"S=1/2,Site,n=5\"), (dim=2|id=60|\"Link,l=5\"))\n",
       "[6] ((dim=2|id=60|\"Link,l=5\"), (dim=2|id=620|\"S=1/2,Site,n=6\"), (dim=2|id=25|\"Link,l=6\"))\n",
       "[7] ((dim=2|id=25|\"Link,l=6\"), (dim=2|id=591|\"S=1/2,Site,n=7\"), (dim=2|id=206|\"Link,l=7\"))\n",
       "[8] ((dim=2|id=206|\"Link,l=7\"), (dim=2|id=677|\"S=1/2,Site,n=8\"), (dim=2|id=69|\"Link,l=8\"))\n",
       "[9] ((dim=2|id=69|\"Link,l=8\"), (dim=2|id=440|\"S=1/2,Site,n=9\"), (dim=2|id=839|\"Link,l=9\"))\n",
       "[10] ((dim=2|id=839|\"Link,l=9\"), (dim=2|id=348|\"S=1/2,Site,n=10\"))\n"
      ]
     },
     "metadata": {},
     "output_type": "display_data"
    }
   ],
   "source": [
    "normalize!(W)"
   ]
  },
  {
   "cell_type": "code",
   "execution_count": 21,
   "metadata": {},
   "outputs": [],
   "source": [
    "res1 = 1\n",
    "for i=1:10\n",
    "    res1 *= W[i] * ϕ1[i]\n",
    "end"
   ]
  },
  {
   "cell_type": "code",
   "execution_count": 22,
   "metadata": {},
   "outputs": [
    {
     "data": {
      "text/plain": [
       "0.000150392604173485"
      ]
     },
     "metadata": {},
     "output_type": "display_data"
    }
   ],
   "source": [
    "inner(res1, res1)"
   ]
  },
  {
   "cell_type": "code",
   "execution_count": 23,
   "metadata": {},
   "outputs": [
    {
     "data": {
      "text/plain": [
       "OutputToProb (generic function with 1 method)"
      ]
     },
     "metadata": {},
     "output_type": "display_data"
    }
   ],
   "source": [
    "function OutputToProb(yhat::ITensor)\n",
    "    norm = inner(yhat, yhat)\n",
    "    return [yhat[i]^2/norm for i=1:ITensors.dim(yhat)]\n",
    "end"
   ]
  },
  {
   "cell_type": "code",
   "execution_count": 24,
   "metadata": {},
   "outputs": [
    {
     "data": {
      "text/plain": [
       "2-element Vector{Float64}:\n",
       " 0.16494342215654556\n",
       " 0.8350565778434544"
      ]
     },
     "metadata": {},
     "output_type": "display_data"
    }
   ],
   "source": [
    "yhat = OutputToProb(res1)"
   ]
  },
  {
   "cell_type": "markdown",
   "metadata": {},
   "source": [
    "Now let's say the true class is class 0, then we take the first element"
   ]
  },
  {
   "cell_type": "code",
   "execution_count": 25,
   "metadata": {},
   "outputs": [
    {
     "data": {
      "text/plain": [
       "1.8021527599047755"
      ]
     },
     "metadata": {},
     "output_type": "display_data"
    }
   ],
   "source": [
    "y = [1; 0] # true prob. distribution\n",
    "prob = dot(y', yhat)\n",
    "NLL = -log(prob)"
   ]
  },
  {
   "cell_type": "markdown",
   "metadata": {},
   "source": [
    "# Make a bond tensor"
   ]
  },
  {
   "cell_type": "code",
   "execution_count": 26,
   "metadata": {},
   "outputs": [
    {
     "data": {
      "text/plain": [
       "ITensor ord=4 (dim=2|id=251|\"S=1/2,Site,n=1\") (dim=2|id=100|\"f(x)\") (dim=2|id=970|\"S=1/2,Site,n=2\") (dim=2|id=316|\"Link,l=2\")\n",
       "NDTensors.Dense{Float64, Vector{Float64}}"
      ]
     },
     "metadata": {},
     "output_type": "display_data"
    }
   ],
   "source": [
    "BT = W[1] * W[2]"
   ]
  },
  {
   "cell_type": "markdown",
   "metadata": {},
   "source": [
    "Compute phi tilde:"
   ]
  },
  {
   "cell_type": "code",
   "execution_count": 27,
   "metadata": {},
   "outputs": [],
   "source": [
    "RE = 1\n",
    "for i=3:length(W)\n",
    "    RE *= ϕ1[i] * W[i]\n",
    "end"
   ]
  },
  {
   "cell_type": "code",
   "execution_count": 28,
   "metadata": {},
   "outputs": [
    {
     "data": {
      "text/plain": [
       "ITensor ord=1 (dim=2|id=316|\"Link,l=2\")\n",
       "NDTensors.Dense{Float64, Vector{Float64}}"
      ]
     },
     "metadata": {},
     "output_type": "display_data"
    }
   ],
   "source": [
    "RE"
   ]
  },
  {
   "cell_type": "code",
   "execution_count": 29,
   "metadata": {},
   "outputs": [
    {
     "data": {
      "text/plain": [
       "ITensor ord=3 (dim=2|id=251|\"S=1/2,Site,n=1\") (dim=2|id=970|\"S=1/2,Site,n=2\") (dim=2|id=316|\"Link,l=2\")\n",
       "NDTensors.Dense{Float64, Vector{Float64}}"
      ]
     },
     "metadata": {},
     "output_type": "display_data"
    }
   ],
   "source": [
    "phi_tilde = ϕ1[1] * ϕ1[2] * RE"
   ]
  },
  {
   "cell_type": "code",
   "execution_count": 30,
   "metadata": {},
   "outputs": [
    {
     "data": {
      "text/plain": [
       "ITensor ord=3 (dim=2|id=251|\"S=1/2,Site,n=1\") (dim=2|id=970|\"S=1/2,Site,n=2\") (dim=2|id=316|\"Link,l=2\")\n",
       "NDTensors.Dense{Float64, Vector{Float64}}"
      ]
     },
     "metadata": {},
     "output_type": "display_data"
    }
   ],
   "source": [
    "d_yhat_dW = phi_tilde"
   ]
  },
  {
   "cell_type": "code",
   "execution_count": 31,
   "metadata": {},
   "outputs": [
    {
     "data": {
      "text/plain": [
       "ITensor ord=1 (dim=2|id=100|\"f(x)\")\n",
       "NDTensors.Dense{Float64, Vector{Float64}}"
      ]
     },
     "metadata": {},
     "output_type": "display_data"
    }
   ],
   "source": [
    "yhat = BT * d_yhat_dW"
   ]
  },
  {
   "cell_type": "code",
   "execution_count": 32,
   "metadata": {},
   "outputs": [
    {
     "data": {
      "text/plain": [
       "ITensor ord=1 (dim=2|id=100|\"f(x)\")\n",
       "NDTensors.Dense{Float64, Vector{Float64}}"
      ]
     },
     "metadata": {},
     "output_type": "display_data"
    }
   ],
   "source": [
    "y = onehot(decision_index => 1)"
   ]
  },
  {
   "cell_type": "code",
   "execution_count": 33,
   "metadata": {},
   "outputs": [
    {
     "data": {
      "text/plain": [
       "0.00015039260417348496"
      ]
     },
     "metadata": {},
     "output_type": "display_data"
    }
   ],
   "source": [
    "y_yhat = (y * yhat)[]\n",
    "yhat_yhat = (yhat * yhat)[]"
   ]
  },
  {
   "cell_type": "code",
   "execution_count": 41,
   "metadata": {},
   "outputs": [
    {
     "data": {
      "text/plain": [
       "ITensor ord=4 (dim=2|id=100|\"f(x)\") (dim=2|id=251|\"S=1/2,Site,n=1\") (dim=2|id=970|\"S=1/2,Site,n=2\") (dim=2|id=316|\"Link,l=2\")\n",
       "NDTensors.Dense{Float64, Vector{Float64}}"
      ]
     },
     "metadata": {},
     "output_type": "display_data"
    }
   ],
   "source": [
    "p1 = y_yhat * (y * d_yhat_dW)\n",
    "p1 ./= yhat_yhat"
   ]
  },
  {
   "cell_type": "code",
   "execution_count": 42,
   "metadata": {},
   "outputs": [
    {
     "data": {
      "text/plain": [
       "ITensor ord=4 (dim=2|id=100|\"f(x)\") (dim=2|id=251|\"S=1/2,Site,n=1\") (dim=2|id=970|\"S=1/2,Site,n=2\") (dim=2|id=316|\"Link,l=2\")\n",
       "NDTensors.Dense{Float64, Vector{Float64}}"
      ]
     },
     "metadata": {},
     "output_type": "display_data"
    }
   ],
   "source": [
    "p2 = y_yhat^2 * (yhat * d_yhat_dW)\n",
    "p2 ./= (yhat_yhat)^2"
   ]
  },
  {
   "cell_type": "code",
   "execution_count": 44,
   "metadata": {},
   "outputs": [
    {
     "data": {
      "text/plain": [
       "0.16494342215654562"
      ]
     },
     "metadata": {},
     "output_type": "display_data"
    }
   ],
   "source": [
    "p = y_yhat^2 / yhat_yhat"
   ]
  },
  {
   "cell_type": "code",
   "execution_count": 45,
   "metadata": {},
   "outputs": [
    {
     "data": {
      "text/plain": [
       "ITensor ord=4 (dim=2|id=100|\"f(x)\") (dim=2|id=251|\"S=1/2,Site,n=1\") (dim=2|id=970|\"S=1/2,Site,n=2\") (dim=2|id=316|\"Link,l=2\")\n",
       "NDTensors.Dense{Float64, Vector{Float64}}"
      ]
     },
     "metadata": {},
     "output_type": "display_data"
    }
   ],
   "source": [
    "grad = -2 * (p1 - p2) ./ p"
   ]
  },
  {
   "cell_type": "code",
   "execution_count": 50,
   "metadata": {},
   "outputs": [
    {
     "data": {
      "text/plain": [
       "ITensor ord=4 (dim=2|id=251|\"S=1/2,Site,n=1\") (dim=2|id=100|\"f(x)\") (dim=2|id=970|\"S=1/2,Site,n=2\") (dim=2|id=316|\"Link,l=2\")\n",
       "NDTensors.Dense{Float64, Vector{Float64}}"
      ]
     },
     "metadata": {},
     "output_type": "display_data"
    }
   ],
   "source": [
    "BT_new = BT + 0.8 * grad"
   ]
  },
  {
   "cell_type": "code",
   "execution_count": 54,
   "metadata": {},
   "outputs": [
    {
     "data": {
      "text/plain": [
       "ITensor ord=1 (dim=2|id=100|\"f(x)\")\n",
       "NDTensors.Dense{Float64, Vector{Float64}}"
      ]
     },
     "metadata": {},
     "output_type": "display_data"
    }
   ],
   "source": [
    "new_yhat = BT_new * RE * ϕ1[1] * ϕ1[2]"
   ]
  },
  {
   "cell_type": "code",
   "execution_count": 57,
   "metadata": {},
   "outputs": [
    {
     "data": {
      "text/plain": [
       "ITensor ord=1 (dim=2|id=100|\"f(x)\")\n",
       "NDTensors.Dense{Float64, Vector{Float64}}"
      ]
     },
     "metadata": {},
     "output_type": "display_data"
    }
   ],
   "source": [
    "old_yhat = BT *  RE * ϕ1[1] * ϕ1[2]"
   ]
  },
  {
   "cell_type": "code",
   "execution_count": 67,
   "metadata": {},
   "outputs": [
    {
     "data": {
      "text/plain": [
       "ComputeGradient (generic function with 2 methods)"
      ]
     },
     "metadata": {},
     "output_type": "display_data"
    }
   ],
   "source": [
    "function ComputeGradient(BT_old, lid, rid, ϕ, y)\n",
    "    \"\"\"Function that computes a gradient of the NLL w.r.t. a bond tensor\"\"\"\n",
    "    LE = 1\n",
    "    RE = 1\n",
    "    for i=1:(lid-1)\n",
    "        LE *= W[i] * ϕ[i]\n",
    "    end\n",
    "    for i=(rid+1):length(W)\n",
    "        RE *= W[i] * ϕ[i]\n",
    "    end\n",
    "    yhat = BT_old * ϕ[lid] * ϕ[rid] * LE * RE\n",
    "    \n",
    "    d_yhat_dW = ϕ[lid] * ϕ[rid] * LE * RE\n",
    "    label_idx = inds(BT_old, \"f(x)\")[1]\n",
    "    y = onehot(label_idx => y)\n",
    "end"
   ]
  },
  {
   "cell_type": "code",
   "execution_count": 61,
   "metadata": {},
   "outputs": [
    {
     "data": {
      "text/plain": [
       "ITensor ord=4 (dim=2|id=251|\"S=1/2,Site,n=1\") (dim=2|id=100|\"f(x)\") (dim=2|id=970|\"S=1/2,Site,n=2\") (dim=2|id=316|\"Link,l=2\")\n",
       "NDTensors.Dense{Float64, Vector{Float64}}"
      ]
     },
     "metadata": {},
     "output_type": "display_data"
    }
   ],
   "source": [
    "BT_old = W[1] * W[2]"
   ]
  },
  {
   "cell_type": "code",
   "execution_count": 66,
   "metadata": {},
   "outputs": [
    {
     "data": {
      "text/plain": [
       "(dim=2|id=100|\"f(x)\")"
      ]
     },
     "metadata": {},
     "output_type": "display_data"
    }
   ],
   "source": [
    "inds(BT_old, \"f(x)\")[1]"
   ]
  },
  {
   "cell_type": "code",
   "execution_count": null,
   "metadata": {},
   "outputs": [],
   "source": []
  }
 ],
 "metadata": {
  "kernelspec": {
   "display_name": "Julia 1.9.2",
   "language": "julia",
   "name": "julia-1.9"
  },
  "language_info": {
   "file_extension": ".jl",
   "mimetype": "application/julia",
   "name": "julia",
   "version": "1.9.2"
  }
 },
 "nbformat": 4,
 "nbformat_minor": 2
}
