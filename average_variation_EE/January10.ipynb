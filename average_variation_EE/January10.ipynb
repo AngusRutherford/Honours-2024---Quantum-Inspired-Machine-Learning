{
 "cells": [
  {
   "cell_type": "code",
   "execution_count": 3,
   "metadata": {},
   "outputs": [
    {
     "data": {
      "text/plain": [
       "InspectOverlap (generic function with 2 methods)"
      ]
     },
     "metadata": {},
     "output_type": "display_data"
    }
   ],
   "source": [
    "using ITensors\n",
    "using Distributions\n",
    "using HDF5\n",
    "using Random\n",
    "using Plots\n",
    "using Plots.PlotMeasures\n",
    "using MLDataUtils, StatsBase\n",
    "using DelimitedFiles\n",
    "include(\"../SweepOptRegular.jl\")"
   ]
  },
  {
   "cell_type": "code",
   "execution_count": 4,
   "metadata": {},
   "outputs": [],
   "source": [
    "ecg_dat = readdlm(\"../ECG200_TRAIN.txt\")\n",
    "X_train = ecg_dat[:, 2:end]\n",
    "y_train = Int.(ecg_dat[:, 1])\n",
    "remap = Dict(-1 => 0, 1 => 1)\n",
    "y_train = [remap[label] for label in y_train];\n",
    "y_train = reshape(y_train, length(y_train), 1);"
   ]
  },
  {
   "cell_type": "code",
   "execution_count": 5,
   "metadata": {},
   "outputs": [],
   "source": [
    "ecg_dat_test = readdlm(\"../ECG200_TEST.txt\")\n",
    "X_test = ecg_dat_test[:, 2:end]\n",
    "y_test = Int.(ecg_dat_test[:, 1])\n",
    "y_test = [remap[label] for label in y_test]\n",
    "y_test = reshape(y_test, length(y_test), 1);"
   ]
  },
  {
   "cell_type": "code",
   "execution_count": 6,
   "metadata": {},
   "outputs": [],
   "source": [
    "struct RobustSigmoidTransform{T<:Real} <: AbstractDataTransform\n",
    "    median::T\n",
    "    iqr::T\n",
    "    k::T\n",
    "    positive::Bool\n",
    "\n",
    "    function RobustSigmoidTransform(median::T, iqr::T, k::T, positive=true) where T<:Real\n",
    "        new{T}(median, iqr, k, positive)\n",
    "    end\n",
    "end\n",
    "\n",
    "function robust_sigmoid(x::Real, median::Real, iqr::Real, k::Real, positive::Bool)\n",
    "    xhat = 1.0 / (1.0 + exp(-(x - median) / (iqr / k)))\n",
    "    if !positive\n",
    "        xhat = 2*xhat - 1\n",
    "    end\n",
    "    return xhat\n",
    "end\n",
    "\n",
    "function fitScaler(::Type{RobustSigmoidTransform}, X::Matrix; k::Real=1.35, positive::Bool=true)\n",
    "    medianX = median(X)\n",
    "    iqrX = iqr(X)\n",
    "    return RobustSigmoidTransform(medianX, iqrX, k, positive)\n",
    "end\n",
    "\n",
    "function transformData(t::RobustSigmoidTransform, X::Matrix)\n",
    "    return map(x -> robust_sigmoid(x, t.median, t.iqr, t.k, t.positive), X)\n",
    "end\n",
    "\n",
    "# New SigmoidTransform\n",
    "struct SigmoidTransform <: AbstractDataTransform\n",
    "    positive::Bool\n",
    "end\n",
    "\n",
    "function sigmoid(x::Real, positive::Bool)\n",
    "    xhat = 1.0 / (1.0 + exp(-x))\n",
    "    if !positive\n",
    "        xhat = 2*xhat - 1\n",
    "    end\n",
    "    return xhat\n",
    "end\n",
    "\n",
    "function fitScaler(::Type{SigmoidTransform}, X::Matrix; positive::Bool=true)\n",
    "    return SigmoidTransform(positive)\n",
    "end\n",
    "\n",
    "function transformData(t::SigmoidTransform, X::Matrix)\n",
    "    return map(x -> sigmoid(x, t.positive), X)\n",
    "end;"
   ]
  },
  {
   "cell_type": "code",
   "execution_count": 7,
   "metadata": {},
   "outputs": [],
   "source": [
    "rst = fitScaler(RobustSigmoidTransform, X_train; positive=true)\n",
    "X_train_normalised = transformData(rst, X_train)\n",
    "X_test_normalised = transformData(rst, X_test);"
   ]
  },
  {
   "cell_type": "code",
   "execution_count": 8,
   "metadata": {},
   "outputs": [
    {
     "name": "stdout",
     "output_type": "stream",
     "text": [
      "Initialising training states.\n"
     ]
    },
    {
     "name": "stdout",
     "output_type": "stream",
     "text": [
      "Parameters: \n",
      "Feature map: AngleEncoder\n",
      "Initial bond dimension χ_init: 2\n",
      "Step size α: 0.01\n",
      "Maximum number of sweeps: 10\n",
      "Maximum bond dimension χ_max: 15\n",
      "Generating initial weight MPS with bond dimension χ = 2 using random seed 42."
     ]
    },
    {
     "name": "stdout",
     "output_type": "stream",
     "text": [
      "\n",
      "Forward Sweep L -> R (1/10)"
     ]
    },
    {
     "name": "stdout",
     "output_type": "stream",
     "text": [
      "\n"
     ]
    },
    {
     "name": "stdout",
     "output_type": "stream",
     "text": [
      "Backward Sweep R -> L (1/10)\n"
     ]
    },
    {
     "name": "stdout",
     "output_type": "stream",
     "text": [
      "Training loss after Sweep 1: 0.320677773782609 | Training Acc: 0.8\n",
      "ΔC train after sweep 1: 0.17932222621739102\n",
      "Forward Sweep L -> R (2/10)\n"
     ]
    },
    {
     "name": "stdout",
     "output_type": "stream",
     "text": [
      "Backward Sweep R -> L (2/10)\n"
     ]
    },
    {
     "name": "stdout",
     "output_type": "stream",
     "text": [
      "Training loss after Sweep 2: 0.3296311680303685 | Training Acc: 0.94\n",
      "ΔC train after sweep 2: -0.008953394247759539\n",
      "Forward Sweep L -> R (3/10)\n"
     ]
    },
    {
     "name": "stdout",
     "output_type": "stream",
     "text": [
      "Backward Sweep R -> L (3/10)\n"
     ]
    },
    {
     "name": "stdout",
     "output_type": "stream",
     "text": [
      "Training loss after Sweep 3: 0.3346101463002775 | Training Acc: 0.97\n",
      "ΔC train after sweep 3: -0.004978978269909007\n",
      "Forward Sweep L -> R (4/10)\n"
     ]
    },
    {
     "name": "stdout",
     "output_type": "stream",
     "text": [
      "Backward Sweep R -> L (4/10)\n"
     ]
    },
    {
     "name": "stdout",
     "output_type": "stream",
     "text": [
      "Training loss after Sweep 4: 0.33489661504470014 | Training Acc: 0.97\n",
      "ΔC train after sweep 4: -0.0002864687444226188\n",
      "Forward Sweep L -> R (5/10)\n"
     ]
    },
    {
     "name": "stdout",
     "output_type": "stream",
     "text": [
      "Backward Sweep R -> L (5/10)\n"
     ]
    },
    {
     "name": "stdout",
     "output_type": "stream",
     "text": [
      "Training loss after Sweep 5: 0.3339029217267293 | Training Acc: 0.97\n",
      "ΔC train after sweep 5: 0.000993693317970834\n",
      "Forward Sweep L -> R (6/10)\n"
     ]
    },
    {
     "name": "stdout",
     "output_type": "stream",
     "text": [
      "Backward Sweep R -> L (6/10)\n"
     ]
    },
    {
     "name": "stdout",
     "output_type": "stream",
     "text": [
      "Training loss after Sweep 6: 0.3330098779953289 | Training Acc: 0.98\n",
      "ΔC train after sweep 6: 0.0008930437314004225\n",
      "Forward Sweep L -> R (7/10)\n"
     ]
    },
    {
     "name": "stdout",
     "output_type": "stream",
     "text": [
      "Backward Sweep R -> L (7/10)\n"
     ]
    },
    {
     "name": "stdout",
     "output_type": "stream",
     "text": [
      "Training loss after Sweep 7: 0.3322407166400918 | Training Acc: 0.98\n",
      "ΔC train after sweep 7: 0.0007691613552370802\n",
      "Forward Sweep L -> R (8/10)\n"
     ]
    },
    {
     "name": "stdout",
     "output_type": "stream",
     "text": [
      "Backward Sweep R -> L (8/10)\n"
     ]
    },
    {
     "name": "stdout",
     "output_type": "stream",
     "text": [
      "Training loss after Sweep 8: 0.3315831808704888 | Training Acc: 0.98\n",
      "ΔC train after sweep 8: 0.0006575357696029793\n",
      "Forward Sweep L -> R (9/10)\n"
     ]
    },
    {
     "name": "stdout",
     "output_type": "stream",
     "text": [
      "Backward Sweep R -> L (9/10)\n"
     ]
    },
    {
     "name": "stdout",
     "output_type": "stream",
     "text": [
      "Training loss after Sweep 9: 0.33101289985346616 | Training Acc: 0.98\n",
      "ΔC train after sweep 9: 0.0005702810170226669\n",
      "Forward Sweep L -> R (10/10)\n"
     ]
    },
    {
     "name": "stdout",
     "output_type": "stream",
     "text": [
      "Backward Sweep R -> L (10/10)\n"
     ]
    },
    {
     "name": "stdout",
     "output_type": "stream",
     "text": [
      "Training loss after Sweep 10: 0.3305346636499325 | Training Acc: 0.98\n",
      "ΔC train after sweep 10: 0.00047823620353365515\n"
     ]
    },
    {
     "data": {
      "text/plain": [
       "(MPS\n",
       "[1] ((dim=2|id=45|\"S=1/2,Site,n=1\"), (dim=2|id=637|\"decision\"), (dim=4|id=356|\"Link,l=1\"))\n",
       "[2] ((dim=2|id=382|\"S=1/2,Site,n=2\"), (dim=8|id=811|\"Link,l=2\"), (dim=4|id=356|\"Link,l=1\"))\n",
       "[3] ((dim=2|id=724|\"S=1/2,Site,n=3\"), (dim=15|id=205|\"Link,l=3\"), (dim=8|id=811|\"Link,l=2\"))\n",
       "[4] ((dim=2|id=935|\"S=1/2,Site,n=4\"), (dim=15|id=967|\"Link,l=4\"), (dim=15|id=205|\"Link,l=3\"))\n",
       "[5] ((dim=2|id=505|\"S=1/2,Site,n=5\"), (dim=15|id=80|\"Link,l=5\"), (dim=15|id=967|\"Link,l=4\"))\n",
       "[6] ((dim=2|id=599|\"S=1/2,Site,n=6\"), (dim=15|id=233|\"Link,l=6\"), (dim=15|id=80|\"Link,l=5\"))\n",
       "[7] ((dim=2|id=165|\"S=1/2,Site,n=7\"), (dim=15|id=221|\"Link,l=7\"), (dim=15|id=233|\"Link,l=6\"))\n",
       "[8] ((dim=2|id=628|\"S=1/2,Site,n=8\"), (dim=15|id=135|\"Link,l=8\"), (dim=15|id=221|\"Link,l=7\"))\n",
       "[9] ((dim=2|id=673|\"S=1/2,Site,n=9\"), (dim=15|id=177|\"Link,l=9\"), (dim=15|id=135|\"Link,l=8\"))\n",
       "[10] ((dim=2|id=800|\"S=1/2,Site,n=10\"), (dim=15|id=49|\"Link,l=10\"), (dim=15|id=177|\"Link,l=9\"))\n",
       "[11] ((dim=2|id=81|\"S=1/2,Site,n=11\"), (dim=15|id=997|\"Link,l=11\"), (dim=15|id=49|\"Link,l=10\"))\n",
       "[12] ((dim=2|id=941|\"S=1/2,Site,n=12\"), (dim=15|id=949|\"Link,l=12\"), (dim=15|id=997|\"Link,l=11\"))\n",
       "[13] ((dim=2|id=509|\"S=1/2,Site,n=13\"), (dim=15|id=760|\"Link,l=13\"), (dim=15|id=949|\"Link,l=12\"))\n",
       "[14] ((dim=2|id=739|\"S=1/2,Site,n=14\"), (dim=15|id=181|\"Link,l=14\"), (dim=15|id=760|\"Link,l=13\"))\n",
       "[15] ((dim=2|id=757|\"S=1/2,Site,n=15\"), (dim=15|id=215|\"Link,l=15\"), (dim=15|id=181|\"Link,l=14\"))\n",
       "[16] ((dim=2|id=410|\"S=1/2,Site,n=16\"), (dim=15|id=818|\"Link,l=16\"), (dim=15|id=215|\"Link,l=15\"))\n",
       "[17] ((dim=2|id=368|\"S=1/2,Site,n=17\"), (dim=15|id=253|\"Link,l=17\"), (dim=15|id=818|\"Link,l=16\"))\n",
       "[18] ((dim=2|id=186|\"S=1/2,Site,n=18\"), (dim=15|id=166|\"Link,l=18\"), (dim=15|id=253|\"Link,l=17\"))\n",
       "[19] ((dim=2|id=225|\"S=1/2,Site,n=19\"), (dim=15|id=263|\"Link,l=19\"), (dim=15|id=166|\"Link,l=18\"))\n",
       "[20] ((dim=2|id=317|\"S=1/2,Site,n=20\"), (dim=15|id=249|\"Link,l=20\"), (dim=15|id=263|\"Link,l=19\"))\n",
       "[21] ((dim=2|id=542|\"S=1/2,Site,n=21\"), (dim=15|id=51|\"Link,l=21\"), (dim=15|id=249|\"Link,l=20\"))\n",
       "[22] ((dim=2|id=868|\"S=1/2,Site,n=22\"), (dim=15|id=802|\"Link,l=22\"), (dim=15|id=51|\"Link,l=21\"))\n",
       "[23] ((dim=2|id=822|\"S=1/2,Site,n=23\"), (dim=15|id=726|\"Link,l=23\"), (dim=15|id=802|\"Link,l=22\"))\n",
       "[24] ((dim=2|id=620|\"S=1/2,Site,n=24\"), (dim=15|id=43|\"Link,l=24\"), (dim=15|id=726|\"Link,l=23\"))\n",
       "[25] ((dim=2|id=177|\"S=1/2,Site,n=25\"), (dim=15|id=454|\"Link,l=25\"), (dim=15|id=43|\"Link,l=24\"))\n",
       "[26] ((dim=2|id=599|\"S=1/2,Site,n=26\"), (dim=15|id=761|\"Link,l=26\"), (dim=15|id=454|\"Link,l=25\"))\n",
       "[27] ((dim=2|id=56|\"S=1/2,Site,n=27\"), (dim=15|id=910|\"Link,l=27\"), (dim=15|id=761|\"Link,l=26\"))\n",
       "[28] ((dim=2|id=970|\"S=1/2,Site,n=28\"), (dim=15|id=966|\"Link,l=28\"), (dim=15|id=910|\"Link,l=27\"))\n",
       "[29] ((dim=2|id=537|\"S=1/2,Site,n=29\"), (dim=15|id=991|\"Link,l=29\"), (dim=15|id=966|\"Link,l=28\"))\n",
       "[30] ((dim=2|id=726|\"S=1/2,Site,n=30\"), (dim=15|id=721|\"Link,l=30\"), (dim=15|id=991|\"Link,l=29\"))\n",
       "[31] ((dim=2|id=685|\"S=1/2,Site,n=31\"), (dim=15|id=61|\"Link,l=31\"), (dim=15|id=721|\"Link,l=30\"))\n",
       "[32] ((dim=2|id=331|\"S=1/2,Site,n=32\"), (dim=15|id=453|\"Link,l=32\"), (dim=15|id=61|\"Link,l=31\"))\n",
       "[33] ((dim=2|id=83|\"S=1/2,Site,n=33\"), (dim=15|id=793|\"Link,l=33\"), (dim=15|id=453|\"Link,l=32\"))\n",
       "[34] ((dim=2|id=77|\"S=1/2,Site,n=34\"), (dim=15|id=499|\"Link,l=34\"), (dim=15|id=793|\"Link,l=33\"))\n",
       "[35] ((dim=2|id=886|\"S=1/2,Site,n=35\"), (dim=15|id=156|\"Link,l=35\"), (dim=15|id=499|\"Link,l=34\"))\n",
       "[36] ((dim=2|id=42|\"S=1/2,Site,n=36\"), (dim=15|id=717|\"Link,l=36\"), (dim=15|id=156|\"Link,l=35\"))\n",
       "[37] ((dim=2|id=269|\"S=1/2,Site,n=37\"), (dim=15|id=62|\"Link,l=37\"), (dim=15|id=717|\"Link,l=36\"))\n",
       "[38] ((dim=2|id=678|\"S=1/2,Site,n=38\"), (dim=15|id=445|\"Link,l=38\"), (dim=15|id=62|\"Link,l=37\"))\n",
       "[39] ((dim=2|id=844|\"S=1/2,Site,n=39\"), (dim=15|id=991|\"Link,l=39\"), (dim=15|id=445|\"Link,l=38\"))\n",
       "[40] ((dim=2|id=572|\"S=1/2,Site,n=40\"), (dim=15|id=250|\"Link,l=40\"), (dim=15|id=991|\"Link,l=39\"))\n",
       "[41] ((dim=2|id=723|\"S=1/2,Site,n=41\"), (dim=15|id=491|\"Link,l=41\"), (dim=15|id=250|\"Link,l=40\"))\n",
       "[42] ((dim=2|id=581|\"S=1/2,Site,n=42\"), (dim=15|id=723|\"Link,l=42\"), (dim=15|id=491|\"Link,l=41\"))\n",
       "[43] ((dim=2|id=732|\"S=1/2,Site,n=43\"), (dim=15|id=630|\"Link,l=43\"), (dim=15|id=723|\"Link,l=42\"))\n",
       "[44] ((dim=2|id=376|\"S=1/2,Site,n=44\"), (dim=15|id=764|\"Link,l=44\"), (dim=15|id=630|\"Link,l=43\"))\n",
       "[45] ((dim=2|id=909|\"S=1/2,Site,n=45\"), (dim=15|id=312|\"Link,l=45\"), (dim=15|id=764|\"Link,l=44\"))\n",
       "[46] ((dim=2|id=229|\"S=1/2,Site,n=46\"), (dim=15|id=764|\"Link,l=46\"), (dim=15|id=312|\"Link,l=45\"))\n",
       "[47] ((dim=2|id=527|\"S=1/2,Site,n=47\"), (dim=15|id=566|\"Link,l=47\"), (dim=15|id=764|\"Link,l=46\"))\n",
       "[48] ((dim=2|id=602|\"S=1/2,Site,n=48\"), (dim=15|id=213|\"Link,l=48\"), (dim=15|id=566|\"Link,l=47\"))\n",
       "[49] ((dim=2|id=649|\"S=1/2,Site,n=49\"), (dim=15|id=590|\"Link,l=49\"), (dim=15|id=213|\"Link,l=48\"))\n",
       "[50] ((dim=2|id=800|\"S=1/2,Site,n=50\"), (dim=15|id=531|\"Link,l=50\"), (dim=15|id=590|\"Link,l=49\"))\n",
       "[51] ((dim=2|id=359|\"S=1/2,Site,n=51\"), (dim=15|id=567|\"Link,l=51\"), (dim=15|id=531|\"Link,l=50\"))\n",
       "[52] ((dim=2|id=355|\"S=1/2,Site,n=52\"), (dim=15|id=654|\"Link,l=52\"), (dim=15|id=567|\"Link,l=51\"))\n",
       "[53] ((dim=2|id=608|\"S=1/2,Site,n=53\"), (dim=15|id=284|\"Link,l=53\"), (dim=15|id=654|\"Link,l=52\"))\n",
       "[54] ((dim=2|id=199|\"S=1/2,Site,n=54\"), (dim=15|id=483|\"Link,l=54\"), (dim=15|id=284|\"Link,l=53\"))\n",
       "[55] ((dim=2|id=11|\"S=1/2,Site,n=55\"), (dim=15|id=349|\"Link,l=55\"), (dim=15|id=483|\"Link,l=54\"))\n",
       "[56] ((dim=2|id=793|\"S=1/2,Site,n=56\"), (dim=15|id=744|\"Link,l=56\"), (dim=15|id=349|\"Link,l=55\"))\n",
       "[57] ((dim=2|id=790|\"S=1/2,Site,n=57\"), (dim=15|id=595|\"Link,l=57\"), (dim=15|id=744|\"Link,l=56\"))\n",
       "[58] ((dim=2|id=30|\"S=1/2,Site,n=58\"), (dim=15|id=255|\"Link,l=58\"), (dim=15|id=595|\"Link,l=57\"))\n",
       "[59] ((dim=2|id=742|\"S=1/2,Site,n=59\"), (dim=15|id=472|\"Link,l=59\"), (dim=15|id=255|\"Link,l=58\"))\n",
       "[60] ((dim=2|id=937|\"S=1/2,Site,n=60\"), (dim=15|id=25|\"Link,l=60\"), (dim=15|id=472|\"Link,l=59\"))\n",
       "[61] ((dim=2|id=841|\"S=1/2,Site,n=61\"), (dim=15|id=129|\"Link,l=61\"), (dim=15|id=25|\"Link,l=60\"))\n",
       "[62] ((dim=2|id=139|\"S=1/2,Site,n=62\"), (dim=15|id=735|\"Link,l=62\"), (dim=15|id=129|\"Link,l=61\"))\n",
       "[63] ((dim=2|id=208|\"S=1/2,Site,n=63\"), (dim=15|id=832|\"Link,l=63\"), (dim=15|id=735|\"Link,l=62\"))\n",
       "[64] ((dim=2|id=110|\"S=1/2,Site,n=64\"), (dim=15|id=467|\"Link,l=64\"), (dim=15|id=832|\"Link,l=63\"))\n",
       "[65] ((dim=2|id=909|\"S=1/2,Site,n=65\"), (dim=15|id=73|\"Link,l=65\"), (dim=15|id=467|\"Link,l=64\"))\n",
       "[66] ((dim=2|id=955|\"S=1/2,Site,n=66\"), (dim=15|id=451|\"Link,l=66\"), (dim=15|id=73|\"Link,l=65\"))\n",
       "[67] ((dim=2|id=564|\"S=1/2,Site,n=67\"), (dim=15|id=915|\"Link,l=67\"), (dim=15|id=451|\"Link,l=66\"))\n",
       "[68] ((dim=2|id=245|\"S=1/2,Site,n=68\"), (dim=15|id=149|\"Link,l=68\"), (dim=15|id=915|\"Link,l=67\"))\n",
       "[69] ((dim=2|id=43|\"S=1/2,Site,n=69\"), (dim=15|id=435|\"Link,l=69\"), (dim=15|id=149|\"Link,l=68\"))\n",
       "[70] ((dim=2|id=274|\"S=1/2,Site,n=70\"), (dim=15|id=939|\"Link,l=70\"), (dim=15|id=435|\"Link,l=69\"))\n",
       "[71] ((dim=2|id=59|\"S=1/2,Site,n=71\"), (dim=15|id=249|\"Link,l=71\"), (dim=15|id=939|\"Link,l=70\"))\n",
       "[72] ((dim=2|id=75|\"S=1/2,Site,n=72\"), (dim=15|id=297|\"Link,l=72\"), (dim=15|id=249|\"Link,l=71\"))\n",
       "[73] ((dim=2|id=687|\"S=1/2,Site,n=73\"), (dim=15|id=565|\"Link,l=73\"), (dim=15|id=297|\"Link,l=72\"))\n",
       "[74] ((dim=2|id=656|\"S=1/2,Site,n=74\"), (dim=15|id=177|\"Link,l=74\"), (dim=15|id=565|\"Link,l=73\"))\n",
       "[75] ((dim=2|id=414|\"S=1/2,Site,n=75\"), (dim=15|id=896|\"Link,l=75\"), (dim=15|id=177|\"Link,l=74\"))\n",
       "[76] ((dim=2|id=536|\"S=1/2,Site,n=76\"), (dim=15|id=198|\"Link,l=76\"), (dim=15|id=896|\"Link,l=75\"))\n",
       "[77] ((dim=2|id=195|\"S=1/2,Site,n=77\"), (dim=15|id=413|\"Link,l=77\"), (dim=15|id=198|\"Link,l=76\"))\n",
       "[78] ((dim=2|id=504|\"S=1/2,Site,n=78\"), (dim=15|id=13|\"Link,l=78\"), (dim=15|id=413|\"Link,l=77\"))\n",
       "[79] ((dim=2|id=410|\"S=1/2,Site,n=79\"), (dim=15|id=909|\"Link,l=79\"), (dim=15|id=13|\"Link,l=78\"))\n",
       "[80] ((dim=2|id=586|\"S=1/2,Site,n=80\"), (dim=15|id=704|\"Link,l=80\"), (dim=15|id=909|\"Link,l=79\"))\n",
       "[81] ((dim=2|id=625|\"S=1/2,Site,n=81\"), (dim=15|id=565|\"Link,l=81\"), (dim=15|id=704|\"Link,l=80\"))\n",
       "[82] ((dim=2|id=189|\"S=1/2,Site,n=82\"), (dim=15|id=242|\"Link,l=82\"), (dim=15|id=565|\"Link,l=81\"))\n",
       "[83] ((dim=2|id=193|\"S=1/2,Site,n=83\"), (dim=15|id=667|\"Link,l=83\"), (dim=15|id=242|\"Link,l=82\"))\n",
       "[84] ((dim=2|id=422|\"S=1/2,Site,n=84\"), (dim=15|id=698|\"Link,l=84\"), (dim=15|id=667|\"Link,l=83\"))\n",
       "[85] ((dim=2|id=660|\"S=1/2,Site,n=85\"), (dim=15|id=687|\"Link,l=85\"), (dim=15|id=698|\"Link,l=84\"))\n",
       "[86] ((dim=2|id=645|\"S=1/2,Site,n=86\"), (dim=15|id=768|\"Link,l=86\"), (dim=15|id=687|\"Link,l=85\"))\n",
       "[87] ((dim=2|id=630|\"S=1/2,Site,n=87\"), (dim=15|id=783|\"Link,l=87\"), (dim=15|id=768|\"Link,l=86\"))\n",
       "[88] ((dim=2|id=7|\"S=1/2,Site,n=88\"), (dim=15|id=529|\"Link,l=88\"), (dim=15|id=783|\"Link,l=87\"))\n",
       "[89] ((dim=2|id=908|\"S=1/2,Site,n=89\"), (dim=15|id=761|\"Link,l=89\"), (dim=15|id=529|\"Link,l=88\"))\n",
       "[90] ((dim=2|id=62|\"S=1/2,Site,n=90\"), (dim=15|id=114|\"Link,l=90\"), (dim=15|id=761|\"Link,l=89\"))\n",
       "[91] ((dim=2|id=850|\"S=1/2,Site,n=91\"), (dim=15|id=912|\"Link,l=91\"), (dim=15|id=114|\"Link,l=90\"))\n",
       "[92] ((dim=2|id=261|\"S=1/2,Site,n=92\"), (dim=15|id=372|\"Link,l=92\"), (dim=15|id=912|\"Link,l=91\"))\n",
       "[93] ((dim=2|id=577|\"S=1/2,Site,n=93\"), (dim=8|id=22|\"Link,l=93\"), (dim=15|id=372|\"Link,l=92\"))\n",
       "[94] ((dim=2|id=9|\"S=1/2,Site,n=94\"), (dim=4|id=934|\"Link,l=94\"), (dim=8|id=22|\"Link,l=93\"))\n",
       "[95] ((dim=2|id=638|\"S=1/2,Site,n=95\"), (dim=2|id=349|\"Link,l=95\"), (dim=4|id=934|\"Link,l=94\"))\n",
       "[96] ((dim=2|id=928|\"S=1/2,Site,n=96\"), (dim=2|id=349|\"Link,l=95\"))\n",
       ", Index{Int64}[(dim=2|id=45|\"S=1/2,Site,n=1\"), (dim=2|id=382|\"S=1/2,Site,n=2\"), (dim=2|id=724|\"S=1/2,Site,n=3\"), (dim=2|id=935|\"S=1/2,Site,n=4\"), (dim=2|id=505|\"S=1/2,Site,n=5\"), (dim=2|id=599|\"S=1/2,Site,n=6\"), (dim=2|id=165|\"S=1/2,Site,n=7\"), (dim=2|id=628|\"S=1/2,Site,n=8\"), (dim=2|id=673|\"S=1/2,Site,n=9\"), (dim=2|id=800|\"S=1/2,Site,n=10\")  …  (dim=2|id=630|\"S=1/2,Site,n=87\"), (dim=2|id=7|\"S=1/2,Site,n=88\"), (dim=2|id=908|\"S=1/2,Site,n=89\"), (dim=2|id=62|\"S=1/2,Site,n=90\"), (dim=2|id=850|\"S=1/2,Site,n=91\"), (dim=2|id=261|\"S=1/2,Site,n=92\"), (dim=2|id=577|\"S=1/2,Site,n=93\"), (dim=2|id=9|\"S=1/2,Site,n=94\"), (dim=2|id=638|\"S=1/2,Site,n=95\"), (dim=2|id=928|\"S=1/2,Site,n=96\")])"
      ]
     },
     "metadata": {},
     "output_type": "display_data"
    }
   ],
   "source": [
    "W, sites = fitMPS(X_train_normalised, y_train; χ_max=15, nsweep=10, α=0.01, χ_init=2, random_state=42)"
   ]
  },
  {
   "cell_type": "code",
   "execution_count": 75,
   "metadata": {},
   "outputs": [
    {
     "name": "stdout",
     "output_type": "stream",
     "text": [
      "Initialising testing states.\n"
     ]
    },
    {
     "name": "stdout",
     "output_type": "stream",
     "text": [
      "Test loss: 0.35429153863957297 | Test Accuracy: 0.92\n"
     ]
    },
    {
     "data": {
      "text/plain": [
       "2-element Vector{Float64}:\n",
       " 0.35429153863957297\n",
       " 0.92"
      ]
     },
     "metadata": {},
     "output_type": "display_data"
    }
   ],
   "source": [
    "ScoreMPS(W, X_test_normalised, y_test)"
   ]
  },
  {
   "cell_type": "code",
   "execution_count": 76,
   "metadata": {},
   "outputs": [],
   "source": [
    "mps_state_0 = deepcopy(W);"
   ]
  },
  {
   "cell_type": "code",
   "execution_count": 77,
   "metadata": {},
   "outputs": [
    {
     "data": {
      "text/plain": [
       "1.0000000000000033"
      ]
     },
     "metadata": {},
     "output_type": "display_data"
    }
   ],
   "source": [
    "norm(mps_state_0)"
   ]
  },
  {
   "cell_type": "code",
   "execution_count": 78,
   "metadata": {},
   "outputs": [
    {
     "data": {
      "text/plain": [
       "(dim=2|id=637|\"decision\")"
      ]
     },
     "metadata": {},
     "output_type": "display_data"
    }
   ],
   "source": [
    "decision_idx = findindex(mps_state_0[1], \"decision\")"
   ]
  },
  {
   "cell_type": "code",
   "execution_count": 79,
   "metadata": {},
   "outputs": [
    {
     "data": {
      "text/plain": [
       "ITensor ord=2 (dim=2|id=45|\"S=1/2,Site,n=1\") (dim=4|id=356|\"Link,l=1\")\n",
       "NDTensors.Dense{Float64, Vector{Float64}}"
      ]
     },
     "metadata": {},
     "output_type": "display_data"
    }
   ],
   "source": [
    "decision_state_0 = onehot(decision_idx => (1))\n",
    "mps_state_0[1] *= decision_state_0"
   ]
  },
  {
   "cell_type": "code",
   "execution_count": 80,
   "metadata": {},
   "outputs": [
    {
     "data": {
      "text/plain": [
       "MPS\n",
       "[1] ((dim=2|id=45|\"S=1/2,Site,n=1\"), (dim=4|id=356|\"Link,l=1\"))\n",
       "[2] ((dim=2|id=382|\"S=1/2,Site,n=2\"), (dim=8|id=811|\"Link,l=2\"), (dim=4|id=356|\"Link,l=1\"))\n",
       "[3] ((dim=2|id=724|\"S=1/2,Site,n=3\"), (dim=15|id=205|\"Link,l=3\"), (dim=8|id=811|\"Link,l=2\"))\n",
       "[4] ((dim=2|id=935|\"S=1/2,Site,n=4\"), (dim=15|id=967|\"Link,l=4\"), (dim=15|id=205|\"Link,l=3\"))\n",
       "[5] ((dim=2|id=505|\"S=1/2,Site,n=5\"), (dim=15|id=80|\"Link,l=5\"), (dim=15|id=967|\"Link,l=4\"))\n",
       "[6] ((dim=2|id=599|\"S=1/2,Site,n=6\"), (dim=15|id=233|\"Link,l=6\"), (dim=15|id=80|\"Link,l=5\"))\n",
       "[7] ((dim=2|id=165|\"S=1/2,Site,n=7\"), (dim=15|id=221|\"Link,l=7\"), (dim=15|id=233|\"Link,l=6\"))\n",
       "[8] ((dim=2|id=628|\"S=1/2,Site,n=8\"), (dim=15|id=135|\"Link,l=8\"), (dim=15|id=221|\"Link,l=7\"))\n",
       "[9] ((dim=2|id=673|\"S=1/2,Site,n=9\"), (dim=15|id=177|\"Link,l=9\"), (dim=15|id=135|\"Link,l=8\"))\n",
       "[10] ((dim=2|id=800|\"S=1/2,Site,n=10\"), (dim=15|id=49|\"Link,l=10\"), (dim=15|id=177|\"Link,l=9\"))\n",
       "[11] ((dim=2|id=81|\"S=1/2,Site,n=11\"), (dim=15|id=997|\"Link,l=11\"), (dim=15|id=49|\"Link,l=10\"))\n",
       "[12] ((dim=2|id=941|\"S=1/2,Site,n=12\"), (dim=15|id=949|\"Link,l=12\"), (dim=15|id=997|\"Link,l=11\"))\n",
       "[13] ((dim=2|id=509|\"S=1/2,Site,n=13\"), (dim=15|id=760|\"Link,l=13\"), (dim=15|id=949|\"Link,l=12\"))\n",
       "[14] ((dim=2|id=739|\"S=1/2,Site,n=14\"), (dim=15|id=181|\"Link,l=14\"), (dim=15|id=760|\"Link,l=13\"))\n",
       "[15] ((dim=2|id=757|\"S=1/2,Site,n=15\"), (dim=15|id=215|\"Link,l=15\"), (dim=15|id=181|\"Link,l=14\"))\n",
       "[16] ((dim=2|id=410|\"S=1/2,Site,n=16\"), (dim=15|id=818|\"Link,l=16\"), (dim=15|id=215|\"Link,l=15\"))\n",
       "[17] ((dim=2|id=368|\"S=1/2,Site,n=17\"), (dim=15|id=253|\"Link,l=17\"), (dim=15|id=818|\"Link,l=16\"))\n",
       "[18] ((dim=2|id=186|\"S=1/2,Site,n=18\"), (dim=15|id=166|\"Link,l=18\"), (dim=15|id=253|\"Link,l=17\"))\n",
       "[19] ((dim=2|id=225|\"S=1/2,Site,n=19\"), (dim=15|id=263|\"Link,l=19\"), (dim=15|id=166|\"Link,l=18\"))\n",
       "[20] ((dim=2|id=317|\"S=1/2,Site,n=20\"), (dim=15|id=249|\"Link,l=20\"), (dim=15|id=263|\"Link,l=19\"))\n",
       "[21] ((dim=2|id=542|\"S=1/2,Site,n=21\"), (dim=15|id=51|\"Link,l=21\"), (dim=15|id=249|\"Link,l=20\"))\n",
       "[22] ((dim=2|id=868|\"S=1/2,Site,n=22\"), (dim=15|id=802|\"Link,l=22\"), (dim=15|id=51|\"Link,l=21\"))\n",
       "[23] ((dim=2|id=822|\"S=1/2,Site,n=23\"), (dim=15|id=726|\"Link,l=23\"), (dim=15|id=802|\"Link,l=22\"))\n",
       "[24] ((dim=2|id=620|\"S=1/2,Site,n=24\"), (dim=15|id=43|\"Link,l=24\"), (dim=15|id=726|\"Link,l=23\"))\n",
       "[25] ((dim=2|id=177|\"S=1/2,Site,n=25\"), (dim=15|id=454|\"Link,l=25\"), (dim=15|id=43|\"Link,l=24\"))\n",
       "[26] ((dim=2|id=599|\"S=1/2,Site,n=26\"), (dim=15|id=761|\"Link,l=26\"), (dim=15|id=454|\"Link,l=25\"))\n",
       "[27] ((dim=2|id=56|\"S=1/2,Site,n=27\"), (dim=15|id=910|\"Link,l=27\"), (dim=15|id=761|\"Link,l=26\"))\n",
       "[28] ((dim=2|id=970|\"S=1/2,Site,n=28\"), (dim=15|id=966|\"Link,l=28\"), (dim=15|id=910|\"Link,l=27\"))\n",
       "[29] ((dim=2|id=537|\"S=1/2,Site,n=29\"), (dim=15|id=991|\"Link,l=29\"), (dim=15|id=966|\"Link,l=28\"))\n",
       "[30] ((dim=2|id=726|\"S=1/2,Site,n=30\"), (dim=15|id=721|\"Link,l=30\"), (dim=15|id=991|\"Link,l=29\"))\n",
       "[31] ((dim=2|id=685|\"S=1/2,Site,n=31\"), (dim=15|id=61|\"Link,l=31\"), (dim=15|id=721|\"Link,l=30\"))\n",
       "[32] ((dim=2|id=331|\"S=1/2,Site,n=32\"), (dim=15|id=453|\"Link,l=32\"), (dim=15|id=61|\"Link,l=31\"))\n",
       "[33] ((dim=2|id=83|\"S=1/2,Site,n=33\"), (dim=15|id=793|\"Link,l=33\"), (dim=15|id=453|\"Link,l=32\"))\n",
       "[34] ((dim=2|id=77|\"S=1/2,Site,n=34\"), (dim=15|id=499|\"Link,l=34\"), (dim=15|id=793|\"Link,l=33\"))\n",
       "[35] ((dim=2|id=886|\"S=1/2,Site,n=35\"), (dim=15|id=156|\"Link,l=35\"), (dim=15|id=499|\"Link,l=34\"))\n",
       "[36] ((dim=2|id=42|\"S=1/2,Site,n=36\"), (dim=15|id=717|\"Link,l=36\"), (dim=15|id=156|\"Link,l=35\"))\n",
       "[37] ((dim=2|id=269|\"S=1/2,Site,n=37\"), (dim=15|id=62|\"Link,l=37\"), (dim=15|id=717|\"Link,l=36\"))\n",
       "[38] ((dim=2|id=678|\"S=1/2,Site,n=38\"), (dim=15|id=445|\"Link,l=38\"), (dim=15|id=62|\"Link,l=37\"))\n",
       "[39] ((dim=2|id=844|\"S=1/2,Site,n=39\"), (dim=15|id=991|\"Link,l=39\"), (dim=15|id=445|\"Link,l=38\"))\n",
       "[40] ((dim=2|id=572|\"S=1/2,Site,n=40\"), (dim=15|id=250|\"Link,l=40\"), (dim=15|id=991|\"Link,l=39\"))\n",
       "[41] ((dim=2|id=723|\"S=1/2,Site,n=41\"), (dim=15|id=491|\"Link,l=41\"), (dim=15|id=250|\"Link,l=40\"))\n",
       "[42] ((dim=2|id=581|\"S=1/2,Site,n=42\"), (dim=15|id=723|\"Link,l=42\"), (dim=15|id=491|\"Link,l=41\"))\n",
       "[43] ((dim=2|id=732|\"S=1/2,Site,n=43\"), (dim=15|id=630|\"Link,l=43\"), (dim=15|id=723|\"Link,l=42\"))\n",
       "[44] ((dim=2|id=376|\"S=1/2,Site,n=44\"), (dim=15|id=764|\"Link,l=44\"), (dim=15|id=630|\"Link,l=43\"))\n",
       "[45] ((dim=2|id=909|\"S=1/2,Site,n=45\"), (dim=15|id=312|\"Link,l=45\"), (dim=15|id=764|\"Link,l=44\"))\n",
       "[46] ((dim=2|id=229|\"S=1/2,Site,n=46\"), (dim=15|id=764|\"Link,l=46\"), (dim=15|id=312|\"Link,l=45\"))\n",
       "[47] ((dim=2|id=527|\"S=1/2,Site,n=47\"), (dim=15|id=566|\"Link,l=47\"), (dim=15|id=764|\"Link,l=46\"))\n",
       "[48] ((dim=2|id=602|\"S=1/2,Site,n=48\"), (dim=15|id=213|\"Link,l=48\"), (dim=15|id=566|\"Link,l=47\"))\n",
       "[49] ((dim=2|id=649|\"S=1/2,Site,n=49\"), (dim=15|id=590|\"Link,l=49\"), (dim=15|id=213|\"Link,l=48\"))\n",
       "[50] ((dim=2|id=800|\"S=1/2,Site,n=50\"), (dim=15|id=531|\"Link,l=50\"), (dim=15|id=590|\"Link,l=49\"))\n",
       "[51] ((dim=2|id=359|\"S=1/2,Site,n=51\"), (dim=15|id=567|\"Link,l=51\"), (dim=15|id=531|\"Link,l=50\"))\n",
       "[52] ((dim=2|id=355|\"S=1/2,Site,n=52\"), (dim=15|id=654|\"Link,l=52\"), (dim=15|id=567|\"Link,l=51\"))\n",
       "[53] ((dim=2|id=608|\"S=1/2,Site,n=53\"), (dim=15|id=284|\"Link,l=53\"), (dim=15|id=654|\"Link,l=52\"))\n",
       "[54] ((dim=2|id=199|\"S=1/2,Site,n=54\"), (dim=15|id=483|\"Link,l=54\"), (dim=15|id=284|\"Link,l=53\"))\n",
       "[55] ((dim=2|id=11|\"S=1/2,Site,n=55\"), (dim=15|id=349|\"Link,l=55\"), (dim=15|id=483|\"Link,l=54\"))\n",
       "[56] ((dim=2|id=793|\"S=1/2,Site,n=56\"), (dim=15|id=744|\"Link,l=56\"), (dim=15|id=349|\"Link,l=55\"))\n",
       "[57] ((dim=2|id=790|\"S=1/2,Site,n=57\"), (dim=15|id=595|\"Link,l=57\"), (dim=15|id=744|\"Link,l=56\"))\n",
       "[58] ((dim=2|id=30|\"S=1/2,Site,n=58\"), (dim=15|id=255|\"Link,l=58\"), (dim=15|id=595|\"Link,l=57\"))\n",
       "[59] ((dim=2|id=742|\"S=1/2,Site,n=59\"), (dim=15|id=472|\"Link,l=59\"), (dim=15|id=255|\"Link,l=58\"))\n",
       "[60] ((dim=2|id=937|\"S=1/2,Site,n=60\"), (dim=15|id=25|\"Link,l=60\"), (dim=15|id=472|\"Link,l=59\"))\n",
       "[61] ((dim=2|id=841|\"S=1/2,Site,n=61\"), (dim=15|id=129|\"Link,l=61\"), (dim=15|id=25|\"Link,l=60\"))\n",
       "[62] ((dim=2|id=139|\"S=1/2,Site,n=62\"), (dim=15|id=735|\"Link,l=62\"), (dim=15|id=129|\"Link,l=61\"))\n",
       "[63] ((dim=2|id=208|\"S=1/2,Site,n=63\"), (dim=15|id=832|\"Link,l=63\"), (dim=15|id=735|\"Link,l=62\"))\n",
       "[64] ((dim=2|id=110|\"S=1/2,Site,n=64\"), (dim=15|id=467|\"Link,l=64\"), (dim=15|id=832|\"Link,l=63\"))\n",
       "[65] ((dim=2|id=909|\"S=1/2,Site,n=65\"), (dim=15|id=73|\"Link,l=65\"), (dim=15|id=467|\"Link,l=64\"))\n",
       "[66] ((dim=2|id=955|\"S=1/2,Site,n=66\"), (dim=15|id=451|\"Link,l=66\"), (dim=15|id=73|\"Link,l=65\"))\n",
       "[67] ((dim=2|id=564|\"S=1/2,Site,n=67\"), (dim=15|id=915|\"Link,l=67\"), (dim=15|id=451|\"Link,l=66\"))\n",
       "[68] ((dim=2|id=245|\"S=1/2,Site,n=68\"), (dim=15|id=149|\"Link,l=68\"), (dim=15|id=915|\"Link,l=67\"))\n",
       "[69] ((dim=2|id=43|\"S=1/2,Site,n=69\"), (dim=15|id=435|\"Link,l=69\"), (dim=15|id=149|\"Link,l=68\"))\n",
       "[70] ((dim=2|id=274|\"S=1/2,Site,n=70\"), (dim=15|id=939|\"Link,l=70\"), (dim=15|id=435|\"Link,l=69\"))\n",
       "[71] ((dim=2|id=59|\"S=1/2,Site,n=71\"), (dim=15|id=249|\"Link,l=71\"), (dim=15|id=939|\"Link,l=70\"))\n",
       "[72] ((dim=2|id=75|\"S=1/2,Site,n=72\"), (dim=15|id=297|\"Link,l=72\"), (dim=15|id=249|\"Link,l=71\"))\n",
       "[73] ((dim=2|id=687|\"S=1/2,Site,n=73\"), (dim=15|id=565|\"Link,l=73\"), (dim=15|id=297|\"Link,l=72\"))\n",
       "[74] ((dim=2|id=656|\"S=1/2,Site,n=74\"), (dim=15|id=177|\"Link,l=74\"), (dim=15|id=565|\"Link,l=73\"))\n",
       "[75] ((dim=2|id=414|\"S=1/2,Site,n=75\"), (dim=15|id=896|\"Link,l=75\"), (dim=15|id=177|\"Link,l=74\"))\n",
       "[76] ((dim=2|id=536|\"S=1/2,Site,n=76\"), (dim=15|id=198|\"Link,l=76\"), (dim=15|id=896|\"Link,l=75\"))\n",
       "[77] ((dim=2|id=195|\"S=1/2,Site,n=77\"), (dim=15|id=413|\"Link,l=77\"), (dim=15|id=198|\"Link,l=76\"))\n",
       "[78] ((dim=2|id=504|\"S=1/2,Site,n=78\"), (dim=15|id=13|\"Link,l=78\"), (dim=15|id=413|\"Link,l=77\"))\n",
       "[79] ((dim=2|id=410|\"S=1/2,Site,n=79\"), (dim=15|id=909|\"Link,l=79\"), (dim=15|id=13|\"Link,l=78\"))\n",
       "[80] ((dim=2|id=586|\"S=1/2,Site,n=80\"), (dim=15|id=704|\"Link,l=80\"), (dim=15|id=909|\"Link,l=79\"))\n",
       "[81] ((dim=2|id=625|\"S=1/2,Site,n=81\"), (dim=15|id=565|\"Link,l=81\"), (dim=15|id=704|\"Link,l=80\"))\n",
       "[82] ((dim=2|id=189|\"S=1/2,Site,n=82\"), (dim=15|id=242|\"Link,l=82\"), (dim=15|id=565|\"Link,l=81\"))\n",
       "[83] ((dim=2|id=193|\"S=1/2,Site,n=83\"), (dim=15|id=667|\"Link,l=83\"), (dim=15|id=242|\"Link,l=82\"))\n",
       "[84] ((dim=2|id=422|\"S=1/2,Site,n=84\"), (dim=15|id=698|\"Link,l=84\"), (dim=15|id=667|\"Link,l=83\"))\n",
       "[85] ((dim=2|id=660|\"S=1/2,Site,n=85\"), (dim=15|id=687|\"Link,l=85\"), (dim=15|id=698|\"Link,l=84\"))\n",
       "[86] ((dim=2|id=645|\"S=1/2,Site,n=86\"), (dim=15|id=768|\"Link,l=86\"), (dim=15|id=687|\"Link,l=85\"))\n",
       "[87] ((dim=2|id=630|\"S=1/2,Site,n=87\"), (dim=15|id=783|\"Link,l=87\"), (dim=15|id=768|\"Link,l=86\"))\n",
       "[88] ((dim=2|id=7|\"S=1/2,Site,n=88\"), (dim=15|id=529|\"Link,l=88\"), (dim=15|id=783|\"Link,l=87\"))\n",
       "[89] ((dim=2|id=908|\"S=1/2,Site,n=89\"), (dim=15|id=761|\"Link,l=89\"), (dim=15|id=529|\"Link,l=88\"))\n",
       "[90] ((dim=2|id=62|\"S=1/2,Site,n=90\"), (dim=15|id=114|\"Link,l=90\"), (dim=15|id=761|\"Link,l=89\"))\n",
       "[91] ((dim=2|id=850|\"S=1/2,Site,n=91\"), (dim=15|id=912|\"Link,l=91\"), (dim=15|id=114|\"Link,l=90\"))\n",
       "[92] ((dim=2|id=261|\"S=1/2,Site,n=92\"), (dim=15|id=372|\"Link,l=92\"), (dim=15|id=912|\"Link,l=91\"))\n",
       "[93] ((dim=2|id=577|\"S=1/2,Site,n=93\"), (dim=8|id=22|\"Link,l=93\"), (dim=15|id=372|\"Link,l=92\"))\n",
       "[94] ((dim=2|id=9|\"S=1/2,Site,n=94\"), (dim=4|id=934|\"Link,l=94\"), (dim=8|id=22|\"Link,l=93\"))\n",
       "[95] ((dim=2|id=638|\"S=1/2,Site,n=95\"), (dim=2|id=349|\"Link,l=95\"), (dim=4|id=934|\"Link,l=94\"))\n",
       "[96] ((dim=2|id=928|\"S=1/2,Site,n=96\"), (dim=2|id=349|\"Link,l=95\"))\n"
      ]
     },
     "metadata": {},
     "output_type": "display_data"
    }
   ],
   "source": [
    "normalize!(mps_state_0)"
   ]
  },
  {
   "cell_type": "code",
   "execution_count": 81,
   "metadata": {},
   "outputs": [
    {
     "data": {
      "text/plain": [
       "1.000000000000001"
      ]
     },
     "metadata": {},
     "output_type": "display_data"
    }
   ],
   "source": [
    "norm(mps_state_0)"
   ]
  },
  {
   "cell_type": "code",
   "execution_count": 82,
   "metadata": {},
   "outputs": [
    {
     "data": {
      "text/plain": [
       "entropy_von_neumann (generic function with 2 methods)"
      ]
     },
     "metadata": {},
     "output_type": "display_data"
    }
   ],
   "source": [
    "function entropy_von_neumann(psi::MPS, b::Int)\n",
    "    s = siteinds(psi)\n",
    "    orthogonalize!(psi, b) # change orthogonality center to site B\n",
    "    #print(norm(psi))\n",
    "    if b == 1\n",
    "        _, S = svd(psi[b], (siteind(psi, b),))\n",
    "    else\n",
    "        _, S = svd(psi[b], (linkind(psi, b-1), s[b]))\n",
    "    end\n",
    "    SvN = 0.0\n",
    "    for n in 1:ITensors.dim(S, 1)\n",
    "        p = S[n, n]^2\n",
    "        SvN -= p * log(p)\n",
    "    end\n",
    "\n",
    "    return SvN\n",
    "end"
   ]
  },
  {
   "cell_type": "code",
   "execution_count": 84,
   "metadata": {},
   "outputs": [
    {
     "data": {
      "text/plain": [
       "0.11355204084697462"
      ]
     },
     "metadata": {},
     "output_type": "display_data"
    }
   ],
   "source": [
    "entropy_von_neumann(mps_state_0, 1)"
   ]
  },
  {
   "cell_type": "markdown",
   "metadata": {},
   "source": [
    "# Minimum Value Measurements"
   ]
  },
  {
   "cell_type": "markdown",
   "metadata": {},
   "source": [
    "We will begin by getting the average variation in EE (at each site) after having measured each MPS site to be zero (minimum) in value. To do this, we begin by constructing a projector to project the MPS state into the subspace where a particular site is measured to have a large and negative value."
   ]
  },
  {
   "cell_type": "code",
   "execution_count": 85,
   "metadata": {},
   "outputs": [
    {
     "data": {
      "text/plain": [
       "2-element Vector{Float64}:\n",
       " 0.9998766324816606\n",
       " 0.015707317311820675"
      ]
     },
     "metadata": {},
     "output_type": "display_data"
    }
   ],
   "source": [
    "AngleEncoder(0.01)"
   ]
  },
  {
   "cell_type": "markdown",
   "metadata": {},
   "source": [
    "We will do an initial test with just the first site - that is, let's see what happens when we measure the first site in the MPS to be zero. "
   ]
  },
  {
   "cell_type": "code",
   "execution_count": 86,
   "metadata": {},
   "outputs": [
    {
     "name": "stdout",
     "output_type": "stream",
     "text": [
      "zero_projector_operator = ITensor ord=2\n",
      "Dim 1: (dim=2|id=45|\"S=1/2,Site,n=1\")'\n",
      "Dim 2: (dim=2|id=45|\"S=1/2,Site,n=1\")\n",
      "NDTensors.Dense{Float64, Vector{Float64}}\n",
      " 2×2\n",
      " 0.9997532801828658    0.015705379539064146\n",
      " 0.015705379539064146  0.00024671981713422146\n"
     ]
    },
    {
     "data": {
      "text/plain": [
       "ITensor ord=2 (dim=2|id=45|\"S=1/2,Site,n=1\")' (dim=2|id=45|\"S=1/2,Site,n=1\")\n",
       "NDTensors.Dense{Float64, Vector{Float64}}"
      ]
     },
     "metadata": {},
     "output_type": "display_data"
    }
   ],
   "source": [
    "zero_projector = AngleEncoder(0.01) * AngleEncoder(0.01)'\n",
    "zero_projector_operator = op(zero_projector, sites[1])\n",
    "@show zero_projector_operator"
   ]
  },
  {
   "cell_type": "markdown",
   "metadata": {},
   "source": [
    "Now we measure the EE before making the measurement."
   ]
  },
  {
   "cell_type": "code",
   "execution_count": 87,
   "metadata": {},
   "outputs": [],
   "source": [
    "S_1_allSites = [entropy_von_neumann(mps_state_0, b, sites) for b=1:length(mps_state_0) if b != 1];"
   ]
  },
  {
   "cell_type": "markdown",
   "metadata": {},
   "source": [
    "Now we get the EE after making the measurement at site 1."
   ]
  },
  {
   "cell_type": "code",
   "execution_count": 89,
   "metadata": {},
   "outputs": [
    {
     "data": {
      "text/plain": [
       "ITensor ord=2 (dim=2|id=45|\"S=1/2,Site,n=1\") (dim=2|id=418|\"Link,l=1\")\n",
       "NDTensors.Dense{Float64, Vector{Float64}}"
      ]
     },
     "metadata": {},
     "output_type": "display_data"
    }
   ],
   "source": [
    "new_site_1 = zero_projector_operator * mps_state_0[1]\n",
    "noprime!(new_site_1)\n",
    "mps_state_0[1] = new_site_1"
   ]
  },
  {
   "cell_type": "code",
   "execution_count": 93,
   "metadata": {},
   "outputs": [
    {
     "data": {
      "text/plain": [
       "MPS\n",
       "[1] ((dim=2|id=45|\"S=1/2,Site,n=1\"), (dim=2|id=726|\"Link,l=1\"))\n",
       "[2] ((dim=2|id=382|\"S=1/2,Site,n=2\"), (dim=4|id=536|\"Link,l=2\"), (dim=2|id=726|\"Link,l=1\"))\n",
       "[3] ((dim=2|id=724|\"S=1/2,Site,n=3\"), (dim=8|id=734|\"Link,l=3\"), (dim=4|id=536|\"Link,l=2\"))\n",
       "[4] ((dim=2|id=935|\"S=1/2,Site,n=4\"), (dim=15|id=467|\"Link,l=4\"), (dim=8|id=734|\"Link,l=3\"))\n",
       "[5] ((dim=2|id=505|\"S=1/2,Site,n=5\"), (dim=15|id=496|\"Link,l=5\"), (dim=15|id=467|\"Link,l=4\"))\n",
       "[6] ((dim=2|id=599|\"S=1/2,Site,n=6\"), (dim=15|id=321|\"Link,l=6\"), (dim=15|id=496|\"Link,l=5\"))\n",
       "[7] ((dim=2|id=165|\"S=1/2,Site,n=7\"), (dim=15|id=723|\"Link,l=7\"), (dim=15|id=321|\"Link,l=6\"))\n",
       "[8] ((dim=2|id=628|\"S=1/2,Site,n=8\"), (dim=15|id=550|\"Link,l=8\"), (dim=15|id=723|\"Link,l=7\"))\n",
       "[9] ((dim=2|id=673|\"S=1/2,Site,n=9\"), (dim=15|id=82|\"Link,l=9\"), (dim=15|id=550|\"Link,l=8\"))\n",
       "[10] ((dim=2|id=800|\"S=1/2,Site,n=10\"), (dim=15|id=77|\"Link,l=10\"), (dim=15|id=82|\"Link,l=9\"))\n",
       "[11] ((dim=2|id=81|\"S=1/2,Site,n=11\"), (dim=15|id=355|\"Link,l=11\"), (dim=15|id=77|\"Link,l=10\"))\n",
       "[12] ((dim=2|id=941|\"S=1/2,Site,n=12\"), (dim=15|id=769|\"Link,l=12\"), (dim=15|id=355|\"Link,l=11\"))\n",
       "[13] ((dim=2|id=509|\"S=1/2,Site,n=13\"), (dim=15|id=776|\"Link,l=13\"), (dim=15|id=769|\"Link,l=12\"))\n",
       "[14] ((dim=2|id=739|\"S=1/2,Site,n=14\"), (dim=15|id=106|\"Link,l=14\"), (dim=15|id=776|\"Link,l=13\"))\n",
       "[15] ((dim=2|id=757|\"S=1/2,Site,n=15\"), (dim=15|id=730|\"Link,l=15\"), (dim=15|id=106|\"Link,l=14\"))\n",
       "[16] ((dim=2|id=410|\"S=1/2,Site,n=16\"), (dim=15|id=879|\"Link,l=16\"), (dim=15|id=730|\"Link,l=15\"))\n",
       "[17] ((dim=2|id=368|\"S=1/2,Site,n=17\"), (dim=15|id=708|\"Link,l=17\"), (dim=15|id=879|\"Link,l=16\"))\n",
       "[18] ((dim=2|id=186|\"S=1/2,Site,n=18\"), (dim=15|id=684|\"Link,l=18\"), (dim=15|id=708|\"Link,l=17\"))\n",
       "[19] ((dim=2|id=225|\"S=1/2,Site,n=19\"), (dim=15|id=607|\"Link,l=19\"), (dim=15|id=684|\"Link,l=18\"))\n",
       "[20] ((dim=2|id=317|\"S=1/2,Site,n=20\"), (dim=15|id=215|\"Link,l=20\"), (dim=15|id=607|\"Link,l=19\"))\n",
       "[21] ((dim=2|id=542|\"S=1/2,Site,n=21\"), (dim=15|id=534|\"Link,l=21\"), (dim=15|id=215|\"Link,l=20\"))\n",
       "[22] ((dim=2|id=868|\"S=1/2,Site,n=22\"), (dim=15|id=479|\"Link,l=22\"), (dim=15|id=534|\"Link,l=21\"))\n",
       "[23] ((dim=2|id=822|\"S=1/2,Site,n=23\"), (dim=15|id=433|\"Link,l=23\"), (dim=15|id=479|\"Link,l=22\"))\n",
       "[24] ((dim=2|id=620|\"S=1/2,Site,n=24\"), (dim=15|id=455|\"Link,l=24\"), (dim=15|id=433|\"Link,l=23\"))\n",
       "[25] ((dim=2|id=177|\"S=1/2,Site,n=25\"), (dim=15|id=25|\"Link,l=25\"), (dim=15|id=455|\"Link,l=24\"))\n",
       "[26] ((dim=2|id=599|\"S=1/2,Site,n=26\"), (dim=15|id=864|\"Link,l=26\"), (dim=15|id=25|\"Link,l=25\"))\n",
       "[27] ((dim=2|id=56|\"S=1/2,Site,n=27\"), (dim=15|id=469|\"Link,l=27\"), (dim=15|id=864|\"Link,l=26\"))\n",
       "[28] ((dim=2|id=970|\"S=1/2,Site,n=28\"), (dim=15|id=902|\"Link,l=28\"), (dim=15|id=469|\"Link,l=27\"))\n",
       "[29] ((dim=2|id=537|\"S=1/2,Site,n=29\"), (dim=15|id=666|\"Link,l=29\"), (dim=15|id=902|\"Link,l=28\"))\n",
       "[30] ((dim=2|id=726|\"S=1/2,Site,n=30\"), (dim=15|id=886|\"Link,l=30\"), (dim=15|id=666|\"Link,l=29\"))\n",
       "[31] ((dim=2|id=685|\"S=1/2,Site,n=31\"), (dim=15|id=813|\"Link,l=31\"), (dim=15|id=886|\"Link,l=30\"))\n",
       "[32] ((dim=2|id=331|\"S=1/2,Site,n=32\"), (dim=15|id=851|\"Link,l=32\"), (dim=15|id=813|\"Link,l=31\"))\n",
       "[33] ((dim=2|id=83|\"S=1/2,Site,n=33\"), (dim=15|id=345|\"Link,l=33\"), (dim=15|id=851|\"Link,l=32\"))\n",
       "[34] ((dim=2|id=77|\"S=1/2,Site,n=34\"), (dim=15|id=132|\"Link,l=34\"), (dim=15|id=345|\"Link,l=33\"))\n",
       "[35] ((dim=2|id=886|\"S=1/2,Site,n=35\"), (dim=15|id=222|\"Link,l=35\"), (dim=15|id=132|\"Link,l=34\"))\n",
       "[36] ((dim=2|id=42|\"S=1/2,Site,n=36\"), (dim=15|id=476|\"Link,l=36\"), (dim=15|id=222|\"Link,l=35\"))\n",
       "[37] ((dim=2|id=269|\"S=1/2,Site,n=37\"), (dim=15|id=683|\"Link,l=37\"), (dim=15|id=476|\"Link,l=36\"))\n",
       "[38] ((dim=2|id=678|\"S=1/2,Site,n=38\"), (dim=15|id=82|\"Link,l=38\"), (dim=15|id=683|\"Link,l=37\"))\n",
       "[39] ((dim=2|id=844|\"S=1/2,Site,n=39\"), (dim=15|id=649|\"Link,l=39\"), (dim=15|id=82|\"Link,l=38\"))\n",
       "[40] ((dim=2|id=572|\"S=1/2,Site,n=40\"), (dim=15|id=672|\"Link,l=40\"), (dim=15|id=649|\"Link,l=39\"))\n",
       "[41] ((dim=2|id=723|\"S=1/2,Site,n=41\"), (dim=15|id=431|\"Link,l=41\"), (dim=15|id=672|\"Link,l=40\"))\n",
       "[42] ((dim=2|id=581|\"S=1/2,Site,n=42\"), (dim=15|id=622|\"Link,l=42\"), (dim=15|id=431|\"Link,l=41\"))\n",
       "[43] ((dim=2|id=732|\"S=1/2,Site,n=43\"), (dim=15|id=968|\"Link,l=43\"), (dim=15|id=622|\"Link,l=42\"))\n",
       "[44] ((dim=2|id=376|\"S=1/2,Site,n=44\"), (dim=15|id=245|\"Link,l=44\"), (dim=15|id=968|\"Link,l=43\"))\n",
       "[45] ((dim=2|id=909|\"S=1/2,Site,n=45\"), (dim=15|id=682|\"Link,l=45\"), (dim=15|id=245|\"Link,l=44\"))\n",
       "[46] ((dim=2|id=229|\"S=1/2,Site,n=46\"), (dim=15|id=964|\"Link,l=46\"), (dim=15|id=682|\"Link,l=45\"))\n",
       "[47] ((dim=2|id=527|\"S=1/2,Site,n=47\"), (dim=15|id=880|\"Link,l=47\"), (dim=15|id=964|\"Link,l=46\"))\n",
       "[48] ((dim=2|id=602|\"S=1/2,Site,n=48\"), (dim=15|id=667|\"Link,l=48\"), (dim=15|id=880|\"Link,l=47\"))\n",
       "[49] ((dim=2|id=649|\"S=1/2,Site,n=49\"), (dim=15|id=425|\"Link,l=49\"), (dim=15|id=667|\"Link,l=48\"))\n",
       "[50] ((dim=2|id=800|\"S=1/2,Site,n=50\"), (dim=15|id=334|\"Link,l=50\"), (dim=15|id=425|\"Link,l=49\"))\n",
       "[51] ((dim=2|id=359|\"S=1/2,Site,n=51\"), (dim=15|id=21|\"Link,l=51\"), (dim=15|id=334|\"Link,l=50\"))\n",
       "[52] ((dim=2|id=355|\"S=1/2,Site,n=52\"), (dim=15|id=429|\"Link,l=52\"), (dim=15|id=21|\"Link,l=51\"))\n",
       "[53] ((dim=2|id=608|\"S=1/2,Site,n=53\"), (dim=15|id=485|\"Link,l=53\"), (dim=15|id=429|\"Link,l=52\"))\n",
       "[54] ((dim=2|id=199|\"S=1/2,Site,n=54\"), (dim=15|id=839|\"Link,l=54\"), (dim=15|id=485|\"Link,l=53\"))\n",
       "[55] ((dim=2|id=11|\"S=1/2,Site,n=55\"), (dim=15|id=206|\"Link,l=55\"), (dim=15|id=839|\"Link,l=54\"))\n",
       "[56] ((dim=2|id=793|\"S=1/2,Site,n=56\"), (dim=15|id=396|\"Link,l=56\"), (dim=15|id=206|\"Link,l=55\"))\n",
       "[57] ((dim=2|id=790|\"S=1/2,Site,n=57\"), (dim=15|id=200|\"Link,l=57\"), (dim=15|id=396|\"Link,l=56\"))\n",
       "[58] ((dim=2|id=30|\"S=1/2,Site,n=58\"), (dim=15|id=432|\"Link,l=58\"), (dim=15|id=200|\"Link,l=57\"))\n",
       "[59] ((dim=2|id=742|\"S=1/2,Site,n=59\"), (dim=15|id=876|\"Link,l=59\"), (dim=15|id=432|\"Link,l=58\"))\n",
       "[60] ((dim=2|id=937|\"S=1/2,Site,n=60\"), (dim=15|id=343|\"Link,l=60\"), (dim=15|id=876|\"Link,l=59\"))\n",
       "[61] ((dim=2|id=841|\"S=1/2,Site,n=61\"), (dim=15|id=821|\"Link,l=61\"), (dim=15|id=343|\"Link,l=60\"))\n",
       "[62] ((dim=2|id=139|\"S=1/2,Site,n=62\"), (dim=15|id=608|\"Link,l=62\"), (dim=15|id=821|\"Link,l=61\"))\n",
       "[63] ((dim=2|id=208|\"S=1/2,Site,n=63\"), (dim=15|id=840|\"Link,l=63\"), (dim=15|id=608|\"Link,l=62\"))\n",
       "[64] ((dim=2|id=110|\"S=1/2,Site,n=64\"), (dim=15|id=706|\"Link,l=64\"), (dim=15|id=840|\"Link,l=63\"))\n",
       "[65] ((dim=2|id=909|\"S=1/2,Site,n=65\"), (dim=15|id=505|\"Link,l=65\"), (dim=15|id=706|\"Link,l=64\"))\n",
       "[66] ((dim=2|id=955|\"S=1/2,Site,n=66\"), (dim=15|id=418|\"Link,l=66\"), (dim=15|id=505|\"Link,l=65\"))\n",
       "[67] ((dim=2|id=564|\"S=1/2,Site,n=67\"), (dim=15|id=90|\"Link,l=67\"), (dim=15|id=418|\"Link,l=66\"))\n",
       "[68] ((dim=2|id=245|\"S=1/2,Site,n=68\"), (dim=15|id=163|\"Link,l=68\"), (dim=15|id=90|\"Link,l=67\"))\n",
       "[69] ((dim=2|id=43|\"S=1/2,Site,n=69\"), (dim=15|id=111|\"Link,l=69\"), (dim=15|id=163|\"Link,l=68\"))\n",
       "[70] ((dim=2|id=274|\"S=1/2,Site,n=70\"), (dim=15|id=447|\"Link,l=70\"), (dim=15|id=111|\"Link,l=69\"))\n",
       "[71] ((dim=2|id=59|\"S=1/2,Site,n=71\"), (dim=15|id=624|\"Link,l=71\"), (dim=15|id=447|\"Link,l=70\"))\n",
       "[72] ((dim=2|id=75|\"S=1/2,Site,n=72\"), (dim=15|id=970|\"Link,l=72\"), (dim=15|id=624|\"Link,l=71\"))\n",
       "[73] ((dim=2|id=687|\"S=1/2,Site,n=73\"), (dim=15|id=855|\"Link,l=73\"), (dim=15|id=970|\"Link,l=72\"))\n",
       "[74] ((dim=2|id=656|\"S=1/2,Site,n=74\"), (dim=15|id=553|\"Link,l=74\"), (dim=15|id=855|\"Link,l=73\"))\n",
       "[75] ((dim=2|id=414|\"S=1/2,Site,n=75\"), (dim=15|id=854|\"Link,l=75\"), (dim=15|id=553|\"Link,l=74\"))\n",
       "[76] ((dim=2|id=536|\"S=1/2,Site,n=76\"), (dim=15|id=80|\"Link,l=76\"), (dim=15|id=854|\"Link,l=75\"))\n",
       "[77] ((dim=2|id=195|\"S=1/2,Site,n=77\"), (dim=15|id=740|\"Link,l=77\"), (dim=15|id=80|\"Link,l=76\"))\n",
       "[78] ((dim=2|id=504|\"S=1/2,Site,n=78\"), (dim=15|id=746|\"Link,l=78\"), (dim=15|id=740|\"Link,l=77\"))\n",
       "[79] ((dim=2|id=410|\"S=1/2,Site,n=79\"), (dim=15|id=311|\"Link,l=79\"), (dim=15|id=746|\"Link,l=78\"))\n",
       "[80] ((dim=2|id=586|\"S=1/2,Site,n=80\"), (dim=15|id=360|\"Link,l=80\"), (dim=15|id=311|\"Link,l=79\"))\n",
       "[81] ((dim=2|id=625|\"S=1/2,Site,n=81\"), (dim=15|id=26|\"Link,l=81\"), (dim=15|id=360|\"Link,l=80\"))\n",
       "[82] ((dim=2|id=189|\"S=1/2,Site,n=82\"), (dim=15|id=819|\"Link,l=82\"), (dim=15|id=26|\"Link,l=81\"))\n",
       "[83] ((dim=2|id=193|\"S=1/2,Site,n=83\"), (dim=15|id=875|\"Link,l=83\"), (dim=15|id=819|\"Link,l=82\"))\n",
       "[84] ((dim=2|id=422|\"S=1/2,Site,n=84\"), (dim=15|id=142|\"Link,l=84\"), (dim=15|id=875|\"Link,l=83\"))\n",
       "[85] ((dim=2|id=660|\"S=1/2,Site,n=85\"), (dim=15|id=87|\"Link,l=85\"), (dim=15|id=142|\"Link,l=84\"))\n",
       "[86] ((dim=2|id=645|\"S=1/2,Site,n=86\"), (dim=15|id=448|\"Link,l=86\"), (dim=15|id=87|\"Link,l=85\"))\n",
       "[87] ((dim=2|id=630|\"S=1/2,Site,n=87\"), (dim=15|id=729|\"Link,l=87\"), (dim=15|id=448|\"Link,l=86\"))\n",
       "[88] ((dim=2|id=7|\"S=1/2,Site,n=88\"), (dim=15|id=926|\"Link,l=88\"), (dim=15|id=729|\"Link,l=87\"))\n",
       "[89] ((dim=2|id=908|\"S=1/2,Site,n=89\"), (dim=15|id=530|\"Link,l=89\"), (dim=15|id=926|\"Link,l=88\"))\n",
       "[90] ((dim=2|id=62|\"S=1/2,Site,n=90\"), (dim=15|id=842|\"Link,l=90\"), (dim=15|id=530|\"Link,l=89\"))\n",
       "[91] ((dim=2|id=850|\"S=1/2,Site,n=91\"), (dim=15|id=5|\"Link,l=91\"), (dim=15|id=842|\"Link,l=90\"))\n",
       "[92] ((dim=2|id=261|\"S=1/2,Site,n=92\"), (dim=15|id=366|\"Link,l=92\"), (dim=15|id=5|\"Link,l=91\"))\n",
       "[93] ((dim=2|id=577|\"S=1/2,Site,n=93\"), (dim=8|id=349|\"Link,l=93\"), (dim=15|id=366|\"Link,l=92\"))\n",
       "[94] ((dim=2|id=9|\"S=1/2,Site,n=94\"), (dim=4|id=213|\"Link,l=94\"), (dim=8|id=349|\"Link,l=93\"))\n",
       "[95] ((dim=2|id=638|\"S=1/2,Site,n=95\"), (dim=2|id=353|\"Link,l=95\"), (dim=4|id=213|\"Link,l=94\"))\n",
       "[96] ((dim=2|id=928|\"S=1/2,Site,n=96\"), (dim=2|id=353|\"Link,l=95\"))\n"
      ]
     },
     "metadata": {},
     "output_type": "display_data"
    }
   ],
   "source": [
    "normalize!(mps_state_0)"
   ]
  },
  {
   "cell_type": "code",
   "execution_count": 94,
   "metadata": {},
   "outputs": [
    {
     "data": {
      "text/plain": [
       "NaN"
      ]
     },
     "metadata": {},
     "output_type": "display_data"
    }
   ],
   "source": [
    "entropy_von_neumann(mps_state_0, 1, sites)"
   ]
  },
  {
   "cell_type": "code",
   "execution_count": null,
   "metadata": {},
   "outputs": [],
   "source": []
  },
  {
   "cell_type": "code",
   "execution_count": 43,
   "metadata": {},
   "outputs": [],
   "source": [
    "S_1_prime_allSites = [entropy_von_neumann(mps_state_0, b, sites) for b=1:length(mps_state_0) if b != 1];"
   ]
  },
  {
   "cell_type": "code",
   "execution_count": 46,
   "metadata": {},
   "outputs": [
    {
     "data": {
      "text/plain": [
       "96-element Vector{Index{Int64}}:\n",
       " (dim=2|id=45|\"S=1/2,Site,n=1\")\n",
       " (dim=2|id=382|\"S=1/2,Site,n=2\")\n",
       " (dim=2|id=724|\"S=1/2,Site,n=3\")\n",
       " (dim=2|id=935|\"S=1/2,Site,n=4\")\n",
       " (dim=2|id=505|\"S=1/2,Site,n=5\")\n",
       " (dim=2|id=599|\"S=1/2,Site,n=6\")\n",
       " (dim=2|id=165|\"S=1/2,Site,n=7\")\n",
       " (dim=2|id=628|\"S=1/2,Site,n=8\")\n",
       " (dim=2|id=673|\"S=1/2,Site,n=9\")\n",
       " (dim=2|id=800|\"S=1/2,Site,n=10\")\n",
       " ⋮\n",
       " (dim=2|id=7|\"S=1/2,Site,n=88\")\n",
       " (dim=2|id=908|\"S=1/2,Site,n=89\")\n",
       " (dim=2|id=62|\"S=1/2,Site,n=90\")\n",
       " (dim=2|id=850|\"S=1/2,Site,n=91\")\n",
       " (dim=2|id=261|\"S=1/2,Site,n=92\")\n",
       " (dim=2|id=577|\"S=1/2,Site,n=93\")\n",
       " (dim=2|id=9|\"S=1/2,Site,n=94\")\n",
       " (dim=2|id=638|\"S=1/2,Site,n=95\")\n",
       " (dim=2|id=928|\"S=1/2,Site,n=96\")"
      ]
     },
     "metadata": {},
     "output_type": "display_data"
    }
   ],
   "source": [
    "sites"
   ]
  },
  {
   "cell_type": "code",
   "execution_count": null,
   "metadata": {},
   "outputs": [],
   "source": [
    "entropy_von_neumann(mps_state_0, 2, sites)"
   ]
  },
  {
   "cell_type": "code",
   "execution_count": 45,
   "metadata": {},
   "outputs": [
    {
     "data": {
      "text/plain": [
       "95-element Vector{Float64}:\n",
       "  0.28449688252764344\n",
       "  0.42808174871655513\n",
       "  0.5275786003021998\n",
       "  0.6169657610016974\n",
       "  0.7372901574764118\n",
       "  0.8344508534890703\n",
       "  0.9273506868415833\n",
       "  1.0294656730796006\n",
       "  1.080287038812791\n",
       "  1.1360984539305718\n",
       "  ⋮\n",
       "  0.6168425118747356\n",
       "  0.5961456945496805\n",
       "  0.5476249044756291\n",
       "  0.5047878524859928\n",
       "  0.453410850862611\n",
       "  0.3503986094009979\n",
       "  0.2408502797520761\n",
       "  0.08623353414858678\n",
       " -4.440892098500627e-16"
      ]
     },
     "metadata": {},
     "output_type": "display_data"
    }
   ],
   "source": [
    "S_1_allSites"
   ]
  },
  {
   "cell_type": "code",
   "execution_count": null,
   "metadata": {},
   "outputs": [],
   "source": []
  }
 ],
 "metadata": {
  "kernelspec": {
   "display_name": "Julia 1.9.3",
   "language": "julia",
   "name": "julia-1.9"
  },
  "language_info": {
   "file_extension": ".jl",
   "mimetype": "application/julia",
   "name": "julia",
   "version": "1.9.3"
  }
 },
 "nbformat": 4,
 "nbformat_minor": 2
}
