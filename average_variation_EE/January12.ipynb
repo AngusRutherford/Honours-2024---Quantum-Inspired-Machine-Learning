{
 "cells": [
  {
   "cell_type": "code",
   "execution_count": 1,
   "metadata": {},
   "outputs": [],
   "source": [
    "using ITensors"
   ]
  },
  {
   "cell_type": "markdown",
   "metadata": {},
   "source": [
    "# Compare RDM Approaches"
   ]
  },
  {
   "cell_type": "code",
   "execution_count": 4,
   "metadata": {},
   "outputs": [
    {
     "data": {
      "text/plain": [
       "MPS\n",
       "[1] ((dim=2|id=113|\"S=1/2,Site,n=1\"), (dim=3|id=423|\"Link,l=1\"))\n",
       "[2] ((dim=3|id=423|\"Link,l=1\"), (dim=2|id=188|\"S=1/2,Site,n=2\"), (dim=3|id=992|\"Link,l=2\"))\n",
       "[3] ((dim=3|id=992|\"Link,l=2\"), (dim=2|id=520|\"S=1/2,Site,n=3\"), (dim=3|id=41|\"Link,l=3\"))\n",
       "[4] ((dim=3|id=41|\"Link,l=3\"), (dim=2|id=649|\"S=1/2,Site,n=4\"), (dim=3|id=261|\"Link,l=4\"))\n",
       "[5] ((dim=3|id=261|\"Link,l=4\"), (dim=2|id=850|\"S=1/2,Site,n=5\"), (dim=2|id=776|\"Link,l=5\"))\n",
       "[6] ((dim=2|id=776|\"Link,l=5\"), (dim=2|id=751|\"S=1/2,Site,n=6\"))\n"
      ]
     },
     "metadata": {},
     "output_type": "display_data"
    }
   ],
   "source": [
    "s = siteinds(\"S=1/2\", 6);\n",
    "ψ = randomMPS(s; linkdims=3)"
   ]
  },
  {
   "cell_type": "markdown",
   "metadata": {},
   "source": [
    "Choose site 3"
   ]
  },
  {
   "cell_type": "code",
   "execution_count": 8,
   "metadata": {},
   "outputs": [],
   "source": [
    "ψ1 = deepcopy(ψ);"
   ]
  },
  {
   "cell_type": "code",
   "execution_count": 12,
   "metadata": {},
   "outputs": [],
   "source": [
    "orthogonalize!(ψ1, 3);"
   ]
  },
  {
   "cell_type": "code",
   "execution_count": 17,
   "metadata": {},
   "outputs": [],
   "source": [
    "ρ = prime(ψ1[3], s[3]) * dag(ψ1[3]);"
   ]
  },
  {
   "cell_type": "code",
   "execution_count": 18,
   "metadata": {},
   "outputs": [
    {
     "name": "stdout",
     "output_type": "stream",
     "text": [
      "ρ = ITensor ord=2\n",
      "Dim 1: (dim=2|id=520|\"S=1/2,Site,n=3\")'\n",
      "Dim 2: (dim=2|id=520|\"S=1/2,Site,n=3\")\n",
      "NDTensors.Dense{Float64, Vector{Float64}}\n",
      " 2×2\n",
      "  0.7864668893819489    -0.020836894595178346\n",
      " -0.020836894595178346   0.2135331106180514\n"
     ]
    },
    {
     "data": {
      "text/plain": [
       "ITensor ord=2 (dim=2|id=520|\"S=1/2,Site,n=3\")' (dim=2|id=520|\"S=1/2,Site,n=3\")\n",
       "NDTensors.Dense{Float64, Vector{Float64}}"
      ]
     },
     "metadata": {},
     "output_type": "display_data"
    }
   ],
   "source": [
    "@show ρ"
   ]
  },
  {
   "cell_type": "markdown",
   "metadata": {},
   "source": [
    "Check trace"
   ]
  },
  {
   "cell_type": "code",
   "execution_count": 19,
   "metadata": {},
   "outputs": [
    {
     "data": {
      "text/plain": [
       "1.0000000000000002"
      ]
     },
     "metadata": {},
     "output_type": "display_data"
    }
   ],
   "source": [
    "tr(ρ)"
   ]
  },
  {
   "cell_type": "markdown",
   "metadata": {},
   "source": [
    "check hermitian"
   ]
  },
  {
   "cell_type": "code",
   "execution_count": 23,
   "metadata": {},
   "outputs": [
    {
     "data": {
      "text/plain": [
       "true"
      ]
     },
     "metadata": {},
     "output_type": "display_data"
    }
   ],
   "source": [
    "isequal(ρ, dag(ρ))"
   ]
  },
  {
   "cell_type": "markdown",
   "metadata": {},
   "source": [
    "# Approach 2 Manually tracing"
   ]
  },
  {
   "cell_type": "code",
   "execution_count": 47,
   "metadata": {},
   "outputs": [
    {
     "data": {
      "text/plain": [
       "MPS\n",
       "[1] ((dim=2|id=113|\"S=1/2,Site,n=1\"), (dim=3|id=423|\"Link,l=1\"))\n",
       "[2] ((dim=3|id=423|\"Link,l=1\"), (dim=2|id=188|\"S=1/2,Site,n=2\"), (dim=3|id=992|\"Link,l=2\"))\n",
       "[3] ((dim=3|id=992|\"Link,l=2\"), (dim=2|id=520|\"S=1/2,Site,n=3\"), (dim=3|id=41|\"Link,l=3\"))\n",
       "[4] ((dim=3|id=41|\"Link,l=3\"), (dim=2|id=649|\"S=1/2,Site,n=4\"), (dim=3|id=261|\"Link,l=4\"))\n",
       "[5] ((dim=3|id=261|\"Link,l=4\"), (dim=2|id=850|\"S=1/2,Site,n=5\"), (dim=2|id=776|\"Link,l=5\"))\n",
       "[6] ((dim=2|id=776|\"Link,l=5\"), (dim=2|id=751|\"S=1/2,Site,n=6\"))\n"
      ]
     },
     "metadata": {},
     "output_type": "display_data"
    }
   ],
   "source": [
    "ψ2 = deepcopy(ψ)"
   ]
  },
  {
   "cell_type": "code",
   "execution_count": 56,
   "metadata": {},
   "outputs": [
    {
     "data": {
      "text/plain": [
       "MPS\n",
       "[1] ((dim=2|id=113|\"S=1/2,Site,n=1\"), (dim=3|id=423|\"Link,l=1\")')\n",
       "[2] ((dim=3|id=423|\"Link,l=1\")', (dim=2|id=188|\"S=1/2,Site,n=2\"), (dim=3|id=992|\"Link,l=2\")')\n",
       "[3] ((dim=3|id=992|\"Link,l=2\")', (dim=2|id=520|\"S=1/2,Site,n=3\"), (dim=3|id=41|\"Link,l=3\")')\n",
       "[4] ((dim=3|id=41|\"Link,l=3\")', (dim=2|id=649|\"S=1/2,Site,n=4\"), (dim=3|id=261|\"Link,l=4\")')\n",
       "[5] ((dim=3|id=261|\"Link,l=4\")', (dim=2|id=850|\"S=1/2,Site,n=5\"), (dim=2|id=776|\"Link,l=5\")')\n",
       "[6] ((dim=2|id=776|\"Link,l=5\")', (dim=2|id=751|\"S=1/2,Site,n=6\"))\n"
      ]
     },
     "metadata": {},
     "output_type": "display_data"
    }
   ],
   "source": [
    "ψ2_dag = prime(linkinds, dag(ψ2))"
   ]
  },
  {
   "cell_type": "code",
   "execution_count": 57,
   "metadata": {},
   "outputs": [
    {
     "data": {
      "text/plain": [
       "ITensor ord=2 (dim=3|id=992|\"Link,l=2\") (dim=3|id=992|\"Link,l=2\")'\n",
       "NDTensors.Dense{Float64, Vector{Float64}}"
      ]
     },
     "metadata": {},
     "output_type": "display_data"
    }
   ],
   "source": [
    "L = ψ2[1] * ψ2_dag[1] * ψ2[2] * ψ2_dag[2]"
   ]
  },
  {
   "cell_type": "code",
   "execution_count": 58,
   "metadata": {},
   "outputs": [
    {
     "data": {
      "text/plain": [
       "ITensor ord=2 (dim=3|id=41|\"Link,l=3\") (dim=3|id=41|\"Link,l=3\")'\n",
       "NDTensors.Dense{Float64, Vector{Float64}}"
      ]
     },
     "metadata": {},
     "output_type": "display_data"
    }
   ],
   "source": [
    "R = ψ2[4] * ψ2_dag[4] * ψ2[5] * ψ2_dag[5] * ψ2[6] * ψ2_dag[6]"
   ]
  },
  {
   "cell_type": "code",
   "execution_count": 65,
   "metadata": {},
   "outputs": [
    {
     "data": {
      "text/plain": [
       "ITensor ord=3 (dim=3|id=992|\"Link,l=2\") (dim=2|id=520|\"S=1/2,Site,n=3\") (dim=3|id=41|\"Link,l=3\")\n",
       "NDTensors.Dense{Float64, Vector{Float64}}"
      ]
     },
     "metadata": {},
     "output_type": "display_data"
    }
   ],
   "source": [
    "ψ2[3]"
   ]
  },
  {
   "cell_type": "code",
   "execution_count": 70,
   "metadata": {},
   "outputs": [
    {
     "data": {
      "text/plain": [
       "ITensor ord=2 (dim=2|id=520|\"S=1/2,Site,n=3\") (dim=2|id=520|\"S=1/2,Site,n=3\")'\n",
       "NDTensors.Dense{Float64, Vector{Float64}}"
      ]
     },
     "metadata": {},
     "output_type": "display_data"
    }
   ],
   "source": [
    "out = ψ2[3] * ψ2[3]' * L * R"
   ]
  },
  {
   "cell_type": "code",
   "execution_count": 72,
   "metadata": {},
   "outputs": [
    {
     "name": "stdout",
     "output_type": "stream",
     "text": [
      "out = ITensor ord=2\n",
      "Dim 1: (dim=2|id=520|\"S=1/2,Site,n=3\")\n",
      "Dim 2: (dim=2|id=520|\"S=1/2,Site,n=3\")'\n",
      "NDTensors.Dense{Float64, Vector{Float64}}\n",
      " 2×2\n",
      "  0.7864668893819488   -0.02083689459517837\n",
      " -0.02083689459517837   0.21353311061805133\n"
     ]
    },
    {
     "data": {
      "text/plain": [
       "ITensor ord=2 (dim=2|id=520|\"S=1/2,Site,n=3\") (dim=2|id=520|\"S=1/2,Site,n=3\")'\n",
       "NDTensors.Dense{Float64, Vector{Float64}}"
      ]
     },
     "metadata": {},
     "output_type": "display_data"
    }
   ],
   "source": [
    "@show out"
   ]
  },
  {
   "cell_type": "markdown",
   "metadata": {},
   "source": [
    "Do the same but for site 6"
   ]
  },
  {
   "cell_type": "code",
   "execution_count": 73,
   "metadata": {},
   "outputs": [
    {
     "data": {
      "text/plain": [
       "MPS\n",
       "[1] ((dim=2|id=113|\"S=1/2,Site,n=1\"), (dim=3|id=423|\"Link,l=1\"))\n",
       "[2] ((dim=3|id=423|\"Link,l=1\"), (dim=2|id=188|\"S=1/2,Site,n=2\"), (dim=3|id=992|\"Link,l=2\"))\n",
       "[3] ((dim=3|id=992|\"Link,l=2\"), (dim=2|id=520|\"S=1/2,Site,n=3\"), (dim=3|id=41|\"Link,l=3\"))\n",
       "[4] ((dim=3|id=41|\"Link,l=3\"), (dim=2|id=649|\"S=1/2,Site,n=4\"), (dim=3|id=261|\"Link,l=4\"))\n",
       "[5] ((dim=3|id=261|\"Link,l=4\"), (dim=2|id=850|\"S=1/2,Site,n=5\"), (dim=2|id=776|\"Link,l=5\"))\n",
       "[6] ((dim=2|id=776|\"Link,l=5\"), (dim=2|id=751|\"S=1/2,Site,n=6\"))\n"
      ]
     },
     "metadata": {},
     "output_type": "display_data"
    }
   ],
   "source": [
    "ψ3 = deepcopy(ψ)"
   ]
  },
  {
   "cell_type": "code",
   "execution_count": 74,
   "metadata": {},
   "outputs": [],
   "source": [
    "orthogonalize!(ψ3, 6);"
   ]
  },
  {
   "cell_type": "code",
   "execution_count": 80,
   "metadata": {},
   "outputs": [
    {
     "name": "stdout",
     "output_type": "stream",
     "text": [
      "ρ = ITensor ord=2\n",
      "Dim 1: (dim=2|id=751|\"S=1/2,Site,n=6\")'\n",
      "Dim 2: (dim=2|id=751|\"S=1/2,Site,n=6\")\n",
      "NDTensors.Dense{Float64, Vector{Float64}}\n",
      " 2×2\n",
      "  0.5871178549425848   -0.09668333287052744\n",
      " -0.09668333287052744   0.41288214505741566\n"
     ]
    },
    {
     "data": {
      "text/plain": [
       "ITensor ord=2 (dim=2|id=751|\"S=1/2,Site,n=6\")' (dim=2|id=751|\"S=1/2,Site,n=6\")\n",
       "NDTensors.Dense{Float64, Vector{Float64}}"
      ]
     },
     "metadata": {},
     "output_type": "display_data"
    }
   ],
   "source": [
    "ρ = prime(ψ3[6], s[6]) * dag(ψ3[6]);\n",
    "@show ρ"
   ]
  },
  {
   "cell_type": "code",
   "execution_count": 81,
   "metadata": {},
   "outputs": [
    {
     "data": {
      "text/plain": [
       "1.0000000000000004"
      ]
     },
     "metadata": {},
     "output_type": "display_data"
    }
   ],
   "source": [
    "tr(ρ)"
   ]
  },
  {
   "cell_type": "code",
   "execution_count": 82,
   "metadata": {},
   "outputs": [
    {
     "data": {
      "text/plain": [
       "MPS\n",
       "[1] ((dim=2|id=113|\"S=1/2,Site,n=1\"), (dim=3|id=423|\"Link,l=1\"))\n",
       "[2] ((dim=3|id=423|\"Link,l=1\"), (dim=2|id=188|\"S=1/2,Site,n=2\"), (dim=3|id=992|\"Link,l=2\"))\n",
       "[3] ((dim=3|id=992|\"Link,l=2\"), (dim=2|id=520|\"S=1/2,Site,n=3\"), (dim=3|id=41|\"Link,l=3\"))\n",
       "[4] ((dim=3|id=41|\"Link,l=3\"), (dim=2|id=649|\"S=1/2,Site,n=4\"), (dim=3|id=261|\"Link,l=4\"))\n",
       "[5] ((dim=3|id=261|\"Link,l=4\"), (dim=2|id=850|\"S=1/2,Site,n=5\"), (dim=2|id=776|\"Link,l=5\"))\n",
       "[6] ((dim=2|id=776|\"Link,l=5\"), (dim=2|id=751|\"S=1/2,Site,n=6\"))\n"
      ]
     },
     "metadata": {},
     "output_type": "display_data"
    }
   ],
   "source": [
    "ψ4 = deepcopy(ψ)"
   ]
  },
  {
   "cell_type": "code",
   "execution_count": 84,
   "metadata": {},
   "outputs": [
    {
     "data": {
      "text/plain": [
       "MPS\n",
       "[1] ((dim=2|id=113|\"S=1/2,Site,n=1\"), (dim=3|id=423|\"Link,l=1\")')\n",
       "[2] ((dim=3|id=423|\"Link,l=1\")', (dim=2|id=188|\"S=1/2,Site,n=2\"), (dim=3|id=992|\"Link,l=2\")')\n",
       "[3] ((dim=3|id=992|\"Link,l=2\")', (dim=2|id=520|\"S=1/2,Site,n=3\"), (dim=3|id=41|\"Link,l=3\")')\n",
       "[4] ((dim=3|id=41|\"Link,l=3\")', (dim=2|id=649|\"S=1/2,Site,n=4\"), (dim=3|id=261|\"Link,l=4\")')\n",
       "[5] ((dim=3|id=261|\"Link,l=4\")', (dim=2|id=850|\"S=1/2,Site,n=5\"), (dim=2|id=776|\"Link,l=5\")')\n",
       "[6] ((dim=2|id=776|\"Link,l=5\")', (dim=2|id=751|\"S=1/2,Site,n=6\"))\n"
      ]
     },
     "metadata": {},
     "output_type": "display_data"
    }
   ],
   "source": [
    "ψ4_dag = prime(linkinds, dag(ψ4))"
   ]
  },
  {
   "cell_type": "code",
   "execution_count": 85,
   "metadata": {},
   "outputs": [
    {
     "data": {
      "text/plain": [
       "ITensor ord=2 (dim=2|id=776|\"Link,l=5\") (dim=2|id=776|\"Link,l=5\")'\n",
       "NDTensors.Dense{Float64, Vector{Float64}}"
      ]
     },
     "metadata": {},
     "output_type": "display_data"
    }
   ],
   "source": [
    "L = ψ4[1] * ψ4_dag[1] * ψ4[2] * ψ4_dag[2] * ψ4[3] * ψ4_dag[3] * ψ4[4] * ψ4_dag[4] * ψ4[5] * ψ4_dag[5]"
   ]
  },
  {
   "cell_type": "code",
   "execution_count": 86,
   "metadata": {},
   "outputs": [
    {
     "data": {
      "text/plain": [
       "ITensor ord=2 (dim=2|id=751|\"S=1/2,Site,n=6\") (dim=2|id=751|\"S=1/2,Site,n=6\")'\n",
       "NDTensors.Dense{Float64, Vector{Float64}}"
      ]
     },
     "metadata": {},
     "output_type": "display_data"
    }
   ],
   "source": [
    "out = L * ψ4[6] * ψ4[6]'"
   ]
  },
  {
   "cell_type": "code",
   "execution_count": 87,
   "metadata": {},
   "outputs": [
    {
     "name": "stdout",
     "output_type": "stream",
     "text": [
      "out = ITensor ord=2\n",
      "Dim 1: (dim=2|id=751|\"S=1/2,Site,n=6\")\n",
      "Dim 2: (dim=2|id=751|\"S=1/2,Site,n=6\")'\n",
      "NDTensors.Dense{Float64, Vector{Float64}}\n",
      " 2×2\n",
      "  0.5871178549425845   -0.0966833328705275\n",
      " -0.09668333287052748   0.4128821450574157\n"
     ]
    },
    {
     "data": {
      "text/plain": [
       "ITensor ord=2 (dim=2|id=751|\"S=1/2,Site,n=6\") (dim=2|id=751|\"S=1/2,Site,n=6\")'\n",
       "NDTensors.Dense{Float64, Vector{Float64}}"
      ]
     },
     "metadata": {},
     "output_type": "display_data"
    }
   ],
   "source": [
    "@show out"
   ]
  },
  {
   "cell_type": "markdown",
   "metadata": {},
   "source": [
    "---------"
   ]
  },
  {
   "cell_type": "markdown",
   "metadata": {},
   "source": [
    "# Approach Trial"
   ]
  },
  {
   "cell_type": "markdown",
   "metadata": {},
   "source": [
    "We will do a 10 site MPS"
   ]
  },
  {
   "cell_type": "code",
   "execution_count": 2,
   "metadata": {},
   "outputs": [
    {
     "data": {
      "text/plain": [
       "MPS\n",
       "[1] ((dim=2|id=698|\"S=1/2,Site,n=1\"), (dim=5|id=921|\"Link,l=1\"))\n",
       "[2] ((dim=5|id=921|\"Link,l=1\"), (dim=2|id=624|\"S=1/2,Site,n=2\"), (dim=5|id=19|\"Link,l=2\"))\n",
       "[3] ((dim=5|id=19|\"Link,l=2\"), (dim=2|id=697|\"S=1/2,Site,n=3\"), (dim=5|id=679|\"Link,l=3\"))\n",
       "[4] ((dim=5|id=679|\"Link,l=3\"), (dim=2|id=603|\"S=1/2,Site,n=4\"), (dim=5|id=91|\"Link,l=4\"))\n",
       "[5] ((dim=5|id=91|\"Link,l=4\"), (dim=2|id=438|\"S=1/2,Site,n=5\"), (dim=5|id=182|\"Link,l=5\"))\n",
       "[6] ((dim=5|id=182|\"Link,l=5\"), (dim=2|id=566|\"S=1/2,Site,n=6\"), (dim=5|id=246|\"Link,l=6\"))\n",
       "[7] ((dim=5|id=246|\"Link,l=6\"), (dim=2|id=247|\"S=1/2,Site,n=7\"), (dim=5|id=561|\"Link,l=7\"))\n",
       "[8] ((dim=5|id=561|\"Link,l=7\"), (dim=2|id=995|\"S=1/2,Site,n=8\"), (dim=4|id=347|\"Link,l=8\"))\n",
       "[9] ((dim=4|id=347|\"Link,l=8\"), (dim=2|id=494|\"S=1/2,Site,n=9\"), (dim=2|id=944|\"Link,l=9\"))\n",
       "[10] ((dim=2|id=944|\"Link,l=9\"), (dim=2|id=187|\"S=1/2,Site,n=10\"))\n"
      ]
     },
     "metadata": {},
     "output_type": "display_data"
    }
   ],
   "source": [
    "s = siteinds(\"S=1/2\", 10)\n",
    "ψ = randomMPS(s; linkdims=5)"
   ]
  },
  {
   "cell_type": "markdown",
   "metadata": {},
   "source": [
    "Now let's measure site 1 to be \"large\" (max value)"
   ]
  },
  {
   "cell_type": "code",
   "execution_count": 6,
   "metadata": {},
   "outputs": [
    {
     "name": "stdout",
     "output_type": "stream",
     "text": [
      "projector_as_operator = ITensor ord=2\n",
      "Dim 1: (dim=2|id=698|\"S=1/2,Site,n=1\")'\n",
      "Dim 2: (dim=2|id=698|\"S=1/2,Site,n=1\")\n",
      "NDTensors.Dense{Float64, Vector{Float64}}\n",
      " 2×2\n",
      " 1.0  0.0\n",
      " 0.0  0.0\n"
     ]
    },
    {
     "data": {
      "text/plain": [
       "ITensor ord=2 (dim=2|id=698|\"S=1/2,Site,n=1\")' (dim=2|id=698|\"S=1/2,Site,n=1\")\n",
       "NDTensors.Dense{Float64, Vector{Float64}}"
      ]
     },
     "metadata": {},
     "output_type": "display_data"
    }
   ],
   "source": [
    "large = Vector([1.0; 0])\n",
    "projector = large * large'\n",
    "projector_as_operator = op(projector, s[1])\n",
    "@show projector_as_operator"
   ]
  },
  {
   "cell_type": "markdown",
   "metadata": {},
   "source": [
    "Now we apply the single site operator at the first site to make the measurement, giving us a new MPS"
   ]
  },
  {
   "cell_type": "code",
   "execution_count": 10,
   "metadata": {},
   "outputs": [
    {
     "data": {
      "text/plain": [
       "ITensor ord=2 (dim=5|id=921|\"Link,l=1\") (dim=2|id=698|\"S=1/2,Site,n=1\")\n",
       "NDTensors.Dense{Float64, Vector{Float64}}"
      ]
     },
     "metadata": {},
     "output_type": "display_data"
    }
   ],
   "source": [
    "site1_before_measure = deepcopy(ψ[1])\n",
    "site1_after_measure = site1_before_measure * projector_as_operator\n",
    "noprime!(site1_after_measure)"
   ]
  },
  {
   "cell_type": "code",
   "execution_count": 11,
   "metadata": {},
   "outputs": [
    {
     "name": "stdout",
     "output_type": "stream",
     "text": [
      "site1_after_measure = ITensor ord=2\n",
      "Dim 1: (dim=5|id=921|\"Link,l=1\")\n",
      "Dim 2: (dim=2|id=698|\"S=1/2,Site,n=1\")\n",
      "NDTensors.Dense{Float64, Vector{Float64}}\n",
      " 5×2\n",
      "  0.06392531521821398   0.0\n",
      "  0.44740667062379563   0.0\n",
      " -0.021142188400833956  0.0\n",
      "  0.3166858817039392    0.0\n",
      " -0.4578842317775713    0.0\n"
     ]
    },
    {
     "data": {
      "text/plain": [
       "ITensor ord=2 (dim=5|id=921|\"Link,l=1\") (dim=2|id=698|\"S=1/2,Site,n=1\")\n",
       "NDTensors.Dense{Float64, Vector{Float64}}"
      ]
     },
     "metadata": {},
     "output_type": "display_data"
    }
   ],
   "source": [
    "@show site1_after_measure"
   ]
  },
  {
   "cell_type": "code",
   "execution_count": 13,
   "metadata": {},
   "outputs": [
    {
     "data": {
      "text/plain": [
       "ITensor ord=2 (dim=5|id=921|\"Link,l=1\") (dim=2|id=698|\"S=1/2,Site,n=1\")\n",
       "NDTensors.Dense{Float64, Vector{Float64}}"
      ]
     },
     "metadata": {},
     "output_type": "display_data"
    }
   ],
   "source": [
    "ψ[1] = site1_after_measure"
   ]
  },
  {
   "cell_type": "code",
   "execution_count": 16,
   "metadata": {},
   "outputs": [
    {
     "data": {
      "text/plain": [
       "MPS\n",
       "[1] ((dim=5|id=921|\"Link,l=1\"), (dim=2|id=698|\"S=1/2,Site,n=1\"))\n",
       "[2] ((dim=5|id=921|\"Link,l=1\"), (dim=2|id=624|\"S=1/2,Site,n=2\"), (dim=5|id=19|\"Link,l=2\"))\n",
       "[3] ((dim=5|id=19|\"Link,l=2\"), (dim=2|id=697|\"S=1/2,Site,n=3\"), (dim=5|id=679|\"Link,l=3\"))\n",
       "[4] ((dim=5|id=679|\"Link,l=3\"), (dim=2|id=603|\"S=1/2,Site,n=4\"), (dim=5|id=91|\"Link,l=4\"))\n",
       "[5] ((dim=5|id=91|\"Link,l=4\"), (dim=2|id=438|\"S=1/2,Site,n=5\"), (dim=5|id=182|\"Link,l=5\"))\n",
       "[6] ((dim=5|id=182|\"Link,l=5\"), (dim=2|id=566|\"S=1/2,Site,n=6\"), (dim=5|id=246|\"Link,l=6\"))\n",
       "[7] ((dim=5|id=246|\"Link,l=6\"), (dim=2|id=247|\"S=1/2,Site,n=7\"), (dim=5|id=561|\"Link,l=7\"))\n",
       "[8] ((dim=5|id=561|\"Link,l=7\"), (dim=2|id=995|\"S=1/2,Site,n=8\"), (dim=4|id=347|\"Link,l=8\"))\n",
       "[9] ((dim=4|id=347|\"Link,l=8\"), (dim=2|id=494|\"S=1/2,Site,n=9\"), (dim=2|id=944|\"Link,l=9\"))\n",
       "[10] ((dim=2|id=944|\"Link,l=9\"), (dim=2|id=187|\"S=1/2,Site,n=10\"))\n"
      ]
     },
     "metadata": {},
     "output_type": "display_data"
    }
   ],
   "source": [
    "normalize!(ψ)"
   ]
  },
  {
   "cell_type": "markdown",
   "metadata": {},
   "source": [
    "Now that we have measured site 1, we would like to know the probability of site 2 being up or down, given we have measured site 1 to be large."
   ]
  },
  {
   "cell_type": "code",
   "execution_count": 17,
   "metadata": {},
   "outputs": [
    {
     "data": {
      "text/plain": [
       "MPS\n",
       "[1] ((dim=2|id=698|\"S=1/2,Site,n=1\"), (dim=2|id=186|\"Link,l=1\"))\n",
       "[2] ((dim=2|id=624|\"S=1/2,Site,n=2\"), (dim=5|id=19|\"Link,l=2\"), (dim=2|id=186|\"Link,l=1\"))\n",
       "[3] ((dim=5|id=19|\"Link,l=2\"), (dim=2|id=697|\"S=1/2,Site,n=3\"), (dim=5|id=679|\"Link,l=3\"))\n",
       "[4] ((dim=5|id=679|\"Link,l=3\"), (dim=2|id=603|\"S=1/2,Site,n=4\"), (dim=5|id=91|\"Link,l=4\"))\n",
       "[5] ((dim=5|id=91|\"Link,l=4\"), (dim=2|id=438|\"S=1/2,Site,n=5\"), (dim=5|id=182|\"Link,l=5\"))\n",
       "[6] ((dim=5|id=182|\"Link,l=5\"), (dim=2|id=566|\"S=1/2,Site,n=6\"), (dim=5|id=246|\"Link,l=6\"))\n",
       "[7] ((dim=5|id=246|\"Link,l=6\"), (dim=2|id=247|\"S=1/2,Site,n=7\"), (dim=5|id=561|\"Link,l=7\"))\n",
       "[8] ((dim=5|id=561|\"Link,l=7\"), (dim=2|id=995|\"S=1/2,Site,n=8\"), (dim=4|id=347|\"Link,l=8\"))\n",
       "[9] ((dim=4|id=347|\"Link,l=8\"), (dim=2|id=494|\"S=1/2,Site,n=9\"), (dim=2|id=944|\"Link,l=9\"))\n",
       "[10] ((dim=2|id=944|\"Link,l=9\"), (dim=2|id=187|\"S=1/2,Site,n=10\"))\n"
      ]
     },
     "metadata": {},
     "output_type": "display_data"
    }
   ],
   "source": [
    "orthogonalize!(ψ, 2)"
   ]
  },
  {
   "cell_type": "code",
   "execution_count": 18,
   "metadata": {},
   "outputs": [
    {
     "data": {
      "text/plain": [
       "ITensor ord=2 (dim=2|id=624|\"S=1/2,Site,n=2\")' (dim=2|id=624|\"S=1/2,Site,n=2\")\n",
       "NDTensors.Dense{Float64, Vector{Float64}}"
      ]
     },
     "metadata": {},
     "output_type": "display_data"
    }
   ],
   "source": [
    "rho = prime(ψ[2], s[2]) * dag(ψ[2])"
   ]
  },
  {
   "cell_type": "code",
   "execution_count": 19,
   "metadata": {},
   "outputs": [
    {
     "name": "stdout",
     "output_type": "stream",
     "text": [
      "rho = ITensor ord=2\n",
      "Dim 1: (dim=2|id=624|\"S=1/2,Site,n=2\")'\n",
      "Dim 2: (dim=2|id=624|\"S=1/2,Site,n=2\")\n",
      "NDTensors.Dense{Float64, Vector{Float64}}\n",
      " 2×2\n",
      " 0.419677230223639   0.1042551891926163\n",
      " 0.1042551891926163  0.5803227697763612\n"
     ]
    },
    {
     "data": {
      "text/plain": [
       "ITensor ord=2 (dim=2|id=624|\"S=1/2,Site,n=2\")' (dim=2|id=624|\"S=1/2,Site,n=2\")\n",
       "NDTensors.Dense{Float64, Vector{Float64}}"
      ]
     },
     "metadata": {},
     "output_type": "display_data"
    }
   ],
   "source": [
    "@show rho"
   ]
  },
  {
   "cell_type": "markdown",
   "metadata": {},
   "source": [
    "Let's get the trace and verify it is Hermitian"
   ]
  },
  {
   "cell_type": "code",
   "execution_count": 20,
   "metadata": {},
   "outputs": [
    {
     "data": {
      "text/plain": [
       "1.0000000000000002"
      ]
     },
     "metadata": {},
     "output_type": "display_data"
    }
   ],
   "source": [
    "tr(rho)"
   ]
  },
  {
   "cell_type": "code",
   "execution_count": 21,
   "metadata": {},
   "outputs": [
    {
     "data": {
      "text/plain": [
       "true"
      ]
     },
     "metadata": {},
     "output_type": "display_data"
    }
   ],
   "source": [
    "isequal(rho, dag(rho))"
   ]
  },
  {
   "cell_type": "markdown",
   "metadata": {},
   "source": [
    "Now that we have the density matrix $\\rho$, let's diagonalize to get the probabilities (eigenvalues) as well as the eigenstates:"
   ]
  },
  {
   "cell_type": "code",
   "execution_count": 47,
   "metadata": {},
   "outputs": [
    {
     "data": {
      "text/plain": [
       "2×2 Matrix{Float64}:\n",
       " 0.419677  0.104255\n",
       " 0.104255  0.580323"
      ]
     },
     "metadata": {},
     "output_type": "display_data"
    }
   ],
   "source": [
    "rho_M = matrix(rho)"
   ]
  },
  {
   "cell_type": "code",
   "execution_count": 50,
   "metadata": {},
   "outputs": [
    {
     "data": {
      "text/plain": [
       "Eigen{Float64, Float64, Matrix{Float64}, Vector{Float64}}\n",
       "values:\n",
       "2-element Vector{Float64}:\n",
       " 0.36839114080680396\n",
       " 0.6316088591931962\n",
       "vectors:\n",
       "2×2 Matrix{Float64}:\n",
       " -0.897305  0.44141\n",
       "  0.44141   0.897305"
      ]
     },
     "metadata": {},
     "output_type": "display_data"
    }
   ],
   "source": [
    "F = eigen(rho_M)"
   ]
  },
  {
   "cell_type": "code",
   "execution_count": 51,
   "metadata": {},
   "outputs": [
    {
     "data": {
      "text/plain": [
       "2-element Vector{Float64}:\n",
       " 0.36839114080680396\n",
       " 0.6316088591931962"
      ]
     },
     "metadata": {},
     "output_type": "display_data"
    }
   ],
   "source": [
    "F.values"
   ]
  },
  {
   "cell_type": "code",
   "execution_count": 53,
   "metadata": {},
   "outputs": [
    {
     "data": {
      "text/plain": [
       "1.0000000000000002"
      ]
     },
     "metadata": {},
     "output_type": "display_data"
    }
   ],
   "source": [
    "sum(F.values)"
   ]
  },
  {
   "cell_type": "markdown",
   "metadata": {},
   "source": [
    "So the eigenvals sum to 1, which is what we expect since they reprent probabilities of the corresponding eigenstates."
   ]
  },
  {
   "cell_type": "markdown",
   "metadata": {},
   "source": [
    "So we have the following:\n",
    "$$\\rho = \\lambda_1 \\ket{v_1} \\bra{v_1} + \\lambda_2 \\ket{v_2} \\bra{v_2}$$\n",
    "Where $\\lambda_1 = 0.3683$, $\\lambda_2 = 0.6316$"
   ]
  },
  {
   "cell_type": "code",
   "execution_count": 57,
   "metadata": {},
   "outputs": [
    {
     "data": {
      "text/plain": [
       "2×2 Matrix{Float64}:\n",
       " 0.419677  0.104255\n",
       " 0.104255  0.580323"
      ]
     },
     "metadata": {},
     "output_type": "display_data"
    }
   ],
   "source": [
    "F.vectors[:, 1] *F.vectors[:, 1]' * F.values[1] + F.vectors[:, 2] * F.vectors[:, 2]' * F.values[2]"
   ]
  },
  {
   "cell_type": "code",
   "execution_count": 58,
   "metadata": {},
   "outputs": [
    {
     "data": {
      "text/plain": [
       "2-element Vector{Float64}:\n",
       " -0.8973054963693176\n",
       "  0.4414100657953015"
      ]
     },
     "metadata": {},
     "output_type": "display_data"
    }
   ],
   "source": [
    "F.vectors[:,1]"
   ]
  },
  {
   "cell_type": "markdown",
   "metadata": {},
   "source": [
    "# Simulate an outcome\n",
    "We now generate a random number and determine an outcome."
   ]
  },
  {
   "cell_type": "code",
   "execution_count": 70,
   "metadata": {},
   "outputs": [],
   "source": [
    "using Random"
   ]
  },
  {
   "cell_type": "code",
   "execution_count": 85,
   "metadata": {},
   "outputs": [],
   "source": [
    "p1, p2 = F.values;"
   ]
  },
  {
   "cell_type": "code",
   "execution_count": 87,
   "metadata": {},
   "outputs": [
    {
     "data": {
      "text/plain": [
       "0.36839114080680396"
      ]
     },
     "metadata": {},
     "output_type": "display_data"
    }
   ],
   "source": [
    "p1"
   ]
  },
  {
   "cell_type": "code",
   "execution_count": 88,
   "metadata": {},
   "outputs": [
    {
     "data": {
      "text/plain": [
       "0.6316088591931962"
      ]
     },
     "metadata": {},
     "output_type": "display_data"
    }
   ],
   "source": [
    "p2"
   ]
  },
  {
   "cell_type": "code",
   "execution_count": 97,
   "metadata": {},
   "outputs": [
    {
     "name": "stdout",
     "output_type": "stream",
     "text": [
      "First eigenstate"
     ]
    },
    {
     "data": {
      "text/plain": [
       "2-element Vector{Float64}:\n",
       " -0.8973054963693176\n",
       "  0.4414100657953015"
      ]
     },
     "metadata": {},
     "output_type": "display_data"
    }
   ],
   "source": [
    "r = rand()\n",
    "if r <= p1\n",
    "    print(\"First eigenstate\")\n",
    "    outcome = F.vectors[:, 1]\n",
    "else\n",
    "    print(\"Second eigenstate\")\n",
    "    outcome = F.vectors[:,2]\n",
    "end"
   ]
  },
  {
   "cell_type": "markdown",
   "metadata": {},
   "source": [
    "Here, we obtain the first eigenstate as the outcome from our random number generator. Thus, we collpase our quantum state onto the first eigenvector:"
   ]
  },
  {
   "cell_type": "code",
   "execution_count": 98,
   "metadata": {},
   "outputs": [
    {
     "data": {
      "text/plain": [
       "2-element Vector{Float64}:\n",
       " -0.8973054963693176\n",
       "  0.4414100657953015"
      ]
     },
     "metadata": {},
     "output_type": "display_data"
    }
   ],
   "source": [
    "outcome"
   ]
  },
  {
   "cell_type": "code",
   "execution_count": 105,
   "metadata": {},
   "outputs": [
    {
     "data": {
      "text/plain": [
       "2-element Vector{Float64}:\n",
       " -0.8973054963693176\n",
       "  0.4414100657953015"
      ]
     },
     "metadata": {},
     "output_type": "display_data"
    }
   ],
   "source": [
    "measurement = F.vectors[:,1]"
   ]
  },
  {
   "cell_type": "markdown",
   "metadata": {},
   "source": [
    "Let's convert this back to a time-series value by getting an angle:"
   ]
  },
  {
   "cell_type": "code",
   "execution_count": 116,
   "metadata": {},
   "outputs": [
    {
     "data": {
      "text/plain": [
       "2-element Vector{Float64}:\n",
       " -0.8973054963693176\n",
       "  0.4414100657953015"
      ]
     },
     "metadata": {},
     "output_type": "display_data"
    }
   ],
   "source": [
    "measurement"
   ]
  },
  {
   "cell_type": "code",
   "execution_count": 126,
   "metadata": {},
   "outputs": [
    {
     "data": {
      "text/plain": [
       "1.7089568495750118"
      ]
     },
     "metadata": {},
     "output_type": "display_data"
    }
   ],
   "source": [
    "θ = acos(measurement[1]) \n",
    "(2 * θ)/π"
   ]
  },
  {
   "cell_type": "markdown",
   "metadata": {},
   "source": [
    "Now we construct a projector to project our MPS onto the subspace in which we make this measurement:"
   ]
  },
  {
   "cell_type": "code",
   "execution_count": 107,
   "metadata": {},
   "outputs": [
    {
     "data": {
      "text/plain": [
       "ITensor ord=2 (dim=2|id=624|\"S=1/2,Site,n=2\")' (dim=2|id=624|\"S=1/2,Site,n=2\")\n",
       "NDTensors.Dense{Float64, Vector{Float64}}"
      ]
     },
     "metadata": {},
     "output_type": "display_data"
    }
   ],
   "source": [
    "measurement_projector = measurement * measurement'\n",
    "measurement_projector_as_operator = op(measurement_projector, s[2])"
   ]
  },
  {
   "cell_type": "code",
   "execution_count": 114,
   "metadata": {},
   "outputs": [
    {
     "data": {
      "text/plain": [
       "ITensor ord=3 (dim=5|id=19|\"Link,l=2\") (dim=2|id=186|\"Link,l=1\") (dim=2|id=624|\"S=1/2,Site,n=2\")\n",
       "NDTensors.Dense{Float64, Vector{Float64}}"
      ]
     },
     "metadata": {},
     "output_type": "display_data"
    }
   ],
   "source": [
    "site_2_before_measurment = deepcopy(ψ[2])\n",
    "site_2_after_measurement = site_2_before_measurment * measurement_projector_as_operator\n",
    "noprime!(site_2_after_measurement)"
   ]
  },
  {
   "cell_type": "markdown",
   "metadata": {},
   "source": [
    "Update MPS with measured site 2"
   ]
  },
  {
   "cell_type": "code",
   "execution_count": 128,
   "metadata": {},
   "outputs": [
    {
     "data": {
      "text/plain": [
       "ITensor ord=3 (dim=5|id=19|\"Link,l=2\") (dim=2|id=186|\"Link,l=1\") (dim=2|id=624|\"S=1/2,Site,n=2\")\n",
       "NDTensors.Dense{Float64, Vector{Float64}}"
      ]
     },
     "metadata": {},
     "output_type": "display_data"
    }
   ],
   "source": [
    "ψ[2] = site_2_after_measurement"
   ]
  },
  {
   "cell_type": "code",
   "execution_count": 130,
   "metadata": {},
   "outputs": [
    {
     "data": {
      "text/plain": [
       "MPS\n",
       "[1] ((dim=2|id=698|\"S=1/2,Site,n=1\"), (dim=2|id=186|\"Link,l=1\"))\n",
       "[2] ((dim=5|id=19|\"Link,l=2\"), (dim=2|id=186|\"Link,l=1\"), (dim=2|id=624|\"S=1/2,Site,n=2\"))\n",
       "[3] ((dim=5|id=19|\"Link,l=2\"), (dim=2|id=697|\"S=1/2,Site,n=3\"), (dim=5|id=679|\"Link,l=3\"))\n",
       "[4] ((dim=5|id=679|\"Link,l=3\"), (dim=2|id=603|\"S=1/2,Site,n=4\"), (dim=5|id=91|\"Link,l=4\"))\n",
       "[5] ((dim=5|id=91|\"Link,l=4\"), (dim=2|id=438|\"S=1/2,Site,n=5\"), (dim=5|id=182|\"Link,l=5\"))\n",
       "[6] ((dim=5|id=182|\"Link,l=5\"), (dim=2|id=566|\"S=1/2,Site,n=6\"), (dim=5|id=246|\"Link,l=6\"))\n",
       "[7] ((dim=5|id=246|\"Link,l=6\"), (dim=2|id=247|\"S=1/2,Site,n=7\"), (dim=5|id=561|\"Link,l=7\"))\n",
       "[8] ((dim=5|id=561|\"Link,l=7\"), (dim=2|id=995|\"S=1/2,Site,n=8\"), (dim=4|id=347|\"Link,l=8\"))\n",
       "[9] ((dim=4|id=347|\"Link,l=8\"), (dim=2|id=494|\"S=1/2,Site,n=9\"), (dim=2|id=944|\"Link,l=9\"))\n",
       "[10] ((dim=2|id=944|\"Link,l=9\"), (dim=2|id=187|\"S=1/2,Site,n=10\"))\n"
      ]
     },
     "metadata": {},
     "output_type": "display_data"
    }
   ],
   "source": [
    "normalize!(ψ)"
   ]
  },
  {
   "cell_type": "code",
   "execution_count": 131,
   "metadata": {},
   "outputs": [
    {
     "data": {
      "text/plain": [
       "0.9999999999999999"
      ]
     },
     "metadata": {},
     "output_type": "display_data"
    }
   ],
   "source": [
    "norm(ψ)"
   ]
  },
  {
   "cell_type": "markdown",
   "metadata": {},
   "source": [
    "# Site 3"
   ]
  },
  {
   "cell_type": "markdown",
   "metadata": {},
   "source": [
    "We will try one more site"
   ]
  },
  {
   "cell_type": "markdown",
   "metadata": {},
   "source": [
    "(1) Get the reduced density matrix"
   ]
  },
  {
   "cell_type": "code",
   "execution_count": 132,
   "metadata": {},
   "outputs": [
    {
     "data": {
      "text/plain": [
       "MPS\n",
       "[1] ((dim=2|id=698|\"S=1/2,Site,n=1\"), (dim=2|id=186|\"Link,l=1\"))\n",
       "[2] ((dim=2|id=186|\"Link,l=1\"), (dim=2|id=624|\"S=1/2,Site,n=2\"), (dim=4|id=819|\"Link,l=2\"))\n",
       "[3] ((dim=2|id=697|\"S=1/2,Site,n=3\"), (dim=5|id=679|\"Link,l=3\"), (dim=4|id=819|\"Link,l=2\"))\n",
       "[4] ((dim=5|id=679|\"Link,l=3\"), (dim=2|id=603|\"S=1/2,Site,n=4\"), (dim=5|id=91|\"Link,l=4\"))\n",
       "[5] ((dim=5|id=91|\"Link,l=4\"), (dim=2|id=438|\"S=1/2,Site,n=5\"), (dim=5|id=182|\"Link,l=5\"))\n",
       "[6] ((dim=5|id=182|\"Link,l=5\"), (dim=2|id=566|\"S=1/2,Site,n=6\"), (dim=5|id=246|\"Link,l=6\"))\n",
       "[7] ((dim=5|id=246|\"Link,l=6\"), (dim=2|id=247|\"S=1/2,Site,n=7\"), (dim=5|id=561|\"Link,l=7\"))\n",
       "[8] ((dim=5|id=561|\"Link,l=7\"), (dim=2|id=995|\"S=1/2,Site,n=8\"), (dim=4|id=347|\"Link,l=8\"))\n",
       "[9] ((dim=4|id=347|\"Link,l=8\"), (dim=2|id=494|\"S=1/2,Site,n=9\"), (dim=2|id=944|\"Link,l=9\"))\n",
       "[10] ((dim=2|id=944|\"Link,l=9\"), (dim=2|id=187|\"S=1/2,Site,n=10\"))\n"
      ]
     },
     "metadata": {},
     "output_type": "display_data"
    }
   ],
   "source": [
    "ψ3 = orthogonalize(ψ, 3)"
   ]
  },
  {
   "cell_type": "code",
   "execution_count": 133,
   "metadata": {},
   "outputs": [
    {
     "data": {
      "text/plain": [
       "ITensor ord=2 (dim=2|id=697|\"S=1/2,Site,n=3\")' (dim=2|id=697|\"S=1/2,Site,n=3\")\n",
       "NDTensors.Dense{Float64, Vector{Float64}}"
      ]
     },
     "metadata": {},
     "output_type": "display_data"
    }
   ],
   "source": [
    "ρ = prime(ψ3[3], s[3]) * dag(ψ3[3])"
   ]
  },
  {
   "cell_type": "code",
   "execution_count": 135,
   "metadata": {},
   "outputs": [
    {
     "data": {
      "text/plain": [
       "2×2 Matrix{Float64}:\n",
       " 0.362018  0.288146\n",
       " 0.288146  0.637982"
      ]
     },
     "metadata": {},
     "output_type": "display_data"
    }
   ],
   "source": [
    "M = matrix(ρ)"
   ]
  },
  {
   "cell_type": "code",
   "execution_count": 136,
   "metadata": {},
   "outputs": [
    {
     "data": {
      "text/plain": [
       "1.0000000000000002"
      ]
     },
     "metadata": {},
     "output_type": "display_data"
    }
   ],
   "source": [
    "tr(M)"
   ]
  },
  {
   "cell_type": "code",
   "execution_count": 138,
   "metadata": {},
   "outputs": [],
   "source": [
    "F = eigen(M);"
   ]
  },
  {
   "cell_type": "code",
   "execution_count": 145,
   "metadata": {},
   "outputs": [
    {
     "data": {
      "text/plain": [
       "2-element Vector{Float64}:\n",
       " 0.18052037359804832\n",
       " 0.8194796264019519"
      ]
     },
     "metadata": {},
     "output_type": "display_data"
    }
   ],
   "source": [
    "λ1, λ2 = F.values"
   ]
  },
  {
   "cell_type": "code",
   "execution_count": 146,
   "metadata": {},
   "outputs": [
    {
     "data": {
      "text/plain": [
       "0.18052037359804832"
      ]
     },
     "metadata": {},
     "output_type": "display_data"
    }
   ],
   "source": [
    "λ1"
   ]
  },
  {
   "cell_type": "code",
   "execution_count": 147,
   "metadata": {},
   "outputs": [
    {
     "data": {
      "text/plain": [
       "2-element Vector{Float64}:\n",
       " 0.5329646904863672\n",
       " 0.8461374821474172"
      ]
     },
     "metadata": {},
     "output_type": "display_data"
    }
   ],
   "source": [
    "v1 = F.vectors[:, 1]\n",
    "v2 = F.vectors[:, 2]"
   ]
  },
  {
   "cell_type": "code",
   "execution_count": 152,
   "metadata": {},
   "outputs": [
    {
     "data": {
      "text/plain": [
       "0.18052037359804832"
      ]
     },
     "metadata": {},
     "output_type": "display_data"
    }
   ],
   "source": [
    "p1 = λ1"
   ]
  },
  {
   "cell_type": "code",
   "execution_count": 153,
   "metadata": {},
   "outputs": [
    {
     "name": "stdout",
     "output_type": "stream",
     "text": [
      "Second eigenstate"
     ]
    },
    {
     "data": {
      "text/plain": [
       "2-element Vector{Float64}:\n",
       " 0.5329646904863672\n",
       " 0.8461374821474172"
      ]
     },
     "metadata": {},
     "output_type": "display_data"
    }
   ],
   "source": [
    "r = rand()\n",
    "if r <= p1\n",
    "    print(\"First eigenstate\")\n",
    "    outcome = F.vectors[:, 1]\n",
    "else\n",
    "    print(\"Second eigenstate\")\n",
    "    outcome = F.vectors[:, 2]\n",
    "end"
   ]
  },
  {
   "cell_type": "markdown",
   "metadata": {},
   "source": [
    "So now we measure the following value at site 3"
   ]
  },
  {
   "cell_type": "code",
   "execution_count": 156,
   "metadata": {},
   "outputs": [
    {
     "data": {
      "text/plain": [
       "0.6421557028748794"
      ]
     },
     "metadata": {},
     "output_type": "display_data"
    }
   ],
   "source": [
    "θ = acos(outcome[1])\n",
    "x = (2 * θ)/π "
   ]
  },
  {
   "cell_type": "markdown",
   "metadata": {},
   "source": [
    "Now, construct the projector"
   ]
  },
  {
   "cell_type": "markdown",
   "metadata": {},
   "source": []
  },
  {
   "cell_type": "code",
   "execution_count": null,
   "metadata": {},
   "outputs": [],
   "source": []
  }
 ],
 "metadata": {
  "kernelspec": {
   "display_name": "Julia 1.9.3",
   "language": "julia",
   "name": "julia-1.9"
  },
  "language_info": {
   "file_extension": ".jl",
   "mimetype": "application/julia",
   "name": "julia",
   "version": "1.9.3"
  }
 },
 "nbformat": 4,
 "nbformat_minor": 2
}
