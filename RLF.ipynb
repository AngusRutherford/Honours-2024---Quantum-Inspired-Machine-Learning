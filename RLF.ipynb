{
 "cells": [
  {
   "cell_type": "code",
   "execution_count": 2,
   "metadata": {},
   "outputs": [],
   "source": [
    "using ITensors\n",
    "using Distributions\n",
    "using HDF5\n",
    "using Random\n",
    "using Plots\n",
    "using Plots.PlotMeasures\n",
    "using MLDataUtils, StatsBase\n",
    "using PyCall\n",
    "using DelimitedFiles\n",
    "include(\"SweepOptRegular.jl\");"
   ]
  },
  {
   "cell_type": "code",
   "execution_count": 5,
   "metadata": {},
   "outputs": [],
   "source": [
    "ecg_dat = readdlm(\"ECG200_TRAIN.txt\")\n",
    "X_train = ecg_dat[:, 2:end]\n",
    "y_train = Int.(ecg_dat[:, 1])\n",
    "remap = Dict(-1 => 0, 1 => 1)\n",
    "y_train = [remap[label] for label in y_train];\n",
    "y_train = reshape(y_train, length(y_train), 1);"
   ]
  },
  {
   "cell_type": "code",
   "execution_count": 6,
   "metadata": {},
   "outputs": [],
   "source": [
    "ecg_dat_test = readdlm(\"ECG200_TEST.txt\")\n",
    "X_test = ecg_dat_test[:, 2:end]\n",
    "y_test = Int.(ecg_dat_test[:, 1])\n",
    "y_test = [remap[label] for label in y_test]\n",
    "y_test = reshape(y_test, length(y_test), 1);"
   ]
  },
  {
   "cell_type": "code",
   "execution_count": 7,
   "metadata": {},
   "outputs": [],
   "source": [
    "struct RobustSigmoidTransform{T<:Real} <: AbstractDataTransform\n",
    "    median::T\n",
    "    iqr::T\n",
    "    k::T\n",
    "    positive::Bool\n",
    "\n",
    "    function RobustSigmoidTransform(median::T, iqr::T, k::T, positive=true) where T<:Real\n",
    "        new{T}(median, iqr, k, positive)\n",
    "    end\n",
    "end\n",
    "\n",
    "function robust_sigmoid(x::Real, median::Real, iqr::Real, k::Real, positive::Bool)\n",
    "    xhat = 1.0 / (1.0 + exp(-(x - median) / (iqr / k)))\n",
    "    if !positive\n",
    "        xhat = 2*xhat - 1\n",
    "    end\n",
    "    return xhat\n",
    "end\n",
    "\n",
    "function fitScaler(::Type{RobustSigmoidTransform}, X::Matrix; k::Real=1.35, positive::Bool=true)\n",
    "    medianX = median(X)\n",
    "    iqrX = iqr(X)\n",
    "    return RobustSigmoidTransform(medianX, iqrX, k, positive)\n",
    "end\n",
    "\n",
    "function transformData(t::RobustSigmoidTransform, X::Matrix)\n",
    "    return map(x -> robust_sigmoid(x, t.median, t.iqr, t.k, t.positive), X)\n",
    "end\n",
    "\n",
    "# New SigmoidTransform\n",
    "struct SigmoidTransform <: AbstractDataTransform\n",
    "    positive::Bool\n",
    "end\n",
    "\n",
    "function sigmoid(x::Real, positive::Bool)\n",
    "    xhat = 1.0 / (1.0 + exp(-x))\n",
    "    if !positive\n",
    "        xhat = 2*xhat - 1\n",
    "    end\n",
    "    return xhat\n",
    "end\n",
    "\n",
    "function fitScaler(::Type{SigmoidTransform}, X::Matrix; positive::Bool=true)\n",
    "    return SigmoidTransform(positive)\n",
    "end\n",
    "\n",
    "function transformData(t::SigmoidTransform, X::Matrix)\n",
    "    return map(x -> sigmoid(x, t.positive), X)\n",
    "end;"
   ]
  },
  {
   "cell_type": "code",
   "execution_count": 8,
   "metadata": {},
   "outputs": [],
   "source": [
    "rst = fitScaler(RobustSigmoidTransform, X_train; positive=true)\n",
    "X_train_normalised = transformData(rst, X_train)\n",
    "X_test_normalised = transformData(rst, X_test);"
   ]
  },
  {
   "cell_type": "markdown",
   "metadata": {},
   "source": [
    "# Encode as Product State"
   ]
  },
  {
   "cell_type": "code",
   "execution_count": 10,
   "metadata": {},
   "outputs": [],
   "source": [
    "function AngleEncoder(x::Float64) \n",
    "    if x <= 1 && x >= 0\n",
    "        return [cos(π/2 * x), sin(π/2 * x)]\n",
    "    else\n",
    "        println(\"Data points must be rescaled between 1 and 0 before encoding using the half angle encoder.\")\n",
    "    end\n",
    "end;"
   ]
  },
  {
   "cell_type": "code",
   "execution_count": 13,
   "metadata": {},
   "outputs": [],
   "source": [
    "s = siteinds(\"S=1/2\", 96);"
   ]
  },
  {
   "cell_type": "code",
   "execution_count": 20,
   "metadata": {},
   "outputs": [],
   "source": [
    "function GenerateProductState(normalised_sample::Vector, s)\n",
    "\n",
    "    \"\"\"Convert a single normalised sample to a product state with local dimension defined by the feature map.\"\"\"\n",
    "\n",
    "    site_inds = s\n",
    "    product_state = MPS(site_inds; linkdims=1)\n",
    "    N_sites = length(s)\n",
    "\n",
    "    if N_sites !== size(normalised_sample)[1]\n",
    "        error(\"Number of MPS sites (N = $N_sites) does not match the length of the time-series sample (N = $(size(normalised_sample)[1])).\")\n",
    "    end\n",
    "\n",
    "    for j=1:N_sites\n",
    "        T = ITensor(site_inds[j])\n",
    "        mapped_vals = AngleEncoder(normalised_sample[j])\n",
    "        up_val, down_val = mapped_vals\n",
    "        T[1] = up_val\n",
    "        T[2] = down_val\n",
    "        product_state[j] = T\n",
    "    end\n",
    "    return product_state\n",
    "end;"
   ]
  },
  {
   "cell_type": "code",
   "execution_count": 34,
   "metadata": {},
   "outputs": [],
   "source": [
    "class_0_idxs = findall(x -> x.== 0, y_train[:, 1])\n",
    "class_1_idxs = findall(x -> x.== 1, y_train[:, 1]);"
   ]
  },
  {
   "cell_type": "code",
   "execution_count": 51,
   "metadata": {},
   "outputs": [
    {
     "data": {
      "text/plain": [
       "MPS\n",
       "[1] ((dim=2|id=357|\"S=1/2,Site,n=1\"),)\n",
       "[2] ((dim=2|id=535|\"S=1/2,Site,n=2\"),)\n",
       "[3] ((dim=2|id=589|\"S=1/2,Site,n=3\"),)\n",
       "[4] ((dim=2|id=262|\"S=1/2,Site,n=4\"),)\n",
       "[5] ((dim=2|id=671|\"S=1/2,Site,n=5\"),)\n",
       "[6] ((dim=2|id=759|\"S=1/2,Site,n=6\"),)\n",
       "[7] ((dim=2|id=431|\"S=1/2,Site,n=7\"),)\n",
       "[8] ((dim=2|id=777|\"S=1/2,Site,n=8\"),)\n",
       "[9] ((dim=2|id=102|\"S=1/2,Site,n=9\"),)\n",
       "[10] ((dim=2|id=469|\"S=1/2,Site,n=10\"),)\n",
       "[11] ((dim=2|id=166|\"S=1/2,Site,n=11\"),)\n",
       "[12] ((dim=2|id=187|\"S=1/2,Site,n=12\"),)\n",
       "[13] ((dim=2|id=167|\"S=1/2,Site,n=13\"),)\n",
       "[14] ((dim=2|id=312|\"S=1/2,Site,n=14\"),)\n",
       "[15] ((dim=2|id=30|\"S=1/2,Site,n=15\"),)\n",
       "[16] ((dim=2|id=57|\"S=1/2,Site,n=16\"),)\n",
       "[17] ((dim=2|id=908|\"S=1/2,Site,n=17\"),)\n",
       "[18] ((dim=2|id=260|\"S=1/2,Site,n=18\"),)\n",
       "[19] ((dim=2|id=928|\"S=1/2,Site,n=19\"),)\n",
       "[20] ((dim=2|id=789|\"S=1/2,Site,n=20\"),)\n",
       "[21] ((dim=2|id=738|\"S=1/2,Site,n=21\"),)\n",
       "[22] ((dim=2|id=249|\"S=1/2,Site,n=22\"),)\n",
       "[23] ((dim=2|id=426|\"S=1/2,Site,n=23\"),)\n",
       "[24] ((dim=2|id=45|\"S=1/2,Site,n=24\"),)\n",
       "[25] ((dim=2|id=659|\"S=1/2,Site,n=25\"),)\n",
       "[26] ((dim=2|id=282|\"S=1/2,Site,n=26\"),)\n",
       "[27] ((dim=2|id=23|\"S=1/2,Site,n=27\"),)\n",
       "[28] ((dim=2|id=449|\"S=1/2,Site,n=28\"),)\n",
       "[29] ((dim=2|id=860|\"S=1/2,Site,n=29\"),)\n",
       "[30] ((dim=2|id=36|\"S=1/2,Site,n=30\"),)\n",
       "[31] ((dim=2|id=229|\"S=1/2,Site,n=31\"),)\n",
       "[32] ((dim=2|id=725|\"S=1/2,Site,n=32\"),)\n",
       "[33] ((dim=2|id=730|\"S=1/2,Site,n=33\"),)\n",
       "[34] ((dim=2|id=71|\"S=1/2,Site,n=34\"),)\n",
       "[35] ((dim=2|id=901|\"S=1/2,Site,n=35\"),)\n",
       "[36] ((dim=2|id=808|\"S=1/2,Site,n=36\"),)\n",
       "[37] ((dim=2|id=805|\"S=1/2,Site,n=37\"),)\n",
       "[38] ((dim=2|id=103|\"S=1/2,Site,n=38\"),)\n",
       "[39] ((dim=2|id=485|\"S=1/2,Site,n=39\"),)\n",
       "[40] ((dim=2|id=259|\"S=1/2,Site,n=40\"),)\n",
       "[41] ((dim=2|id=494|\"S=1/2,Site,n=41\"),)\n",
       "[42] ((dim=2|id=207|\"S=1/2,Site,n=42\"),)\n",
       "[43] ((dim=2|id=651|\"S=1/2,Site,n=43\"),)\n",
       "[44] ((dim=2|id=266|\"S=1/2,Site,n=44\"),)\n",
       "[45] ((dim=2|id=528|\"S=1/2,Site,n=45\"),)\n",
       "[46] ((dim=2|id=333|\"S=1/2,Site,n=46\"),)\n",
       "[47] ((dim=2|id=124|\"S=1/2,Site,n=47\"),)\n",
       "[48] ((dim=2|id=522|\"S=1/2,Site,n=48\"),)\n",
       "[49] ((dim=2|id=309|\"S=1/2,Site,n=49\"),)\n",
       "[50] ((dim=2|id=383|\"S=1/2,Site,n=50\"),)\n",
       "[51] ((dim=2|id=274|\"S=1/2,Site,n=51\"),)\n",
       "[52] ((dim=2|id=902|\"S=1/2,Site,n=52\"),)\n",
       "[53] ((dim=2|id=839|\"S=1/2,Site,n=53\"),)\n",
       "[54] ((dim=2|id=964|\"S=1/2,Site,n=54\"),)\n",
       "[55] ((dim=2|id=705|\"S=1/2,Site,n=55\"),)\n",
       "[56] ((dim=2|id=991|\"S=1/2,Site,n=56\"),)\n",
       "[57] ((dim=2|id=499|\"S=1/2,Site,n=57\"),)\n",
       "[58] ((dim=2|id=1|\"S=1/2,Site,n=58\"),)\n",
       "[59] ((dim=2|id=195|\"S=1/2,Site,n=59\"),)\n",
       "[60] ((dim=2|id=29|\"S=1/2,Site,n=60\"),)\n",
       "[61] ((dim=2|id=383|\"S=1/2,Site,n=61\"),)\n",
       "[62] ((dim=2|id=92|\"S=1/2,Site,n=62\"),)\n",
       "[63] ((dim=2|id=255|\"S=1/2,Site,n=63\"),)\n",
       "[64] ((dim=2|id=656|\"S=1/2,Site,n=64\"),)\n",
       "[65] ((dim=2|id=709|\"S=1/2,Site,n=65\"),)\n",
       "[66] ((dim=2|id=591|\"S=1/2,Site,n=66\"),)\n",
       "[67] ((dim=2|id=108|\"S=1/2,Site,n=67\"),)\n",
       "[68] ((dim=2|id=882|\"S=1/2,Site,n=68\"),)\n",
       "[69] ((dim=2|id=534|\"S=1/2,Site,n=69\"),)\n",
       "[70] ((dim=2|id=519|\"S=1/2,Site,n=70\"),)\n",
       "[71] ((dim=2|id=876|\"S=1/2,Site,n=71\"),)\n",
       "[72] ((dim=2|id=81|\"S=1/2,Site,n=72\"),)\n",
       "[73] ((dim=2|id=990|\"S=1/2,Site,n=73\"),)\n",
       "[74] ((dim=2|id=277|\"S=1/2,Site,n=74\"),)\n",
       "[75] ((dim=2|id=284|\"S=1/2,Site,n=75\"),)\n",
       "[76] ((dim=2|id=292|\"S=1/2,Site,n=76\"),)\n",
       "[77] ((dim=2|id=264|\"S=1/2,Site,n=77\"),)\n",
       "[78] ((dim=2|id=574|\"S=1/2,Site,n=78\"),)\n",
       "[79] ((dim=2|id=788|\"S=1/2,Site,n=79\"),)\n",
       "[80] ((dim=2|id=141|\"S=1/2,Site,n=80\"),)\n",
       "[81] ((dim=2|id=541|\"S=1/2,Site,n=81\"),)\n",
       "[82] ((dim=2|id=493|\"S=1/2,Site,n=82\"),)\n",
       "[83] ((dim=2|id=214|\"S=1/2,Site,n=83\"),)\n",
       "[84] ((dim=2|id=51|\"S=1/2,Site,n=84\"),)\n",
       "[85] ((dim=2|id=612|\"S=1/2,Site,n=85\"),)\n",
       "[86] ((dim=2|id=236|\"S=1/2,Site,n=86\"),)\n",
       "[87] ((dim=2|id=914|\"S=1/2,Site,n=87\"),)\n",
       "[88] ((dim=2|id=920|\"S=1/2,Site,n=88\"),)\n",
       "[89] ((dim=2|id=367|\"S=1/2,Site,n=89\"),)\n",
       "[90] ((dim=2|id=750|\"S=1/2,Site,n=90\"),)\n",
       "[91] ((dim=2|id=538|\"S=1/2,Site,n=91\"),)\n",
       "[92] ((dim=2|id=337|\"S=1/2,Site,n=92\"),)\n",
       "[93] ((dim=2|id=227|\"S=1/2,Site,n=93\"),)\n",
       "[94] ((dim=2|id=62|\"S=1/2,Site,n=94\"),)\n",
       "[95] ((dim=2|id=892|\"S=1/2,Site,n=95\"),)\n",
       "[96] ((dim=2|id=917|\"S=1/2,Site,n=96\"),)\n"
      ]
     },
     "metadata": {},
     "output_type": "display_data"
    }
   ],
   "source": [
    "test1 = GenerateProductState(X_train_normalised[class_0_idxs[1],:], s)\n",
    "test2 = GenerateProductState(X_train_normalised[class_1_idxs[10],:], s)"
   ]
  },
  {
   "cell_type": "code",
   "execution_count": 52,
   "metadata": {},
   "outputs": [
    {
     "data": {
      "text/plain": [
       "0.0031505534093837083"
      ]
     },
     "metadata": {},
     "output_type": "display_data"
    }
   ],
   "source": [
    "inner(test1, test2)"
   ]
  },
  {
   "cell_type": "code",
   "execution_count": 80,
   "metadata": {},
   "outputs": [
    {
     "data": {
      "text/plain": [
       "RescaledLogarithmicFidelity (generic function with 1 method)"
      ]
     },
     "metadata": {},
     "output_type": "display_data"
    }
   ],
   "source": [
    "function RescaledLogarithmicFidelity(x1, x2; β=10.0)\n",
    "    regular_inner_product = inner(x1, x2)\n",
    "    fidelity = abs(regular_inner_product)\n",
    "    log10_fidelity = log(10, fidelity)\n",
    "    rlf = β^(log10_fidelity)\n",
    "    return rlf\n",
    "end"
   ]
  },
  {
   "cell_type": "markdown",
   "metadata": {},
   "source": [
    "Check that RLF returns regular fidelity when $\\beta = 10$"
   ]
  },
  {
   "cell_type": "code",
   "execution_count": 67,
   "metadata": {},
   "outputs": [
    {
     "name": "stdout",
     "output_type": "stream",
     "text": [
      "RLF 0.00315055340938371\n",
      "Fidelity: 0.0031505534093837083\n"
     ]
    }
   ],
   "source": [
    "println(\"RLF $(RescaledLogarithmicFidelity(test1, test2))\")\n",
    "println(\"Fidelity: $(abs(inner(test1, test2)))\")"
   ]
  },
  {
   "cell_type": "markdown",
   "metadata": {},
   "source": [
    "Try different values of $\\beta$"
   ]
  },
  {
   "cell_type": "code",
   "execution_count": 79,
   "metadata": {},
   "outputs": [
    {
     "data": {
      "text/plain": [
       "0.005505771832382478"
      ]
     },
     "metadata": {},
     "output_type": "display_data"
    }
   ],
   "source": [
    "RescaledLogarithmicFidelity(test1, test2; β=8)"
   ]
  },
  {
   "cell_type": "code",
   "execution_count": null,
   "metadata": {},
   "outputs": [],
   "source": []
  }
 ],
 "metadata": {
  "kernelspec": {
   "display_name": "Julia 1.9.3",
   "language": "julia",
   "name": "julia-1.9"
  },
  "language_info": {
   "file_extension": ".jl",
   "mimetype": "application/julia",
   "name": "julia",
   "version": "1.9.3"
  }
 },
 "nbformat": 4,
 "nbformat_minor": 2
}
