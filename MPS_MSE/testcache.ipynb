{
 "cells": [
  {
   "cell_type": "code",
   "execution_count": 2,
   "metadata": {},
   "outputs": [
    {
     "name": "stderr",
     "output_type": "stream",
     "text": [
      "\u001b[32m\u001b[1m  Activating\u001b[22m\u001b[39m project at `~/Documents/QML Project/QuantumInspiredML`\n"
     ]
    }
   ],
   "source": [
    "using Pkg\n",
    "Pkg.activate(\"../Project.toml\")\n",
    "\n",
    "using ITensors"
   ]
  },
  {
   "cell_type": "code",
   "execution_count": 3,
   "metadata": {},
   "outputs": [
    {
     "data": {
      "text/plain": [
       "ITensor ord=4 (dim=5|id=679|\"Link,l=1\") (dim=2|id=732|\"S=1/2,Site,n=2\") (dim=2|id=514|\"S=1/2,Site,n=3\") (dim=5|id=691|\"Link,l=3\")\n",
       "NDTensors.Dense{ComplexF64, Vector{ComplexF64}}"
      ]
     },
     "metadata": {},
     "output_type": "display_data"
    }
   ],
   "source": [
    "χ_init= 5\n",
    "nsites = 10\n",
    "site_indices = siteinds(\"S=1/2\", nsites)\n",
    "W = randomMPS(ComplexF64,site_indices, linkdims=χ_init)\n",
    "\n",
    "B= W[2] * W[3]\n"
   ]
  },
  {
   "cell_type": "code",
   "execution_count": 31,
   "metadata": {},
   "outputs": [
    {
     "data": {
      "text/plain": [
       "ITensor ord=5 (dim=5|id=679|\"Link,l=1\") (dim=2|id=732|\"S=1/2,Site,n=2\") (dim=2|id=514|\"S=1/2,Site,n=3\") (dim=5|id=691|\"Link,l=3\") (dim=2|id=297|\"C\")\n",
       "NDTensors.Dense{Float64, Vector{Float64}}"
      ]
     },
     "metadata": {},
     "output_type": "display_data"
    }
   ],
   "source": [
    "C_index = Index(2, \"C\")\n",
    "ib = inds(B)\n",
    "inds_c = ib...,C_index\n",
    "B_m = Array{ComplexF64}(B, ib)\n",
    "out = Array{Float64}(undef, size(B)...,2)\n",
    "\n",
    "outIT = itensor(out, inds_c)\n",
    "    \n",
    "\n",
    "\n"
   ]
  },
  {
   "cell_type": "code",
   "execution_count": 32,
   "metadata": {},
   "outputs": [
    {
     "data": {
      "text/plain": [
       "((dim=5|id=679|\"Link,l=1\"), (dim=2|id=732|\"S=1/2,Site,n=2\"), (dim=2|id=514|\"S=1/2,Site,n=3\"), (dim=5|id=691|\"Link,l=3\"), (dim=2|id=297|\"C\"))"
      ]
     },
     "metadata": {},
     "output_type": "display_data"
    }
   ],
   "source": [
    "inds_c"
   ]
  },
  {
   "cell_type": "code",
   "execution_count": 46,
   "metadata": {},
   "outputs": [
    {
     "data": {
      "text/plain": [
       "foo2 (generic function with 1 method)"
      ]
     },
     "metadata": {},
     "output_type": "display_data"
    }
   ],
   "source": [
    "function foo2(x::Tuple{Vararg{Index{Integer}}})\n",
    "    print(x)\n",
    "end"
   ]
  },
  {
   "cell_type": "code",
   "execution_count": 48,
   "metadata": {},
   "outputs": [
    {
     "data": {
      "text/plain": [
       "2.220446049250313e-16"
      ]
     },
     "metadata": {},
     "output_type": "display_data"
    }
   ],
   "source": [
    "eps()"
   ]
  },
  {
   "cell_type": "code",
   "execution_count": 47,
   "metadata": {},
   "outputs": [
    {
     "ename": "MethodError",
     "evalue": "MethodError: no method matching foo2(::NTuple{5, Index{Int64}})\n\nClosest candidates are:\n  foo2(!Matched::Tuple{Vararg{Index{Integer}}})\n   @ Main ~/Documents/QML Project/QuantumInspiredML/MPS_MSE/testcache.ipynb:1\n",
     "output_type": "error",
     "traceback": [
      "MethodError: no method matching foo2(::NTuple{5, Index{Int64}})\n",
      "\n",
      "Closest candidates are:\n",
      "  foo2(!Matched::Tuple{Vararg{Index{Integer}}})\n",
      "   @ Main ~/Documents/QML Project/QuantumInspiredML/MPS_MSE/testcache.ipynb:1\n",
      "\n",
      "\n",
      "Stacktrace:\n",
      " [1] top-level scope\n",
      "   @ ~/Documents/QML Project/QuantumInspiredML/MPS_MSE/testcache.ipynb:1"
     ]
    }
   ],
   "source": [
    "foo2(inds_c)"
   ]
  },
  {
   "cell_type": "code",
   "execution_count": 6,
   "metadata": {},
   "outputs": [
    {
     "data": {
      "text/plain": [
       "(dim=2|id=351|\"C\")"
      ]
     },
     "metadata": {},
     "output_type": "display_data"
    }
   ],
   "source": [
    "first(inds_c)"
   ]
  },
  {
   "cell_type": "code",
   "execution_count": 21,
   "metadata": {},
   "outputs": [],
   "source": [
    "ls = eachslice(out; dims=1)\n",
    "\n",
    "ls[1] = real(B_m)\n",
    "ls[2] = imag(B_m);"
   ]
  },
  {
   "cell_type": "code",
   "execution_count": 25,
   "metadata": {},
   "outputs": [
    {
     "data": {
      "text/plain": [
       "(dim=2|id=700|\"C\")"
      ]
     },
     "metadata": {},
     "output_type": "display_data"
    }
   ],
   "source": [
    "it = inds(outIT)\n",
    "l_ind = findindex(outIT, \"C\")"
   ]
  },
  {
   "cell_type": "code",
   "execution_count": 26,
   "metadata": {},
   "outputs": [
    {
     "data": {
      "text/plain": [
       "true"
      ]
     },
     "metadata": {},
     "output_type": "display_data"
    }
   ],
   "source": [
    "l_ind in it"
   ]
  },
  {
   "cell_type": "code",
   "execution_count": 30,
   "metadata": {},
   "outputs": [
    {
     "data": {
      "text/plain": [
       "1"
      ]
     },
     "metadata": {},
     "output_type": "display_data"
    }
   ],
   "source": [
    "findfirst(it .== l_ind)"
   ]
  },
  {
   "cell_type": "code",
   "execution_count": null,
   "metadata": {},
   "outputs": [],
   "source": []
  }
 ],
 "metadata": {
  "kernelspec": {
   "display_name": "Julia 1.10.2",
   "language": "julia",
   "name": "julia-1.10"
  },
  "language_info": {
   "file_extension": ".jl",
   "mimetype": "application/julia",
   "name": "julia",
   "version": "1.10.2"
  }
 },
 "nbformat": 4,
 "nbformat_minor": 2
}
