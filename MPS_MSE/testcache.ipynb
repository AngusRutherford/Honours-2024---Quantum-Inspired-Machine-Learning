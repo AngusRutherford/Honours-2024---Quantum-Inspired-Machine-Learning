{
 "cells": [
  {
   "cell_type": "code",
   "execution_count": 46,
   "metadata": {},
   "outputs": [
    {
     "name": "stderr",
     "output_type": "stream",
     "text": [
      "\u001b[32m\u001b[1m  Activating\u001b[22m\u001b[39m project at `~/Documents/QML Project/QuantumInspiredML`\n"
     ]
    },
    {
     "data": {
      "text/plain": [
       "transformData (generic function with 2 methods)"
      ]
     },
     "metadata": {},
     "output_type": "display_data"
    }
   ],
   "source": [
    "using Pkg\n",
    "Pkg.activate(\"../Project.toml\")\n",
    "\n",
    "using ITensors\n",
    "import NDTensors\n",
    "include(\"summary.jl\")\n",
    "include(\"utils_precise.jl\")"
   ]
  },
  {
   "cell_type": "code",
   "execution_count": 26,
   "metadata": {},
   "outputs": [
    {
     "data": {
      "text/plain": [
       "GenerateStartingMPS (generic function with 1 method)"
      ]
     },
     "metadata": {},
     "output_type": "display_data"
    }
   ],
   "source": [
    "function GenerateStartingMPS(χ_init, site_indices::Vector{Index{Int64}};\n",
    "    num_classes = 2, random_state=nothing)\n",
    "    \"\"\"Generate the starting weight MPS, W using values sampled from a \n",
    "    Gaussian (normal) distribution. Accepts a χ_init parameter which\n",
    "    specifies the initial (uniform) bond dimension of the MPS.\"\"\"\n",
    "    \n",
    "    if random_state !== nothing\n",
    "        # use seed if specified\n",
    "        Random.seed!(random_state)\n",
    "        println(\"Generating initial weight MPS with bond dimension χ = $χ_init\n",
    "        using random state $random_state.\")\n",
    "    else\n",
    "        println(\"Generating initial weight MPS with bond dimension χ = $χ_init.\")\n",
    "    end\n",
    "\n",
    "    W = randomMPS(Complex{BigFloat},site_indices, linkdims=χ_init)\n",
    "\n",
    "    label_idx = Index(num_classes, \"f(x)\")\n",
    "\n",
    "    # get the site of interest and copy over the indices at the last site where we attach the label \n",
    "    old_site_idxs = inds(W[end])\n",
    "    new_site_idxs = old_site_idxs, label_idx\n",
    "    new_site = randomITensor(new_site_idxs)\n",
    "\n",
    "    # add the new site back into the MPS\n",
    "    W[end] = new_site\n",
    "\n",
    "    # normalise the MPS\n",
    "    normalize!(W)\n",
    "\n",
    "    # canonicalise - bring MPS into canonical form by making all tensors 1,...,j-1 left orthogonal\n",
    "    # here we assume we start at the right most index\n",
    "    last_site = length(site_indices)\n",
    "    orthogonalize!(W, last_site)\n",
    "\n",
    "    return W\n",
    "\n",
    "end\n"
   ]
  },
  {
   "cell_type": "code",
   "execution_count": 13,
   "metadata": {},
   "outputs": [],
   "source": [
    "\n",
    "\n"
   ]
  },
  {
   "cell_type": "code",
   "execution_count": 14,
   "metadata": {},
   "outputs": [],
   "source": []
  },
  {
   "cell_type": "code",
   "execution_count": 27,
   "metadata": {},
   "outputs": [
    {
     "name": "stdout",
     "output_type": "stream",
     "text": [
      "Using χ_init=5 and a maximum of nsweep sweeps...\n",
      "Using 9 iterations per update.\n",
      "Initialising train states.\n",
      "Initialising valid states.\n",
      "Initialising test states.\n",
      "Generating initial weight MPS with bond dimension χ = 5\n",
      "        using random state 123456.\n"
     ]
    }
   ],
   "source": [
    "random_state=123456\n",
    "update_iters = 9\n",
    "(X_train, y_train), (X_val, y_val), (X_test, y_test) = LoadSplitsFromTextFile(\"datasets/ECG_train.txt\", \n",
    "    \"datasets/ECG_val.txt\", \"datasets/ECG_test.txt\")\n",
    "\n",
    "X_train = vcat(X_train, X_val)\n",
    "y_train = vcat(y_train, y_val)   \n",
    "   \n",
    "# first, create the site indices for the MPS and product states \n",
    "num_mps_sites = size(X_train)[2]\n",
    "sites = siteinds(\"S=1/2\", num_mps_sites)\n",
    "println(\"Using χ_init=$χ_init and a maximum of $nsweep sweeps...\")\n",
    "println(\"Using $update_iters iterations per update.\")\n",
    "\n",
    "# now let's handle the training/validation/testing data\n",
    "# rescale using a robust sigmoid transform\n",
    "scaler = fitScaler(RobustSigmoidTransform, X_train; positive=true);\n",
    "X_train_scaled = transformData(scaler, X_train)\n",
    "X_val_scaled = transformData(scaler, X_val)\n",
    "X_test_scaled = transformData(scaler, X_test)\n",
    "\n",
    "# generate product states using rescaled data\n",
    "\n",
    "training_states = GenerateAllProductStates(X_train_scaled, y_train, \"train\", sites)\n",
    "validation_states = GenerateAllProductStates(X_val_scaled, y_val, \"valid\", sites)\n",
    "testing_states = GenerateAllProductStates(X_test_scaled, y_test, \"test\", sites)\n",
    "\n",
    "# generate the starting MPS with unfirom bond dimension χ_init and random values (with seed if provided)\n",
    "num_classes = length(unique(y_train))\n",
    "W = GenerateStartingMPS(χ_init, sites; num_classes=num_classes, random_state=random_state)\n",
    "\n",
    "\n",
    "    ;"
   ]
  },
  {
   "cell_type": "code",
   "execution_count": 28,
   "metadata": {},
   "outputs": [
    {
     "data": {
      "text/plain": [
       "ITensor ord=1 (dim=2|id=483|\"f(x)\")\n",
       "NDTensors.Dense{Float64, Vector{Float64}}"
      ]
     },
     "metadata": {},
     "output_type": "display_data"
    }
   ],
   "source": [
    "phi = training_states[1]\n",
    "\n",
    "yhat = ContractMPSAndProductState(W, phi)\n",
    "label = phi.label # ground truth label\n",
    "label_idx = inds(yhat)[1]\n",
    "y = onehot(label_idx => label + 1) # one hot encode, so class 0 [1 0] is assigned using label_idx = 1\n",
    "# compute the loss using the ground-truth y and model prediction yhat"
   ]
  },
  {
   "cell_type": "code",
   "execution_count": 45,
   "metadata": {},
   "outputs": [
    {
     "data": {
      "text/plain": [
       "ITensor ord=1 (dim=2|id=385|\"S=1/2,Site,n=1\")\n",
       "NDTensors.Dense{Complex{BigFloat}, Vector{Complex{BigFloat}}}"
      ]
     },
     "metadata": {},
     "output_type": "display_data"
    }
   ],
   "source": [
    "p = phi.pstate[1]\n"
   ]
  },
  {
   "cell_type": "code",
   "execution_count": 47,
   "metadata": {},
   "outputs": [
    {
     "data": {
      "text/plain": [
       "ITensor ord=1 (dim=2|id=385|\"S=1/2,Site,n=1\")\n",
       "NDTensors.Dense{ComplexF64, Vector{ComplexF64}}"
      ]
     },
     "metadata": {},
     "output_type": "display_data"
    }
   ],
   "source": [
    "pind = inds(p)\n",
    "\n",
    "it = itensor(ComplexF64, NDTensors.array(p, pind), pind)"
   ]
  },
  {
   "cell_type": "code",
   "execution_count": 31,
   "metadata": {},
   "outputs": [
    {
     "ename": "UndefRefError",
     "evalue": "UndefRefError: access to undefined reference",
     "output_type": "error",
     "traceback": [
      "UndefRefError: access to undefined reference\n",
      "\n",
      "Stacktrace:\n",
      "  [1] getindex\n",
      "    @ ./essentials.jl:13 [inlined]\n",
      "  [2] getindex\n",
      "    @ ~/.julia/packages/StridedViews/dcnHM/src/stridedview.jl:97 [inlined]\n",
      "  [3] macro expansion\n",
      "    @ ~/.julia/packages/Strided/l1vm3/src/mapreduce.jl:330 [inlined]\n",
      "  [4] macro expansion\n",
      "    @ ./simdloop.jl:77 [inlined]\n",
      "  [5] macro expansion\n",
      "    @ ~/.julia/packages/Strided/l1vm3/src/mapreduce.jl:329 [inlined]\n",
      "  [6] _mapreduce_kernel!(f::Strided.CaptureArgs{ITensors.var\"#301#302\"{typeof(abs2)}, Tuple{Strided.Arg, Strided.Arg}}, op::Nothing, initop::Nothing, dims::Tuple{Int64}, blocks::Tuple{Int64}, arrays::Tuple{StridedViews.StridedView{Complex{BigFloat}, 1, Vector{Complex{BigFloat}}, typeof(identity)}, StridedViews.StridedView{Complex{BigFloat}, 1, Vector{Complex{BigFloat}}, typeof(identity)}, StridedViews.StridedView{Complex{BigFloat}, 1, Vector{Complex{BigFloat}}, typeof(identity)}}, strides::Tuple{Tuple{Int64}, Tuple{Int64}, Tuple{Int64}}, offsets::Tuple{Int64, Int64, Int64})\n",
      "    @ Strided ~/.julia/packages/Strided/l1vm3/src/mapreduce.jl:229\n",
      "  [7] _mapreduce_block!(f::Any, op::Any, initop::Any, dims::Tuple{Int64}, strides::Tuple{Tuple{Int64}, Tuple{Int64}, Tuple{Int64}}, offsets::Tuple{Int64, Int64, Int64}, costs::Tuple{Int64}, arrays::Tuple{StridedViews.StridedView{Complex{BigFloat}, 1, Vector{Complex{BigFloat}}, typeof(identity)}, StridedViews.StridedView{Complex{BigFloat}, 1, Vector{Complex{BigFloat}}, typeof(identity)}, StridedViews.StridedView{Complex{BigFloat}, 1, Vector{Complex{BigFloat}}, typeof(identity)}})\n",
      "    @ Strided ~/.julia/packages/Strided/l1vm3/src/mapreduce.jl:152\n",
      "  [8] _mapreduce_order!(f::Any, op::Any, initop::Any, dims::Tuple{Int64}, strides::Tuple{Tuple{Int64}, Tuple{Int64}, Tuple{Int64}}, arrays::Tuple{StridedViews.StridedView{Complex{BigFloat}, 1, Vector{Complex{BigFloat}}, typeof(identity)}, StridedViews.StridedView{Complex{BigFloat}, 1, Vector{Complex{BigFloat}}, typeof(identity)}, StridedViews.StridedView{Complex{BigFloat}, 1, Vector{Complex{BigFloat}}, typeof(identity)}})\n",
      "    @ Strided ~/.julia/packages/Strided/l1vm3/src/mapreduce.jl:138\n",
      "  [9] _mapreduce_fuse!\n",
      "    @ ~/.julia/packages/Strided/l1vm3/src/mapreduce.jl:116 [inlined]\n",
      " [10] copyto!\n",
      "    @ ~/.julia/packages/Strided/l1vm3/src/broadcast.jl:35 [inlined]\n",
      " [11] materialize!(::Strided.StridedArrayStyle{1}, dest::StridedViews.StridedView{Complex{BigFloat}, 1, Vector{Complex{BigFloat}}, typeof(identity)}, bc::Base.Broadcast.Broadcasted{Strided.StridedArrayStyle{1}, Nothing, ITensors.var\"#301#302\"{typeof(abs2)}, Tuple{StridedViews.StridedView{Complex{BigFloat}, 1, Vector{Complex{BigFloat}}, typeof(identity)}, StridedViews.StridedView{Complex{BigFloat}, 1, Vector{Complex{BigFloat}}, typeof(identity)}}})\n",
      "    @ Base.Broadcast ./broadcast.jl:914\n",
      " [12] materialize!\n",
      "    @ ./broadcast.jl:911 [inlined]\n",
      " [13] permutedims!(Edest::NDTensors.Expose.Exposed{Vector{Complex{BigFloat}}, Vector{Complex{BigFloat}}}, Esrc::NDTensors.Expose.Exposed{Vector{Complex{BigFloat}}, Vector{Complex{BigFloat}}}, perm::Tuple{Int64}, f::Function)\n",
      "    @ NDTensors ~/.julia/packages/NDTensors/VOLro/src/array/permutedims.jl:22\n",
      " [14] permutedims!!\n",
      "    @ ~/.julia/packages/NDTensors/VOLro/src/abstractarray/permutedims.jl:7 [inlined]\n",
      " [15] permutedims!(R::NDTensors.DenseTensor{Complex{BigFloat}, 1, Tuple{Index{Int64}}, NDTensors.Dense{Complex{BigFloat}, Vector{Complex{BigFloat}}}}, T::NDTensors.DenseTensor{Complex{BigFloat}, 1, Tuple{Index{Int64}}, NDTensors.Dense{Complex{BigFloat}, Vector{Complex{BigFloat}}}}, perm::Tuple{Int64}, f::ITensors.var\"#301#302\"{typeof(abs2)})\n",
      "    @ NDTensors ~/.julia/packages/NDTensors/VOLro/src/dense/densetensor.jl:257\n",
      " [16] permutedims!!(R::NDTensors.DenseTensor{BigFloat, 1, Tuple{Index{Int64}}, NDTensors.Dense{BigFloat, Vector{BigFloat}}}, T::NDTensors.DenseTensor{Complex{BigFloat}, 1, Tuple{Index{Int64}}, NDTensors.Dense{Complex{BigFloat}, Vector{Complex{BigFloat}}}}, perm::Tuple{Int64}, f::Function)\n",
      "    @ NDTensors ~/.julia/packages/NDTensors/VOLro/src/dense/densetensor.jl:199\n",
      " [17] _map!!(f::Function, R::NDTensors.DenseTensor{BigFloat, 1, Tuple{Index{Int64}}, NDTensors.Dense{BigFloat, Vector{BigFloat}}}, T1::NDTensors.DenseTensor{BigFloat, 1, Tuple{Index{Int64}}, NDTensors.Dense{BigFloat, Vector{BigFloat}}}, T2::NDTensors.DenseTensor{Complex{BigFloat}, 1, Tuple{Index{Int64}}, NDTensors.Dense{Complex{BigFloat}, Vector{Complex{BigFloat}}}})\n",
      "    @ ITensors ~/.julia/packages/ITensors/QoOwA/src/itensor.jl:1961\n",
      " [18] map!(f::Function, R::ITensor, T1::ITensor, T2::ITensor)\n",
      "    @ ITensors ~/.julia/packages/ITensors/QoOwA/src/itensor.jl:1966\n",
      " [19] copyto!\n",
      "    @ ~/.julia/packages/ITensors/QoOwA/src/broadcast.jl:489 [inlined]\n",
      " [20] copy\n",
      "    @ ./broadcast.jl:928 [inlined]\n",
      " [21] materialize(bc::Base.Broadcast.Broadcasted{ITensors.ITensorStyle, Nothing, typeof(abs2), Tuple{ITensor}})\n",
      "    @ Base.Broadcast ./broadcast.jl:903\n",
      " [22] top-level scope\n",
      "    @ ~/Documents/QML Project/QuantumInspiredML/MPS_MSE/testcache.ipynb:1"
     ]
    }
   ],
   "source": [
    "diff_sq = abs2.(yhat - y)\n",
    "sum_of_sq_diff = real(sum(diff_sq))\n",
    "\n",
    "loss = 0.5 * sum_of_sq_diff\n",
    "\n",
    "# now get the predicted label\n",
    "correct = 0\n",
    "\n",
    "if (argmax(abs.(vector(yhat))) - 1) == ϕ.label\n",
    "    correct = 1\n",
    "end\n"
   ]
  },
  {
   "cell_type": "code",
   "execution_count": 16,
   "metadata": {},
   "outputs": [
    {
     "ename": "UndefRefError",
     "evalue": "UndefRefError: access to undefined reference",
     "output_type": "error",
     "traceback": [
      "UndefRefError: access to undefined reference\n",
      "\n",
      "Stacktrace:\n",
      "  [1] getindex\n",
      "    @ ./essentials.jl:13 [inlined]\n",
      "  [2] getindex\n",
      "    @ ~/.julia/packages/StridedViews/dcnHM/src/stridedview.jl:97 [inlined]\n",
      "  [3] macro expansion\n",
      "    @ ~/.julia/packages/Strided/l1vm3/src/mapreduce.jl:330 [inlined]\n",
      "  [4] macro expansion\n",
      "    @ ./simdloop.jl:77 [inlined]\n",
      "  [5] macro expansion\n",
      "    @ ~/.julia/packages/Strided/l1vm3/src/mapreduce.jl:329 [inlined]\n",
      "  [6] _mapreduce_kernel!(f::Strided.CaptureArgs{ITensors.var\"#301#302\"{typeof(abs2)}, Tuple{Strided.Arg, Strided.Arg}}, op::Nothing, initop::Nothing, dims::Tuple{Int64}, blocks::Tuple{Int64}, arrays::Tuple{StridedViews.StridedView{Complex{BigFloat}, 1, Vector{Complex{BigFloat}}, typeof(identity)}, StridedViews.StridedView{Complex{BigFloat}, 1, Vector{Complex{BigFloat}}, typeof(identity)}, StridedViews.StridedView{Complex{BigFloat}, 1, Vector{Complex{BigFloat}}, typeof(identity)}}, strides::Tuple{Tuple{Int64}, Tuple{Int64}, Tuple{Int64}}, offsets::Tuple{Int64, Int64, Int64})\n",
      "    @ Strided ~/.julia/packages/Strided/l1vm3/src/mapreduce.jl:229\n",
      "  [7] _mapreduce_block!(f::Any, op::Any, initop::Any, dims::Tuple{Int64}, strides::Tuple{Tuple{Int64}, Tuple{Int64}, Tuple{Int64}}, offsets::Tuple{Int64, Int64, Int64}, costs::Tuple{Int64}, arrays::Tuple{StridedViews.StridedView{Complex{BigFloat}, 1, Vector{Complex{BigFloat}}, typeof(identity)}, StridedViews.StridedView{Complex{BigFloat}, 1, Vector{Complex{BigFloat}}, typeof(identity)}, StridedViews.StridedView{Complex{BigFloat}, 1, Vector{Complex{BigFloat}}, typeof(identity)}})\n",
      "    @ Strided ~/.julia/packages/Strided/l1vm3/src/mapreduce.jl:152\n",
      "  [8] _mapreduce_order!(f::Any, op::Any, initop::Any, dims::Tuple{Int64}, strides::Tuple{Tuple{Int64}, Tuple{Int64}, Tuple{Int64}}, arrays::Tuple{StridedViews.StridedView{Complex{BigFloat}, 1, Vector{Complex{BigFloat}}, typeof(identity)}, StridedViews.StridedView{Complex{BigFloat}, 1, Vector{Complex{BigFloat}}, typeof(identity)}, StridedViews.StridedView{Complex{BigFloat}, 1, Vector{Complex{BigFloat}}, typeof(identity)}})\n",
      "    @ Strided ~/.julia/packages/Strided/l1vm3/src/mapreduce.jl:138\n",
      "  [9] _mapreduce_fuse!\n",
      "    @ ~/.julia/packages/Strided/l1vm3/src/mapreduce.jl:116 [inlined]\n",
      " [10] copyto!\n",
      "    @ ~/.julia/packages/Strided/l1vm3/src/broadcast.jl:35 [inlined]\n",
      " [11] materialize!(::Strided.StridedArrayStyle{1}, dest::StridedViews.StridedView{Complex{BigFloat}, 1, Vector{Complex{BigFloat}}, typeof(identity)}, bc::Base.Broadcast.Broadcasted{Strided.StridedArrayStyle{1}, Nothing, ITensors.var\"#301#302\"{typeof(abs2)}, Tuple{StridedViews.StridedView{Complex{BigFloat}, 1, Vector{Complex{BigFloat}}, typeof(identity)}, StridedViews.StridedView{Complex{BigFloat}, 1, Vector{Complex{BigFloat}}, typeof(identity)}}})\n",
      "    @ Base.Broadcast ./broadcast.jl:914\n",
      " [12] materialize!\n",
      "    @ ./broadcast.jl:911 [inlined]\n",
      " [13] permutedims!(Edest::NDTensors.Expose.Exposed{Vector{Complex{BigFloat}}, Vector{Complex{BigFloat}}}, Esrc::NDTensors.Expose.Exposed{Vector{Complex{BigFloat}}, Vector{Complex{BigFloat}}}, perm::Tuple{Int64}, f::Function)\n",
      "    @ NDTensors ~/.julia/packages/NDTensors/VOLro/src/array/permutedims.jl:22\n",
      " [14] permutedims!!\n",
      "    @ ~/.julia/packages/NDTensors/VOLro/src/abstractarray/permutedims.jl:7 [inlined]\n",
      " [15] permutedims!(R::NDTensors.DenseTensor{Complex{BigFloat}, 1, Tuple{Index{Int64}}, NDTensors.Dense{Complex{BigFloat}, Vector{Complex{BigFloat}}}}, T::NDTensors.DenseTensor{Complex{BigFloat}, 1, Tuple{Index{Int64}}, NDTensors.Dense{Complex{BigFloat}, Vector{Complex{BigFloat}}}}, perm::Tuple{Int64}, f::ITensors.var\"#301#302\"{typeof(abs2)})\n",
      "    @ NDTensors ~/.julia/packages/NDTensors/VOLro/src/dense/densetensor.jl:257\n",
      " [16] permutedims!!(R::NDTensors.DenseTensor{BigFloat, 1, Tuple{Index{Int64}}, NDTensors.Dense{BigFloat, Vector{BigFloat}}}, T::NDTensors.DenseTensor{Complex{BigFloat}, 1, Tuple{Index{Int64}}, NDTensors.Dense{Complex{BigFloat}, Vector{Complex{BigFloat}}}}, perm::Tuple{Int64}, f::Function)\n",
      "    @ NDTensors ~/.julia/packages/NDTensors/VOLro/src/dense/densetensor.jl:199\n",
      " [17] _map!!(f::Function, R::NDTensors.DenseTensor{BigFloat, 1, Tuple{Index{Int64}}, NDTensors.Dense{BigFloat, Vector{BigFloat}}}, T1::NDTensors.DenseTensor{BigFloat, 1, Tuple{Index{Int64}}, NDTensors.Dense{BigFloat, Vector{BigFloat}}}, T2::NDTensors.DenseTensor{Complex{BigFloat}, 1, Tuple{Index{Int64}}, NDTensors.Dense{Complex{BigFloat}, Vector{Complex{BigFloat}}}})\n",
      "    @ ITensors ~/.julia/packages/ITensors/QoOwA/src/itensor.jl:1961\n",
      " [18] map!(f::Function, R::ITensor, T1::ITensor, T2::ITensor)\n",
      "    @ ITensors ~/.julia/packages/ITensors/QoOwA/src/itensor.jl:1966\n",
      " [19] copyto!\n",
      "    @ ~/.julia/packages/ITensors/QoOwA/src/broadcast.jl:489 [inlined]\n",
      " [20] copy\n",
      "    @ ./broadcast.jl:928 [inlined]\n",
      " [21] materialize(bc::Base.Broadcast.Broadcasted{ITensors.ITensorStyle, Nothing, typeof(abs2), Tuple{ITensor}})\n",
      "    @ Base.Broadcast ./broadcast.jl:903\n",
      " [22] ComputeLossPerSampleAndIsCorrect(W::MPS, ϕ::PState)\n",
      "    @ Main ~/Documents/QML Project/QuantumInspiredML/MPS_MSE/summary.jl:48\n",
      " [23] top-level scope\n",
      "    @ ~/Documents/QML Project/QuantumInspiredML/MPS_MSE/testcache.ipynb:1"
     ]
    }
   ],
   "source": [
    "ComputeLossPerSampleAndIsCorrect(W, training_states[1])"
   ]
  },
  {
   "cell_type": "code",
   "execution_count": 47,
   "metadata": {},
   "outputs": [
    {
     "ename": "MethodError",
     "evalue": "MethodError: no method matching foo2(::NTuple{5, Index{Int64}})\n\nClosest candidates are:\n  foo2(!Matched::Tuple{Vararg{Index{Integer}}})\n   @ Main ~/Documents/QML Project/QuantumInspiredML/MPS_MSE/testcache.ipynb:1\n",
     "output_type": "error",
     "traceback": [
      "MethodError: no method matching foo2(::NTuple{5, Index{Int64}})\n",
      "\n",
      "Closest candidates are:\n",
      "  foo2(!Matched::Tuple{Vararg{Index{Integer}}})\n",
      "   @ Main ~/Documents/QML Project/QuantumInspiredML/MPS_MSE/testcache.ipynb:1\n",
      "\n",
      "\n",
      "Stacktrace:\n",
      " [1] top-level scope\n",
      "   @ ~/Documents/QML Project/QuantumInspiredML/MPS_MSE/testcache.ipynb:1"
     ]
    }
   ],
   "source": [
    "foo2(inds_c)"
   ]
  },
  {
   "cell_type": "code",
   "execution_count": 6,
   "metadata": {},
   "outputs": [
    {
     "data": {
      "text/plain": [
       "(dim=2|id=351|\"C\")"
      ]
     },
     "metadata": {},
     "output_type": "display_data"
    }
   ],
   "source": [
    "first(inds_c)"
   ]
  },
  {
   "cell_type": "code",
   "execution_count": 21,
   "metadata": {},
   "outputs": [],
   "source": [
    "ls = eachslice(out; dims=1)\n",
    "\n",
    "ls[1] = real(B_m)\n",
    "ls[2] = imag(B_m);"
   ]
  },
  {
   "cell_type": "code",
   "execution_count": 25,
   "metadata": {},
   "outputs": [
    {
     "data": {
      "text/plain": [
       "(dim=2|id=700|\"C\")"
      ]
     },
     "metadata": {},
     "output_type": "display_data"
    }
   ],
   "source": [
    "it = inds(outIT)\n",
    "l_ind = findindex(outIT, \"C\")"
   ]
  },
  {
   "cell_type": "code",
   "execution_count": 26,
   "metadata": {},
   "outputs": [
    {
     "data": {
      "text/plain": [
       "true"
      ]
     },
     "metadata": {},
     "output_type": "display_data"
    }
   ],
   "source": [
    "l_ind in it"
   ]
  },
  {
   "cell_type": "code",
   "execution_count": 30,
   "metadata": {},
   "outputs": [
    {
     "data": {
      "text/plain": [
       "1"
      ]
     },
     "metadata": {},
     "output_type": "display_data"
    }
   ],
   "source": [
    "findfirst(it .== l_ind)"
   ]
  },
  {
   "cell_type": "code",
   "execution_count": null,
   "metadata": {},
   "outputs": [],
   "source": []
  }
 ],
 "metadata": {
  "kernelspec": {
   "display_name": "Julia 1.10.2",
   "language": "julia",
   "name": "julia-1.10"
  },
  "language_info": {
   "file_extension": ".jl",
   "mimetype": "application/julia",
   "name": "julia",
   "version": "1.10.2"
  }
 },
 "nbformat": 4,
 "nbformat_minor": 2
}
