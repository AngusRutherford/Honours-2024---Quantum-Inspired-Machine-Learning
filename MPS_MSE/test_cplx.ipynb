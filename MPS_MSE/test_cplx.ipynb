{
 "cells": [
  {
   "cell_type": "code",
   "execution_count": 5,
   "metadata": {},
   "outputs": [
    {
     "name": "stderr",
     "output_type": "stream",
     "text": [
      "\u001b[32m\u001b[1m  Activating\u001b[22m\u001b[39m project at `~/Documents/QML Project/QuantumInspiredML`\n"
     ]
    },
    {
     "data": {
      "text/plain": [
       "fitMPS (generic function with 1 method)"
      ]
     },
     "metadata": {},
     "output_type": "display_data"
    }
   ],
   "source": [
    "using Pkg\n",
    "Pkg.activate(\"../Project.toml\")\n",
    "\n",
    "using ITensors\n",
    "include(\"RealRealFast.jl\")"
   ]
  },
  {
   "cell_type": "code",
   "execution_count": 8,
   "metadata": {},
   "outputs": [
    {
     "name": "stdout",
     "output_type": "stream",
     "text": [
      "Generating initial weight MPS with bond dimension χ = 5.\n"
     ]
    },
    {
     "data": {
      "text/plain": [
       "ITensor ord=4 (dim=2|id=341|\"S=1/2,Site,n=2\") (dim=2|id=64|\"Link,l=1\") (dim=2|id=612|\"S=1/2,Site,n=3\") (dim=4|id=45|\"Link,l=3\")\n",
       "NDTensors.Dense{ComplexF64, Vector{ComplexF64}}"
      ]
     },
     "metadata": {},
     "output_type": "display_data"
    }
   ],
   "source": [
    "sites = siteinds(\"S=1/2\", 5)\n",
    "mps = GenerateStartingMPS(5, sites)\n",
    "B = mps[2]*mps[3]"
   ]
  },
  {
   "cell_type": "code",
   "execution_count": 43,
   "metadata": {},
   "outputs": [
    {
     "data": {
      "text/plain": [
       "complexify (generic function with 1 method)"
      ]
     },
     "metadata": {},
     "output_type": "display_data"
    }
   ],
   "source": [
    "function realise(B::ITensor, C_index::Index{Int64})\n",
    "    ib = inds(B)\n",
    "    inds_c = C_index,ib\n",
    "    B_m = Array{ComplexF64}(B, ib)\n",
    "\n",
    "    out = Array{Float64}(undef, 2,size(B)...)\n",
    "    \n",
    "\n",
    "    ls = eachslice(out; dims=1)#length(inds_c))\n",
    "    \n",
    "    ls[1] = real(B_m)\n",
    "    ls[2] = imag(B_m)\n",
    "\n",
    "    return ITensor(Float64, out, inds_c)\n",
    "end"
   ]
  },
  {
   "cell_type": "code",
   "execution_count": 34,
   "metadata": {},
   "outputs": [
    {
     "data": {
      "text/plain": [
       "(2, 2, 2, 4)"
      ]
     },
     "metadata": {},
     "output_type": "display_data"
    }
   ],
   "source": [
    "ib = inds(B)\n",
    "inds_c = ib, C_index\n",
    "B_m = Array{ComplexF64}(B, ib)\n",
    "size(B_m)"
   ]
  },
  {
   "cell_type": "code",
   "execution_count": 35,
   "metadata": {},
   "outputs": [
    {
     "name": "stdout",
     "output_type": "stream",
     "text": [
      "size(out) = (2, 2, 2, 2, 4)\n",
      "size(ls[1]) = (2, 2, 2, 4)\n"
     ]
    },
    {
     "data": {
      "text/plain": [
       "(2, 2, 2, 4)"
      ]
     },
     "metadata": {},
     "output_type": "display_data"
    }
   ],
   "source": [
    "out = Array{Float64}(undef, 2,size(B)...)\n",
    "    \n",
    "\n",
    "ls = eachslice(out; dims=length(inds_c))\n",
    "    \n",
    "@show size(out)\n",
    "@show size(ls[1])"
   ]
  },
  {
   "cell_type": "code",
   "execution_count": 45,
   "metadata": {},
   "outputs": [
    {
     "data": {
      "text/plain": [
       "ITensor ord=5 (dim=2|id=542|\"C\") (dim=2|id=341|\"S=1/2,Site,n=2\") (dim=2|id=64|\"Link,l=1\") (dim=2|id=612|\"S=1/2,Site,n=3\") (dim=4|id=45|\"Link,l=3\")\n",
       "NDTensors.Dense{Float64, Vector{Float64}}"
      ]
     },
     "metadata": {},
     "output_type": "display_data"
    }
   ],
   "source": [
    "BT_init = B\n",
    "C_index = Index(2, \"C\")\n",
    "bt_real = real(BT_init)\n",
    "bt_imag = imag(BT_init)\n",
    "\n",
    "bt_real_index_tensor = ITensor([1; 0], C_index)\n",
    "bt_real *= bt_real_index_tensor\n",
    "bt_imag_index_tensor = ITensor([0; 1], C_index)\n",
    "bt_imag *= bt_imag_index_tensor\n",
    "\n",
    "bt_in = bt_real + bt_imag\n",
    "\n",
    "bt_in2 = realise(BT_init, C_index)"
   ]
  },
  {
   "cell_type": "code",
   "execution_count": 48,
   "metadata": {},
   "outputs": [
    {
     "data": {
      "text/plain": [
       "-0.20849897415138807"
      ]
     },
     "metadata": {},
     "output_type": "display_data"
    }
   ],
   "source": [
    "bt_in2[1]"
   ]
  },
  {
   "cell_type": "code",
   "execution_count": 39,
   "metadata": {},
   "outputs": [
    {
     "name": "stdout",
     "output_type": "stream",
     "text": [
      "1-0.20849897415138807\n"
     ]
    }
   ],
   "source": [
    "i = 1\n",
    "\n",
    "while bt_in[i] == bt_in2[i]\n",
    "    println(i, bt_in[i])\n",
    "    i += 1\n",
    "end"
   ]
  },
  {
   "cell_type": "code",
   "execution_count": 41,
   "metadata": {},
   "outputs": [
    {
     "data": {
      "text/plain": [
       "Dim 1: (dim=2|id=341|\"S=1/2,Site,n=2\")\n",
       "Dim 2: (dim=2|id=64|\"Link,l=1\")\n",
       "Dim 3: (dim=2|id=612|\"S=1/2,Site,n=3\")\n",
       "Dim 4: (dim=4|id=45|\"Link,l=3\")\n",
       "Dim 5: (dim=2|id=57|\"C\")\n",
       "NDTensors.Dense{Float64, Vector{Float64}}\n",
       " 2×2×2×4×2\n",
       "[:, :, 1, 1, 1] =\n",
       " -0.20849897415138807  0.017506168096643463\n",
       " -0.2097640381741668   0.4659154298228207\n",
       "\n",
       "[:, :, 2, 1, 1] =\n",
       "  0.42007194200070413   0.3547314511983508\n",
       " -0.3355169945865916   -0.13961617469776663\n",
       "\n",
       "[:, :, 1, 2, 1] =\n",
       "  0.1488822881918869    0.16650630293731644\n",
       " -0.057304346992279855  0.42111242482366595\n",
       "\n",
       "[:, :, 2, 2, 1] =\n",
       " 0.07028932614253285  -0.0022844205478846948\n",
       " 0.10036420903147399  -0.2862381893232308\n",
       "\n",
       "[:, :, 1, 3, 1] =\n",
       " -0.024518031118138908  -0.10182852323558697\n",
       " -0.08056316367648084   -0.2587224799188845\n",
       "\n",
       "[:, :, 2, 3, 1] =\n",
       "  0.010949662924698766  -0.31241122731945276\n",
       " -0.5983160733194751     0.04409347944579363\n",
       "\n",
       "[:, :, 1, 4, 1] =\n",
       " -0.11771672854961196   0.11088730876788307\n",
       "  0.07176624075720049  -0.3037711438603363\n",
       "\n",
       "[:, :, 2, 4, 1] =\n",
       " 0.26144591672103834  0.06637868501886918\n",
       " 0.3254249002773437   0.1485466274426756\n",
       "\n",
       "[:, :, 1, 1, 2] =\n",
       "  0.04011256566558277  -0.05994456753583343\n",
       " -0.2462554462594364   -0.14685546025988544\n",
       "\n",
       "[:, :, 2, 1, 2] =\n",
       "  0.3235287476033691    0.16218682345342053\n",
       " -0.06904442524921185  -0.1939876660292269\n",
       "\n",
       "[:, :, 1, 2, 2] =\n",
       " -0.41529749247111203  -0.17739890146815646\n",
       "  0.6277372083003987    0.18662618410668508\n",
       "\n",
       "[:, :, 2, 2, 2] =\n",
       "  0.04032407097107981  -0.12311320890692452\n",
       " -0.07597170566837116   0.130991845732261\n",
       "\n",
       "[:, :, 1, 3, 2] =\n",
       " 0.1640624617958909   0.058827259351265516\n",
       " 0.526825171066535   -0.06040759978696119\n",
       "\n",
       "[:, :, 2, 3, 2] =\n",
       "  0.13754507431124352   0.3125229634562108\n",
       " -0.09409834262805258  -0.14470770338384434\n",
       "\n",
       "[:, :, 1, 4, 2] =\n",
       " -0.03141958930622973  -0.5970360306168461\n",
       "  0.14100341424714874  -0.05148809065271867\n",
       "\n",
       "[:, :, 2, 4, 2] =\n",
       "  0.0008079759898511896   0.07032295481868053\n",
       " -0.05024658749239386    -0.5368882778283923"
      ]
     },
     "metadata": {},
     "output_type": "display_data"
    }
   ],
   "source": [
    "bt_in.tensor"
   ]
  },
  {
   "cell_type": "code",
   "execution_count": 42,
   "metadata": {},
   "outputs": [
    {
     "data": {
      "text/plain": [
       "Dim 1: (dim=2|id=341|\"S=1/2,Site,n=2\")\n",
       "Dim 2: (dim=2|id=64|\"Link,l=1\")\n",
       "Dim 3: (dim=2|id=612|\"S=1/2,Site,n=3\")\n",
       "Dim 4: (dim=4|id=45|\"Link,l=3\")\n",
       "Dim 5: (dim=2|id=57|\"C\")\n",
       "NDTensors.Dense{Float64, Vector{Float64}}\n",
       " 2×2×2×4×2\n",
       "[:, :, 1, 1, 1] =\n",
       " -0.20849897415138807  -0.2097640381741668\n",
       "  0.04011256566558277  -0.2462554462594364\n",
       "\n",
       "[:, :, 2, 1, 1] =\n",
       "  0.017506168096643463   0.4659154298228207\n",
       " -0.05994456753583343   -0.14685546025988544\n",
       "\n",
       "[:, :, 1, 2, 1] =\n",
       " 0.42007194200070413  -0.3355169945865916\n",
       " 0.3235287476033691   -0.06904442524921185\n",
       "\n",
       "[:, :, 2, 2, 1] =\n",
       " 0.3547314511983508   -0.13961617469776663\n",
       " 0.16218682345342053  -0.1939876660292269\n",
       "\n",
       "[:, :, 1, 3, 1] =\n",
       "  0.1488822881918869   -0.057304346992279855\n",
       " -0.41529749247111203   0.6277372083003987\n",
       "\n",
       "[:, :, 2, 3, 1] =\n",
       "  0.16650630293731644  0.42111242482366595\n",
       " -0.17739890146815646  0.18662618410668508\n",
       "\n",
       "[:, :, 1, 4, 1] =\n",
       " 0.07028932614253285   0.10036420903147399\n",
       " 0.04032407097107981  -0.07597170566837116\n",
       "\n",
       "[:, :, 2, 4, 1] =\n",
       " -0.0022844205478846948  -0.2862381893232308\n",
       " -0.12311320890692452     0.130991845732261\n",
       "\n",
       "[:, :, 1, 1, 2] =\n",
       " -0.024518031118138908  -0.08056316367648084\n",
       "  0.1640624617958909     0.526825171066535\n",
       "\n",
       "[:, :, 2, 1, 2] =\n",
       " -0.10182852323558697   -0.2587224799188845\n",
       "  0.058827259351265516  -0.06040759978696119\n",
       "\n",
       "[:, :, 1, 2, 2] =\n",
       " 0.010949662924698766  -0.5983160733194751\n",
       " 0.13754507431124352   -0.09409834262805258\n",
       "\n",
       "[:, :, 2, 2, 2] =\n",
       " -0.31241122731945276   0.04409347944579363\n",
       "  0.3125229634562108   -0.14470770338384434\n",
       "\n",
       "[:, :, 1, 3, 2] =\n",
       " -0.11771672854961196  0.07176624075720049\n",
       " -0.03141958930622973  0.14100341424714874\n",
       "\n",
       "[:, :, 2, 3, 2] =\n",
       "  0.11088730876788307  -0.3037711438603363\n",
       " -0.5970360306168461   -0.05148809065271867\n",
       "\n",
       "[:, :, 1, 4, 2] =\n",
       " 0.26144591672103834     0.3254249002773437\n",
       " 0.0008079759898511896  -0.05024658749239386\n",
       "\n",
       "[:, :, 2, 4, 2] =\n",
       " 0.06637868501886918   0.1485466274426756\n",
       " 0.07032295481868053  -0.5368882778283923"
      ]
     },
     "metadata": {},
     "output_type": "display_data"
    }
   ],
   "source": [
    "bt_in2.tensor"
   ]
  },
  {
   "cell_type": "code",
   "execution_count": null,
   "metadata": {},
   "outputs": [],
   "source": []
  }
 ],
 "metadata": {
  "kernelspec": {
   "display_name": "Julia 1.10.2",
   "language": "julia",
   "name": "julia-1.10"
  },
  "language_info": {
   "file_extension": ".jl",
   "mimetype": "application/julia",
   "name": "julia",
   "version": "1.10.2"
  }
 },
 "nbformat": 4,
 "nbformat_minor": 2
}
