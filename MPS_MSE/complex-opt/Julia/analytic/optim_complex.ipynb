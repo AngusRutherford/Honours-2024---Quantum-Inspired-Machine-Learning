{
 "cells": [
  {
   "cell_type": "code",
   "execution_count": 2,
   "metadata": {},
   "outputs": [],
   "source": [
    "using ITensors\n",
    "using Optim\n",
    "using Random"
   ]
  },
  {
   "cell_type": "code",
   "execution_count": 3,
   "metadata": {},
   "outputs": [],
   "source": [
    "s = siteinds(\"S=1/2\", 4)\n",
    "mps = randomMPS(ComplexF64, s; linkdims=4);"
   ]
  },
  {
   "cell_type": "code",
   "execution_count": 4,
   "metadata": {},
   "outputs": [],
   "source": [
    "struct PState\n",
    "    pstate::MPS\n",
    "    label::Int\n",
    "end"
   ]
  },
  {
   "cell_type": "code",
   "execution_count": 5,
   "metadata": {},
   "outputs": [
    {
     "data": {
      "text/plain": [
       "complex_feature_map (generic function with 1 method)"
      ]
     },
     "metadata": {},
     "output_type": "display_data"
    }
   ],
   "source": [
    "function complex_feature_map(x::Float64)\n",
    "    s1 = exp(1im * (3π/2) * x) * cospi(0.5 * x)\n",
    "    s2 = exp(-1im * (2π/2) * x) * sinpi(0.5 * x)\n",
    "    return [s1, s2]\n",
    "end"
   ]
  },
  {
   "cell_type": "code",
   "execution_count": 6,
   "metadata": {},
   "outputs": [
    {
     "data": {
      "text/plain": [
       "generate_training_data (generic function with 1 method)"
      ]
     },
     "metadata": {},
     "output_type": "display_data"
    }
   ],
   "source": [
    "function generate_training_data(samples_per_class::Int)\n",
    "\n",
    "    class_A_samples = zeros(samples_per_class, 4)\n",
    "    class_B_samples = ones(samples_per_class, 4)\n",
    "    all_samples = vcat(class_A_samples, class_B_samples)\n",
    "    all_labels = Int.(vcat(zeros(size(class_A_samples)[1]), ones(size(class_B_samples)[1])))\n",
    "\n",
    "    return all_samples, all_labels\n",
    "\n",
    "end"
   ]
  },
  {
   "cell_type": "code",
   "execution_count": 7,
   "metadata": {},
   "outputs": [
    {
     "data": {
      "text/plain": [
       "sample_to_product_state (generic function with 1 method)"
      ]
     },
     "metadata": {},
     "output_type": "display_data"
    }
   ],
   "source": [
    "function sample_to_product_state(sample::Vector, site_inds::Vector{Index{Int64}})\n",
    "    n_sites = length(site_inds)\n",
    "    product_state = MPS(ComplexF64, site_inds; linkdims=1)\n",
    "    for j=1:n_sites\n",
    "        T = ITensor(site_inds[j])\n",
    "        zero_state, one_state = complex_feature_map(sample[j])\n",
    "        T[1] = zero_state\n",
    "        T[2] = one_state\n",
    "        product_state[j] = T \n",
    "    end\n",
    "    return product_state\n",
    "end"
   ]
  },
  {
   "cell_type": "code",
   "execution_count": 8,
   "metadata": {},
   "outputs": [
    {
     "data": {
      "text/plain": [
       "dataset_to_product_state (generic function with 1 method)"
      ]
     },
     "metadata": {},
     "output_type": "display_data"
    }
   ],
   "source": [
    "function dataset_to_product_state(dataset::Matrix, labels::Vector, sites::Vector{Index{Int64}})\n",
    "\n",
    "    all_product_states = Vector{PState}(undef, size(dataset)[1])\n",
    "    for p=1:length(all_product_states)\n",
    "        sample_pstate = sample_to_product_state(dataset[p, :], sites)\n",
    "        sample_label = labels[p]\n",
    "        product_state = PState(sample_pstate, sample_label)\n",
    "        all_product_states[p] = product_state\n",
    "    end\n",
    "\n",
    "    return all_product_states\n",
    "\n",
    "end"
   ]
  },
  {
   "cell_type": "code",
   "execution_count": 9,
   "metadata": {},
   "outputs": [],
   "source": [
    "all_samples, all_labels = generate_training_data(100)\n",
    "all_pstates = dataset_to_product_state(all_samples, all_labels, s);"
   ]
  },
  {
   "cell_type": "code",
   "execution_count": 79,
   "metadata": {},
   "outputs": [
    {
     "data": {
      "text/plain": [
       "ITensor ord=3 (dim=2|id=724|\"S=1/2,Site,n=1\") (dim=2|id=104|\"S=1/2,Site,n=2\") (dim=4|id=850|\"Link,l=2\")\n",
       "NDTensors.Dense{ComplexF64, Vector{ComplexF64}}"
      ]
     },
     "metadata": {},
     "output_type": "display_data"
    }
   ],
   "source": [
    "BT = mps[1] * mps[2]"
   ]
  },
  {
   "cell_type": "code",
   "execution_count": 80,
   "metadata": {},
   "outputs": [
    {
     "data": {
      "text/plain": [
       "loss (generic function with 2 methods)"
      ]
     },
     "metadata": {},
     "output_type": "display_data"
    }
   ],
   "source": [
    "function loss(B::ITensor)\n",
    "    product_state = all_pstates[1]\n",
    "    ps = all_pstates[1].pstate\n",
    "    lid = 1\n",
    "    rid = 2\n",
    "    phi_tilde = ps[lid] * ps[rid] * mps[3] * ps[3] * mps[4] * ps[4]\n",
    "    yhat = B * phi_tilde\n",
    "    y = product_state.label\n",
    "    diff_sq = norm(yhat[] - y)^2\n",
    "    loss = 0.5 * diff_sq\n",
    "    return loss\n",
    "end"
   ]
  },
  {
   "cell_type": "code",
   "execution_count": 81,
   "metadata": {},
   "outputs": [
    {
     "data": {
      "text/plain": [
       "0.0003243776509033321"
      ]
     },
     "metadata": {},
     "output_type": "display_data"
    }
   ],
   "source": [
    "loss(BT)"
   ]
  },
  {
   "cell_type": "code",
   "execution_count": 82,
   "metadata": {},
   "outputs": [
    {
     "data": {
      "text/plain": [
       "gradient (generic function with 2 methods)"
      ]
     },
     "metadata": {},
     "output_type": "display_data"
    }
   ],
   "source": [
    "function gradient(B::ITensor)\n",
    "    product_state = all_pstates[1]\n",
    "    ps = all_pstates[1].pstate\n",
    "    lid = 1\n",
    "    rid = 2\n",
    "    phi_tilde = ps[lid] * ps[rid] * mps[3] * ps[3] * mps[4] * ps[4]\n",
    "    yhat = B * phi_tilde\n",
    "    y = product_state.label\n",
    "    dP = yhat[] - y\n",
    "    grad = 0.5 * dP * conj(phi_tilde)\n",
    "\n",
    "    return grad\n",
    "\n",
    "end\n",
    "    "
   ]
  },
  {
   "cell_type": "code",
   "execution_count": 83,
   "metadata": {},
   "outputs": [
    {
     "data": {
      "text/plain": [
       "flatten_bond_tensor (generic function with 1 method)"
      ]
     },
     "metadata": {},
     "output_type": "display_data"
    }
   ],
   "source": [
    "function flatten_bond_tensor(BT::ITensor)\n",
    "    \"\"\"Function to flatten an ITensor so that it can be fed into Optim\n",
    "    as a vector.\"\"\"\n",
    "    # should probably return the indices as well\n",
    "    # might need checks to ensure correct assignment of indices to values\n",
    "    flattened_tensor = collect(Iterators.flatten(BT))\n",
    "    return flattened_tensor, inds(BT)\n",
    "end"
   ]
  },
  {
   "cell_type": "code",
   "execution_count": 84,
   "metadata": {},
   "outputs": [
    {
     "data": {
      "text/plain": [
       "16-element Vector{ComplexF64}:\n",
       "   0.09132171378965329 + 0.017390368794233408im\n",
       "   -0.3645883853078941 + 0.3605618647117407im\n",
       "   0.14340821400332981 + 0.05714727193769016im\n",
       " -0.061875126932802255 - 0.17839505912915488im\n",
       " -0.059128889130315755 + 0.10491041592755732im\n",
       "  -0.07808140996084341 - 0.03900504662536748im\n",
       "   -0.2722048578896096 + 0.2337301663445115im\n",
       "    0.1335115377739747 - 0.03996961257988981im\n",
       "  0.030787904087829568 + 0.030744209715260335im\n",
       "   -0.3917483826104733 + 0.0640581484485691im\n",
       "  -0.25206272469074925 + 0.04194169131606157im\n",
       "    0.1900386688619175 + 0.07399525904004105im\n",
       "  0.023333031569183222 - 0.013182212954102091im\n",
       "   0.12001232965043487 + 0.2898585979223783im\n",
       "   0.05367282759225719 + 0.15100139065793688im\n",
       "  -0.31911503057113216 - 0.07530469095936829im"
      ]
     },
     "metadata": {},
     "output_type": "display_data"
    }
   ],
   "source": [
    "BT_flattened, BT_inds = flatten_bond_tensor(BT);\n",
    "BT_flattened"
   ]
  },
  {
   "cell_type": "code",
   "execution_count": 85,
   "metadata": {},
   "outputs": [
    {
     "data": {
      "text/plain": [
       "reconstruct_bond_tensor (generic function with 2 methods)"
      ]
     },
     "metadata": {},
     "output_type": "display_data"
    }
   ],
   "source": [
    "function reconstruct_bond_tensor(BT_flat::Vector, indices)\n",
    "    BT = ITensor(indices)\n",
    "    # ORDER OF ASSIGNMENT MUST MATCH THE ORDER OF FLATTENING\n",
    "    for (n, val) in enumerate(BT_flat)\n",
    "        BT[n] = val\n",
    "    end\n",
    "\n",
    "    return BT\n",
    "\n",
    "end"
   ]
  },
  {
   "cell_type": "code",
   "execution_count": 86,
   "metadata": {},
   "outputs": [
    {
     "data": {
      "text/plain": [
       "ITensor ord=3 (dim=2|id=724|\"S=1/2,Site,n=1\") (dim=2|id=104|\"S=1/2,Site,n=2\") (dim=4|id=850|\"Link,l=2\")\n",
       "NDTensors.Dense{ComplexF64, Vector{ComplexF64}}"
      ]
     },
     "metadata": {},
     "output_type": "display_data"
    }
   ],
   "source": [
    "BT_reconstructed = reconstruct_bond_tensor(BT_flattened, BT_inds)"
   ]
  },
  {
   "cell_type": "code",
   "execution_count": 87,
   "metadata": {},
   "outputs": [
    {
     "data": {
      "text/plain": [
       "loss_flat (generic function with 1 method)"
      ]
     },
     "metadata": {},
     "output_type": "display_data"
    }
   ],
   "source": [
    "function loss_flat(params::Vector, bt_inds)\n",
    "    # takes in flattened ITensor\n",
    "    B = reconstruct_bond_tensor(params, bt_inds)\n",
    "    product_state = all_pstates[1]\n",
    "    ps = all_pstates[1].pstate\n",
    "    lid = 1\n",
    "    rid = 2\n",
    "    phi_tilde = ps[lid] * ps[rid] * mps[3] * ps[3] * mps[4] * ps[4]\n",
    "    yhat = B * phi_tilde\n",
    "    y = product_state.label\n",
    "    diff_sq = norm(yhat[] - y)^2\n",
    "    loss = 0.5 * diff_sq\n",
    "    return loss\n",
    "end"
   ]
  },
  {
   "cell_type": "code",
   "execution_count": 88,
   "metadata": {},
   "outputs": [
    {
     "data": {
      "text/plain": [
       "gradient_flat (generic function with 1 method)"
      ]
     },
     "metadata": {},
     "output_type": "display_data"
    }
   ],
   "source": [
    "function gradient_flat(params::Vector, bt_inds)\n",
    "    B = reconstruct_bond_tensor(params, bt_inds)\n",
    "    product_state = all_pstates[1]\n",
    "    ps = all_pstates[1].pstate\n",
    "    lid = 1\n",
    "    rid = 2\n",
    "    phi_tilde = ps[lid] * ps[rid] * mps[3] * ps[3] * mps[4] * ps[4]\n",
    "    yhat = B * phi_tilde\n",
    "    y = product_state.label\n",
    "    dP = yhat[] - y\n",
    "    grad = 0.5 * dP * conj(phi_tilde)\n",
    "\n",
    "    return grad\n",
    "\n",
    "end"
   ]
  },
  {
   "cell_type": "code",
   "execution_count": 89,
   "metadata": {},
   "outputs": [
    {
     "data": {
      "text/plain": [
       "0.0003243776509033321"
      ]
     },
     "metadata": {},
     "output_type": "display_data"
    }
   ],
   "source": [
    "loss_flat(BT_flattened, BT_inds)"
   ]
  },
  {
   "cell_type": "code",
   "execution_count": 90,
   "metadata": {},
   "outputs": [
    {
     "data": {
      "text/plain": [
       "0.0003243776509033321"
      ]
     },
     "metadata": {},
     "output_type": "display_data"
    }
   ],
   "source": [
    "loss(BT)"
   ]
  },
  {
   "cell_type": "code",
   "execution_count": 91,
   "metadata": {},
   "outputs": [
    {
     "name": "stdout",
     "output_type": "stream",
     "text": [
      "gradient_flat(BT_flattened, BT_inds) = ITensor ord=3\n",
      "Dim 1: (dim=2|id=724|\"S=1/2,Site,n=1\")\n",
      "Dim 2: (dim=2|id=104|\"S=1/2,Site,n=2\")\n",
      "Dim 3: (dim=4|id=850|\"Link,l=2\")\n",
      "NDTensors.Dense{ComplexF64, Vector{ComplexF64}}\n",
      " 2×2×4\n",
      "[:, :, 1] =\n",
      " 0.0011883168402251339 - 0.0007470713846025681im  -0.0 + 0.0im\n",
      "                  -0.0 + 0.0im                    -0.0 + 0.0im\n",
      "\n",
      "[:, :, 2] =\n",
      " 0.002245664181352213 - 0.002095639237707649im  -0.0 + 0.0im\n",
      "                 -0.0 + 0.0im                   -0.0 + 0.0im\n",
      "\n",
      "[:, :, 3] =\n",
      " 0.003454117495135392 + 0.009944492090671978im  -0.0 + 0.0im\n",
      "                 -0.0 + 0.0im                   -0.0 + 0.0im\n",
      "\n",
      "[:, :, 4] =\n",
      " 0.005514647894042047 - 0.0030900986146534023im  -0.0 + 0.0im\n",
      "                 -0.0 + 0.0im                    -0.0 + 0.0im\n"
     ]
    },
    {
     "data": {
      "text/plain": [
       "ITensor ord=3 (dim=2|id=724|\"S=1/2,Site,n=1\") (dim=2|id=104|\"S=1/2,Site,n=2\") (dim=4|id=850|\"Link,l=2\")\n",
       "NDTensors.Dense{ComplexF64, Vector{ComplexF64}}"
      ]
     },
     "metadata": {},
     "output_type": "display_data"
    }
   ],
   "source": [
    "@show gradient_flat(BT_flattened, BT_inds)"
   ]
  },
  {
   "cell_type": "code",
   "execution_count": 93,
   "metadata": {},
   "outputs": [
    {
     "data": {
      "text/plain": [
       "16-element Vector{ComplexF64}:\n",
       "   0.09132171378965329 + 0.017390368794233408im\n",
       "   -0.3645883853078941 + 0.3605618647117407im\n",
       "   0.14340821400332981 + 0.05714727193769016im\n",
       " -0.061875126932802255 - 0.17839505912915488im\n",
       " -0.059128889130315755 + 0.10491041592755732im\n",
       "  -0.07808140996084341 - 0.03900504662536748im\n",
       "   -0.2722048578896096 + 0.2337301663445115im\n",
       "    0.1335115377739747 - 0.03996961257988981im\n",
       "  0.030787904087829568 + 0.030744209715260335im\n",
       "   -0.3917483826104733 + 0.0640581484485691im\n",
       "  -0.25206272469074925 + 0.04194169131606157im\n",
       "    0.1900386688619175 + 0.07399525904004105im\n",
       "  0.023333031569183222 - 0.013182212954102091im\n",
       "   0.12001232965043487 + 0.2898585979223783im\n",
       "   0.05367282759225719 + 0.15100139065793688im\n",
       "  -0.31911503057113216 - 0.07530469095936829im"
      ]
     },
     "metadata": {},
     "output_type": "display_data"
    }
   ],
   "source": [
    "initial_guess = BT_flattened"
   ]
  },
  {
   "cell_type": "code",
   "execution_count": 94,
   "metadata": {},
   "outputs": [
    {
     "data": {
      "text/plain": [
       "#9 (generic function with 1 method)"
      ]
     },
     "metadata": {},
     "output_type": "display_data"
    }
   ],
   "source": [
    "cost = x -> loss_flat(x, BT_inds)"
   ]
  },
  {
   "cell_type": "code",
   "execution_count": 97,
   "metadata": {},
   "outputs": [
    {
     "data": {
      "text/plain": [
       "#11 (generic function with 1 method)"
      ]
     },
     "metadata": {},
     "output_type": "display_data"
    }
   ],
   "source": [
    "grad = x -> gradient_flat(x, BT_inds)"
   ]
  },
  {
   "cell_type": "code",
   "execution_count": 99,
   "metadata": {},
   "outputs": [
    {
     "name": "stdout",
     "output_type": "stream",
     "text": [
      "grad(initial_guess) = ITensor ord=3\n",
      "Dim 1: (dim=2|id=724|\"S=1/2,Site,n=1\")\n",
      "Dim 2: (dim=2|id=104|\"S=1/2,Site,n=2\")\n",
      "Dim 3: (dim=4|id=850|\"Link,l=2\")\n",
      "NDTensors.Dense{ComplexF64, Vector{ComplexF64}}\n",
      " 2×2×4\n",
      "[:, :, 1] =\n",
      " 0.0011883168402251339 - 0.0007470713846025681im  -0.0 + 0.0im\n",
      "                  -0.0 + 0.0im                    -0.0 + 0.0im\n",
      "\n",
      "[:, :, 2] =\n",
      " 0.002245664181352213 - 0.002095639237707649im  -0.0 + 0.0im\n",
      "                 -0.0 + 0.0im                   -0.0 + 0.0im\n",
      "\n",
      "[:, :, 3] =\n",
      " 0.003454117495135392 + 0.009944492090671978im  -0.0 + 0.0im\n",
      "                 -0.0 + 0.0im                   -0.0 + 0.0im\n",
      "\n",
      "[:, :, 4] =\n",
      " 0.005514647894042047 - 0.0030900986146534023im  -0.0 + 0.0im\n",
      "                 -0.0 + 0.0im                    -0.0 + 0.0im\n"
     ]
    },
    {
     "data": {
      "text/plain": [
       "ITensor ord=3 (dim=2|id=724|\"S=1/2,Site,n=1\") (dim=2|id=104|\"S=1/2,Site,n=2\") (dim=4|id=850|\"Link,l=2\")\n",
       "NDTensors.Dense{ComplexF64, Vector{ComplexF64}}"
      ]
     },
     "metadata": {},
     "output_type": "display_data"
    }
   ],
   "source": [
    "@show grad(initial_guess)"
   ]
  },
  {
   "cell_type": "code",
   "execution_count": 104,
   "metadata": {},
   "outputs": [
    {
     "data": {
      "text/plain": [
       "4-element Vector{ComplexF64}:\n",
       "  0.07174118716510826 + 0.8370373962657851im\n",
       "    1.090178125748597 - 0.7765745558578111im\n",
       " -0.12812740300971684 + 0.2986753958333526im\n",
       "  -1.2644371353177892 + 1.5146559312297998im"
      ]
     },
     "metadata": {},
     "output_type": "display_data"
    }
   ],
   "source": [
    "x0 = randn(4)+im*randn(4)"
   ]
  },
  {
   "cell_type": "code",
   "execution_count": 102,
   "metadata": {},
   "outputs": [
    {
     "ename": "MethodError",
     "evalue": "MethodError: no method matching (::var\"#11#12\")(::Vector{ComplexF64}, ::Vector{ComplexF64})\n\nClosest candidates are:\n  (::var\"#11#12\")(::Any)\n   @ Main ~/Documents/QuantumInspiredML/MPS_MSE/complex-opt/Julia/analytic/optim_complex.ipynb:1\n",
     "output_type": "error",
     "traceback": [
      "MethodError: no method matching (::var\"#11#12\")(::Vector{ComplexF64}, ::Vector{ComplexF64})\n",
      "\n",
      "Closest candidates are:\n",
      "  (::var\"#11#12\")(::Any)\n",
      "   @ Main ~/Documents/QuantumInspiredML/MPS_MSE/complex-opt/Julia/analytic/optim_complex.ipynb:1\n",
      "\n",
      "\n",
      "Stacktrace:\n",
      " [1] (::NLSolversBase.var\"#fg!#8\"{var\"#9#10\", var\"#11#12\"})(gx::Vector{ComplexF64}, x::Vector{ComplexF64})\n",
      "   @ NLSolversBase ~/.julia/packages/NLSolversBase/kavn7/src/objective_types/abstract.jl:13\n",
      " [2] value_gradient!!(obj::OnceDifferentiable{Float64, Vector{ComplexF64}, Vector{ComplexF64}}, x::Vector{ComplexF64})\n",
      "   @ NLSolversBase ~/.julia/packages/NLSolversBase/kavn7/src/interface.jl:82\n",
      " [3] initial_state(method::LBFGS{Nothing, LineSearches.InitialStatic{Float64}, LineSearches.HagerZhang{Float64, Base.RefValue{Bool}}, Optim.var\"#19#21\"}, options::Optim.Options{Float64, Nothing}, d::OnceDifferentiable{Float64, Vector{ComplexF64}, Vector{ComplexF64}}, initial_x::Vector{ComplexF64})\n",
      "   @ Optim ~/.julia/packages/Optim/EJwLF/src/multivariate/solvers/first_order/l_bfgs.jl:164\n",
      " [4] optimize\n",
      "   @ ~/.julia/packages/Optim/EJwLF/src/multivariate/optimize/optimize.jl:36 [inlined]\n",
      " [5] optimize(f::Function, g::Function, initial_x::Vector{ComplexF64}, method::LBFGS{Nothing, LineSearches.InitialStatic{Float64}, LineSearches.HagerZhang{Float64, Base.RefValue{Bool}}, Optim.var\"#19#21\"}, options::Optim.Options{Float64, Nothing}; inplace::Bool, autodiff::Symbol)\n",
      "   @ Optim ~/.julia/packages/Optim/EJwLF/src/multivariate/optimize/interface.jl:156\n",
      " [6] optimize\n",
      "   @ ~/.julia/packages/Optim/EJwLF/src/multivariate/optimize/interface.jl:151 [inlined]\n",
      " [7] optimize(f::Function, g::Function, initial_x::Vector{ComplexF64}, method::LBFGS{Nothing, LineSearches.InitialStatic{Float64}, LineSearches.HagerZhang{Float64, Base.RefValue{Bool}}, Optim.var\"#19#21\"})\n",
      "   @ Optim ~/.julia/packages/Optim/EJwLF/src/multivariate/optimize/interface.jl:151\n",
      " [8] top-level scope\n",
      "   @ ~/Documents/QuantumInspiredML/MPS_MSE/complex-opt/Julia/analytic/optim_complex.ipynb:1"
     ]
    }
   ],
   "source": [
    "optimize(cost, grad, initial_guess,  LBFGS())"
   ]
  },
  {
   "cell_type": "code",
   "execution_count": 106,
   "metadata": {},
   "outputs": [
    {
     "data": {
      "text/plain": [
       "gradient_flat! (generic function with 1 method)"
      ]
     },
     "metadata": {},
     "output_type": "display_data"
    }
   ],
   "source": [
    "function gradient_flat!(stor, params::Vector, bt_inds)\n",
    "    B = reconstruct_bond_tensor(params, bt_inds)\n",
    "    product_state = all_pstates[1]\n",
    "    ps = all_pstates[1].pstate\n",
    "    lid = 1\n",
    "    rid = 2\n",
    "    phi_tilde = ps[lid] * ps[rid] * mps[3] * ps[3] * mps[4] * ps[4]\n",
    "    yhat = B * phi_tilde\n",
    "    y = product_state.label\n",
    "    dP = yhat[] - y\n",
    "    grad = 0.5 * dP * conj(phi_tilde)\n",
    "\n",
    "    # Assuming `grad` is now a vector that correctly represents the gradient,\n",
    "    # and `stor` is the storage vector provided by Optim.jl:\n",
    "    copyto!(stor, grad)\n",
    "    return nothing  # In-place modification does not need to return the gradient\n",
    "end"
   ]
  },
  {
   "cell_type": "code",
   "execution_count": 107,
   "metadata": {},
   "outputs": [
    {
     "data": {
      "text/plain": [
       "16-element Vector{ComplexF64}:\n",
       "   0.09132171378965329 + 0.017390368794233408im\n",
       "   -0.3645883853078941 + 0.3605618647117407im\n",
       "   0.14340821400332981 + 0.05714727193769016im\n",
       " -0.061875126932802255 - 0.17839505912915488im\n",
       " -0.059128889130315755 + 0.10491041592755732im\n",
       "  -0.07808140996084341 - 0.03900504662536748im\n",
       "   -0.2722048578896096 + 0.2337301663445115im\n",
       "    0.1335115377739747 - 0.03996961257988981im\n",
       "  0.030787904087829568 + 0.030744209715260335im\n",
       "   -0.3917483826104733 + 0.0640581484485691im\n",
       "  -0.25206272469074925 + 0.04194169131606157im\n",
       "    0.1900386688619175 + 0.07399525904004105im\n",
       "  0.023333031569183222 - 0.013182212954102091im\n",
       "   0.12001232965043487 + 0.2898585979223783im\n",
       "   0.05367282759225719 + 0.15100139065793688im\n",
       "  -0.31911503057113216 - 0.07530469095936829im"
      ]
     },
     "metadata": {},
     "output_type": "display_data"
    }
   ],
   "source": [
    "initial_guess = BT_flattened"
   ]
  },
  {
   "cell_type": "code",
   "execution_count": 108,
   "metadata": {},
   "outputs": [
    {
     "data": {
      "text/plain": [
       "#13 (generic function with 1 method)"
      ]
     },
     "metadata": {},
     "output_type": "display_data"
    }
   ],
   "source": [
    "cost = x -> loss_flat(x, BT_inds)"
   ]
  },
  {
   "cell_type": "code",
   "execution_count": 109,
   "metadata": {},
   "outputs": [
    {
     "data": {
      "text/plain": [
       "#15 (generic function with 1 method)"
      ]
     },
     "metadata": {},
     "output_type": "display_data"
    }
   ],
   "source": [
    "grad! = (stor, x) -> gradient_flat!(stor, x, BT_inds)"
   ]
  },
  {
   "cell_type": "code",
   "execution_count": 114,
   "metadata": {},
   "outputs": [
    {
     "name": "stdout",
     "output_type": "stream",
     "text": [
      "  0.000258 seconds (1.73 k allocations: 268.281 KiB)\n"
     ]
    },
    {
     "data": {
      "text/plain": [
       " * Status: success\n",
       "\n",
       " * Candidate solution\n",
       "    Final objective value:     1.201534e-36\n",
       "\n",
       " * Found with\n",
       "    Algorithm:     L-BFGS\n",
       "\n",
       " * Convergence measures\n",
       "    |x - x'|               = 2.11e-02 ≰ 0.0e+00\n",
       "    |x - x'|/|x'|          = 4.11e-02 ≰ 0.0e+00\n",
       "    |f(x) - f(x')|         = 3.24e-04 ≰ 0.0e+00\n",
       "    |f(x) - f(x')|/|f(x')| = 2.70e+32 ≰ 0.0e+00\n",
       "    |g(x)|                 = 6.41e-19 ≤ 1.0e-08\n",
       "\n",
       " * Work counters\n",
       "    Seconds run:   0  (vs limit Inf)\n",
       "    Iterations:    1\n",
       "    f(x) calls:    4\n",
       "    ∇f(x) calls:   4\n"
      ]
     },
     "metadata": {},
     "output_type": "display_data"
    }
   ],
   "source": [
    "@time res = optimize(cost, grad!, initial_guess, LBFGS())"
   ]
  },
  {
   "cell_type": "code",
   "execution_count": 116,
   "metadata": {},
   "outputs": [
    {
     "name": "stdout",
     "output_type": "stream",
     "text": [
      "  0.000352 seconds (1.89 k allocations: 290.734 KiB)\n"
     ]
    },
    {
     "data": {
      "text/plain": [
       " * Status: success\n",
       "\n",
       " * Candidate solution\n",
       "    Final objective value:     1.201534e-36\n",
       "\n",
       " * Found with\n",
       "    Algorithm:     Conjugate Gradient\n",
       "\n",
       " * Convergence measures\n",
       "    |x - x'|               = 2.11e-02 ≰ 0.0e+00\n",
       "    |x - x'|/|x'|          = 4.11e-02 ≰ 0.0e+00\n",
       "    |f(x) - f(x')|         = 3.24e-04 ≰ 0.0e+00\n",
       "    |f(x) - f(x')|/|f(x')| = 2.70e+32 ≰ 0.0e+00\n",
       "    |g(x)|                 = 6.41e-19 ≤ 1.0e-08\n",
       "\n",
       " * Work counters\n",
       "    Seconds run:   0  (vs limit Inf)\n",
       "    Iterations:    1\n",
       "    f(x) calls:    5\n",
       "    ∇f(x) calls:   4\n"
      ]
     },
     "metadata": {},
     "output_type": "display_data"
    }
   ],
   "source": [
    "@time res = optimize(cost, grad!, initial_guess, ConjugateGradient())\n"
   ]
  },
  {
   "cell_type": "code",
   "execution_count": 119,
   "metadata": {},
   "outputs": [
    {
     "data": {
      "text/plain": [
       "16-element Vector{ComplexF64}:\n",
       "   0.08894508010920302 + 0.018884511563438545im\n",
       "   -0.3645883853078941 + 0.3605618647117407im\n",
       "   0.14340821400332981 + 0.05714727193769016im\n",
       " -0.061875126932802255 - 0.17839505912915488im\n",
       "  -0.06362021749302019 + 0.10910169440297261im\n",
       "  -0.07808140996084341 - 0.03900504662536748im\n",
       "   -0.2722048578896096 + 0.2337301663445115im\n",
       "    0.1335115377739747 - 0.03996961257988981im\n",
       "  0.023879669097558783 + 0.010855225533916376im\n",
       "   -0.3917483826104733 + 0.0640581484485691im\n",
       "  -0.25206272469074925 + 0.04194169131606157im\n",
       "    0.1900386688619175 + 0.07399525904004105im\n",
       "  0.012303735781099126 - 0.007002015724795285im\n",
       "   0.12001232965043487 + 0.2898585979223783im\n",
       "   0.05367282759225719 + 0.15100139065793688im\n",
       "  -0.31911503057113216 - 0.07530469095936829im"
      ]
     },
     "metadata": {},
     "output_type": "display_data"
    }
   ],
   "source": [
    "result_flattened = Optim.minimizer(res)"
   ]
  },
  {
   "cell_type": "code",
   "execution_count": 122,
   "metadata": {},
   "outputs": [
    {
     "data": {
      "text/plain": [
       "ITensor ord=3 (dim=2|id=724|\"S=1/2,Site,n=1\") (dim=2|id=104|\"S=1/2,Site,n=2\") (dim=4|id=850|\"Link,l=2\")\n",
       "NDTensors.Dense{ComplexF64, Vector{ComplexF64}}"
      ]
     },
     "metadata": {},
     "output_type": "display_data"
    }
   ],
   "source": [
    "result_as_ITensor = reconstruct_bond_tensor(result_flattened, BT_inds)"
   ]
  },
  {
   "cell_type": "code",
   "execution_count": 123,
   "metadata": {},
   "outputs": [
    {
     "name": "stdout",
     "output_type": "stream",
     "text": [
      "result_as_ITensor = ITensor ord=3\n",
      "Dim 1: (dim=2|id=724|\"S=1/2,Site,n=1\")\n",
      "Dim 2: (dim=2|id=104|\"S=1/2,Site,n=2\")\n",
      "Dim 3: (dim=4|id=850|\"Link,l=2\")\n",
      "NDTensors.Dense{ComplexF64, Vector{ComplexF64}}\n",
      " 2×2×4\n",
      "[:, :, 1] =\n",
      " 0.08894508010920302 + 0.018884511563438545im    0.14340821400332981 + 0.05714727193769016im\n",
      " -0.3645883853078941 + 0.3605618647117407im    -0.061875126932802255 - 0.17839505912915488im\n",
      "\n",
      "[:, :, 2] =\n",
      " -0.06362021749302019 + 0.10910169440297261im  -0.2722048578896096 + 0.2337301663445115im\n",
      " -0.07808140996084341 - 0.03900504662536748im   0.1335115377739747 - 0.03996961257988981im\n",
      "\n",
      "[:, :, 3] =\n",
      " 0.023879669097558783 + 0.010855225533916376im  -0.25206272469074925 + 0.04194169131606157im\n",
      "  -0.3917483826104733 + 0.0640581484485691im      0.1900386688619175 + 0.07399525904004105im\n",
      "\n",
      "[:, :, 4] =\n",
      " 0.012303735781099126 - 0.007002015724795285im   0.05367282759225719 + 0.15100139065793688im\n",
      "  0.12001232965043487 + 0.2898585979223783im    -0.31911503057113216 - 0.07530469095936829im\n"
     ]
    },
    {
     "data": {
      "text/plain": [
       "ITensor ord=3 (dim=2|id=724|\"S=1/2,Site,n=1\") (dim=2|id=104|\"S=1/2,Site,n=2\") (dim=4|id=850|\"Link,l=2\")\n",
       "NDTensors.Dense{ComplexF64, Vector{ComplexF64}}"
      ]
     },
     "metadata": {},
     "output_type": "display_data"
    }
   ],
   "source": [
    "@show result_as_ITensor"
   ]
  },
  {
   "cell_type": "code",
   "execution_count": null,
   "metadata": {},
   "outputs": [],
   "source": []
  }
 ],
 "metadata": {
  "kernelspec": {
   "display_name": "Julia 1.10.2",
   "language": "julia",
   "name": "julia-1.10"
  },
  "language_info": {
   "file_extension": ".jl",
   "mimetype": "application/julia",
   "name": "julia",
   "version": "1.10.2"
  }
 },
 "nbformat": 4,
 "nbformat_minor": 2
}
