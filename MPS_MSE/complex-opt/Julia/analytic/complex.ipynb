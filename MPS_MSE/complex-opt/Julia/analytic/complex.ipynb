{
 "cells": [
  {
   "cell_type": "code",
   "execution_count": 1,
   "metadata": {},
   "outputs": [],
   "source": [
    "using ITensors"
   ]
  },
  {
   "cell_type": "code",
   "execution_count": 8,
   "metadata": {},
   "outputs": [],
   "source": [
    "s = siteinds(\"S=1/2\", 4)\n",
    "mps = randomMPS(ComplexF64, s; linkdims=4);"
   ]
  },
  {
   "cell_type": "code",
   "execution_count": 9,
   "metadata": {},
   "outputs": [],
   "source": [
    "struct PState\n",
    "    pstate::MPS\n",
    "    label::Int\n",
    "end"
   ]
  },
  {
   "cell_type": "code",
   "execution_count": 4,
   "metadata": {},
   "outputs": [
    {
     "data": {
      "text/plain": [
       "complex_feature_map (generic function with 1 method)"
      ]
     },
     "metadata": {},
     "output_type": "display_data"
    }
   ],
   "source": [
    "function complex_feature_map(x::Float64)\n",
    "    s1 = exp(1im * (3π/2) * x) * cospi(0.5 * x)\n",
    "    s2 = exp(-1im * (2π/2) * x) * sinpi(0.5 * x)\n",
    "    return [s1, s2]\n",
    "end"
   ]
  },
  {
   "cell_type": "code",
   "execution_count": 10,
   "metadata": {},
   "outputs": [
    {
     "data": {
      "text/plain": [
       "generate_training_data (generic function with 1 method)"
      ]
     },
     "metadata": {},
     "output_type": "display_data"
    }
   ],
   "source": [
    "function generate_training_data(samples_per_class::Int)\n",
    "\n",
    "    class_A_samples = zeros(samples_per_class, 4)\n",
    "    class_B_samples = ones(samples_per_class, 4)\n",
    "    all_samples = vcat(class_A_samples, class_B_samples)\n",
    "    all_labels = Int.(vcat(zeros(size(class_A_samples)[1]), ones(size(class_B_samples)[1])))\n",
    "\n",
    "    return all_samples, all_labels\n",
    "\n",
    "end"
   ]
  },
  {
   "cell_type": "code",
   "execution_count": 7,
   "metadata": {},
   "outputs": [
    {
     "data": {
      "text/plain": [
       "([0.0 0.0 0.0 0.0; 0.0 0.0 0.0 0.0; 1.0 1.0 1.0 1.0; 1.0 1.0 1.0 1.0], [0, 0, 1, 1])"
      ]
     },
     "metadata": {},
     "output_type": "display_data"
    }
   ],
   "source": [
    "generate_training_data(2)"
   ]
  },
  {
   "cell_type": "code",
   "execution_count": 11,
   "metadata": {},
   "outputs": [
    {
     "data": {
      "text/plain": [
       "sample_to_product_state (generic function with 1 method)"
      ]
     },
     "metadata": {},
     "output_type": "display_data"
    }
   ],
   "source": [
    "function sample_to_product_state(sample::Vector, site_inds::Vector{Index{Int64}})\n",
    "    n_sites = length(site_inds)\n",
    "    product_state = MPS(ComplexF64, site_inds; linkdims=1)\n",
    "    for j=1:n_sites\n",
    "        T = ITensor(site_inds[j])\n",
    "        zero_state, one_state = complex_feature_map(sample[j])\n",
    "        T[1] = zero_state\n",
    "        T[2] = one_state\n",
    "        product_state[j] = T \n",
    "    end\n",
    "    return product_state\n",
    "end"
   ]
  },
  {
   "cell_type": "code",
   "execution_count": 12,
   "metadata": {},
   "outputs": [
    {
     "data": {
      "text/plain": [
       "dataset_to_product_state (generic function with 1 method)"
      ]
     },
     "metadata": {},
     "output_type": "display_data"
    }
   ],
   "source": [
    "function dataset_to_product_state(dataset::Matrix, labels::Vector, sites::Vector{Index{Int64}})\n",
    "\n",
    "    all_product_states = Vector{PState}(undef, size(dataset)[1])\n",
    "    for p=1:length(all_product_states)\n",
    "        sample_pstate = sample_to_product_state(dataset[p, :], sites)\n",
    "        sample_label = labels[p]\n",
    "        product_state = PState(sample_pstate, sample_label)\n",
    "        all_product_states[p] = product_state\n",
    "    end\n",
    "\n",
    "    return all_product_states\n",
    "\n",
    "end"
   ]
  },
  {
   "cell_type": "code",
   "execution_count": 13,
   "metadata": {},
   "outputs": [
    {
     "data": {
      "text/plain": [
       "loss_and_grad (generic function with 1 method)"
      ]
     },
     "metadata": {},
     "output_type": "display_data"
    }
   ],
   "source": [
    "function loss_and_grad(B::ITensor, mps::MPS, product_state::PState, lid, rid)\n",
    "    # for a single sample\n",
    "    ps = product_state.pstate\n",
    "    phi_tilde = ps[lid] * ps[rid] * mps[3] * ps[3] * mps[4] * ps[4]\n",
    "    yhat = B * phi_tilde\n",
    "    y = product_state.label\n",
    "    diff_sq = (norm(yhat[] - y))^2\n",
    "    loss = 0.5 * diff_sq\n",
    "\n",
    "    dP = yhat[] - y\n",
    "    grad = 0.5 * dP * conj(phi_tilde)\n",
    "\n",
    "    return loss, grad\n",
    "end"
   ]
  },
  {
   "cell_type": "code",
   "execution_count": 14,
   "metadata": {},
   "outputs": [],
   "source": [
    "all_samples, all_labels = generate_training_data(100)\n",
    "all_pstates = dataset_to_product_state(all_samples, all_labels, s);"
   ]
  },
  {
   "cell_type": "code",
   "execution_count": 15,
   "metadata": {},
   "outputs": [
    {
     "data": {
      "text/plain": [
       "ITensor ord=3 (dim=2|id=983|\"S=1/2,Site,n=1\") (dim=2|id=673|\"S=1/2,Site,n=2\") (dim=4|id=887|\"Link,l=2\")\n",
       "NDTensors.Dense{ComplexF64, Vector{ComplexF64}}"
      ]
     },
     "metadata": {},
     "output_type": "display_data"
    }
   ],
   "source": [
    "BT = mps[1] * mps[2]"
   ]
  },
  {
   "cell_type": "code",
   "execution_count": 16,
   "metadata": {},
   "outputs": [
    {
     "data": {
      "text/plain": [
       "update (generic function with 2 methods)"
      ]
     },
     "metadata": {},
     "output_type": "display_data"
    }
   ],
   "source": [
    "function update(n_iters, BT, lr=0.8)\n",
    "    BT_new = BT\n",
    "    for iter in 1:n_iters\n",
    "        loss_total, grad_total = loss_and_grad(BT_new, mps, all_pstates[1], 1, 2)\n",
    "        for ps in 2:200\n",
    "            loss_val, grad_val = loss_and_grad(BT_new, mps, all_pstates[ps], 1, 2)\n",
    "            loss_total += loss_val\n",
    "            grad_total += grad_val\n",
    "        end\n",
    "        loss_final = loss_total / 200\n",
    "        grad_final = grad_total ./ 200\n",
    "        println(\"Loss: $loss_final\")\n",
    "        BT_new = BT_new - lr * grad_final\n",
    "    end\n",
    "    return BT_new\n",
    "end"
   ]
  },
  {
   "cell_type": "code",
   "execution_count": 17,
   "metadata": {},
   "outputs": [
    {
     "name": "stdout",
     "output_type": "stream",
     "text": [
      "Loss: 0.4686150135926879\n",
      "Loss: 0.29991360869932016\n",
      "Loss: 0.19194470956756482\n",
      "Loss: 0.1228446141232415\n",
      "Loss: 0.0786205530388746\n",
      "Loss: 0.05031715394487967\n",
      "Loss: 0.03220297852472303\n",
      "Loss: 0.020609906255822718\n",
      "Loss: 0.013190340003726517\n",
      "Loss: 0.008441817602384986\n",
      "Loss: 0.005402763265526399\n",
      "Loss: 0.003457768489936893\n",
      "Loss: 0.002212971833559619\n",
      "Loss: 0.001416301973478151\n",
      "Loss: 0.0009064332630260168\n",
      "Loss: 0.0005801172883366526\n",
      "Loss: 0.0003712750645354556\n",
      "Loss: 0.00023761604130269315\n",
      "Loss: 0.000152074266433724\n",
      "Loss: 9.73275305175821e-5\n",
      "Loss: 6.228961953125293e-5\n",
      "Loss: 3.9865356500002044e-5\n",
      "Loss: 2.551382816000168e-5\n",
      "Loss: 1.6328850022400578e-5\n",
      "Loss: 1.0450464014336635e-5\n",
      "Loss: 6.6882969691755504e-6\n",
      "Loss: 4.280510060272275e-6\n",
      "Loss: 2.7395264385741894e-6\n",
      "Loss: 1.7532969206875293e-6\n",
      "Loss: 1.1221100292401085e-6\n",
      "Loss: 7.181504187135787e-7\n",
      "Loss: 4.5961626797673417e-7\n",
      "Loss: 2.9415441150511077e-7\n",
      "Loss: 1.8825882336324366e-7\n",
      "Loss: 1.2048564695248293e-7\n",
      "Loss: 7.711081404963025e-8\n",
      "Loss: 4.935092099173517e-8\n",
      "Loss: 3.1584589434714904e-8\n",
      "Loss: 2.0214137238217573e-8\n",
      "Loss: 1.2937047832463834e-8\n",
      "Loss: 8.279710612776937e-9\n",
      "Loss: 5.299014792180416e-9\n",
      "Loss: 3.3913694669991955e-9\n",
      "Loss: 2.170476458871553e-9\n",
      "Loss: 1.3891049336801556e-9\n",
      "Loss: 8.890271575546554e-10\n",
      "Loss: 5.689773808319925e-10\n",
      "Loss: 3.641455237344675e-10\n",
      "Loss: 2.3305313518908903e-10\n",
      "Loss: 1.491540065228489e-10\n",
      "Loss: 9.545856417420793e-11\n",
      "Loss: 6.109348107084457e-11\n",
      "Loss: 3.909982788585212e-11\n",
      "Loss: 2.5023889846533596e-11\n",
      "Loss: 1.6015289502113345e-11\n",
      "Loss: 1.0249785281625576e-11\n",
      "Loss: 6.5598625801908194e-12\n",
      "Loss: 4.198312051104827e-12\n",
      "Loss: 2.68691971270253e-12\n",
      "Loss: 1.7196286161872418e-12\n",
      "Loss: 1.100562314291405e-12\n",
      "Loss: 7.043598812025416e-13\n",
      "Loss: 4.507903239983158e-13\n",
      "Loss: 2.8850580733489544e-13\n",
      "Loss: 1.8464371670522774e-13\n",
      "Loss: 1.181719787122547e-13\n",
      "Loss: 7.563006634702963e-14\n",
      "Loss: 4.8403242485689105e-14\n",
      "Loss: 3.097807518275339e-14\n",
      "Loss: 1.982596809969053e-14\n",
      "Loss: 1.2688619603062334e-14\n",
      "Loss: 8.12071655148625e-15\n",
      "Loss: 5.197258594467166e-15\n",
      "Loss: 3.3262454954642442e-15\n",
      "Loss: 2.1287971219803595e-15\n",
      "Loss: 1.3624301534543376e-15\n",
      "Loss: 8.719552994549011e-16\n",
      "Loss: 5.580513892282714e-16\n",
      "Loss: 3.571528890583208e-16\n",
      "Loss: 2.285778480753887e-16\n",
      "Loss: 1.462898227680299e-16\n",
      "Loss: 9.362548696691488e-17\n",
      "Loss: 5.992031214614643e-17\n",
      "Loss: 3.834899977041767e-17\n",
      "Loss: 2.4543359760104116e-17\n",
      "Loss: 1.5707750404085998e-17\n",
      "Loss: 1.0052960663288057e-17\n",
      "Loss: 6.433894603062495e-18\n",
      "Loss: 4.1176927601678055e-18\n",
      "Loss: 2.6353230557163364e-18\n",
      "Loss: 1.6866068634159008e-18\n",
      "Loss: 1.0794283720585172e-18\n",
      "Loss: 6.908341938982555e-19\n",
      "Loss: 4.42133828187059e-19\n",
      "Loss: 2.8296566136039975e-19\n",
      "Loss: 1.8109805963405451e-19\n",
      "Loss: 1.159027504769849e-19\n",
      "Loss: 7.417773165553419e-20\n",
      "Loss: 4.747378504117479e-20\n",
      "Loss: 3.038322276846679e-20\n"
     ]
    },
    {
     "data": {
      "text/plain": [
       "ITensor ord=3 (dim=2|id=983|\"S=1/2,Site,n=1\") (dim=2|id=673|\"S=1/2,Site,n=2\") (dim=4|id=887|\"Link,l=2\")\n",
       "NDTensors.Dense{ComplexF64, Vector{ComplexF64}}"
      ]
     },
     "metadata": {},
     "output_type": "display_data"
    }
   ],
   "source": [
    "BT_new = update(100, BT)"
   ]
  },
  {
   "cell_type": "code",
   "execution_count": 18,
   "metadata": {},
   "outputs": [
    {
     "data": {
      "text/plain": [
       "MPS\n",
       "[1] ((dim=2|id=983|\"S=1/2,Site,n=1\"),)\n",
       "[2] ((dim=2|id=673|\"S=1/2,Site,n=2\"),)\n",
       "[3] ((dim=2|id=812|\"S=1/2,Site,n=3\"),)\n",
       "[4] ((dim=2|id=496|\"S=1/2,Site,n=4\"),)\n"
      ]
     },
     "metadata": {},
     "output_type": "display_data"
    }
   ],
   "source": [
    "test_ps = all_pstates[150].pstate"
   ]
  },
  {
   "cell_type": "code",
   "execution_count": 19,
   "metadata": {},
   "outputs": [
    {
     "data": {
      "text/plain": [
       "ITensor ord=0\n",
       "NDTensors.Dense{ComplexF64, Vector{ComplexF64}}"
      ]
     },
     "metadata": {},
     "output_type": "display_data"
    }
   ],
   "source": [
    "yhat = BT_new * test_ps[1] * test_ps[2] * mps[3] * test_ps[3] * mps[4] * test_ps[4]"
   ]
  },
  {
   "cell_type": "code",
   "execution_count": 20,
   "metadata": {},
   "outputs": [
    {
     "data": {
      "text/plain": [
       "0.9999999997339204"
      ]
     },
     "metadata": {},
     "output_type": "display_data"
    }
   ],
   "source": [
    "abs(yhat[])"
   ]
  },
  {
   "cell_type": "markdown",
   "metadata": {},
   "source": [
    "# Have a look at sites 2-3"
   ]
  },
  {
   "cell_type": "code",
   "execution_count": 21,
   "metadata": {},
   "outputs": [
    {
     "data": {
      "text/plain": [
       "loss_and_grad23 (generic function with 1 method)"
      ]
     },
     "metadata": {},
     "output_type": "display_data"
    }
   ],
   "source": [
    "function loss_and_grad23(B::ITensor, mps::MPS, product_state::PState, lid, rid)\n",
    "    # for a single sample\n",
    "    ps = product_state.pstate\n",
    "    phi_tilde = ps[lid] * ps[rid] * mps[1] * ps[1] * mps[4] * ps[4]\n",
    "    yhat = B * phi_tilde\n",
    "    y = product_state.label\n",
    "    diff_sq = (norm(yhat[] - y))^2\n",
    "    loss = 0.5 * diff_sq\n",
    "\n",
    "    dP = yhat[] - y\n",
    "    grad = 0.5 * dP * conj(phi_tilde)\n",
    "\n",
    "    return loss, grad\n",
    "end"
   ]
  },
  {
   "cell_type": "code",
   "execution_count": 22,
   "metadata": {},
   "outputs": [
    {
     "data": {
      "text/plain": [
       "ITensor ord=4 (dim=4|id=1|\"Link,l=1\") (dim=2|id=673|\"S=1/2,Site,n=2\") (dim=2|id=812|\"S=1/2,Site,n=3\") (dim=2|id=995|\"Link,l=3\")\n",
       "NDTensors.Dense{ComplexF64, Vector{ComplexF64}}"
      ]
     },
     "metadata": {},
     "output_type": "display_data"
    }
   ],
   "source": [
    "B23 = mps[2] * mps[3]"
   ]
  },
  {
   "cell_type": "code",
   "execution_count": 23,
   "metadata": {},
   "outputs": [
    {
     "data": {
      "text/plain": [
       "update23 (generic function with 2 methods)"
      ]
     },
     "metadata": {},
     "output_type": "display_data"
    }
   ],
   "source": [
    "function update23(n_iters, BT, lr=0.8)\n",
    "    BT_new = BT\n",
    "    for iter in 1:n_iters\n",
    "        loss_total, grad_total = loss_and_grad23(BT_new, mps, all_pstates[1], 2, 3)\n",
    "        for ps in 2:200\n",
    "            loss_val, grad_val = loss_and_grad23(BT_new, mps, all_pstates[ps], 2, 3)\n",
    "            loss_total += loss_val\n",
    "            grad_total += grad_val\n",
    "        end\n",
    "        loss_final = loss_total / 200\n",
    "        grad_final = grad_total ./ 200\n",
    "        println(\"Loss: $loss_final\")\n",
    "        BT_new = BT_new - lr * grad_final\n",
    "    end\n",
    "    return BT_new\n",
    "end"
   ]
  },
  {
   "cell_type": "code",
   "execution_count": 24,
   "metadata": {},
   "outputs": [
    {
     "name": "stdout",
     "output_type": "stream",
     "text": [
      "Loss: 0.4686150135926879\n",
      "Loss: 0.2878799983763153\n",
      "Loss: 0.1773533493953199\n",
      "Loss: 0.10961677549455923\n",
      "Loss: 0.06800118469604398\n",
      "Loss: 0.042360652541819824\n",
      "Loss: 0.026511218360854606\n",
      "Loss: 0.01667770277755604\n",
      "Loss: 0.010551132486291043\n",
      "Loss: 0.006716232883120261\n",
      "Loss: 0.004303344644623091\n",
      "Loss: 0.002776539301853299\n",
      "Loss: 0.0018044627376459328\n",
      "Loss: 0.001181478900129664\n",
      "Loss: 0.0007794334112527626\n",
      "Loss: 0.000518082784625414\n",
      "Loss: 0.00034692054987900606\n",
      "Loss: 0.00023397532710690716\n",
      "Loss: 0.0001588833056595182\n",
      "Loss: 0.00010858795691792185\n",
      "Loss: 7.46592729711903e-5\n",
      "Loss: 5.161467193134318e-5\n",
      "Loss: 3.5861773090656766e-5\n",
      "Loss: 2.5028897049719284e-5\n",
      "Loss: 1.7538456892557524e-5\n",
      "Loss: 1.233331063728162e-5\n",
      "Loss: 8.699997082325732e-6\n",
      "Loss: 6.153719215497112e-6\n",
      "Loss: 4.362944326018045e-6\n",
      "Loss: 3.0996007206447505e-6\n",
      "Loss: 2.205933609282028e-6\n",
      "Loss: 1.5722846990558653e-6\n",
      "Loss: 1.1220889126326176e-6\n",
      "Loss: 8.016752733876612e-7\n",
      "Loss: 5.732893507728316e-7\n",
      "Loss: 4.1029140516602096e-7\n",
      "Loss: 2.93833873284664e-7\n",
      "Loss: 2.105511222050008e-7\n",
      "Loss: 1.5094596086444484e-7\n",
      "Loss: 1.0825833520215407e-7\n",
      "Loss: 7.766935116977803e-8\n",
      "Loss: 5.573952431747362e-8\n",
      "Loss: 4.001127815232877e-8\n",
      "Loss: 2.8727018830782407e-8\n",
      "Loss: 2.0628783887183523e-8\n",
      "Loss: 1.4815618412843959e-8\n",
      "Loss: 1.0641896878946469e-8\n",
      "Loss: 7.644744876383628e-9\n",
      "Loss: 5.4921772431997266e-9\n",
      "Loss: 3.9460057944621544e-9\n",
      "Loss: 2.835290044449679e-9\n",
      "Loss: 2.0373218209513996e-9\n",
      "Loss: 1.4639983610025864e-9\n",
      "Loss: 1.0520523714324623e-9\n",
      "Loss: 7.560446166231538e-10\n",
      "Loss: 5.433362354238951e-10\n",
      "Loss: 3.904804636117856e-10\n",
      "Loss: 2.806324257790737e-10\n",
      "Loss: 2.0168937962777762e-10\n",
      "Loss: 1.449551971839737e-10\n",
      "Loss: 1.0418117301307676e-10\n",
      "Loss: 7.487703483802226e-11\n",
      "Loss: 5.3815991565732105e-11\n",
      "Loss: 3.8679142795356704e-11\n",
      "Loss: 2.7799992310491263e-11\n",
      "Loss: 1.9980873872589896e-11\n",
      "Loss: 1.4361041411721667e-11\n",
      "Loss: 1.0321879399159089e-11\n",
      "Loss: 7.41878515724571e-12\n",
      "Loss: 5.332216690812359e-12\n",
      "Loss: 3.8325127694910645e-12\n",
      "Loss: 2.754610029892686e-12\n",
      "Loss: 1.979872489467176e-12\n",
      "Loss: 1.423032462749683e-12\n",
      "Loss: 1.0228049128926182e-12\n",
      "Loss: 7.351418540599932e-13\n",
      "Loss: 5.283841527521682e-13\n",
      "Loss: 3.7977700276336194e-13\n",
      "Loss: 2.7296549160531774e-13\n",
      "Loss: 1.961945791068486e-13\n",
      "Loss: 1.410153550849998e-13\n",
      "Loss: 1.0135517526015212e-13\n",
      "Loss: 7.284932884253713e-14\n",
      "Loss: 5.2360678683703356e-14\n",
      "Loss: 3.7634404770179564e-14\n",
      "Loss: 2.7049852226422063e-14\n",
      "Loss: 1.944217255290364e-14\n",
      "Loss: 1.397412850053966e-14\n",
      "Loss: 1.004395383788326e-14\n",
      "Loss: 7.219127527125142e-15\n",
      "Loss: 5.188773878242409e-15\n",
      "Loss: 3.729450071946887e-15\n",
      "Loss: 2.680555898483696e-15\n",
      "Loss: 1.9266594369153185e-15\n",
      "Loss: 1.3847936150875414e-15\n",
      "Loss: 9.95325571133312e-16\n",
      "Loss: 7.153939780103831e-16\n",
      "Loss: 5.141921067376632e-16\n",
      "Loss: 3.6957751208414984e-16\n",
      "Loss: 2.6563523127792724e-16\n"
     ]
    },
    {
     "data": {
      "text/plain": [
       "ITensor ord=4 (dim=4|id=1|\"Link,l=1\") (dim=2|id=673|\"S=1/2,Site,n=2\") (dim=2|id=812|\"S=1/2,Site,n=3\") (dim=2|id=995|\"Link,l=3\")\n",
       "NDTensors.Dense{ComplexF64, Vector{ComplexF64}}"
      ]
     },
     "metadata": {},
     "output_type": "display_data"
    }
   ],
   "source": [
    "B23_new = update23(100, B23, 1.5)"
   ]
  },
  {
   "cell_type": "markdown",
   "metadata": {},
   "source": [
    "# Sites 3-4"
   ]
  },
  {
   "cell_type": "code",
   "execution_count": 25,
   "metadata": {},
   "outputs": [
    {
     "data": {
      "text/plain": [
       "loss_and_grad34 (generic function with 1 method)"
      ]
     },
     "metadata": {},
     "output_type": "display_data"
    }
   ],
   "source": [
    "function loss_and_grad34(B::ITensor, mps::MPS, product_state::PState, lid, rid)\n",
    "    # for a single sample\n",
    "    ps = product_state.pstate\n",
    "    phi_tilde = ps[lid] * ps[rid] * mps[1] * ps[1] * mps[2] * ps[2]\n",
    "    yhat = B * phi_tilde\n",
    "    y = product_state.label\n",
    "    diff_sq = (norm(yhat[] - y))^2\n",
    "    loss = 0.5 * diff_sq\n",
    "\n",
    "    dP = yhat[] - y\n",
    "    grad = 0.5 * dP * conj(phi_tilde)\n",
    "\n",
    "    return loss, grad\n",
    "end"
   ]
  },
  {
   "cell_type": "code",
   "execution_count": 26,
   "metadata": {},
   "outputs": [
    {
     "data": {
      "text/plain": [
       "update34 (generic function with 2 methods)"
      ]
     },
     "metadata": {},
     "output_type": "display_data"
    }
   ],
   "source": [
    "function update34(n_iters, BT, lr=0.8)\n",
    "    BT_new = BT\n",
    "    for iter in 1:n_iters\n",
    "        loss_total, grad_total = loss_and_grad34(BT_new, mps, all_pstates[1], 3, 4)\n",
    "        for ps in 2:200\n",
    "            loss_val, grad_val = loss_and_grad34(BT_new, mps, all_pstates[ps], 3, 4)\n",
    "            loss_total += loss_val\n",
    "            grad_total += grad_val\n",
    "        end\n",
    "        loss_final = loss_total / 200\n",
    "        grad_final = grad_total ./ 200\n",
    "        println(\"Loss: $loss_final\")\n",
    "        BT_new = BT_new - lr * grad_final\n",
    "    end\n",
    "    return BT_new\n",
    "end"
   ]
  },
  {
   "cell_type": "code",
   "execution_count": 27,
   "metadata": {},
   "outputs": [
    {
     "data": {
      "text/plain": [
       "ITensor ord=3 (dim=4|id=887|\"Link,l=2\") (dim=2|id=812|\"S=1/2,Site,n=3\") (dim=2|id=496|\"S=1/2,Site,n=4\")\n",
       "NDTensors.Dense{ComplexF64, Vector{ComplexF64}}"
      ]
     },
     "metadata": {},
     "output_type": "display_data"
    }
   ],
   "source": [
    "B34 = mps[3] * mps[4]"
   ]
  },
  {
   "cell_type": "code",
   "execution_count": 28,
   "metadata": {},
   "outputs": [
    {
     "name": "stdout",
     "output_type": "stream",
     "text": [
      "Loss: 0.4686150135926879\n",
      "Loss: 0.4101368798193873\n",
      "Loss: 0.3589650599876388\n",
      "Loss: 0.31418570173934285\n",
      "Loss: 0.27499936607255754\n",
      "Loss: 0.24070669044928295\n",
      "Loss: 0.21069584982101952\n",
      "Loss: 0.18443158994875933\n",
      "Loss: 0.1614456357252012\n",
      "Loss: 0.14132830197871452\n",
      "Loss: 0.12372115589829251\n",
      "Loss: 0.10831059915755384\n",
      "Loss: 0.09482225437578018\n",
      "Loss: 0.08301605503396954\n",
      "Loss: 0.07268195062527165\n",
      "Loss: 0.06363614989057026\n",
      "Loss: 0.055717834671050494\n",
      "Loss: 0.04878628537513345\n",
      "Loss: 0.04271836645977568\n",
      "Loss: 0.037406326799452556\n",
      "Loss: 0.03275587547680599\n",
      "Loss: 0.02868449847909148\n",
      "Loss: 0.025119986113387914\n",
      "Loss: 0.021999144739108266\n",
      "Loss: 0.019266669726852446\n",
      "Loss: 0.016874159447762473\n",
      "Loss: 0.014779252629405265\n",
      "Loss: 0.012944873628437109\n",
      "Loss: 0.011338572106770308\n",
      "Loss: 0.00993194529152703\n",
      "Loss: 0.008700132480226414\n",
      "Loss: 0.00762137274805671\n",
      "Loss: 0.006676617947052055\n",
      "Loss: 0.005849194077904517\n",
      "Loss: 0.0051245049818209685\n",
      "Loss: 0.004489773057868257\n",
      "Loss: 0.00393381237426647\n",
      "Loss: 0.0034468301220106235\n",
      "Loss: 0.0030202528664459087\n",
      "Loss: 0.002646574496106745\n",
      "Loss: 0.0023192231562243863\n",
      "Loss: 0.0020324447937845247\n",
      "Loss: 0.0017812012379676814\n",
      "Loss: 0.0015610809995657577\n",
      "Loss: 0.001368221200196517\n",
      "Loss: 0.0011992392409146207\n",
      "Loss: 0.0010511729937059035\n",
      "Loss: 0.000921428451472422\n",
      "Loss: 0.000807733905194417\n",
      "Loss: 0.0007080998333792342\n",
      "Loss: 0.0006207837907615168\n",
      "Loss: 0.0005442596723292122\n",
      "Loss: 0.00047719080671190887\n",
      "Loss: 0.0004184064011777672\n",
      "Loss: 0.0003668809201640974\n",
      "Loss: 0.00032171603148219944\n",
      "Loss: 0.0002821248000239321\n",
      "Loss: 0.00024741784877254936\n",
      "Loss: 0.00021699124189866064\n",
      "Loss: 0.0001903158753286088\n",
      "Loss: 0.00016692818695468096\n",
      "Loss: 0.00014642202209215685\n",
      "Loss: 0.00012844151029622295\n",
      "Loss: 0.00011267482759831463\n",
      "Loss: 9.884873392665975e-5\n",
      "Loss: 8.672378922004953e-5\n",
      "Loss: 7.609016377216691e-5\n",
      "Loss: 6.676396887082593e-5\n",
      "Loss: 5.858404300952602e-5\n",
      "Loss: 5.1409137012409185e-5\n",
      "Loss: 4.511544847108011e-5\n",
      "Loss: 3.9594462069152574e-5\n",
      "Loss: 3.475105777707603e-5\n",
      "Loss: 3.0501853632518684e-5\n",
      "Loss: 2.677375396420109e-5\n",
      "Loss: 2.3502677543349137e-5\n",
      "Loss: 2.0632443321309423e-5\n",
      "Loss: 1.8113794190727486e-5\n",
      "Loss: 1.5903541640353134e-5\n",
      "Loss: 1.3963816303262802e-5\n",
      "Loss: 1.2261411262744558e-5\n",
      "Loss: 1.0767206612520169e-5\n",
      "Loss: 9.455665197112174e-6\n",
      "Loss: 8.304390709530986e-6\n",
      "Loss: 7.293740419094726e-6\n",
      "Loss: 6.406485761517331e-6\n",
      "Loss: 5.6275148634847275e-6\n",
      "Loss: 4.943571809491392e-6\n",
      "Loss: 4.343028102881449e-6\n",
      "Loss: 3.815682337120677e-6\n",
      "Loss: 3.3525845873392354e-6\n",
      "Loss: 2.9458824647998214e-6\n",
      "Loss: 2.5886861558763587e-6\n",
      "Loss: 2.2749500989564064e-6\n",
      "Loss: 1.9993692433711213e-6\n",
      "Loss: 1.7572880890128999e-6\n",
      "Loss: 1.5446209283332574e-6\n",
      "Loss: 1.3577819077277947e-6\n",
      "Loss: 1.1936236964463324e-6\n",
      "Loss: 1.049383701053263e-6\n"
     ]
    },
    {
     "data": {
      "text/plain": [
       "ITensor ord=3 (dim=4|id=887|\"Link,l=2\") (dim=2|id=812|\"S=1/2,Site,n=3\") (dim=2|id=496|\"S=1/2,Site,n=4\")\n",
       "NDTensors.Dense{ComplexF64, Vector{ComplexF64}}"
      ]
     },
     "metadata": {},
     "output_type": "display_data"
    }
   ],
   "source": [
    "B34_new = update34(100, B34, 0.8)"
   ]
  },
  {
   "cell_type": "code",
   "execution_count": 29,
   "metadata": {},
   "outputs": [
    {
     "data": {
      "text/plain": [
       "loss_12 (generic function with 1 method)"
      ]
     },
     "metadata": {},
     "output_type": "display_data"
    }
   ],
   "source": [
    "function loss_12(B::ITensor, mps::MPS, product_state::PState, lid, rid)\n",
    "    # for a single sample\n",
    "    ps = product_state.pstate\n",
    "    phi_tilde = ps[lid] * ps[rid] * mps[3] * ps[3] * mps[4] * ps[4]\n",
    "    yhat = B * phi_tilde\n",
    "    y = product_state.label\n",
    "    diff_sq = (norm(yhat[] - y))^2\n",
    "    loss = 0.5 * diff_sq\n",
    "\n",
    "    return loss\n",
    "end"
   ]
  },
  {
   "cell_type": "code",
   "execution_count": 30,
   "metadata": {},
   "outputs": [
    {
     "data": {
      "text/plain": [
       "ITensor ord=3 (dim=2|id=983|\"S=1/2,Site,n=1\") (dim=2|id=673|\"S=1/2,Site,n=2\") (dim=4|id=887|\"Link,l=2\")\n",
       "NDTensors.Dense{ComplexF64, Vector{ComplexF64}}"
      ]
     },
     "metadata": {},
     "output_type": "display_data"
    }
   ],
   "source": [
    "B12 = mps[1] * mps[2]"
   ]
  },
  {
   "cell_type": "code",
   "execution_count": 31,
   "metadata": {},
   "outputs": [
    {
     "name": "stdout",
     "output_type": "stream",
     "text": [
      "B12 = ITensor ord=3\n",
      "Dim 1: (dim=2|id=983|\"S=1/2,Site,n=1\")\n",
      "Dim 2: (dim=2|id=673|\"S=1/2,Site,n=2\")\n",
      "Dim 3: (dim=4|id=887|\"Link,l=2\")\n",
      "NDTensors.Dense{ComplexF64, Vector{ComplexF64}}\n",
      " 2×2×4\n",
      "[:, :, 1] =\n",
      " -0.11118921306805446 - 0.06440469388498564im   0.04162649817185639 - 0.2459497501908999im\n",
      " -0.10871016598010287 + 0.032387891138593604im  -0.1749794428231066 - 0.4105610731648804im\n",
      "\n",
      "[:, :, 2] =\n",
      " -0.21691433242528474 - 0.2821632892686133im    0.07245590063260503 - 0.0006858625919498427im\n",
      " -0.37762035808709177 + 0.041308107385137356im  0.04576149918644166 - 0.1982232056338062im\n",
      "\n",
      "[:, :, 3] =\n",
      "  -0.1745745683778211 - 0.10051979534319651im  -0.1595874661820152 + 0.12810094125181729im\n",
      " -0.06295320250722447 + 0.29724787715746487im  0.21987210317120323 + 0.0542382181871879im\n",
      "\n",
      "[:, :, 4] =\n",
      "   0.1823768346906096 - 0.2615707039229628im   -0.035392863673559156 - 0.09919149879220243im\n",
      " -0.09495938604913497 - 0.09796149266682272im    0.11824008307812976 + 0.14206156411580875im\n"
     ]
    },
    {
     "data": {
      "text/plain": [
       "ITensor ord=3 (dim=2|id=983|\"S=1/2,Site,n=1\") (dim=2|id=673|\"S=1/2,Site,n=2\") (dim=4|id=887|\"Link,l=2\")\n",
       "NDTensors.Dense{ComplexF64, Vector{ComplexF64}}"
      ]
     },
     "metadata": {},
     "output_type": "display_data"
    }
   ],
   "source": [
    "@show B12"
   ]
  },
  {
   "cell_type": "code",
   "execution_count": 32,
   "metadata": {},
   "outputs": [
    {
     "data": {
      "text/plain": [
       "0.08392264099781312"
      ]
     },
     "metadata": {},
     "output_type": "display_data"
    }
   ],
   "source": [
    "loss_12(B12, mps, all_pstates[1], 1, 2)"
   ]
  },
  {
   "cell_type": "code",
   "execution_count": 33,
   "metadata": {},
   "outputs": [],
   "source": [
    "using Optim\n",
    "using LinearAlgebra"
   ]
  },
  {
   "cell_type": "code",
   "execution_count": 34,
   "metadata": {},
   "outputs": [
    {
     "data": {
      "text/plain": [
       "(dim=2|id=346|\"j\")"
      ]
     },
     "metadata": {},
     "output_type": "display_data"
    }
   ],
   "source": [
    "i = Index(2, \"i\")\n",
    "j = Index(2, \"j\")"
   ]
  },
  {
   "cell_type": "code",
   "execution_count": 35,
   "metadata": {},
   "outputs": [
    {
     "data": {
      "text/plain": [
       "ITensor ord=2 (dim=2|id=877|\"i\") (dim=2|id=346|\"j\")\n",
       "NDTensors.Dense{Float64, Vector{Float64}}"
      ]
     },
     "metadata": {},
     "output_type": "display_data"
    }
   ],
   "source": [
    "B = randomITensor(i, j)"
   ]
  },
  {
   "cell_type": "code",
   "execution_count": 36,
   "metadata": {},
   "outputs": [
    {
     "name": "stdout",
     "output_type": "stream",
     "text": [
      "B = ITensor ord=2\n",
      "Dim 1: (dim=2|id=877|\"i\")\n",
      "Dim 2: (dim=2|id=346|\"j\")\n",
      "NDTensors.Dense{Float64, Vector{Float64}}\n",
      " 2×2\n",
      " -1.137682000681354   1.582096521343938\n",
      "  1.9496332581006184  0.8820009989133135\n"
     ]
    },
    {
     "data": {
      "text/plain": [
       "ITensor ord=2 (dim=2|id=877|\"i\") (dim=2|id=346|\"j\")\n",
       "NDTensors.Dense{Float64, Vector{Float64}}"
      ]
     },
     "metadata": {},
     "output_type": "display_data"
    }
   ],
   "source": [
    "@show B"
   ]
  },
  {
   "cell_type": "code",
   "execution_count": 37,
   "metadata": {},
   "outputs": [
    {
     "data": {
      "text/plain": [
       "5.0"
      ]
     },
     "metadata": {},
     "output_type": "display_data"
    }
   ],
   "source": [
    "T = 5.0"
   ]
  },
  {
   "cell_type": "code",
   "execution_count": 38,
   "metadata": {},
   "outputs": [
    {
     "data": {
      "text/plain": [
       "cost_function (generic function with 1 method)"
      ]
     },
     "metadata": {},
     "output_type": "display_data"
    }
   ],
   "source": [
    "function cost_function(A_elems)\n",
    "    A = ITensor(i, j)\n",
    "    A[1,1] = A_elems[1]\n",
    "    A[1,2] = A_elems[2]\n",
    "    A[2,1] = A_elems[3]\n",
    "    A[2,2] = A_elems[4]\n",
    "\n",
    "    C = A * B\n",
    "    C_val = scalar(C)\n",
    "    cost = (C_val - T)^2\n",
    "    return cost\n",
    "end\n"
   ]
  },
  {
   "cell_type": "code",
   "execution_count": 39,
   "metadata": {},
   "outputs": [
    {
     "data": {
      "text/plain": [
       "4-element Vector{Float64}:\n",
       " 0.1\n",
       " 0.1\n",
       " 0.1\n",
       " 0.1"
      ]
     },
     "metadata": {},
     "output_type": "display_data"
    }
   ],
   "source": [
    "initial_guess = [0.1, 0.1, 0.1, 0.1]"
   ]
  },
  {
   "cell_type": "code",
   "execution_count": 40,
   "metadata": {},
   "outputs": [
    {
     "data": {
      "text/plain": [
       " * Status: success\n",
       "\n",
       " * Candidate solution\n",
       "    Final objective value:     2.154708e-22\n",
       "\n",
       " * Found with\n",
       "    Algorithm:     Conjugate Gradient\n",
       "\n",
       " * Convergence measures\n",
       "    |x - x'|               = 1.09e+00 ≰ 0.0e+00\n",
       "    |x - x'|/|x'|          = 9.16e-01 ≰ 0.0e+00\n",
       "    |f(x) - f(x')|         = 2.18e+01 ≰ 0.0e+00\n",
       "    |f(x) - f(x')|/|f(x')| = 1.01e+23 ≰ 0.0e+00\n",
       "    |g(x)|                 = 5.72e-11 ≤ 1.0e-08\n",
       "\n",
       " * Work counters\n",
       "    Seconds run:   0  (vs limit Inf)\n",
       "    Iterations:    1\n",
       "    f(x) calls:    3\n",
       "    ∇f(x) calls:   3\n"
      ]
     },
     "metadata": {},
     "output_type": "display_data"
    }
   ],
   "source": [
    "result = optimize(cost_function, initial_guess, ConjugateGradient())"
   ]
  },
  {
   "cell_type": "code",
   "execution_count": 41,
   "metadata": {},
   "outputs": [
    {
     "data": {
      "text/plain": [
       "4-element Vector{Float64}:\n",
       " -0.5346084854817587\n",
       "  0.9825066026469497\n",
       "  1.187521652316433\n",
       "  0.5919874954434333"
      ]
     },
     "metadata": {},
     "output_type": "display_data"
    }
   ],
   "source": [
    "Optim.minimizer(result)"
   ]
  },
  {
   "cell_type": "code",
   "execution_count": 44,
   "metadata": {},
   "outputs": [
    {
     "data": {
      "text/plain": [
       "ITensor ord=2 (dim=2|id=877|\"i\") (dim=2|id=346|\"j\")\n",
       "NDTensors.EmptyStorage{NDTensors.EmptyNumber, NDTensors.Dense{NDTensors.EmptyNumber, Vector{NDTensors.EmptyNumber}}}"
      ]
     },
     "metadata": {},
     "output_type": "display_data"
    }
   ],
   "source": [
    "final = ITensor(i, j)"
   ]
  },
  {
   "cell_type": "code",
   "execution_count": 45,
   "metadata": {},
   "outputs": [
    {
     "data": {
      "text/plain": [
       "0.5919874954434333"
      ]
     },
     "metadata": {},
     "output_type": "display_data"
    }
   ],
   "source": [
    "final[1, 1] = -0.5346084854817587\n",
    "final[1,2] = 0.9825066026469497\n",
    "final[2,1] = 1.187521652316433\n",
    "final[2,2] = 0.5919874954434333"
   ]
  },
  {
   "cell_type": "code",
   "execution_count": 46,
   "metadata": {},
   "outputs": [
    {
     "name": "stdout",
     "output_type": "stream",
     "text": [
      "final * B = ITensor ord=0\n",
      "NDTensors.Dense{Float64, Vector{Float64}}\n",
      " 0-dimensional\n",
      "4.999999999985321\n"
     ]
    },
    {
     "data": {
      "text/plain": [
       "ITensor ord=0\n",
       "NDTensors.Dense{Float64, Vector{Float64}}"
      ]
     },
     "metadata": {},
     "output_type": "display_data"
    }
   ],
   "source": [
    "@show final * B"
   ]
  },
  {
   "cell_type": "code",
   "execution_count": 588,
   "metadata": {},
   "outputs": [
    {
     "data": {
      "text/plain": [
       "(dim=2|id=868|\"j\")"
      ]
     },
     "metadata": {},
     "output_type": "display_data"
    }
   ],
   "source": [
    "i = Index(2, \"i\")\n",
    "j = Index(2, \"j\")"
   ]
  },
  {
   "cell_type": "code",
   "execution_count": 589,
   "metadata": {},
   "outputs": [
    {
     "data": {
      "text/plain": [
       "ITensor ord=2 (dim=2|id=248|\"i\") (dim=2|id=868|\"j\")\n",
       "NDTensors.Dense{ComplexF64, Vector{ComplexF64}}"
      ]
     },
     "metadata": {},
     "output_type": "display_data"
    }
   ],
   "source": [
    "B = randomITensor(ComplexF64, i, j)"
   ]
  },
  {
   "cell_type": "code",
   "execution_count": 590,
   "metadata": {},
   "outputs": [
    {
     "name": "stdout",
     "output_type": "stream",
     "text": [
      "B = ITensor ord=2\n",
      "Dim 1: (dim=2|id=248|\"i\")\n",
      "Dim 2: (dim=2|id=868|\"j\")\n",
      "NDTensors.Dense{ComplexF64, Vector{ComplexF64}}\n",
      " 2×2\n",
      "  0.6516366826050329 - 0.3387672264355376im  -0.3955437836195299 + 1.1126374155072278im\n",
      " -0.8214268778237057 + 0.9092882513835908im  -0.6943601670492309 + 0.058139028743604465im\n"
     ]
    },
    {
     "data": {
      "text/plain": [
       "ITensor ord=2 (dim=2|id=248|\"i\") (dim=2|id=868|\"j\")\n",
       "NDTensors.Dense{ComplexF64, Vector{ComplexF64}}"
      ]
     },
     "metadata": {},
     "output_type": "display_data"
    }
   ],
   "source": [
    "@show B"
   ]
  },
  {
   "cell_type": "code",
   "execution_count": 591,
   "metadata": {},
   "outputs": [
    {
     "data": {
      "text/plain": [
       "5.0 + 3.0im"
      ]
     },
     "metadata": {},
     "output_type": "display_data"
    }
   ],
   "source": [
    "T = 5.0 + 3.0im"
   ]
  },
  {
   "cell_type": "code",
   "execution_count": null,
   "metadata": {},
   "outputs": [],
   "source": []
  }
 ],
 "metadata": {
  "kernelspec": {
   "display_name": "Julia 1.10.2",
   "language": "julia",
   "name": "julia-1.10"
  },
  "language_info": {
   "file_extension": ".jl",
   "mimetype": "application/julia",
   "name": "julia",
   "version": "1.10.2"
  }
 },
 "nbformat": 4,
 "nbformat_minor": 2
}
