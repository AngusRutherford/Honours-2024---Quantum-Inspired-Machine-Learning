{
 "cells": [
  {
   "cell_type": "code",
   "execution_count": 1,
   "metadata": {},
   "outputs": [],
   "source": [
    "using ITensors\n",
    "using Zygote\n",
    "using Random\n",
    "using Optim"
   ]
  },
  {
   "cell_type": "markdown",
   "metadata": {},
   "source": [
    "Let's create a random complex valued 5 site MPS to begin..."
   ]
  },
  {
   "cell_type": "code",
   "execution_count": 2,
   "metadata": {},
   "outputs": [
    {
     "data": {
      "text/plain": [
       "MPS\n",
       "[1] ((dim=2|id=325|\"S=1/2,Site,n=1\"), (dim=4|id=106|\"Link,l=1\"))\n",
       "[2] ((dim=4|id=106|\"Link,l=1\"), (dim=2|id=135|\"S=1/2,Site,n=2\"), (dim=4|id=230|\"Link,l=2\"))\n",
       "[3] ((dim=4|id=230|\"Link,l=2\"), (dim=2|id=984|\"S=1/2,Site,n=3\"), (dim=4|id=467|\"Link,l=3\"))\n",
       "[4] ((dim=4|id=467|\"Link,l=3\"), (dim=2|id=815|\"S=1/2,Site,n=4\"), (dim=2|id=242|\"Link,l=4\"))\n",
       "[5] ((dim=2|id=242|\"Link,l=4\"), (dim=2|id=691|\"S=1/2,Site,n=5\"))\n"
      ]
     },
     "metadata": {},
     "output_type": "display_data"
    }
   ],
   "source": [
    "Random.seed!(42)\n",
    "s = siteinds(\"S=1/2\", 5)\n",
    "mps = randomMPS(ComplexF64, s; linkdims=4)"
   ]
  },
  {
   "cell_type": "code",
   "execution_count": 3,
   "metadata": {},
   "outputs": [
    {
     "data": {
      "text/plain": [
       "complex_feature_map (generic function with 1 method)"
      ]
     },
     "metadata": {},
     "output_type": "display_data"
    }
   ],
   "source": [
    "function complex_feature_map(x::Float64)\n",
    "    s1 = exp(1im * (3π/2) * x) * cospi(0.5 * x)\n",
    "    s2 = exp(-1im * (2π/2) * x) * sinpi(0.5 * x)\n",
    "    return [s1, s2]\n",
    "end"
   ]
  },
  {
   "cell_type": "code",
   "execution_count": 4,
   "metadata": {},
   "outputs": [
    {
     "data": {
      "text/plain": [
       "sample_to_product_state (generic function with 1 method)"
      ]
     },
     "metadata": {},
     "output_type": "display_data"
    }
   ],
   "source": [
    "function sample_to_product_state(sample::Vector, site_inds::Vector{Index{Int64}})\n",
    "    n_sites = length(site_inds)\n",
    "    product_state = MPS(ComplexF64, site_inds; linkdims=1)\n",
    "    for j=1:n_sites\n",
    "        T = ITensor(site_inds[j])\n",
    "        zero_state, one_state = complex_feature_map(sample[j])\n",
    "        T[1] = zero_state\n",
    "        T[2] = one_state\n",
    "        product_state[j] = T \n",
    "    end\n",
    "    return product_state\n",
    "end"
   ]
  },
  {
   "cell_type": "markdown",
   "metadata": {},
   "source": [
    "Generate sample and encode as a product state."
   ]
  },
  {
   "cell_type": "code",
   "execution_count": 5,
   "metadata": {},
   "outputs": [
    {
     "data": {
      "text/plain": [
       "5-element Vector{Float64}:\n",
       " 0.0\n",
       " 0.0\n",
       " 0.0\n",
       " 0.0\n",
       " 0.0"
      ]
     },
     "metadata": {},
     "output_type": "display_data"
    }
   ],
   "source": [
    "sample = zeros(5)"
   ]
  },
  {
   "cell_type": "code",
   "execution_count": 6,
   "metadata": {},
   "outputs": [
    {
     "data": {
      "text/plain": [
       "MPS\n",
       "[1] ((dim=2|id=325|\"S=1/2,Site,n=1\"),)\n",
       "[2] ((dim=2|id=135|\"S=1/2,Site,n=2\"),)\n",
       "[3] ((dim=2|id=984|\"S=1/2,Site,n=3\"),)\n",
       "[4] ((dim=2|id=815|\"S=1/2,Site,n=4\"),)\n",
       "[5] ((dim=2|id=691|\"S=1/2,Site,n=5\"),)\n"
      ]
     },
     "metadata": {},
     "output_type": "display_data"
    }
   ],
   "source": [
    "ps = sample_to_product_state(sample, s)"
   ]
  },
  {
   "cell_type": "markdown",
   "metadata": {},
   "source": [
    "## Create Bond Tensor"
   ]
  },
  {
   "cell_type": "markdown",
   "metadata": {},
   "source": [
    "We will create a bond tensor between sites 1 and 2"
   ]
  },
  {
   "cell_type": "code",
   "execution_count": 7,
   "metadata": {},
   "outputs": [
    {
     "data": {
      "text/plain": [
       "ITensor ord=3 (dim=2|id=325|\"S=1/2,Site,n=1\") (dim=2|id=135|\"S=1/2,Site,n=2\") (dim=4|id=230|\"Link,l=2\")\n",
       "NDTensors.Dense{ComplexF64, Vector{ComplexF64}}"
      ]
     },
     "metadata": {},
     "output_type": "display_data"
    }
   ],
   "source": [
    "BT12 = mps[1] * mps[2]"
   ]
  },
  {
   "cell_type": "markdown",
   "metadata": {},
   "source": [
    "Now let's define our loss function. Since we are dealing with a single product state and bond tensor, we can make it specific:"
   ]
  },
  {
   "cell_type": "code",
   "execution_count": 8,
   "metadata": {},
   "outputs": [
    {
     "data": {
      "text/plain": [
       "loss (generic function with 1 method)"
      ]
     },
     "metadata": {},
     "output_type": "display_data"
    }
   ],
   "source": [
    "function loss(B::ITensor)\n",
    "    y = 1.0 # train the bond tensor to maximise overlap\n",
    "    # bond tensor on sites 1 and 2\n",
    "    lid = 1\n",
    "    rid = 2 \n",
    "    phi_tilde = ps[lid] * ps[rid] * mps[3] * ps[3] * mps[4] * ps[4] * mps[5] * ps[5] # effective input\n",
    "    yhat = B * phi_tilde\n",
    "    diff_mod_sq = norm(yhat[] - y)^2\n",
    "    loss = 0.5 * diff_mod_sq\n",
    "    return loss\n",
    "end"
   ]
  },
  {
   "cell_type": "markdown",
   "metadata": {},
   "source": [
    "Test the loss function..."
   ]
  },
  {
   "cell_type": "code",
   "execution_count": 9,
   "metadata": {},
   "outputs": [
    {
     "data": {
      "text/plain": [
       "0.4120511832985574"
      ]
     },
     "metadata": {},
     "output_type": "display_data"
    }
   ],
   "source": [
    "loss(BT12)"
   ]
  },
  {
   "cell_type": "markdown",
   "metadata": {},
   "source": [
    "Now construct the proposed analytic gradient for comparison against AD derived gradient:"
   ]
  },
  {
   "cell_type": "code",
   "execution_count": 10,
   "metadata": {},
   "outputs": [
    {
     "data": {
      "text/plain": [
       "analytic_gradient (generic function with 1 method)"
      ]
     },
     "metadata": {},
     "output_type": "display_data"
    }
   ],
   "source": [
    "function analytic_gradient(B::ITensor)\n",
    "    lid = 1\n",
    "    rid = 2\n",
    "    phi_tilde = ps[lid] * ps[rid] * mps[3] * ps[3] * mps[4] * ps[4] * mps[5] * ps[5]\n",
    "    yhat = B * phi_tilde\n",
    "    y = 1.0\n",
    "    dP = yhat[] - y\n",
    "    grad = 0.5 * dP * conj(phi_tilde)\n",
    "\n",
    "    return grad\n",
    "end"
   ]
  },
  {
   "cell_type": "markdown",
   "metadata": {},
   "source": [
    "# Analytic Gradient Evaluation"
   ]
  },
  {
   "cell_type": "code",
   "execution_count": 11,
   "metadata": {},
   "outputs": [
    {
     "data": {
      "text/plain": [
       "ITensor ord=3 (dim=2|id=325|\"S=1/2,Site,n=1\") (dim=2|id=135|\"S=1/2,Site,n=2\") (dim=4|id=230|\"Link,l=2\")\n",
       "NDTensors.Dense{ComplexF64, Vector{ComplexF64}}"
      ]
     },
     "metadata": {},
     "output_type": "display_data"
    }
   ],
   "source": [
    "analytic_grad = analytic_gradient(BT12)"
   ]
  },
  {
   "cell_type": "markdown",
   "metadata": {},
   "source": [
    "Inspect the values..."
   ]
  },
  {
   "cell_type": "code",
   "execution_count": 12,
   "metadata": {},
   "outputs": [
    {
     "data": {
      "text/plain": [
       "16-element Vector{ComplexF64}:\n",
       " -0.027823667541818135 - 0.09315554666007617im\n",
       "                  -0.0 + 0.0im\n",
       "                  -0.0 + 0.0im\n",
       "                  -0.0 + 0.0im\n",
       "  -0.08952810956088028 + 0.03174243040135726im\n",
       "                  -0.0 + 0.0im\n",
       "                  -0.0 + 0.0im\n",
       "                  -0.0 + 0.0im\n",
       "   0.04236007657464593 - 0.028288650564501885im\n",
       "                  -0.0 + 0.0im\n",
       "                  -0.0 + 0.0im\n",
       "                  -0.0 + 0.0im\n",
       "  0.039321688985887636 - 0.022450873496918794im\n",
       "                  -0.0 + 0.0im\n",
       "                  -0.0 + 0.0im\n",
       "                  -0.0 + 0.0im"
      ]
     },
     "metadata": {},
     "output_type": "display_data"
    }
   ],
   "source": [
    "collect(Iterators.flatten(analytic_grad))"
   ]
  },
  {
   "cell_type": "markdown",
   "metadata": {},
   "source": [
    "# Zygote Gradient Evaluation"
   ]
  },
  {
   "cell_type": "code",
   "execution_count": 13,
   "metadata": {},
   "outputs": [
    {
     "data": {
      "text/plain": [
       "(ITensor ord=3\n",
       "Dim 1: (dim=2|id=325|\"S=1/2,Site,n=1\")\n",
       "Dim 2: (dim=2|id=135|\"S=1/2,Site,n=2\")\n",
       "Dim 3: (dim=4|id=230|\"Link,l=2\")\n",
       "NDTensors.Dense{ComplexF64, Vector{ComplexF64}}\n",
       " 2×2×4\n",
       "[:, :, 1] =\n",
       " -0.05564733508363627 - 0.18631109332015233im  -0.0 + 0.0im\n",
       "                 -0.0 + 0.0im                  -0.0 + 0.0im\n",
       "\n",
       "[:, :, 2] =\n",
       " -0.17905621912176056 + 0.06348486080271452im  -0.0 + 0.0im\n",
       "                 -0.0 + 0.0im                  -0.0 + 0.0im\n",
       "\n",
       "[:, :, 3] =\n",
       " 0.08472015314929186 - 0.05657730112900377im  -0.0 + 0.0im\n",
       "                -0.0 + 0.0im                  -0.0 + 0.0im\n",
       "\n",
       "[:, :, 4] =\n",
       " 0.07864337797177527 - 0.04490174699383759im  -0.0 + 0.0im\n",
       "                -0.0 + 0.0im                  -0.0 + 0.0im,)"
      ]
     },
     "metadata": {},
     "output_type": "display_data"
    }
   ],
   "source": [
    "zygote_grad = gradient(loss, BT12)"
   ]
  },
  {
   "cell_type": "code",
   "execution_count": 14,
   "metadata": {},
   "outputs": [
    {
     "name": "stdout",
     "output_type": "stream",
     "text": [
      "zygote_grad = (ITensor ord=3\n",
      "Dim 1: (dim=2|id=325|\"S=1/2,Site,n=1\")\n",
      "Dim 2: (dim=2|id=135|\"S=1/2,Site,n=2\")\n",
      "Dim 3: (dim=4|id=230|\"Link,l=2\")\n",
      "NDTensors.Dense{ComplexF64, Vector{ComplexF64}}\n",
      " 2×2×4\n",
      "[:, :, 1] =\n",
      " -0.05564733508363627 - 0.18631109332015233im  -0.0 + 0.0im\n",
      "                 -0.0 + 0.0im                  -0.0 + 0.0im\n",
      "\n",
      "[:, :, 2] =\n",
      " -0.17905621912176056 + 0.06348486080271452im  -0.0 + 0.0im\n",
      "                 -0.0 + 0.0im                  -0.0 + 0.0im\n",
      "\n",
      "[:, :, 3] =\n",
      " 0.08472015314929186 - 0.05657730112900377im  -0.0 + 0.0im\n",
      "                -0.0 + 0.0im                  -0.0 + 0.0im\n",
      "\n",
      "[:, :, 4] =\n",
      " 0.07864337797177527 - 0.04490174699383759im  -0.0 + 0.0im\n",
      "                -0.0 + 0.0im                  -0.0 + 0.0im,)\n"
     ]
    },
    {
     "data": {
      "text/plain": [
       "(ITensor ord=3\n",
       "Dim 1: (dim=2|id=325|\"S=1/2,Site,n=1\")\n",
       "Dim 2: (dim=2|id=135|\"S=1/2,Site,n=2\")\n",
       "Dim 3: (dim=4|id=230|\"Link,l=2\")\n",
       "NDTensors.Dense{ComplexF64, Vector{ComplexF64}}\n",
       " 2×2×4\n",
       "[:, :, 1] =\n",
       " -0.05564733508363627 - 0.18631109332015233im  -0.0 + 0.0im\n",
       "                 -0.0 + 0.0im                  -0.0 + 0.0im\n",
       "\n",
       "[:, :, 2] =\n",
       " -0.17905621912176056 + 0.06348486080271452im  -0.0 + 0.0im\n",
       "                 -0.0 + 0.0im                  -0.0 + 0.0im\n",
       "\n",
       "[:, :, 3] =\n",
       " 0.08472015314929186 - 0.05657730112900377im  -0.0 + 0.0im\n",
       "                -0.0 + 0.0im                  -0.0 + 0.0im\n",
       "\n",
       "[:, :, 4] =\n",
       " 0.07864337797177527 - 0.04490174699383759im  -0.0 + 0.0im\n",
       "                -0.0 + 0.0im                  -0.0 + 0.0im,)"
      ]
     },
     "metadata": {},
     "output_type": "display_data"
    }
   ],
   "source": [
    "@show zygote_grad"
   ]
  },
  {
   "cell_type": "code",
   "execution_count": 15,
   "metadata": {},
   "outputs": [
    {
     "name": "stdout",
     "output_type": "stream",
     "text": [
      "analytic_grad = ITensor ord=3\n",
      "Dim 1: (dim=2|id=325|\"S=1/2,Site,n=1\")\n",
      "Dim 2: (dim=2|id=135|\"S=1/2,Site,n=2\")\n",
      "Dim 3: (dim=4|id=230|\"Link,l=2\")\n",
      "NDTensors.Dense{ComplexF64, Vector{ComplexF64}}\n",
      " 2×2×4\n",
      "[:, :, 1] =\n",
      " -0.027823667541818135 - 0.09315554666007617im  -0.0 + 0.0im\n",
      "                  -0.0 + 0.0im                  -0.0 + 0.0im\n",
      "\n",
      "[:, :, 2] =\n",
      " -0.08952810956088028 + 0.03174243040135726im  -0.0 + 0.0im\n",
      "                 -0.0 + 0.0im                  -0.0 + 0.0im\n",
      "\n",
      "[:, :, 3] =\n",
      " 0.04236007657464593 - 0.028288650564501885im  -0.0 + 0.0im\n",
      "                -0.0 + 0.0im                   -0.0 + 0.0im\n",
      "\n",
      "[:, :, 4] =\n",
      " 0.039321688985887636 - 0.022450873496918794im  -0.0 + 0.0im\n",
      "                 -0.0 + 0.0im                   -0.0 + 0.0im\n"
     ]
    },
    {
     "data": {
      "text/plain": [
       "ITensor ord=3 (dim=2|id=325|\"S=1/2,Site,n=1\") (dim=2|id=135|\"S=1/2,Site,n=2\") (dim=4|id=230|\"Link,l=2\")\n",
       "NDTensors.Dense{ComplexF64, Vector{ComplexF64}}"
      ]
     },
     "metadata": {},
     "output_type": "display_data"
    }
   ],
   "source": [
    "@show analytic_grad"
   ]
  },
  {
   "cell_type": "markdown",
   "metadata": {},
   "source": [
    "So it seems we are out by a factor of 2. The analytic gradient is half the zygote gradient."
   ]
  },
  {
   "cell_type": "markdown",
   "metadata": {},
   "source": [
    "# Test another bond tensor"
   ]
  },
  {
   "cell_type": "code",
   "execution_count": 16,
   "metadata": {},
   "outputs": [
    {
     "data": {
      "text/plain": [
       "ITensor ord=4 (dim=4|id=106|\"Link,l=1\") (dim=2|id=135|\"S=1/2,Site,n=2\") (dim=2|id=984|\"S=1/2,Site,n=3\") (dim=4|id=467|\"Link,l=3\")\n",
       "NDTensors.Dense{ComplexF64, Vector{ComplexF64}}"
      ]
     },
     "metadata": {},
     "output_type": "display_data"
    }
   ],
   "source": [
    "BT23 = mps[2] * mps[3]"
   ]
  },
  {
   "cell_type": "code",
   "execution_count": 17,
   "metadata": {},
   "outputs": [
    {
     "data": {
      "text/plain": [
       "loss23 (generic function with 1 method)"
      ]
     },
     "metadata": {},
     "output_type": "display_data"
    }
   ],
   "source": [
    "function loss23(B::ITensor)\n",
    "    y = 1.0 # train the bond tensor to maximise overlap\n",
    "    # bond tensor on sites 1 and 2\n",
    "    lid = 2\n",
    "    rid = 3 \n",
    "    phi_tilde = mps[1] * ps[1] * ps[lid] * ps[rid] * mps[4] * ps[4] * mps[5] * ps[5] # effective input\n",
    "    yhat = B * phi_tilde\n",
    "    diff_mod_sq = norm(yhat[] - y)^2\n",
    "    loss = 0.5 * diff_mod_sq\n",
    "    return loss\n",
    "end"
   ]
  },
  {
   "cell_type": "code",
   "execution_count": 18,
   "metadata": {},
   "outputs": [
    {
     "data": {
      "text/plain": [
       "0.4120511832985574"
      ]
     },
     "metadata": {},
     "output_type": "display_data"
    }
   ],
   "source": [
    "loss23(BT23)"
   ]
  },
  {
   "cell_type": "code",
   "execution_count": 19,
   "metadata": {},
   "outputs": [
    {
     "data": {
      "text/plain": [
       "analytic_gradient23 (generic function with 1 method)"
      ]
     },
     "metadata": {},
     "output_type": "display_data"
    }
   ],
   "source": [
    "function analytic_gradient23(B::ITensor)\n",
    "    lid = 2\n",
    "    rid = 3\n",
    "    phi_tilde = mps[1] * ps[1] * ps[lid] * ps[rid] * mps[4] * ps[4] * mps[5] * ps[5] # effective input\n",
    "    yhat = B * phi_tilde\n",
    "    y = 1.0\n",
    "    dP = yhat[] - y\n",
    "    grad = 0.5 * dP * conj(phi_tilde)\n",
    "\n",
    "    return grad\n",
    "end"
   ]
  },
  {
   "cell_type": "code",
   "execution_count": 20,
   "metadata": {},
   "outputs": [
    {
     "name": "stdout",
     "output_type": "stream",
     "text": [
      "analytic_grad23 = ITensor ord=4\n",
      "Dim 1: (dim=4|id=106|\"Link,l=1\")\n",
      "Dim 2: (dim=2|id=135|\"S=1/2,Site,n=2\")\n",
      "Dim 3: (dim=2|id=984|\"S=1/2,Site,n=3\")\n",
      "Dim 4: (dim=4|id=467|\"Link,l=3\")\n",
      "NDTensors.Dense{ComplexF64, Vector{ComplexF64}}\n",
      " 4×2×2×4\n",
      "[:, :, 1, 1] =\n",
      "   0.01011703916110151 + 0.032159849621781776im  -0.0 + 0.0im\n",
      "  0.022678563632097453 - 0.013049850951575947im  -0.0 + 0.0im\n",
      "  -0.02865986361853609 + 0.013492150565468316im  -0.0 + 0.0im\n",
      " 0.0013413360956822478 - 0.025082537444381374im  -0.0 + 0.0im\n",
      "\n",
      "[:, :, 2, 1] =\n",
      " -0.0 + 0.0im  -0.0 + 0.0im\n",
      " -0.0 + 0.0im  -0.0 + 0.0im\n",
      " -0.0 + 0.0im  -0.0 + 0.0im\n",
      " -0.0 + 0.0im  -0.0 + 0.0im\n",
      "\n",
      "[:, :, 1, 2] =\n",
      " 0.030913869293510886 + 0.09641329962162927im   -0.0 + 0.0im\n",
      "  0.06789129363109202 - 0.039564938278620884im  -0.0 + 0.0im\n",
      " -0.08584663909490425 + 0.040991989664557756im  -0.0 + 0.0im\n",
      " 0.003614037868999127 - 0.0753483847867521im    -0.0 + 0.0im\n",
      "\n",
      "[:, :, 2, 2] =\n",
      " -0.0 + 0.0im  -0.0 + 0.0im\n",
      " -0.0 + 0.0im  -0.0 + 0.0im\n",
      " -0.0 + 0.0im  -0.0 + 0.0im\n",
      " -0.0 + 0.0im  -0.0 + 0.0im\n",
      "\n",
      "[:, :, 1, 3] =\n",
      "   -0.1067113288430897 - 0.049652044857515655im  -0.0 + 0.0im\n",
      " -0.019767222778796136 + 0.08918031996528437im   -0.0 + 0.0im\n",
      "  0.032711560897294975 - 0.10563795831237413im   -0.0 + 0.0im\n",
      "   0.06148901020369345 + 0.06251962553862635im   -0.0 + 0.0im\n",
      "\n",
      "[:, :, 2, 3] =\n",
      " -0.0 + 0.0im  -0.0 + 0.0im\n",
      " -0.0 + 0.0im  -0.0 + 0.0im\n",
      " -0.0 + 0.0im  -0.0 + 0.0im\n",
      " -0.0 + 0.0im  -0.0 + 0.0im\n",
      "\n",
      "[:, :, 1, 4] =\n",
      "  0.018271298108887005 - 0.005862920794484993im   -0.0 + 0.0im\n",
      "  -0.00750131355762632 - 0.012865347387584438im   -0.0 + 0.0im\n",
      "  0.007772521266110505 + 0.016268247830894512im   -0.0 + 0.0im\n",
      " -0.014280440029703537 - 0.0006818064320403476im  -0.0 + 0.0im\n",
      "\n",
      "[:, :, 2, 4] =\n",
      " -0.0 + 0.0im  -0.0 + 0.0im\n",
      " -0.0 + 0.0im  -0.0 + 0.0im\n",
      " -0.0 + 0.0im  -0.0 + 0.0im\n",
      " -0.0 + 0.0im  -0.0 + 0.0im\n"
     ]
    },
    {
     "data": {
      "text/plain": [
       "ITensor ord=4 (dim=4|id=106|\"Link,l=1\") (dim=2|id=135|\"S=1/2,Site,n=2\") (dim=2|id=984|\"S=1/2,Site,n=3\") (dim=4|id=467|\"Link,l=3\")\n",
       "NDTensors.Dense{ComplexF64, Vector{ComplexF64}}"
      ]
     },
     "metadata": {},
     "output_type": "display_data"
    }
   ],
   "source": [
    "analytic_grad23 = analytic_gradient23(BT23)\n",
    "@show analytic_grad23"
   ]
  },
  {
   "cell_type": "code",
   "execution_count": 21,
   "metadata": {},
   "outputs": [
    {
     "data": {
      "text/plain": [
       "(ITensor ord=4\n",
       "Dim 1: (dim=4|id=106|\"Link,l=1\")\n",
       "Dim 2: (dim=2|id=135|\"S=1/2,Site,n=2\")\n",
       "Dim 3: (dim=2|id=984|\"S=1/2,Site,n=3\")\n",
       "Dim 4: (dim=4|id=467|\"Link,l=3\")\n",
       "NDTensors.Dense{ComplexF64, Vector{ComplexF64}}\n",
       " 4×2×2×4\n",
       "[:, :, 1, 1] =\n",
       "   0.02023407832220302 + 0.06431969924356355im   -0.0 + 0.0im\n",
       "  0.045357127264194906 - 0.026099701903151893im  -0.0 + 0.0im\n",
       "  -0.05731972723707218 + 0.026984301130936632im  -0.0 + 0.0im\n",
       " 0.0026826721913644955 - 0.05016507488876275im   -0.0 + 0.0im\n",
       "\n",
       "[:, :, 2, 1] =\n",
       " -0.0 + 0.0im  -0.0 + 0.0im\n",
       " -0.0 + 0.0im  -0.0 + 0.0im\n",
       " -0.0 + 0.0im  -0.0 + 0.0im\n",
       " -0.0 + 0.0im  -0.0 + 0.0im\n",
       "\n",
       "[:, :, 1, 2] =\n",
       "  0.06182773858702177 + 0.19282659924325854im  -0.0 + 0.0im\n",
       "  0.13578258726218403 - 0.07912987655724177im  -0.0 + 0.0im\n",
       "  -0.1716932781898085 + 0.08198397932911551im  -0.0 + 0.0im\n",
       " 0.007228075737998254 - 0.1506967695735042im   -0.0 + 0.0im\n",
       "\n",
       "[:, :, 2, 2] =\n",
       " -0.0 + 0.0im  -0.0 + 0.0im\n",
       " -0.0 + 0.0im  -0.0 + 0.0im\n",
       " -0.0 + 0.0im  -0.0 + 0.0im\n",
       " -0.0 + 0.0im  -0.0 + 0.0im\n",
       "\n",
       "[:, :, 1, 3] =\n",
       "  -0.2134226576861794 - 0.09930408971503131im  -0.0 + 0.0im\n",
       " -0.03953444555759227 + 0.17836063993056875im  -0.0 + 0.0im\n",
       "  0.06542312179458995 - 0.21127591662474826im  -0.0 + 0.0im\n",
       "   0.1229780204073869 + 0.1250392510772527im   -0.0 + 0.0im\n",
       "\n",
       "[:, :, 2, 3] =\n",
       " -0.0 + 0.0im  -0.0 + 0.0im\n",
       " -0.0 + 0.0im  -0.0 + 0.0im\n",
       " -0.0 + 0.0im  -0.0 + 0.0im\n",
       " -0.0 + 0.0im  -0.0 + 0.0im\n",
       "\n",
       "[:, :, 1, 4] =\n",
       "   0.03654259621777401 - 0.011725841588969986im   -0.0 + 0.0im\n",
       "  -0.01500262711525264 - 0.025730694775168875im   -0.0 + 0.0im\n",
       "   0.01554504253222101 + 0.032536495661789025im   -0.0 + 0.0im\n",
       " -0.028560880059407073 - 0.0013636128640806952im  -0.0 + 0.0im\n",
       "\n",
       "[:, :, 2, 4] =\n",
       " -0.0 + 0.0im  -0.0 + 0.0im\n",
       " -0.0 + 0.0im  -0.0 + 0.0im\n",
       " -0.0 + 0.0im  -0.0 + 0.0im\n",
       " -0.0 + 0.0im  -0.0 + 0.0im,)"
      ]
     },
     "metadata": {},
     "output_type": "display_data"
    }
   ],
   "source": [
    "zygote_grad23 = gradient(loss23, BT23)"
   ]
  },
  {
   "cell_type": "markdown",
   "metadata": {},
   "source": [
    "Same result - analytic gradient is half the zygote gradient"
   ]
  },
  {
   "cell_type": "code",
   "execution_count": 22,
   "metadata": {},
   "outputs": [
    {
     "ename": "UndefVarError",
     "evalue": "UndefVarError: `wirtinger` not defined",
     "output_type": "error",
     "traceback": [
      "UndefVarError: `wirtinger` not defined\n"
     ]
    }
   ],
   "source": [
    "wirtinger"
   ]
  },
  {
   "cell_type": "markdown",
   "metadata": {},
   "source": [
    "# Optim + Analytic Gradient"
   ]
  },
  {
   "cell_type": "code",
   "execution_count": 23,
   "metadata": {},
   "outputs": [
    {
     "data": {
      "text/plain": [
       "flatten_bond_tensor (generic function with 1 method)"
      ]
     },
     "metadata": {},
     "output_type": "display_data"
    }
   ],
   "source": [
    "function flatten_bond_tensor(BT::ITensor)\n",
    "    \"\"\"Function to flatten an ITensor so that it can be fed into Optim\n",
    "    as a vector.\"\"\"\n",
    "    # should probably return the indices as well\n",
    "    # might need checks to ensure correct assignment of indices to values\n",
    "    flattened_tensor = collect(Iterators.flatten(BT))\n",
    "    return flattened_tensor, inds(BT)\n",
    "end"
   ]
  },
  {
   "cell_type": "code",
   "execution_count": 24,
   "metadata": {},
   "outputs": [
    {
     "data": {
      "text/plain": [
       "reconstruct_bond_tensor (generic function with 1 method)"
      ]
     },
     "metadata": {},
     "output_type": "display_data"
    }
   ],
   "source": [
    "function reconstruct_bond_tensor(BT_flat::Vector, indices)\n",
    "    BT = ITensor(indices)\n",
    "    # ORDER OF ASSIGNMENT MUST MATCH THE ORDER OF FLATTENING\n",
    "    for (n, val) in enumerate(BT_flat)\n",
    "        BT[n] = val\n",
    "    end\n",
    "\n",
    "    return BT\n",
    "\n",
    "end"
   ]
  },
  {
   "cell_type": "code",
   "execution_count": 25,
   "metadata": {},
   "outputs": [],
   "source": [
    "BT12_flat, BT12_inds = flatten_bond_tensor(BT12);"
   ]
  },
  {
   "cell_type": "markdown",
   "metadata": {},
   "source": [
    "Redefine the gradient for flattened bond tensor:"
   ]
  },
  {
   "cell_type": "code",
   "execution_count": 26,
   "metadata": {},
   "outputs": [
    {
     "data": {
      "text/plain": [
       "loss_flat (generic function with 1 method)"
      ]
     },
     "metadata": {},
     "output_type": "display_data"
    }
   ],
   "source": [
    "function loss_flat(params::Vector, bt_inds)\n",
    "    B = reconstruct_bond_tensor(params, bt_inds)\n",
    "    loss_val = loss(B)\n",
    "    return loss_val\n",
    "end"
   ]
  },
  {
   "cell_type": "markdown",
   "metadata": {},
   "source": [
    "Check loss is same as for ITensor (not flattened)"
   ]
  },
  {
   "cell_type": "code",
   "execution_count": 27,
   "metadata": {},
   "outputs": [
    {
     "data": {
      "text/plain": [
       "0.4120511832985574"
      ]
     },
     "metadata": {},
     "output_type": "display_data"
    }
   ],
   "source": [
    "loss_flat(BT12_flat, BT12_inds)"
   ]
  },
  {
   "cell_type": "code",
   "execution_count": 28,
   "metadata": {},
   "outputs": [
    {
     "data": {
      "text/plain": [
       "0.4120511832985574"
      ]
     },
     "metadata": {},
     "output_type": "display_data"
    }
   ],
   "source": [
    "loss(BT12)"
   ]
  },
  {
   "cell_type": "code",
   "execution_count": 29,
   "metadata": {},
   "outputs": [
    {
     "data": {
      "text/plain": [
       "gradient_flat (generic function with 1 method)"
      ]
     },
     "metadata": {},
     "output_type": "display_data"
    }
   ],
   "source": [
    "function gradient_flat(params::Vector, bt_inds)\n",
    "    B = reconstruct_bond_tensor(params, bt_inds)\n",
    "    grad = analytic_gradient(B)\n",
    "    return grad\n",
    "end"
   ]
  },
  {
   "cell_type": "code",
   "execution_count": 30,
   "metadata": {},
   "outputs": [
    {
     "data": {
      "text/plain": [
       "true"
      ]
     },
     "metadata": {},
     "output_type": "display_data"
    }
   ],
   "source": [
    "analytic_gradient(BT12) == gradient_flat(BT12_flat, BT12_inds)"
   ]
  },
  {
   "cell_type": "code",
   "execution_count": 31,
   "metadata": {},
   "outputs": [
    {
     "data": {
      "text/plain": [
       "#9 (generic function with 1 method)"
      ]
     },
     "metadata": {},
     "output_type": "display_data"
    }
   ],
   "source": [
    "cost = x -> loss_flat(x, BT12_inds)"
   ]
  },
  {
   "cell_type": "code",
   "execution_count": 32,
   "metadata": {},
   "outputs": [
    {
     "data": {
      "text/plain": [
       "#11 (generic function with 1 method)"
      ]
     },
     "metadata": {},
     "output_type": "display_data"
    }
   ],
   "source": [
    "grad = x -> gradient_flat(x, BT12_inds)"
   ]
  },
  {
   "cell_type": "code",
   "execution_count": 33,
   "metadata": {},
   "outputs": [],
   "source": [
    "struct PState\n",
    "    \"\"\"Define a custom struct for product states\"\"\"\n",
    "    pstate::MPS # product state as a vector of ITenors (MPS)\n",
    "    label::Int # ground truth class label\n",
    "    id::Int # identifier for caching\n",
    "end"
   ]
  },
  {
   "cell_type": "code",
   "execution_count": 34,
   "metadata": {},
   "outputs": [
    {
     "data": {
      "text/plain": [
       "generate_training_data (generic function with 1 method)"
      ]
     },
     "metadata": {},
     "output_type": "display_data"
    }
   ],
   "source": [
    "function generate_training_data(samples_per_class::Int; data_pts::Int=5)\n",
    "\n",
    "    class_A_samples = zeros(samples_per_class, data_pts)\n",
    "    class_B_samples = ones(samples_per_class, data_pts)\n",
    "    all_samples = vcat(class_A_samples, class_B_samples)\n",
    "    all_labels = Int.(vcat(zeros(size(class_A_samples)[1]), ones(size(class_B_samples)[1])))\n",
    "\n",
    "    shuffle_idxs = shuffle(1:samples_per_class*2)\n",
    "\n",
    "\n",
    "    return all_samples[shuffle_idxs, :], all_labels[shuffle_idxs]\n",
    "\n",
    "end"
   ]
  },
  {
   "cell_type": "code",
   "execution_count": 35,
   "metadata": {},
   "outputs": [
    {
     "data": {
      "text/plain": [
       "sample_to_product_state (generic function with 1 method)"
      ]
     },
     "metadata": {},
     "output_type": "display_data"
    }
   ],
   "source": [
    "\n",
    "function sample_to_product_state(ts::Vector, site_inds::Vector{Index{Int64}})\n",
    "    \"\"\"Convert a SINGLE time series (ts) to a product state (mps)\"\"\"\n",
    "    n_sites = length(site_inds)\n",
    "    product_state = MPS(n_sites)\n",
    "    for site in 1:n_sites\n",
    "        # loop over each site, create an itensor and fill with encoded values\n",
    "        T = ITensor(ComplexF64, site_inds[site])\n",
    "        zero_state, one_state = complex_feature_map(ts[site]) # \n",
    "        T[1] = zero_state\n",
    "        T[2] = one_state\n",
    "        product_state[site] = T\n",
    "    end\n",
    "\n",
    "    return product_state\n",
    "\n",
    "end"
   ]
  },
  {
   "cell_type": "code",
   "execution_count": 36,
   "metadata": {},
   "outputs": [
    {
     "data": {
      "text/plain": [
       "dataset_to_product_state (generic function with 1 method)"
      ]
     },
     "metadata": {},
     "output_type": "display_data"
    }
   ],
   "source": [
    "function dataset_to_product_state(ts_dataset::Matrix, ts_labels::Vector{Int}, site_inds::Vector{Index{Int64}})\n",
    "    \"\"\"Convert ALL time series (ts) in a dataset to a vector of\n",
    "    PStates\"\"\"\n",
    "    dataset_shape = size(ts_dataset)\n",
    "    #@assert dataset_shape[1] > dataset_shape[2] \"Ensure time series are in rows\"\n",
    "\n",
    "    all_product_states = Vector{PState}(undef, dataset_shape[1])\n",
    "    for p in 1:length(all_product_states)\n",
    "        # note, now using column-major ordering, so ts stored in COLUMNS not rows\n",
    "        time_series_as_product_state = sample_to_product_state(ts_dataset[p, :], site_inds)\n",
    "        time_series_label = ts_labels[p]\n",
    "        product_state = PState(time_series_as_product_state, time_series_label, p)\n",
    "        all_product_states[p] = product_state\n",
    "    end\n",
    "\n",
    "    return all_product_states\n",
    "end"
   ]
  },
  {
   "cell_type": "code",
   "execution_count": 37,
   "metadata": {},
   "outputs": [
    {
     "data": {
      "text/plain": [
       "reconstruct_bond_tensor (generic function with 1 method)"
      ]
     },
     "metadata": {},
     "output_type": "display_data"
    }
   ],
   "source": [
    "function flatten_bond_tensor(BT::ITensor)\n",
    "    \"\"\"Function to flatten an ITensor so that it can be fed into Optim\n",
    "    as a vector.\"\"\"\n",
    "    # should probably return the indices as well\n",
    "    # might need checks to ensure correct assignment of indices to values\n",
    "    flattened_tensor = collect(Iterators.flatten(BT))\n",
    "    return flattened_tensor, inds(BT)\n",
    "end\n",
    "\n",
    "function reconstruct_bond_tensor(BT_flat::Vector, indices)\n",
    "    BT = ITensor(indices)\n",
    "    # ORDER OF ASSIGNMENT MUST MATCH THE ORDER OF FLATTENING\n",
    "    for (n, val) in enumerate(BT_flat)\n",
    "        BT[n] = val\n",
    "    end\n",
    "\n",
    "    return BT\n",
    "\n",
    "end"
   ]
  },
  {
   "cell_type": "code",
   "execution_count": 38,
   "metadata": {},
   "outputs": [
    {
     "data": {
      "text/plain": [
       "construct_caches (generic function with 1 method)"
      ]
     },
     "metadata": {},
     "output_type": "display_data"
    }
   ],
   "source": [
    "function construct_caches(mps::MPS, training_product_states::Vector{PState}; going_left=true)\n",
    "    \"\"\"Function to pre-allocate tensor contractions between the MPS and the product states.\n",
    "    LE stores the left environment, i.e. all accumulate contractions from site 1 to site N\n",
    "    RE stores the right env., all contractions from site N to site 1.\"\"\"\n",
    "\n",
    "    # get the number of training samples to pre-allocated caches\n",
    "    n_train = length(training_product_states)\n",
    "    n = length(mps)\n",
    "    # make the caches\n",
    "    LE = Matrix{ITensor}(undef, n_train, n)\n",
    "    RE = Matrix{ITensor}(undef, n_train, n)\n",
    "\n",
    "    for i in 1:n_train \n",
    "        # get the product state for the current training sample\n",
    "        ps = training_product_states[i].pstate\n",
    "\n",
    "        if going_left\n",
    "            # initialise the first contraction\n",
    "            LE[i, 1] = mps[1] * ps[1]\n",
    "            for j in 2:n\n",
    "                LE[i, j] = LE[i, j-1] * ps[j] * mps[j]\n",
    "            end\n",
    "            \n",
    "        else\n",
    "            # going right\n",
    "            RE[i, n] = ps[n] * mps[n]\n",
    "            # accumulate remaining sites\n",
    "            for j in n-1:-1:1\n",
    "                RE[i, j] = RE[i, j+1] * ps[j] * mps[j]\n",
    "            end\n",
    "        end\n",
    "    end\n",
    "\n",
    "    return LE, RE\n",
    "    \n",
    "end"
   ]
  },
  {
   "cell_type": "code",
   "execution_count": 39,
   "metadata": {},
   "outputs": [
    {
     "data": {
      "text/plain": [
       "20-element Vector{PState}:\n",
       " PState(MPS\n",
       "[1] ((dim=2|id=325|\"S=1/2,Site,n=1\"),)\n",
       "[2] ((dim=2|id=135|\"S=1/2,Site,n=2\"),)\n",
       "[3] ((dim=2|id=984|\"S=1/2,Site,n=3\"),)\n",
       "[4] ((dim=2|id=815|\"S=1/2,Site,n=4\"),)\n",
       "[5] ((dim=2|id=691|\"S=1/2,Site,n=5\"),)\n",
       ", 0, 1)\n",
       " PState(MPS\n",
       "[1] ((dim=2|id=325|\"S=1/2,Site,n=1\"),)\n",
       "[2] ((dim=2|id=135|\"S=1/2,Site,n=2\"),)\n",
       "[3] ((dim=2|id=984|\"S=1/2,Site,n=3\"),)\n",
       "[4] ((dim=2|id=815|\"S=1/2,Site,n=4\"),)\n",
       "[5] ((dim=2|id=691|\"S=1/2,Site,n=5\"),)\n",
       ", 0, 2)\n",
       " PState(MPS\n",
       "[1] ((dim=2|id=325|\"S=1/2,Site,n=1\"),)\n",
       "[2] ((dim=2|id=135|\"S=1/2,Site,n=2\"),)\n",
       "[3] ((dim=2|id=984|\"S=1/2,Site,n=3\"),)\n",
       "[4] ((dim=2|id=815|\"S=1/2,Site,n=4\"),)\n",
       "[5] ((dim=2|id=691|\"S=1/2,Site,n=5\"),)\n",
       ", 1, 3)\n",
       " PState(MPS\n",
       "[1] ((dim=2|id=325|\"S=1/2,Site,n=1\"),)\n",
       "[2] ((dim=2|id=135|\"S=1/2,Site,n=2\"),)\n",
       "[3] ((dim=2|id=984|\"S=1/2,Site,n=3\"),)\n",
       "[4] ((dim=2|id=815|\"S=1/2,Site,n=4\"),)\n",
       "[5] ((dim=2|id=691|\"S=1/2,Site,n=5\"),)\n",
       ", 1, 4)\n",
       " PState(MPS\n",
       "[1] ((dim=2|id=325|\"S=1/2,Site,n=1\"),)\n",
       "[2] ((dim=2|id=135|\"S=1/2,Site,n=2\"),)\n",
       "[3] ((dim=2|id=984|\"S=1/2,Site,n=3\"),)\n",
       "[4] ((dim=2|id=815|\"S=1/2,Site,n=4\"),)\n",
       "[5] ((dim=2|id=691|\"S=1/2,Site,n=5\"),)\n",
       ", 0, 5)\n",
       " PState(MPS\n",
       "[1] ((dim=2|id=325|\"S=1/2,Site,n=1\"),)\n",
       "[2] ((dim=2|id=135|\"S=1/2,Site,n=2\"),)\n",
       "[3] ((dim=2|id=984|\"S=1/2,Site,n=3\"),)\n",
       "[4] ((dim=2|id=815|\"S=1/2,Site,n=4\"),)\n",
       "[5] ((dim=2|id=691|\"S=1/2,Site,n=5\"),)\n",
       ", 0, 6)\n",
       " PState(MPS\n",
       "[1] ((dim=2|id=325|\"S=1/2,Site,n=1\"),)\n",
       "[2] ((dim=2|id=135|\"S=1/2,Site,n=2\"),)\n",
       "[3] ((dim=2|id=984|\"S=1/2,Site,n=3\"),)\n",
       "[4] ((dim=2|id=815|\"S=1/2,Site,n=4\"),)\n",
       "[5] ((dim=2|id=691|\"S=1/2,Site,n=5\"),)\n",
       ", 0, 7)\n",
       " PState(MPS\n",
       "[1] ((dim=2|id=325|\"S=1/2,Site,n=1\"),)\n",
       "[2] ((dim=2|id=135|\"S=1/2,Site,n=2\"),)\n",
       "[3] ((dim=2|id=984|\"S=1/2,Site,n=3\"),)\n",
       "[4] ((dim=2|id=815|\"S=1/2,Site,n=4\"),)\n",
       "[5] ((dim=2|id=691|\"S=1/2,Site,n=5\"),)\n",
       ", 1, 8)\n",
       " PState(MPS\n",
       "[1] ((dim=2|id=325|\"S=1/2,Site,n=1\"),)\n",
       "[2] ((dim=2|id=135|\"S=1/2,Site,n=2\"),)\n",
       "[3] ((dim=2|id=984|\"S=1/2,Site,n=3\"),)\n",
       "[4] ((dim=2|id=815|\"S=1/2,Site,n=4\"),)\n",
       "[5] ((dim=2|id=691|\"S=1/2,Site,n=5\"),)\n",
       ", 0, 9)\n",
       " PState(MPS\n",
       "[1] ((dim=2|id=325|\"S=1/2,Site,n=1\"),)\n",
       "[2] ((dim=2|id=135|\"S=1/2,Site,n=2\"),)\n",
       "[3] ((dim=2|id=984|\"S=1/2,Site,n=3\"),)\n",
       "[4] ((dim=2|id=815|\"S=1/2,Site,n=4\"),)\n",
       "[5] ((dim=2|id=691|\"S=1/2,Site,n=5\"),)\n",
       ", 0, 10)\n",
       " PState(MPS\n",
       "[1] ((dim=2|id=325|\"S=1/2,Site,n=1\"),)\n",
       "[2] ((dim=2|id=135|\"S=1/2,Site,n=2\"),)\n",
       "[3] ((dim=2|id=984|\"S=1/2,Site,n=3\"),)\n",
       "[4] ((dim=2|id=815|\"S=1/2,Site,n=4\"),)\n",
       "[5] ((dim=2|id=691|\"S=1/2,Site,n=5\"),)\n",
       ", 1, 11)\n",
       " PState(MPS\n",
       "[1] ((dim=2|id=325|\"S=1/2,Site,n=1\"),)\n",
       "[2] ((dim=2|id=135|\"S=1/2,Site,n=2\"),)\n",
       "[3] ((dim=2|id=984|\"S=1/2,Site,n=3\"),)\n",
       "[4] ((dim=2|id=815|\"S=1/2,Site,n=4\"),)\n",
       "[5] ((dim=2|id=691|\"S=1/2,Site,n=5\"),)\n",
       ", 0, 12)\n",
       " PState(MPS\n",
       "[1] ((dim=2|id=325|\"S=1/2,Site,n=1\"),)\n",
       "[2] ((dim=2|id=135|\"S=1/2,Site,n=2\"),)\n",
       "[3] ((dim=2|id=984|\"S=1/2,Site,n=3\"),)\n",
       "[4] ((dim=2|id=815|\"S=1/2,Site,n=4\"),)\n",
       "[5] ((dim=2|id=691|\"S=1/2,Site,n=5\"),)\n",
       ", 1, 13)\n",
       " PState(MPS\n",
       "[1] ((dim=2|id=325|\"S=1/2,Site,n=1\"),)\n",
       "[2] ((dim=2|id=135|\"S=1/2,Site,n=2\"),)\n",
       "[3] ((dim=2|id=984|\"S=1/2,Site,n=3\"),)\n",
       "[4] ((dim=2|id=815|\"S=1/2,Site,n=4\"),)\n",
       "[5] ((dim=2|id=691|\"S=1/2,Site,n=5\"),)\n",
       ", 1, 14)\n",
       " PState(MPS\n",
       "[1] ((dim=2|id=325|\"S=1/2,Site,n=1\"),)\n",
       "[2] ((dim=2|id=135|\"S=1/2,Site,n=2\"),)\n",
       "[3] ((dim=2|id=984|\"S=1/2,Site,n=3\"),)\n",
       "[4] ((dim=2|id=815|\"S=1/2,Site,n=4\"),)\n",
       "[5] ((dim=2|id=691|\"S=1/2,Site,n=5\"),)\n",
       ", 1, 15)\n",
       " PState(MPS\n",
       "[1] ((dim=2|id=325|\"S=1/2,Site,n=1\"),)\n",
       "[2] ((dim=2|id=135|\"S=1/2,Site,n=2\"),)\n",
       "[3] ((dim=2|id=984|\"S=1/2,Site,n=3\"),)\n",
       "[4] ((dim=2|id=815|\"S=1/2,Site,n=4\"),)\n",
       "[5] ((dim=2|id=691|\"S=1/2,Site,n=5\"),)\n",
       ", 1, 16)\n",
       " PState(MPS\n",
       "[1] ((dim=2|id=325|\"S=1/2,Site,n=1\"),)\n",
       "[2] ((dim=2|id=135|\"S=1/2,Site,n=2\"),)\n",
       "[3] ((dim=2|id=984|\"S=1/2,Site,n=3\"),)\n",
       "[4] ((dim=2|id=815|\"S=1/2,Site,n=4\"),)\n",
       "[5] ((dim=2|id=691|\"S=1/2,Site,n=5\"),)\n",
       ", 0, 17)\n",
       " PState(MPS\n",
       "[1] ((dim=2|id=325|\"S=1/2,Site,n=1\"),)\n",
       "[2] ((dim=2|id=135|\"S=1/2,Site,n=2\"),)\n",
       "[3] ((dim=2|id=984|\"S=1/2,Site,n=3\"),)\n",
       "[4] ((dim=2|id=815|\"S=1/2,Site,n=4\"),)\n",
       "[5] ((dim=2|id=691|\"S=1/2,Site,n=5\"),)\n",
       ", 1, 18)\n",
       " PState(MPS\n",
       "[1] ((dim=2|id=325|\"S=1/2,Site,n=1\"),)\n",
       "[2] ((dim=2|id=135|\"S=1/2,Site,n=2\"),)\n",
       "[3] ((dim=2|id=984|\"S=1/2,Site,n=3\"),)\n",
       "[4] ((dim=2|id=815|\"S=1/2,Site,n=4\"),)\n",
       "[5] ((dim=2|id=691|\"S=1/2,Site,n=5\"),)\n",
       ", 1, 19)\n",
       " PState(MPS\n",
       "[1] ((dim=2|id=325|\"S=1/2,Site,n=1\"),)\n",
       "[2] ((dim=2|id=135|\"S=1/2,Site,n=2\"),)\n",
       "[3] ((dim=2|id=984|\"S=1/2,Site,n=3\"),)\n",
       "[4] ((dim=2|id=815|\"S=1/2,Site,n=4\"),)\n",
       "[5] ((dim=2|id=691|\"S=1/2,Site,n=5\"),)\n",
       ", 0, 20)"
      ]
     },
     "metadata": {},
     "output_type": "display_data"
    }
   ],
   "source": [
    "samples, labels = generate_training_data(10);\n",
    "all_pstates = dataset_to_product_state(samples, labels, s)"
   ]
  },
  {
   "cell_type": "code",
   "execution_count": 40,
   "metadata": {},
   "outputs": [
    {
     "data": {
      "text/plain": [
       "(ITensor[#undef #undef … #undef #undef; #undef #undef … #undef #undef; … ; #undef #undef … #undef #undef; #undef #undef … #undef #undef], ITensor[ITensor ord=0\n",
       "NDTensors.Dense{ComplexF64, Vector{ComplexF64}}\n",
       " 0-dimensional\n",
       "0.09251635524612625 - 0.02399585592013451im ITensor ord=1\n",
       "Dim 1: (dim=4|id=106|\"Link,l=1\")\n",
       "NDTensors.Dense{ComplexF64, Vector{ComplexF64}}\n",
       " 4-element\n",
       " -0.12586404888028077 + 0.036145725698430865im\n",
       "   0.1662628247002933 + 0.014721348596851104im\n",
       "  0.01652614991548789 + 0.027662784848295142im\n",
       "  0.07247047733379401 - 0.06213913946417862im … ITensor ord=1\n",
       "Dim 1: (dim=4|id=467|\"Link,l=3\")\n",
       "NDTensors.Dense{ComplexF64, Vector{ComplexF64}}\n",
       " 4-element\n",
       " -0.06259047707742635 - 0.2011623231544069im\n",
       " -0.18464593780559382 - 0.6051510565944971im\n",
       " -0.37109045035808635 + 0.6350020455167755im\n",
       "  0.11469803682472071 - 0.034969536283704986im ITensor ord=1\n",
       "Dim 1: (dim=2|id=242|\"Link,l=4\")\n",
       "NDTensors.Dense{ComplexF64, Vector{ComplexF64}}\n",
       " 2-element\n",
       " 0.4800595159922907 - 0.5357791469433074im\n",
       " -0.532085869997182 - 0.4465066558913668im; ITensor ord=0\n",
       "NDTensors.Dense{ComplexF64, Vector{ComplexF64}}\n",
       " 0-dimensional\n",
       "0.09251635524612625 - 0.02399585592013451im ITensor ord=1\n",
       "Dim 1: (dim=4|id=106|\"Link,l=1\")\n",
       "NDTensors.Dense{ComplexF64, Vector{ComplexF64}}\n",
       " 4-element\n",
       " -0.12586404888028077 + 0.036145725698430865im\n",
       "   0.1662628247002933 + 0.014721348596851104im\n",
       "  0.01652614991548789 + 0.027662784848295142im\n",
       "  0.07247047733379401 - 0.06213913946417862im … ITensor ord=1\n",
       "Dim 1: (dim=4|id=467|\"Link,l=3\")\n",
       "NDTensors.Dense{ComplexF64, Vector{ComplexF64}}\n",
       " 4-element\n",
       " -0.06259047707742635 - 0.2011623231544069im\n",
       " -0.18464593780559382 - 0.6051510565944971im\n",
       " -0.37109045035808635 + 0.6350020455167755im\n",
       "  0.11469803682472071 - 0.034969536283704986im ITensor ord=1\n",
       "Dim 1: (dim=2|id=242|\"Link,l=4\")\n",
       "NDTensors.Dense{ComplexF64, Vector{ComplexF64}}\n",
       " 2-element\n",
       " 0.4800595159922907 - 0.5357791469433074im\n",
       " -0.532085869997182 - 0.4465066558913668im; … ; ITensor ord=0\n",
       "NDTensors.Dense{ComplexF64, Vector{ComplexF64}}\n",
       " 0-dimensional\n",
       "-0.07127473678944188 + 0.030288509912364994im ITensor ord=1\n",
       "Dim 1: (dim=4|id=106|\"Link,l=1\")\n",
       "NDTensors.Dense{ComplexF64, Vector{ComplexF64}}\n",
       " 4-element\n",
       " -0.08938448919810305 - 0.011428975414880029im\n",
       "  0.25175874966474554 - 0.14117804066302914im\n",
       " -0.09341567584947892 + 0.08399682324259662im\n",
       " -0.32818794654212535 + 0.12901947506965786im … ITensor ord=1\n",
       "Dim 1: (dim=4|id=467|\"Link,l=3\")\n",
       "NDTensors.Dense{ComplexF64, Vector{ComplexF64}}\n",
       " 4-element\n",
       "  0.3929393466700279 + 0.050186156889336045im\n",
       " -0.4575173014914372 + 0.5046917548440965im\n",
       "  -0.538021907511557 + 0.053521505853178025im\n",
       " 0.10817391623067651 - 0.27388035749162976im ITensor ord=1\n",
       "Dim 1: (dim=2|id=242|\"Link,l=4\")\n",
       "NDTensors.Dense{ComplexF64, Vector{ComplexF64}}\n",
       " 2-element\n",
       " 0.06120605508648046 - 0.6919085095781813im\n",
       "  0.7182666208276132 + 0.040118506937975355im; ITensor ord=0\n",
       "NDTensors.Dense{ComplexF64, Vector{ComplexF64}}\n",
       " 0-dimensional\n",
       "0.09251635524612625 - 0.02399585592013451im ITensor ord=1\n",
       "Dim 1: (dim=4|id=106|\"Link,l=1\")\n",
       "NDTensors.Dense{ComplexF64, Vector{ComplexF64}}\n",
       " 4-element\n",
       " -0.12586404888028077 + 0.036145725698430865im\n",
       "   0.1662628247002933 + 0.014721348596851104im\n",
       "  0.01652614991548789 + 0.027662784848295142im\n",
       "  0.07247047733379401 - 0.06213913946417862im … ITensor ord=1\n",
       "Dim 1: (dim=4|id=467|\"Link,l=3\")\n",
       "NDTensors.Dense{ComplexF64, Vector{ComplexF64}}\n",
       " 4-element\n",
       " -0.06259047707742635 - 0.2011623231544069im\n",
       " -0.18464593780559382 - 0.6051510565944971im\n",
       " -0.37109045035808635 + 0.6350020455167755im\n",
       "  0.11469803682472071 - 0.034969536283704986im ITensor ord=1\n",
       "Dim 1: (dim=2|id=242|\"Link,l=4\")\n",
       "NDTensors.Dense{ComplexF64, Vector{ComplexF64}}\n",
       " 2-element\n",
       " 0.4800595159922907 - 0.5357791469433074im\n",
       " -0.532085869997182 - 0.4465066558913668im])"
      ]
     },
     "metadata": {},
     "output_type": "display_data"
    }
   ],
   "source": [
    "LE, RE = construct_caches(mps, all_pstates; going_left=false)"
   ]
  },
  {
   "cell_type": "code",
   "execution_count": 41,
   "metadata": {},
   "outputs": [
    {
     "data": {
      "text/plain": [
       "fg! (generic function with 1 method)"
      ]
     },
     "metadata": {},
     "output_type": "display_data"
    }
   ],
   "source": [
    "function fg!(F, G, x, B_inds, LE::Matrix, RE::Matrix, pss::Vector{PState}, lid::Int, rid::Int)\n",
    "    # common computations\n",
    "    B = reconstruct_bond_tensor(x, B_inds)\n",
    "    loss_accum = 0\n",
    "    grad_accum = ITensor()\n",
    "\n",
    "    for ps in pss\n",
    "        prod_state = ps.pstate\n",
    "        phi_tilde = prod_state[lid] * prod_state[rid]\n",
    "        n = size(LE, 2) # number of mps sites\n",
    "        if lid == 1\n",
    "            phi_tilde *= RE[ps.id, rid+1]\n",
    "        elseif rid == n\n",
    "            phi_tilde *= LE[ps.id, lid-1]\n",
    "        else\n",
    "            phi_tilde *= LE[ps.id, lid-1] * RE[ps.id, rid+1]\n",
    "        end\n",
    "        yhat = B * phi_tilde\n",
    "        y = ps.label\n",
    "        dP = yhat[] - y\n",
    "        diff_sq = norm(dP)^2\n",
    "        loss_accum += 0.5 * diff_sq\n",
    "    \n",
    "        if G !== nothing\n",
    "            # compute gradient\n",
    "            grad = dP * conj(phi_tilde)\n",
    "            grad_accum += grad\n",
    "        end\n",
    "    end\n",
    "\n",
    "    if G !== nothing\n",
    "        grad_overall = grad_accum ./ length(pss)\n",
    "        copyto!(G, grad_overall)\n",
    "    end\n",
    "\n",
    "    if F !== nothing\n",
    "        final_loss = loss_accum / length(pss)\n",
    "        return final_loss\n",
    "    end\n",
    "end"
   ]
  },
  {
   "cell_type": "code",
   "execution_count": 42,
   "metadata": {},
   "outputs": [
    {
     "data": {
      "text/plain": [
       "create_fg! (generic function with 1 method)"
      ]
     },
     "metadata": {},
     "output_type": "display_data"
    }
   ],
   "source": [
    "function create_fg!(B_inds, LE::Matrix, RE::Matrix, pss::Vector{PState}, lid::Int, rid::Int)\n",
    "    return function (F, G, x)\n",
    "        # Your existing fg! function body here, using B_inds, LE, RE, pss, lid, rid\n",
    "        # as captured from the surrounding scope\n",
    "        B = reconstruct_bond_tensor(x, B_inds)\n",
    "        loss_accum = 0\n",
    "        grad_accum = ITensor()\n",
    "\n",
    "        for ps in pss\n",
    "            prod_state = ps.pstate\n",
    "            phi_tilde = prod_state[lid] * prod_state[rid]\n",
    "            n = size(LE, 2) # number of mps sites\n",
    "            if lid == 1\n",
    "                phi_tilde *= RE[ps.id, rid+1]\n",
    "            elseif rid == n\n",
    "                phi_tilde *= LE[ps.id, lid-1]\n",
    "            else\n",
    "                phi_tilde *= LE[ps.id, lid-1] * RE[ps.id, rid+1]\n",
    "            end\n",
    "            yhat = B * phi_tilde\n",
    "            y = ps.label\n",
    "            dP = yhat[] - y\n",
    "            diff_sq = norm(dP)^2\n",
    "            loss_accum += 0.5 * diff_sq\n",
    "        \n",
    "            if G !== nothing\n",
    "                # compute gradient\n",
    "                grad = dP * conj(phi_tilde)\n",
    "                grad_accum += grad\n",
    "            end\n",
    "        end\n",
    "\n",
    "        if G !== nothing\n",
    "            grad_overall = grad_accum ./ length(pss)\n",
    "            copyto!(G, grad_overall)\n",
    "        end\n",
    "\n",
    "        if F !== nothing\n",
    "            final_loss = loss_accum / length(pss)\n",
    "            return final_loss\n",
    "        end\n",
    "    end\n",
    "end"
   ]
  },
  {
   "cell_type": "code",
   "execution_count": 43,
   "metadata": {},
   "outputs": [
    {
     "data": {
      "text/plain": [
       "ITensor ord=3 (dim=2|id=325|\"S=1/2,Site,n=1\") (dim=2|id=135|\"S=1/2,Site,n=2\") (dim=4|id=230|\"Link,l=2\")\n",
       "NDTensors.Dense{ComplexF64, Vector{ComplexF64}}"
      ]
     },
     "metadata": {},
     "output_type": "display_data"
    }
   ],
   "source": [
    "BT12"
   ]
  },
  {
   "cell_type": "code",
   "execution_count": 44,
   "metadata": {},
   "outputs": [],
   "source": [
    "BT_init = deepcopy(BT12)\n",
    "BT12_flat, BT12_flat_inds = flatten_bond_tensor(BT_init);"
   ]
  },
  {
   "cell_type": "code",
   "execution_count": 45,
   "metadata": {},
   "outputs": [
    {
     "ename": "ErrorException",
     "evalue": "invalid redefinition of constant Main.fg!",
     "output_type": "error",
     "traceback": [
      "invalid redefinition of constant Main.fg!\n",
      "\n",
      "Stacktrace:\n",
      " [1] top-level scope\n",
      "   @ ~/Documents/QuantumInspiredML/MPS_MSE/complex-opt/Julia/autograd/AD_versus_analytic.ipynb:1"
     ]
    }
   ],
   "source": [
    "fg! = create_fg!(BT12_flat_inds, LE, RE, all_pstates, 1, 2)"
   ]
  },
  {
   "cell_type": "code",
   "execution_count": 46,
   "metadata": {},
   "outputs": [
    {
     "ename": "MethodError",
     "evalue": "MethodError: no method matching fg!(::Float64, ::Vector{ComplexF64}, ::Vector{ComplexF64})\n\nClosest candidates are:\n  fg!(::Any, ::Any, ::Any, !Matched::Any, !Matched::Matrix, !Matched::Matrix, !Matched::Vector{PState}, !Matched::Int64, !Matched::Int64)\n   @ Main ~/Documents/QuantumInspiredML/MPS_MSE/complex-opt/Julia/autograd/AD_versus_analytic.ipynb:1\n",
     "output_type": "error",
     "traceback": [
      "MethodError: no method matching fg!(::Float64, ::Vector{ComplexF64}, ::Vector{ComplexF64})\n",
      "\n",
      "Closest candidates are:\n",
      "  fg!(::Any, ::Any, ::Any, !Matched::Any, !Matched::Matrix, !Matched::Matrix, !Matched::Vector{PState}, !Matched::Int64, !Matched::Int64)\n",
      "   @ Main ~/Documents/QuantumInspiredML/MPS_MSE/complex-opt/Julia/autograd/AD_versus_analytic.ipynb:1\n",
      "\n",
      "\n",
      "Stacktrace:\n",
      " [1] (::NLSolversBase.var\"#69#70\"{NLSolversBase.InplaceObjective{Nothing, typeof(fg!), Nothing, Nothing, Nothing}, Float64})(G::Vector{ComplexF64}, x::Vector{ComplexF64})\n",
      "   @ NLSolversBase ~/.julia/packages/NLSolversBase/kavn7/src/objective_types/incomplete.jl:54\n",
      " [2] value_gradient!!(obj::OnceDifferentiable{Float64, Vector{ComplexF64}, Vector{ComplexF64}}, x::Vector{ComplexF64})\n",
      "   @ NLSolversBase ~/.julia/packages/NLSolversBase/kavn7/src/interface.jl:82\n",
      " [3] initial_state(method::LBFGS{Nothing, LineSearches.InitialStatic{Float64}, LineSearches.HagerZhang{Float64, Base.RefValue{Bool}}, Optim.var\"#19#21\"}, options::Optim.Options{Float64, Nothing}, d::OnceDifferentiable{Float64, Vector{ComplexF64}, Vector{ComplexF64}}, initial_x::Vector{ComplexF64})\n",
      "   @ Optim ~/.julia/packages/Optim/EJwLF/src/multivariate/solvers/first_order/l_bfgs.jl:164\n",
      " [4] optimize\n",
      "   @ ~/.julia/packages/Optim/EJwLF/src/multivariate/optimize/optimize.jl:36 [inlined]\n",
      " [5] optimize(f::NLSolversBase.InplaceObjective{Nothing, typeof(fg!), Nothing, Nothing, Nothing}, initial_x::Vector{ComplexF64}, method::LBFGS{Nothing, LineSearches.InitialStatic{Float64}, LineSearches.HagerZhang{Float64, Base.RefValue{Bool}}, Optim.var\"#19#21\"}, options::Optim.Options{Float64, Nothing}; inplace::Bool, autodiff::Symbol)\n",
      "   @ Optim ~/.julia/packages/Optim/EJwLF/src/multivariate/optimize/interface.jl:143\n",
      " [6] optimize\n",
      "   @ ~/.julia/packages/Optim/EJwLF/src/multivariate/optimize/interface.jl:139 [inlined]\n",
      " [7] optimize(f::NLSolversBase.InplaceObjective{Nothing, typeof(fg!), Nothing, Nothing, Nothing}, initial_x::Vector{ComplexF64}, method::LBFGS{Nothing, LineSearches.InitialStatic{Float64}, LineSearches.HagerZhang{Float64, Base.RefValue{Bool}}, Optim.var\"#19#21\"})\n",
      "   @ Optim ~/.julia/packages/Optim/EJwLF/src/multivariate/optimize/interface.jl:139\n",
      " [8] top-level scope\n",
      "   @ ~/Documents/QuantumInspiredML/MPS_MSE/complex-opt/Julia/autograd/AD_versus_analytic.ipynb:1"
     ]
    }
   ],
   "source": [
    "Optim.optimize(Optim.only_fg!(fg!), BT12_flat, Optim.LBFGS()) "
   ]
  },
  {
   "cell_type": "code",
   "execution_count": 47,
   "metadata": {},
   "outputs": [],
   "source": []
  }
 ],
 "metadata": {
  "kernelspec": {
   "display_name": "Julia 1.10.2",
   "language": "julia",
   "name": "julia-1.10"
  },
  "language_info": {
   "file_extension": ".jl",
   "mimetype": "application/julia",
   "name": "julia",
   "version": "1.10.2"
  }
 },
 "nbformat": 4,
 "nbformat_minor": 2
}
