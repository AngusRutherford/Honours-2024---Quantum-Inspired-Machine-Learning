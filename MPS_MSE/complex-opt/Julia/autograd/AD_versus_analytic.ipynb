{
 "cells": [
  {
   "cell_type": "code",
   "execution_count": 5,
   "metadata": {},
   "outputs": [],
   "source": [
    "using ITensors\n",
    "using Zygote\n",
    "using Random"
   ]
  },
  {
   "cell_type": "markdown",
   "metadata": {},
   "source": [
    "Let's create a random complex valued 5 site MPS to begin..."
   ]
  },
  {
   "cell_type": "code",
   "execution_count": 9,
   "metadata": {},
   "outputs": [
    {
     "data": {
      "text/plain": [
       "MPS\n",
       "[1] ((dim=2|id=503|\"S=1/2,Site,n=1\"), (dim=4|id=418|\"Link,l=1\"))\n",
       "[2] ((dim=4|id=418|\"Link,l=1\"), (dim=2|id=397|\"S=1/2,Site,n=2\"), (dim=4|id=439|\"Link,l=2\"))\n",
       "[3] ((dim=4|id=439|\"Link,l=2\"), (dim=2|id=711|\"S=1/2,Site,n=3\"), (dim=4|id=491|\"Link,l=3\"))\n",
       "[4] ((dim=4|id=491|\"Link,l=3\"), (dim=2|id=268|\"S=1/2,Site,n=4\"), (dim=2|id=588|\"Link,l=4\"))\n",
       "[5] ((dim=2|id=588|\"Link,l=4\"), (dim=2|id=627|\"S=1/2,Site,n=5\"))\n"
      ]
     },
     "metadata": {},
     "output_type": "display_data"
    }
   ],
   "source": [
    "Random.seed!(42)\n",
    "s = siteinds(\"S=1/2\", 5)\n",
    "mps = randomMPS(ComplexF64, s; linkdims=4)"
   ]
  },
  {
   "cell_type": "code",
   "execution_count": 12,
   "metadata": {},
   "outputs": [
    {
     "data": {
      "text/plain": [
       "complex_feature_map (generic function with 1 method)"
      ]
     },
     "metadata": {},
     "output_type": "display_data"
    }
   ],
   "source": [
    "function complex_feature_map(x::Float64)\n",
    "    s1 = exp(1im * (3π/2) * x) * cospi(0.5 * x)\n",
    "    s2 = exp(-1im * (2π/2) * x) * sinpi(0.5 * x)\n",
    "    return [s1, s2]\n",
    "end"
   ]
  },
  {
   "cell_type": "code",
   "execution_count": 13,
   "metadata": {},
   "outputs": [
    {
     "data": {
      "text/plain": [
       "sample_to_product_state (generic function with 1 method)"
      ]
     },
     "metadata": {},
     "output_type": "display_data"
    }
   ],
   "source": [
    "function sample_to_product_state(sample::Vector, site_inds::Vector{Index{Int64}})\n",
    "    n_sites = length(site_inds)\n",
    "    product_state = MPS(ComplexF64, site_inds; linkdims=1)\n",
    "    for j=1:n_sites\n",
    "        T = ITensor(site_inds[j])\n",
    "        zero_state, one_state = complex_feature_map(sample[j])\n",
    "        T[1] = zero_state\n",
    "        T[2] = one_state\n",
    "        product_state[j] = T \n",
    "    end\n",
    "    return product_state\n",
    "end"
   ]
  },
  {
   "cell_type": "markdown",
   "metadata": {},
   "source": [
    "Generate sample and encode as a product state."
   ]
  },
  {
   "cell_type": "code",
   "execution_count": 64,
   "metadata": {},
   "outputs": [
    {
     "data": {
      "text/plain": [
       "5-element Vector{Float64}:\n",
       " 0.0\n",
       " 0.0\n",
       " 0.0\n",
       " 0.0\n",
       " 0.0"
      ]
     },
     "metadata": {},
     "output_type": "display_data"
    }
   ],
   "source": [
    "sample = zeros(5)"
   ]
  },
  {
   "cell_type": "code",
   "execution_count": 65,
   "metadata": {},
   "outputs": [
    {
     "data": {
      "text/plain": [
       "MPS\n",
       "[1] ((dim=2|id=503|\"S=1/2,Site,n=1\"),)\n",
       "[2] ((dim=2|id=397|\"S=1/2,Site,n=2\"),)\n",
       "[3] ((dim=2|id=711|\"S=1/2,Site,n=3\"),)\n",
       "[4] ((dim=2|id=268|\"S=1/2,Site,n=4\"),)\n",
       "[5] ((dim=2|id=627|\"S=1/2,Site,n=5\"),)\n"
      ]
     },
     "metadata": {},
     "output_type": "display_data"
    }
   ],
   "source": [
    "ps = sample_to_product_state(sample, s)"
   ]
  },
  {
   "cell_type": "markdown",
   "metadata": {},
   "source": [
    "## Create Bond Tensor"
   ]
  },
  {
   "cell_type": "markdown",
   "metadata": {},
   "source": [
    "We will create a bond tensor between sites 1 and 2"
   ]
  },
  {
   "cell_type": "code",
   "execution_count": 66,
   "metadata": {},
   "outputs": [
    {
     "data": {
      "text/plain": [
       "ITensor ord=3 (dim=2|id=503|\"S=1/2,Site,n=1\") (dim=2|id=397|\"S=1/2,Site,n=2\") (dim=4|id=439|\"Link,l=2\")\n",
       "NDTensors.Dense{ComplexF64, Vector{ComplexF64}}"
      ]
     },
     "metadata": {},
     "output_type": "display_data"
    }
   ],
   "source": [
    "BT12 = mps[1] * mps[2]"
   ]
  },
  {
   "cell_type": "markdown",
   "metadata": {},
   "source": [
    "Now let's define our loss function. Since we are dealing with a single product state and bond tensor, we can make it specific:"
   ]
  },
  {
   "cell_type": "code",
   "execution_count": 94,
   "metadata": {},
   "outputs": [
    {
     "data": {
      "text/plain": [
       "loss (generic function with 1 method)"
      ]
     },
     "metadata": {},
     "output_type": "display_data"
    }
   ],
   "source": [
    "function loss(B::ITensor)\n",
    "    y = 1.0 # train the bond tensor to maximise overlap\n",
    "    # bond tensor on sites 1 and 2\n",
    "    lid = 1\n",
    "    rid = 2 \n",
    "    phi_tilde = ps[lid] * ps[rid] * mps[3] * ps[3] * mps[4] * ps[4] * mps[5] * ps[5] # effective input\n",
    "    yhat = B * phi_tilde\n",
    "    diff_mod_sq = norm(yhat[] - y)^2\n",
    "    loss = 0.5 * diff_mod_sq\n",
    "    return loss\n",
    "end"
   ]
  },
  {
   "cell_type": "markdown",
   "metadata": {},
   "source": [
    "Test the loss function..."
   ]
  },
  {
   "cell_type": "code",
   "execution_count": 93,
   "metadata": {},
   "outputs": [
    {
     "data": {
      "text/plain": [
       "0.4120511832985574"
      ]
     },
     "metadata": {},
     "output_type": "display_data"
    }
   ],
   "source": [
    "loss(BT12)"
   ]
  },
  {
   "cell_type": "markdown",
   "metadata": {},
   "source": [
    "Now construct the proposed analytic gradient for comparison against AD derived gradient:"
   ]
  },
  {
   "cell_type": "code",
   "execution_count": 79,
   "metadata": {},
   "outputs": [
    {
     "data": {
      "text/plain": [
       "analytic_gradient (generic function with 1 method)"
      ]
     },
     "metadata": {},
     "output_type": "display_data"
    }
   ],
   "source": [
    "function analytic_gradient(B::ITensor)\n",
    "    lid = 1\n",
    "    rid = 2\n",
    "    phi_tilde = ps[lid] * ps[rid] * mps[3] * ps[3] * mps[4] * ps[4] * mps[5] * ps[5]\n",
    "    yhat = B * phi_tilde\n",
    "    y = 1.0\n",
    "    dP = yhat[] - y\n",
    "    grad = 0.5 * dP * conj(phi_tilde)\n",
    "\n",
    "    return grad\n",
    "end"
   ]
  },
  {
   "cell_type": "markdown",
   "metadata": {},
   "source": [
    "# Analytic Gradient Evaluation"
   ]
  },
  {
   "cell_type": "code",
   "execution_count": 80,
   "metadata": {},
   "outputs": [
    {
     "data": {
      "text/plain": [
       "ITensor ord=3 (dim=2|id=503|\"S=1/2,Site,n=1\") (dim=2|id=397|\"S=1/2,Site,n=2\") (dim=4|id=439|\"Link,l=2\")\n",
       "NDTensors.Dense{ComplexF64, Vector{ComplexF64}}"
      ]
     },
     "metadata": {},
     "output_type": "display_data"
    }
   ],
   "source": [
    "analytic_grad = analytic_gradient(BT12)"
   ]
  },
  {
   "cell_type": "markdown",
   "metadata": {},
   "source": [
    "Inspect the values..."
   ]
  },
  {
   "cell_type": "code",
   "execution_count": 81,
   "metadata": {},
   "outputs": [
    {
     "data": {
      "text/plain": [
       "16-element Vector{ComplexF64}:\n",
       " -0.027823667541818135 - 0.09315554666007617im\n",
       "                  -0.0 + 0.0im\n",
       "                  -0.0 + 0.0im\n",
       "                  -0.0 + 0.0im\n",
       "  -0.08952810956088028 + 0.03174243040135726im\n",
       "                  -0.0 + 0.0im\n",
       "                  -0.0 + 0.0im\n",
       "                  -0.0 + 0.0im\n",
       "   0.04236007657464593 - 0.028288650564501885im\n",
       "                  -0.0 + 0.0im\n",
       "                  -0.0 + 0.0im\n",
       "                  -0.0 + 0.0im\n",
       "  0.039321688985887636 - 0.022450873496918794im\n",
       "                  -0.0 + 0.0im\n",
       "                  -0.0 + 0.0im\n",
       "                  -0.0 + 0.0im"
      ]
     },
     "metadata": {},
     "output_type": "display_data"
    }
   ],
   "source": [
    "collect(Iterators.flatten(analytic_grad))"
   ]
  },
  {
   "cell_type": "markdown",
   "metadata": {},
   "source": [
    "# Zygote Gradient Evaluation"
   ]
  },
  {
   "cell_type": "code",
   "execution_count": 82,
   "metadata": {},
   "outputs": [
    {
     "data": {
      "text/plain": [
       "(ITensor ord=3\n",
       "Dim 1: (dim=2|id=503|\"S=1/2,Site,n=1\")\n",
       "Dim 2: (dim=2|id=397|\"S=1/2,Site,n=2\")\n",
       "Dim 3: (dim=4|id=439|\"Link,l=2\")\n",
       "NDTensors.Dense{ComplexF64, Vector{ComplexF64}}\n",
       " 2×2×4\n",
       "[:, :, 1] =\n",
       " -0.05564733508363627 - 0.18631109332015233im  -0.0 + 0.0im\n",
       "                 -0.0 + 0.0im                  -0.0 + 0.0im\n",
       "\n",
       "[:, :, 2] =\n",
       " -0.17905621912176056 + 0.06348486080271452im  -0.0 + 0.0im\n",
       "                 -0.0 + 0.0im                  -0.0 + 0.0im\n",
       "\n",
       "[:, :, 3] =\n",
       " 0.08472015314929186 - 0.05657730112900377im  -0.0 + 0.0im\n",
       "                -0.0 + 0.0im                  -0.0 + 0.0im\n",
       "\n",
       "[:, :, 4] =\n",
       " 0.07864337797177527 - 0.04490174699383759im  -0.0 + 0.0im\n",
       "                -0.0 + 0.0im                  -0.0 + 0.0im,)"
      ]
     },
     "metadata": {},
     "output_type": "display_data"
    }
   ],
   "source": [
    "zygote_grad = gradient(loss, BT12)"
   ]
  },
  {
   "cell_type": "code",
   "execution_count": 91,
   "metadata": {},
   "outputs": [
    {
     "name": "stdout",
     "output_type": "stream",
     "text": [
      "zygote_grad = (ITensor ord=3\n",
      "Dim 1: (dim=2|id=503|\"S=1/2,Site,n=1\")\n",
      "Dim 2: (dim=2|id=397|\"S=1/2,Site,n=2\")\n",
      "Dim 3: (dim=4|id=439|\"Link,l=2\")\n",
      "NDTensors.Dense{ComplexF64, Vector{ComplexF64}}\n",
      " 2×2×4\n",
      "[:, :, 1] =\n",
      " -0.05564733508363627 - 0.18631109332015233im  -0.0 + 0.0im\n",
      "                 -0.0 + 0.0im                  -0.0 + 0.0im\n",
      "\n",
      "[:, :, 2] =\n",
      " -0.17905621912176056 + 0.06348486080271452im  -0.0 + 0.0im\n",
      "                 -0.0 + 0.0im                  -0.0 + 0.0im\n",
      "\n",
      "[:, :, 3] =\n",
      " 0.08472015314929186 - 0.05657730112900377im  -0.0 + 0.0im\n",
      "                -0.0 + 0.0im                  -0.0 + 0.0im\n",
      "\n",
      "[:, :, 4] =\n",
      " 0.07864337797177527 - 0.04490174699383759im  -0.0 + 0.0im\n",
      "                -0.0 + 0.0im                  -0.0 + 0.0im,)\n"
     ]
    },
    {
     "data": {
      "text/plain": [
       "(ITensor ord=3\n",
       "Dim 1: (dim=2|id=503|\"S=1/2,Site,n=1\")\n",
       "Dim 2: (dim=2|id=397|\"S=1/2,Site,n=2\")\n",
       "Dim 3: (dim=4|id=439|\"Link,l=2\")\n",
       "NDTensors.Dense{ComplexF64, Vector{ComplexF64}}\n",
       " 2×2×4\n",
       "[:, :, 1] =\n",
       " -0.05564733508363627 - 0.18631109332015233im  -0.0 + 0.0im\n",
       "                 -0.0 + 0.0im                  -0.0 + 0.0im\n",
       "\n",
       "[:, :, 2] =\n",
       " -0.17905621912176056 + 0.06348486080271452im  -0.0 + 0.0im\n",
       "                 -0.0 + 0.0im                  -0.0 + 0.0im\n",
       "\n",
       "[:, :, 3] =\n",
       " 0.08472015314929186 - 0.05657730112900377im  -0.0 + 0.0im\n",
       "                -0.0 + 0.0im                  -0.0 + 0.0im\n",
       "\n",
       "[:, :, 4] =\n",
       " 0.07864337797177527 - 0.04490174699383759im  -0.0 + 0.0im\n",
       "                -0.0 + 0.0im                  -0.0 + 0.0im,)"
      ]
     },
     "metadata": {},
     "output_type": "display_data"
    }
   ],
   "source": [
    "@show zygote_grad"
   ]
  },
  {
   "cell_type": "code",
   "execution_count": 83,
   "metadata": {},
   "outputs": [
    {
     "name": "stdout",
     "output_type": "stream",
     "text": [
      "analytic_grad = ITensor ord=3\n",
      "Dim 1: (dim=2|id=503|\"S=1/2,Site,n=1\")\n",
      "Dim 2: (dim=2|id=397|\"S=1/2,Site,n=2\")\n",
      "Dim 3: (dim=4|id=439|\"Link,l=2\")\n",
      "NDTensors.Dense{ComplexF64, Vector{ComplexF64}}\n",
      " 2×2×4\n",
      "[:, :, 1] =\n",
      " -0.027823667541818135 - 0.09315554666007617im  -0.0 + 0.0im\n",
      "                  -0.0 + 0.0im                  -0.0 + 0.0im\n",
      "\n",
      "[:, :, 2] =\n",
      " -0.08952810956088028 + 0.03174243040135726im  -0.0 + 0.0im\n",
      "                 -0.0 + 0.0im                  -0.0 + 0.0im\n",
      "\n",
      "[:, :, 3] =\n",
      " 0.04236007657464593 - 0.028288650564501885im  -0.0 + 0.0im\n",
      "                -0.0 + 0.0im                   -0.0 + 0.0im\n",
      "\n",
      "[:, :, 4] =\n",
      " 0.039321688985887636 - 0.022450873496918794im  -0.0 + 0.0im\n",
      "                 -0.0 + 0.0im                   -0.0 + 0.0im\n"
     ]
    },
    {
     "data": {
      "text/plain": [
       "ITensor ord=3 (dim=2|id=503|\"S=1/2,Site,n=1\") (dim=2|id=397|\"S=1/2,Site,n=2\") (dim=4|id=439|\"Link,l=2\")\n",
       "NDTensors.Dense{ComplexF64, Vector{ComplexF64}}"
      ]
     },
     "metadata": {},
     "output_type": "display_data"
    }
   ],
   "source": [
    "@show analytic_grad"
   ]
  },
  {
   "cell_type": "markdown",
   "metadata": {},
   "source": [
    "So it seems we are out by a factor of 2. The analytic gradient is half the zygote gradient."
   ]
  },
  {
   "cell_type": "markdown",
   "metadata": {},
   "source": [
    "# Test another bond tensor"
   ]
  },
  {
   "cell_type": "code",
   "execution_count": 84,
   "metadata": {},
   "outputs": [
    {
     "data": {
      "text/plain": [
       "ITensor ord=4 (dim=4|id=418|\"Link,l=1\") (dim=2|id=397|\"S=1/2,Site,n=2\") (dim=2|id=711|\"S=1/2,Site,n=3\") (dim=4|id=491|\"Link,l=3\")\n",
       "NDTensors.Dense{ComplexF64, Vector{ComplexF64}}"
      ]
     },
     "metadata": {},
     "output_type": "display_data"
    }
   ],
   "source": [
    "BT23 = mps[2] * mps[3]"
   ]
  },
  {
   "cell_type": "code",
   "execution_count": 85,
   "metadata": {},
   "outputs": [
    {
     "data": {
      "text/plain": [
       "loss23 (generic function with 1 method)"
      ]
     },
     "metadata": {},
     "output_type": "display_data"
    }
   ],
   "source": [
    "function loss23(B::ITensor)\n",
    "    y = 1.0 # train the bond tensor to maximise overlap\n",
    "    # bond tensor on sites 1 and 2\n",
    "    lid = 2\n",
    "    rid = 3 \n",
    "    phi_tilde = mps[1] * ps[1] * ps[lid] * ps[rid] * mps[4] * ps[4] * mps[5] * ps[5] # effective input\n",
    "    yhat = B * phi_tilde\n",
    "    diff_mod_sq = norm(yhat[] - y)^2\n",
    "    loss = 0.5 * diff_mod_sq\n",
    "    return loss\n",
    "end"
   ]
  },
  {
   "cell_type": "code",
   "execution_count": 86,
   "metadata": {},
   "outputs": [
    {
     "data": {
      "text/plain": [
       "0.4120511832985574"
      ]
     },
     "metadata": {},
     "output_type": "display_data"
    }
   ],
   "source": [
    "loss23(BT23)"
   ]
  },
  {
   "cell_type": "code",
   "execution_count": 87,
   "metadata": {},
   "outputs": [
    {
     "data": {
      "text/plain": [
       "analytic_gradient23 (generic function with 1 method)"
      ]
     },
     "metadata": {},
     "output_type": "display_data"
    }
   ],
   "source": [
    "function analytic_gradient23(B::ITensor)\n",
    "    lid = 2\n",
    "    rid = 3\n",
    "    phi_tilde = mps[1] * ps[1] * ps[lid] * ps[rid] * mps[4] * ps[4] * mps[5] * ps[5] # effective input\n",
    "    yhat = B * phi_tilde\n",
    "    y = 1.0\n",
    "    dP = yhat[] - y\n",
    "    grad = 0.5 * dP * conj(phi_tilde)\n",
    "\n",
    "    return grad\n",
    "end"
   ]
  },
  {
   "cell_type": "code",
   "execution_count": 89,
   "metadata": {},
   "outputs": [
    {
     "name": "stdout",
     "output_type": "stream",
     "text": [
      "analytic_grad23 = ITensor ord=4\n",
      "Dim 1: (dim=4|id=418|\"Link,l=1\")\n",
      "Dim 2: (dim=2|id=397|\"S=1/2,Site,n=2\")\n",
      "Dim 3: (dim=2|id=711|\"S=1/2,Site,n=3\")\n",
      "Dim 4: (dim=4|id=491|\"Link,l=3\")\n",
      "NDTensors.Dense{ComplexF64, Vector{ComplexF64}}\n",
      " 4×2×2×4\n",
      "[:, :, 1, 1] =\n",
      "   0.01011703916110151 + 0.032159849621781776im  -0.0 + 0.0im\n",
      "  0.022678563632097453 - 0.013049850951575947im  -0.0 + 0.0im\n",
      "  -0.02865986361853609 + 0.013492150565468316im  -0.0 + 0.0im\n",
      " 0.0013413360956822478 - 0.025082537444381374im  -0.0 + 0.0im\n",
      "\n",
      "[:, :, 2, 1] =\n",
      " -0.0 + 0.0im  -0.0 + 0.0im\n",
      " -0.0 + 0.0im  -0.0 + 0.0im\n",
      " -0.0 + 0.0im  -0.0 + 0.0im\n",
      " -0.0 + 0.0im  -0.0 + 0.0im\n",
      "\n",
      "[:, :, 1, 2] =\n",
      " 0.030913869293510886 + 0.09641329962162927im   -0.0 + 0.0im\n",
      "  0.06789129363109202 - 0.039564938278620884im  -0.0 + 0.0im\n",
      " -0.08584663909490425 + 0.040991989664557756im  -0.0 + 0.0im\n",
      " 0.003614037868999127 - 0.0753483847867521im    -0.0 + 0.0im\n",
      "\n",
      "[:, :, 2, 2] =\n",
      " -0.0 + 0.0im  -0.0 + 0.0im\n",
      " -0.0 + 0.0im  -0.0 + 0.0im\n",
      " -0.0 + 0.0im  -0.0 + 0.0im\n",
      " -0.0 + 0.0im  -0.0 + 0.0im\n",
      "\n",
      "[:, :, 1, 3] =\n",
      "   -0.1067113288430897 - 0.049652044857515655im  -0.0 + 0.0im\n",
      " -0.019767222778796136 + 0.08918031996528437im   -0.0 + 0.0im\n",
      "  0.032711560897294975 - 0.10563795831237413im   -0.0 + 0.0im\n",
      "   0.06148901020369345 + 0.06251962553862635im   -0.0 + 0.0im\n",
      "\n",
      "[:, :, 2, 3] =\n",
      " -0.0 + 0.0im  -0.0 + 0.0im\n",
      " -0.0 + 0.0im  -0.0 + 0.0im\n",
      " -0.0 + 0.0im  -0.0 + 0.0im\n",
      " -0.0 + 0.0im  -0.0 + 0.0im\n",
      "\n",
      "[:, :, 1, 4] =\n",
      "  0.018271298108887005 - 0.005862920794484993im   -0.0 + 0.0im\n",
      "  -0.00750131355762632 - 0.012865347387584438im   -0.0 + 0.0im\n",
      "  0.007772521266110505 + 0.016268247830894512im   -0.0 + 0.0im\n",
      " -0.014280440029703537 - 0.0006818064320403476im  -0.0 + 0.0im\n",
      "\n",
      "[:, :, 2, 4] =\n",
      " -0.0 + 0.0im  -0.0 + 0.0im\n",
      " -0.0 + 0.0im  -0.0 + 0.0im\n",
      " -0.0 + 0.0im  -0.0 + 0.0im\n",
      " -0.0 + 0.0im  -0.0 + 0.0im\n"
     ]
    },
    {
     "data": {
      "text/plain": [
       "ITensor ord=4 (dim=4|id=418|\"Link,l=1\") (dim=2|id=397|\"S=1/2,Site,n=2\") (dim=2|id=711|\"S=1/2,Site,n=3\") (dim=4|id=491|\"Link,l=3\")\n",
       "NDTensors.Dense{ComplexF64, Vector{ComplexF64}}"
      ]
     },
     "metadata": {},
     "output_type": "display_data"
    }
   ],
   "source": [
    "analytic_grad23 = analytic_gradient23(BT23)\n",
    "@show analytic_grad23"
   ]
  },
  {
   "cell_type": "code",
   "execution_count": 90,
   "metadata": {},
   "outputs": [
    {
     "data": {
      "text/plain": [
       "(ITensor ord=4\n",
       "Dim 1: (dim=4|id=418|\"Link,l=1\")\n",
       "Dim 2: (dim=2|id=397|\"S=1/2,Site,n=2\")\n",
       "Dim 3: (dim=2|id=711|\"S=1/2,Site,n=3\")\n",
       "Dim 4: (dim=4|id=491|\"Link,l=3\")\n",
       "NDTensors.Dense{ComplexF64, Vector{ComplexF64}}\n",
       " 4×2×2×4\n",
       "[:, :, 1, 1] =\n",
       "   0.02023407832220302 + 0.06431969924356355im   -0.0 + 0.0im\n",
       "  0.045357127264194906 - 0.026099701903151893im  -0.0 + 0.0im\n",
       "  -0.05731972723707218 + 0.026984301130936632im  -0.0 + 0.0im\n",
       " 0.0026826721913644955 - 0.05016507488876275im   -0.0 + 0.0im\n",
       "\n",
       "[:, :, 2, 1] =\n",
       " -0.0 + 0.0im  -0.0 + 0.0im\n",
       " -0.0 + 0.0im  -0.0 + 0.0im\n",
       " -0.0 + 0.0im  -0.0 + 0.0im\n",
       " -0.0 + 0.0im  -0.0 + 0.0im\n",
       "\n",
       "[:, :, 1, 2] =\n",
       "  0.06182773858702177 + 0.19282659924325854im  -0.0 + 0.0im\n",
       "  0.13578258726218403 - 0.07912987655724177im  -0.0 + 0.0im\n",
       "  -0.1716932781898085 + 0.08198397932911551im  -0.0 + 0.0im\n",
       " 0.007228075737998254 - 0.1506967695735042im   -0.0 + 0.0im\n",
       "\n",
       "[:, :, 2, 2] =\n",
       " -0.0 + 0.0im  -0.0 + 0.0im\n",
       " -0.0 + 0.0im  -0.0 + 0.0im\n",
       " -0.0 + 0.0im  -0.0 + 0.0im\n",
       " -0.0 + 0.0im  -0.0 + 0.0im\n",
       "\n",
       "[:, :, 1, 3] =\n",
       "  -0.2134226576861794 - 0.09930408971503131im  -0.0 + 0.0im\n",
       " -0.03953444555759227 + 0.17836063993056875im  -0.0 + 0.0im\n",
       "  0.06542312179458995 - 0.21127591662474826im  -0.0 + 0.0im\n",
       "   0.1229780204073869 + 0.1250392510772527im   -0.0 + 0.0im\n",
       "\n",
       "[:, :, 2, 3] =\n",
       " -0.0 + 0.0im  -0.0 + 0.0im\n",
       " -0.0 + 0.0im  -0.0 + 0.0im\n",
       " -0.0 + 0.0im  -0.0 + 0.0im\n",
       " -0.0 + 0.0im  -0.0 + 0.0im\n",
       "\n",
       "[:, :, 1, 4] =\n",
       "   0.03654259621777401 - 0.011725841588969986im   -0.0 + 0.0im\n",
       "  -0.01500262711525264 - 0.025730694775168875im   -0.0 + 0.0im\n",
       "   0.01554504253222101 + 0.032536495661789025im   -0.0 + 0.0im\n",
       " -0.028560880059407073 - 0.0013636128640806952im  -0.0 + 0.0im\n",
       "\n",
       "[:, :, 2, 4] =\n",
       " -0.0 + 0.0im  -0.0 + 0.0im\n",
       " -0.0 + 0.0im  -0.0 + 0.0im\n",
       " -0.0 + 0.0im  -0.0 + 0.0im\n",
       " -0.0 + 0.0im  -0.0 + 0.0im,)"
      ]
     },
     "metadata": {},
     "output_type": "display_data"
    }
   ],
   "source": [
    "zygote_grad23 = gradient(loss23, BT23)"
   ]
  },
  {
   "cell_type": "markdown",
   "metadata": {},
   "source": [
    "Same result - analytic gradient is half the zygote gradient"
   ]
  },
  {
   "cell_type": "code",
   "execution_count": 98,
   "metadata": {},
   "outputs": [
    {
     "ename": "UndefVarError",
     "evalue": "UndefVarError: `wirtinger` not defined",
     "output_type": "error",
     "traceback": [
      "UndefVarError: `wirtinger` not defined\n"
     ]
    }
   ],
   "source": [
    "wirtinger"
   ]
  },
  {
   "cell_type": "code",
   "execution_count": null,
   "metadata": {},
   "outputs": [],
   "source": []
  }
 ],
 "metadata": {
  "kernelspec": {
   "display_name": "Julia 1.10.2",
   "language": "julia",
   "name": "julia-1.10"
  },
  "language_info": {
   "file_extension": ".jl",
   "mimetype": "application/julia",
   "name": "julia",
   "version": "1.10.2"
  }
 },
 "nbformat": 4,
 "nbformat_minor": 2
}
