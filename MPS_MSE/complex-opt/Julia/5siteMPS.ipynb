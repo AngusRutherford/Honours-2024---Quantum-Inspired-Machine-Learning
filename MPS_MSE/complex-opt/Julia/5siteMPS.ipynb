{
 "cells": [
  {
   "cell_type": "code",
   "execution_count": 441,
   "metadata": {},
   "outputs": [],
   "source": [
    "using Zygote\n",
    "using ITensors\n",
    "using Random\n",
    "using Plots \n",
    "using Base.Threads"
   ]
  },
  {
   "cell_type": "code",
   "execution_count": 442,
   "metadata": {},
   "outputs": [],
   "source": [
    "struct PState\n",
    "    pstate::MPS\n",
    "    label::Int\n",
    "end"
   ]
  },
  {
   "cell_type": "code",
   "execution_count": 443,
   "metadata": {},
   "outputs": [
    {
     "data": {
      "text/plain": [
       "complex_feature_map (generic function with 1 method)"
      ]
     },
     "metadata": {},
     "output_type": "display_data"
    }
   ],
   "source": [
    "function complex_feature_map(x::Float64)\n",
    "    s1 = exp(1im * (3π/2) * x) * cospi(0.5 * x)\n",
    "    s2 = exp(-1im * (2π/2) * x) * sinpi(0.5 * x)\n",
    "    return [s1, s2]\n",
    "end"
   ]
  },
  {
   "cell_type": "code",
   "execution_count": 444,
   "metadata": {},
   "outputs": [
    {
     "data": {
      "text/plain": [
       "generate_training_data (generic function with 1 method)"
      ]
     },
     "metadata": {},
     "output_type": "display_data"
    }
   ],
   "source": [
    "function generate_training_data(samples_per_class::Int)\n",
    "\n",
    "    class_A_samples = zeros(samples_per_class, 5)\n",
    "    class_B_samples = ones(samples_per_class, 5)\n",
    "    all_samples = vcat(class_A_samples, class_B_samples)\n",
    "    all_labels = Int.(vcat(zeros(size(class_A_samples)[1]), ones(size(class_B_samples)[1])))\n",
    "\n",
    "    return all_samples, all_labels\n",
    "\n",
    "end"
   ]
  },
  {
   "cell_type": "code",
   "execution_count": 445,
   "metadata": {},
   "outputs": [
    {
     "data": {
      "text/plain": [
       "sample_to_product_state (generic function with 1 method)"
      ]
     },
     "metadata": {},
     "output_type": "display_data"
    }
   ],
   "source": [
    "function sample_to_product_state(sample::Vector, site_inds::Vector{Index{Int64}})\n",
    "    n_sites = length(site_inds)\n",
    "    product_state = MPS(ComplexF64, site_inds; linkdims=1)\n",
    "    for j=1:n_sites\n",
    "        T = ITensor(site_inds[j])\n",
    "        zero_state, one_state = complex_feature_map(sample[j])\n",
    "        T[1] = zero_state\n",
    "        T[2] = one_state\n",
    "        product_state[j] = T \n",
    "    end\n",
    "    return product_state\n",
    "end"
   ]
  },
  {
   "cell_type": "code",
   "execution_count": 446,
   "metadata": {},
   "outputs": [
    {
     "data": {
      "text/plain": [
       "dataset_to_product_state (generic function with 1 method)"
      ]
     },
     "metadata": {},
     "output_type": "display_data"
    }
   ],
   "source": [
    "function dataset_to_product_state(dataset::Matrix, labels::Vector, sites::Vector{Index{Int64}})\n",
    "\n",
    "    all_product_states = Vector{PState}(undef, size(dataset)[1])\n",
    "    for p=1:length(all_product_states)\n",
    "        sample_pstate = sample_to_product_state(dataset[p, :], sites)\n",
    "        sample_label = labels[p]\n",
    "        product_state = PState(sample_pstate, sample_label)\n",
    "        all_product_states[p] = product_state\n",
    "    end\n",
    "\n",
    "    return all_product_states\n",
    "\n",
    "end"
   ]
  },
  {
   "cell_type": "code",
   "execution_count": 447,
   "metadata": {},
   "outputs": [],
   "source": [
    "s = siteinds(\"S=1/2\", 5)\n",
    "mps = randomMPS(ComplexF64, s; linkdims=4)\n",
    "all_samples, all_labels = generate_training_data(200)\n",
    "all_product_states = dataset_to_product_state(all_samples, all_labels, s)\n",
    "shuffle!(all_product_states);"
   ]
  },
  {
   "cell_type": "markdown",
   "metadata": {},
   "source": [
    "create and attach label index"
   ]
  },
  {
   "cell_type": "code",
   "execution_count": 448,
   "metadata": {},
   "outputs": [],
   "source": [
    "label_idx = Index(2, \"f(x)\")\n",
    "old_mps_site1 = deepcopy(mps[1])\n",
    "old_mps_site1_inds = inds(old_mps_site1)\n",
    "new_mps_site1_inds = old_mps_site1_inds, label_idx\n",
    "new_mps_site1_tensor = randomITensor(ComplexF64, new_mps_site1_inds);"
   ]
  },
  {
   "cell_type": "code",
   "execution_count": 449,
   "metadata": {},
   "outputs": [
    {
     "data": {
      "text/plain": [
       "MPS\n",
       "[1] ((dim=2|id=754|\"S=1/2,Site,n=1\"), (dim=4|id=455|\"Link,l=1\"), (dim=2|id=567|\"f(x)\"))\n",
       "[2] ((dim=4|id=455|\"Link,l=1\"), (dim=2|id=485|\"S=1/2,Site,n=2\"), (dim=4|id=682|\"Link,l=2\"))\n",
       "[3] ((dim=4|id=682|\"Link,l=2\"), (dim=2|id=432|\"S=1/2,Site,n=3\"), (dim=4|id=644|\"Link,l=3\"))\n",
       "[4] ((dim=4|id=644|\"Link,l=3\"), (dim=2|id=970|\"S=1/2,Site,n=4\"), (dim=2|id=495|\"Link,l=4\"))\n",
       "[5] ((dim=2|id=495|\"Link,l=4\"), (dim=2|id=678|\"S=1/2,Site,n=5\"))\n"
      ]
     },
     "metadata": {},
     "output_type": "display_data"
    }
   ],
   "source": [
    "mps[1] = new_mps_site1_tensor\n",
    "normalize!(mps)"
   ]
  },
  {
   "cell_type": "markdown",
   "metadata": {},
   "source": [
    "# Start with site 1 and 2"
   ]
  },
  {
   "cell_type": "code",
   "execution_count": 469,
   "metadata": {},
   "outputs": [
    {
     "data": {
      "text/plain": [
       "ITensor ord=4 (dim=2|id=754|\"S=1/2,Site,n=1\") (dim=2|id=567|\"f(x)\") (dim=2|id=485|\"S=1/2,Site,n=2\") (dim=4|id=682|\"Link,l=2\")\n",
       "NDTensors.Dense{ComplexF64, Vector{ComplexF64}}"
      ]
     },
     "metadata": {},
     "output_type": "display_data"
    }
   ],
   "source": [
    "# form the bond tensor\n",
    "BT_s1_s2 = mps[1] * mps[2]"
   ]
  },
  {
   "cell_type": "code",
   "execution_count": 470,
   "metadata": {},
   "outputs": [],
   "source": [
    "LE = Matrix{ITensor}(undef, 400, 5);\n",
    "RE = Matrix{ITensor}(undef, 400, 5);"
   ]
  },
  {
   "cell_type": "code",
   "execution_count": 471,
   "metadata": {},
   "outputs": [
    {
     "data": {
      "text/plain": [
       "400"
      ]
     },
     "metadata": {},
     "output_type": "display_data"
    }
   ],
   "source": [
    "N_train = 400"
   ]
  },
  {
   "cell_type": "code",
   "execution_count": 472,
   "metadata": {},
   "outputs": [],
   "source": [
    "for i = 1:N_train\n",
    "    RE[i, 5] = conj(all_product_states[i].pstate[5]) * mps[5]\n",
    "end\n",
    "\n",
    "for j = (5-1):-1:1\n",
    "    for i = 1:N_train\n",
    "        RE[i, j] = RE[i, j+1] * mps[j] * conj(all_product_states[i].pstate[j])\n",
    "    end\n",
    "end"
   ]
  },
  {
   "cell_type": "code",
   "execution_count": 473,
   "metadata": {},
   "outputs": [
    {
     "data": {
      "text/plain": [
       "loss_per_sample (generic function with 4 methods)"
      ]
     },
     "metadata": {},
     "output_type": "display_data"
    }
   ],
   "source": [
    "function loss_per_sample(BT, mps, RE, ps, psid)\n",
    "    \"\"\"Loss for BT1 w.r.t. the mps for a single sample\"\"\"\n",
    "    # first construct the prediction yhat\n",
    "    y = ps.label\n",
    "\n",
    "    yhat = BT\n",
    "    BT *= RE[psid, 3]\n",
    "\n",
    "    yhat *= conj(ps.pstate[psid]) * conj(ps.pstate[psid])\n",
    "    label_idx = inds(yhat)[1]\n",
    "    \n",
    "    yhat1 = yhat[1]\n",
    "    yhat2 = yhat[2]\n",
    "\n",
    "    yhat1 = abs(yhat1[])\n",
    "    yhat2 = abs(yhat2[])\n",
    "\n",
    "\n",
    "    diff_sq1 = (yhat1 - y)^2\n",
    "    diff_sq2 = (yhat2 - y)^2\n",
    "\n",
    "    sum_of_sq_diff = diff_sq1 + diff_sq2\n",
    "\n",
    "    loss = 0.5 * sum_of_sq_diff\n",
    "\n",
    "    return loss\n",
    "end"
   ]
  },
  {
   "cell_type": "code",
   "execution_count": 489,
   "metadata": {},
   "outputs": [
    {
     "data": {
      "text/plain": [
       "0.7692825510879107"
      ]
     },
     "metadata": {},
     "output_type": "display_data"
    }
   ],
   "source": [
    "loss_per_sample(BT_s1_s2, mps, RE, all_product_states[1], 1)"
   ]
  },
  {
   "cell_type": "code",
   "execution_count": 490,
   "metadata": {},
   "outputs": [],
   "source": [
    "f, (∇,) = withgradient(loss_per_sample, BT_s1_s2, mps, RE, all_product_states[1], 1);"
   ]
  }
 ],
 "metadata": {
  "kernelspec": {
   "display_name": "Julia 1.9.2",
   "language": "julia",
   "name": "julia-1.9"
  },
  "language_info": {
   "file_extension": ".jl",
   "mimetype": "application/julia",
   "name": "julia",
   "version": "1.9.2"
  }
 },
 "nbformat": 4,
 "nbformat_minor": 2
}
