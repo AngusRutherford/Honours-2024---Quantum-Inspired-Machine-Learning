{
 "cells": [
  {
   "cell_type": "code",
   "execution_count": 417,
   "metadata": {},
   "outputs": [],
   "source": [
    "using ITensors\n",
    "using Zygote"
   ]
  },
  {
   "cell_type": "code",
   "execution_count": 418,
   "metadata": {},
   "outputs": [],
   "source": [
    "s = siteinds(\"S=1/2\", 10)\n",
    "product_state = MPS(10);\n",
    "for i in eachindex(product_state)\n",
    "    product_state[i] = ITensor(rand(ComplexF64, 2), s[i])\n",
    "end\n",
    "mps = randomMPS(ComplexF64, s; linkdims=4);"
   ]
  },
  {
   "cell_type": "code",
   "execution_count": 419,
   "metadata": {},
   "outputs": [
    {
     "data": {
      "text/plain": [
       "ITensor ord=3 (dim=2|id=576|\"S=1/2,Site,n=1\") (dim=2|id=728|\"S=1/2,Site,n=2\") (dim=4|id=977|\"Link,l=2\")\n",
       "NDTensors.Dense{ComplexF64, Vector{ComplexF64}}"
      ]
     },
     "metadata": {},
     "output_type": "display_data"
    }
   ],
   "source": [
    "BT = mps[1] * mps[2]"
   ]
  },
  {
   "cell_type": "code",
   "execution_count": 420,
   "metadata": {},
   "outputs": [
    {
     "data": {
      "text/plain": [
       "ITensor ord=4 (dim=2|id=576|\"S=1/2,Site,n=1\") (dim=2|id=728|\"S=1/2,Site,n=2\") (dim=4|id=977|\"Link,l=2\") (dim=2|id=888|\"C\")\n",
       "NDTensors.Dense{Float64, Vector{Float64}}"
      ]
     },
     "metadata": {},
     "output_type": "display_data"
    }
   ],
   "source": [
    "C_index = Index(2, \"C\")\n",
    "C_tensor = ITensor(C_index)\n",
    "BT_real = real(BT)\n",
    "BT_imag = imag(BT)\n",
    "C_tensor_real = ITensor([1; 0], C_index)\n",
    "C_tensor_imag = ITensor([0; 1], C_index)\n",
    "BT_real_with_index = BT_real * C_tensor_real\n",
    "BT_imag_with_index = BT_imag * C_tensor_imag\n",
    "BT_re_imag = BT_real_with_index + BT_imag_with_index"
   ]
  },
  {
   "cell_type": "code",
   "execution_count": 421,
   "metadata": {},
   "outputs": [
    {
     "data": {
      "text/plain": [
       "cost_function (generic function with 1 method)"
      ]
     },
     "metadata": {},
     "output_type": "display_data"
    }
   ],
   "source": [
    "function cost_function(BT_combined::ITensor, product_state::MPS, mps::MPS)\n",
    "    BT_real = deepcopy(BT_combined) * onehot(C_index => 1)\n",
    "    BT_imag = deepcopy(BT_combined) * onehot(C_index => 2)\n",
    "    # reform bond tensor\n",
    "    BT = BT_real + im * BT_imag\n",
    "    ps = product_state\n",
    "    y = 1\n",
    "    phi_tilde = 1\n",
    "    for i = 3:10\n",
    "        phi_tilde *= mps[i] * ps[i]\n",
    "    end\n",
    "    yhat = phi_tilde * BT * ps[1] * ps[2]\n",
    "    abs_diff_sq = norm(yhat[] - y)^2\n",
    "    cost = 0.5 * abs_diff_sq\n",
    "    return cost\n",
    "end"
   ]
  },
  {
   "cell_type": "code",
   "execution_count": 422,
   "metadata": {},
   "outputs": [
    {
     "data": {
      "text/plain": [
       "0.46799178944117203"
      ]
     },
     "metadata": {},
     "output_type": "display_data"
    }
   ],
   "source": [
    "cost_function(BT_re_imag, product_state, mps)"
   ]
  },
  {
   "cell_type": "markdown",
   "metadata": {},
   "source": [
    "Now add in regularisation:"
   ]
  },
  {
   "cell_type": "code",
   "execution_count": 423,
   "metadata": {},
   "outputs": [
    {
     "data": {
      "text/plain": [
       "cost_function_L2 (generic function with 1 method)"
      ]
     },
     "metadata": {},
     "output_type": "display_data"
    }
   ],
   "source": [
    "function cost_function_L2(BT_combined::ITensor, product_state::MPS, mps::MPS)\n",
    "    lambda = 0.55\n",
    "    BT_real = deepcopy(BT_combined) * onehot(C_index => 1)\n",
    "    BT_imag = deepcopy(BT_combined) * onehot(C_index => 2)\n",
    "    # reform bond tensor\n",
    "    BT = BT_real + im * BT_imag\n",
    "    ps = product_state\n",
    "    y = 1\n",
    "    phi_tilde = 1\n",
    "    for i = 3:10\n",
    "        phi_tilde *= mps[i] * ps[i]\n",
    "    end\n",
    "    yhat = phi_tilde * BT * ps[1] * ps[2]\n",
    "    abs_diff_sq = norm(yhat[] - y)^2\n",
    "    # penalise large deviations from norm(W)^2 = 1\n",
    "    # strong constraint (|W|^2-1), weak constraint would be |W|^2\n",
    "    cost = 0.5 * abs_diff_sq + 0.5 * lambda * (norm(BT)^2 -1)^2\n",
    "    return cost\n",
    "end"
   ]
  },
  {
   "cell_type": "code",
   "execution_count": 424,
   "metadata": {},
   "outputs": [
    {
     "data": {
      "text/plain": [
       "0.46799178944117203"
      ]
     },
     "metadata": {},
     "output_type": "display_data"
    }
   ],
   "source": [
    "cost_function_L2(BT_re_imag, product_state, mps)"
   ]
  },
  {
   "cell_type": "markdown",
   "metadata": {},
   "source": [
    "Derive the gradient with zygote: "
   ]
  },
  {
   "cell_type": "code",
   "execution_count": 425,
   "metadata": {},
   "outputs": [
    {
     "data": {
      "text/plain": [
       "#87 (generic function with 1 method)"
      ]
     },
     "metadata": {},
     "output_type": "display_data"
    }
   ],
   "source": [
    "loss = x -> cost_function_L2(x, product_state,mps)\n",
    "loss2 = x -> cost_function(x, product_state, mps)"
   ]
  },
  {
   "cell_type": "code",
   "execution_count": 426,
   "metadata": {},
   "outputs": [
    {
     "data": {
      "text/plain": [
       "(ITensor ord=4\n",
       "Dim 1: (dim=4|id=977|\"Link,l=2\")\n",
       "Dim 2: (dim=2|id=728|\"S=1/2,Site,n=2\")\n",
       "Dim 3: (dim=2|id=576|\"S=1/2,Site,n=1\")\n",
       "Dim 4: (dim=2|id=888|\"C\")\n",
       "NDTensors.Dense{Float64, Vector{Float64}}\n",
       " 4×2×2×2\n",
       "[:, :, 1, 1] =\n",
       " -0.04703866224678673   -0.055011988900830755\n",
       "  0.015270117910640492   0.009119871551106912\n",
       " -0.037906472904550195  -0.041117294730222874\n",
       " -0.018999135433893574  -0.03645493001204367\n",
       "\n",
       "[:, :, 2, 1] =\n",
       " -0.008464931086763557    -0.002658626140741937\n",
       "  0.00025949842115075987  -0.005222701729900415\n",
       " -0.005906136511201041     9.620636793720182e-5\n",
       " -0.007472767505983238    -0.01098763194818186\n",
       "\n",
       "[:, :, 1, 2] =\n",
       " -0.022921136367355186  -0.0652788795933827\n",
       "  0.02066214582178875    0.04091196504502683\n",
       " -0.023334690710183514  -0.059859795598737775\n",
       "  0.012279687626009719   0.005758586110878443\n",
       "\n",
       "[:, :, 2, 2] =\n",
       " -0.015080480892835191   -0.028088590730350863\n",
       "  0.008487408954701259    0.012831131735684294\n",
       " -0.013474001990996893   -0.024001166859529164\n",
       " -0.0002399104435554611  -0.00529697952217858,)"
      ]
     },
     "metadata": {},
     "output_type": "display_data"
    }
   ],
   "source": [
    "grad_B = gradient(loss, BT_re_imag)\n",
    "grad_B2 = gradient(loss2, BT_re_imag)"
   ]
  },
  {
   "cell_type": "code",
   "execution_count": 427,
   "metadata": {},
   "outputs": [
    {
     "data": {
      "text/plain": [
       "(ITensor ord=4\n",
       "Dim 1: (dim=2|id=576|\"S=1/2,Site,n=1\")\n",
       "Dim 2: (dim=2|id=728|\"S=1/2,Site,n=2\")\n",
       "Dim 3: (dim=4|id=977|\"Link,l=2\")\n",
       "Dim 4: (dim=2|id=888|\"C\")\n",
       "NDTensors.Dense{Float64, Vector{Float64}}\n",
       " 2×2×4×2\n",
       "[:, :, 1, 1] =\n",
       " -0.04703866224678673   -0.055011988900830755\n",
       " -0.008464931086763557  -0.002658626140741937\n",
       "\n",
       "[:, :, 2, 1] =\n",
       " 0.015270117910640492     0.009119871551106912\n",
       " 0.00025949842115075987  -0.005222701729900415\n",
       "\n",
       "[:, :, 3, 1] =\n",
       " -0.037906472904550195  -0.041117294730222874\n",
       " -0.005906136511201041   9.620636793720182e-5\n",
       "\n",
       "[:, :, 4, 1] =\n",
       " -0.018999135433893574  -0.03645493001204367\n",
       " -0.007472767505983238  -0.01098763194818186\n",
       "\n",
       "[:, :, 1, 2] =\n",
       " -0.022921136367355186  -0.0652788795933827\n",
       " -0.015080480892835191  -0.028088590730350863\n",
       "\n",
       "[:, :, 2, 2] =\n",
       " 0.02066214582178875   0.04091196504502683\n",
       " 0.008487408954701259  0.012831131735684294\n",
       "\n",
       "[:, :, 3, 2] =\n",
       " -0.023334690710183514  -0.059859795598737775\n",
       " -0.013474001990996893  -0.024001166859529164\n",
       "\n",
       "[:, :, 4, 2] =\n",
       "  0.012279687626009719    0.005758586110878443\n",
       " -0.0002399104435554611  -0.00529697952217858,)"
      ]
     },
     "metadata": {},
     "output_type": "display_data"
    }
   ],
   "source": [
    "grad_B"
   ]
  },
  {
   "cell_type": "code",
   "execution_count": 428,
   "metadata": {},
   "outputs": [
    {
     "data": {
      "text/plain": [
       "ITensor ord=4 (dim=2|id=576|\"S=1/2,Site,n=1\") (dim=2|id=728|\"S=1/2,Site,n=2\") (dim=4|id=977|\"Link,l=2\") (dim=2|id=888|\"C\")\n",
       "NDTensors.Dense{Float64, Vector{Float64}}"
      ]
     },
     "metadata": {},
     "output_type": "display_data"
    }
   ],
   "source": [
    "BT_new = BT_re_imag - 0.4 * grad_B[1]"
   ]
  },
  {
   "cell_type": "code",
   "execution_count": 429,
   "metadata": {},
   "outputs": [
    {
     "data": {
      "text/plain": [
       "1.0143701946288761"
      ]
     },
     "metadata": {},
     "output_type": "display_data"
    }
   ],
   "source": [
    "norm(BT_new)"
   ]
  },
  {
   "cell_type": "code",
   "execution_count": 430,
   "metadata": {},
   "outputs": [
    {
     "data": {
      "text/plain": [
       "ITensor ord=4 (dim=2|id=576|\"S=1/2,Site,n=1\") (dim=2|id=728|\"S=1/2,Site,n=2\") (dim=4|id=977|\"Link,l=2\") (dim=2|id=888|\"C\")\n",
       "NDTensors.Dense{Float64, Vector{Float64}}"
      ]
     },
     "metadata": {},
     "output_type": "display_data"
    }
   ],
   "source": [
    "BT_new2 = BT_re_imag - 0.4 * grad_B2[1]"
   ]
  },
  {
   "cell_type": "code",
   "execution_count": 431,
   "metadata": {},
   "outputs": [
    {
     "data": {
      "text/plain": [
       "1.0143701946288761"
      ]
     },
     "metadata": {},
     "output_type": "display_data"
    }
   ],
   "source": [
    "norm(BT_new2)"
   ]
  },
  {
   "cell_type": "code",
   "execution_count": 432,
   "metadata": {},
   "outputs": [
    {
     "data": {
      "text/plain": [
       "(ITensor ord=4\n",
       "Dim 1: (dim=4|id=977|\"Link,l=2\")\n",
       "Dim 2: (dim=2|id=728|\"S=1/2,Site,n=2\")\n",
       "Dim 3: (dim=2|id=576|\"S=1/2,Site,n=1\")\n",
       "Dim 4: (dim=2|id=888|\"C\")\n",
       "NDTensors.Dense{Float64, Vector{Float64}}\n",
       " 4×2×2×2\n",
       "[:, :, 1, 1] =\n",
       " -0.04655765017480755   -0.05444944248686058\n",
       "  0.015113967401575678   0.009026612769894835\n",
       " -0.0375188455741304    -0.040696833896779125\n",
       " -0.018804852410857678  -0.03608214599605803\n",
       "\n",
       "[:, :, 2, 1] =\n",
       " -0.00837836965311047    -0.002631439328713422\n",
       "  0.0002568448194692703  -0.005169294969154359\n",
       " -0.00584574102321416     9.522257243433796e-5\n",
       " -0.007396351825566706   -0.0108752736591257\n",
       "\n",
       "[:, :, 1, 2] =\n",
       " -0.0226867474036909    -0.06461134510940962\n",
       "  0.020450857041484343   0.040493603889860424\n",
       " -0.023096072786301866  -0.05924767605847245\n",
       "  0.012154116920846912   0.005699699456697428\n",
       "\n",
       "[:, :, 2, 2] =\n",
       " -0.014926269590595181   -0.027801359959303495\n",
       "  0.00840061766489764     0.012699922025050124\n",
       " -0.013336218361404332   -0.02375573362547054\n",
       " -0.0002374571463307531  -0.005242813205079108,)"
      ]
     },
     "metadata": {},
     "output_type": "display_data"
    }
   ],
   "source": [
    "grad_B = gradient(loss, BT_new)\n",
    "grad_B2 = gradient(loss2, BT_new2)"
   ]
  },
  {
   "cell_type": "code",
   "execution_count": 433,
   "metadata": {},
   "outputs": [
    {
     "data": {
      "text/plain": [
       "(ITensor ord=4\n",
       "Dim 1: (dim=2|id=576|\"S=1/2,Site,n=1\")\n",
       "Dim 2: (dim=2|id=728|\"S=1/2,Site,n=2\")\n",
       "Dim 3: (dim=4|id=977|\"Link,l=2\")\n",
       "Dim 4: (dim=2|id=888|\"C\")\n",
       "NDTensors.Dense{Float64, Vector{Float64}}\n",
       " 2×2×4×2\n",
       "[:, :, 1, 1] =\n",
       " -0.047036225972030485  -0.055579044494272915\n",
       " -0.009225609095664453  -0.01133933088413079\n",
       "\n",
       "[:, :, 2, 1] =\n",
       "  0.013004594446715477  0.009711433915436642\n",
       " -0.004521327367074225  0.0022044031215030548\n",
       "\n",
       "[:, :, 3, 1] =\n",
       " -0.034896831107142354   -0.04011511898628366\n",
       " -0.0033611598039384057   1.1137050722715807e-5\n",
       "\n",
       "[:, :, 4, 1] =\n",
       " -0.027627716389857032  -0.03521665554294252\n",
       " -0.001669463194938564  -0.009873622067656898\n",
       "\n",
       "[:, :, 1, 2] =\n",
       " -0.03190242606946411   -0.05572588565908074\n",
       " -0.021669643379216653  -0.017531420509385415\n",
       "\n",
       "[:, :, 2, 2] =\n",
       " 0.022199293743812618   0.04379721234886462\n",
       " 0.0031307320507996308  0.01673526497944185\n",
       "\n",
       "[:, :, 3, 2] =\n",
       " -0.0182337389872561     -0.05172263225259304\n",
       " -0.0036095595528816034  -0.013541228303095723\n",
       "\n",
       "[:, :, 4, 2] =\n",
       "  0.003458511172992503   0.0072573490945407795\n",
       " -0.008926714894713297  -0.013524254349058497,)"
      ]
     },
     "metadata": {},
     "output_type": "display_data"
    }
   ],
   "source": [
    "grad_B"
   ]
  },
  {
   "cell_type": "code",
   "execution_count": 434,
   "metadata": {},
   "outputs": [
    {
     "data": {
      "text/plain": [
       "ITensor ord=4 (dim=2|id=576|\"S=1/2,Site,n=1\") (dim=2|id=728|\"S=1/2,Site,n=2\") (dim=4|id=977|\"Link,l=2\") (dim=2|id=888|\"C\")\n",
       "NDTensors.Dense{Float64, Vector{Float64}}"
      ]
     },
     "metadata": {},
     "output_type": "display_data"
    }
   ],
   "source": [
    "BT_new_new = BT_new - 0.9 * grad_B[1]\n",
    "BT_new2_new = BT_new2 - 0.9 * grad_B2[1]"
   ]
  },
  {
   "cell_type": "code",
   "execution_count": 435,
   "metadata": {},
   "outputs": [
    {
     "data": {
      "text/plain": [
       "1.0283326717377383"
      ]
     },
     "metadata": {},
     "output_type": "display_data"
    }
   ],
   "source": [
    "norm(BT_new_new)"
   ]
  },
  {
   "cell_type": "code",
   "execution_count": 436,
   "metadata": {},
   "outputs": [
    {
     "data": {
      "text/plain": [
       "1.0587373951908416"
      ]
     },
     "metadata": {},
     "output_type": "display_data"
    }
   ],
   "source": [
    "norm(BT_new2_new)"
   ]
  },
  {
   "cell_type": "markdown",
   "metadata": {},
   "source": [
    "Try looping both (many updates) and see how the norm behaves for regularised versus non regularised w/ same learning rate."
   ]
  },
  {
   "cell_type": "code",
   "execution_count": 437,
   "metadata": {},
   "outputs": [],
   "source": [
    "BT_opt_reg = BT_re_imag\n",
    "BT_opt_non_reg = BT_re_imag\n",
    "for i in 1:1000\n",
    "    grad_B = gradient(loss, BT_opt_reg)\n",
    "    grad_B2 = gradient(loss2, BT_opt_non_reg)\n",
    "    BT_opt_reg -= 0.8 .* grad_B[1]\n",
    "    BT_opt_non_reg -= 0.8 .* grad_B2[1]\n",
    "end"
   ]
  },
  {
   "cell_type": "code",
   "execution_count": 438,
   "metadata": {},
   "outputs": [
    {
     "data": {
      "text/plain": [
       "0.856838170406682"
      ]
     },
     "metadata": {},
     "output_type": "display_data"
    }
   ],
   "source": [
    "norm(BT_opt_reg)"
   ]
  },
  {
   "cell_type": "code",
   "execution_count": 439,
   "metadata": {},
   "outputs": [
    {
     "data": {
      "text/plain": [
       "6.329981755890319"
      ]
     },
     "metadata": {},
     "output_type": "display_data"
    }
   ],
   "source": [
    "norm(BT_opt_non_reg)"
   ]
  },
  {
   "cell_type": "code",
   "execution_count": 440,
   "metadata": {},
   "outputs": [],
   "source": []
  }
 ],
 "metadata": {
  "kernelspec": {
   "display_name": "Julia 1.10.2",
   "language": "julia",
   "name": "julia-1.10"
  },
  "language_info": {
   "file_extension": ".jl",
   "mimetype": "application/julia",
   "name": "julia",
   "version": "1.10.2"
  }
 },
 "nbformat": 4,
 "nbformat_minor": 2
}
