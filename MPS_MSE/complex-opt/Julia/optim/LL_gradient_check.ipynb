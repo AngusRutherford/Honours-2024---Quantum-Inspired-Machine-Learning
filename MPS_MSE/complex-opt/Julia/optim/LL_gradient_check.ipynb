{
 "cells": [
  {
   "cell_type": "code",
   "execution_count": 670,
   "metadata": {},
   "outputs": [],
   "source": [
    "using Zygote\n",
    "using ITensors"
   ]
  },
  {
   "cell_type": "code",
   "execution_count": 671,
   "metadata": {},
   "outputs": [],
   "source": [
    "s = siteinds(\"S=1/2\", 10);\n",
    "mps = randomMPS(ComplexF64, s; linkdims=4);"
   ]
  },
  {
   "cell_type": "code",
   "execution_count": 672,
   "metadata": {},
   "outputs": [
    {
     "data": {
      "text/plain": [
       "feature_map (generic function with 1 method)"
      ]
     },
     "metadata": {},
     "output_type": "display_data"
    }
   ],
   "source": [
    "function feature_map(x::Float64)\n",
    "    s1 = exp(1im * (3π/2) * x) * cospi(0.5 * x)\n",
    "    s2 = exp(-1im * (3π/2) * x) * sinpi(0.5 * x)\n",
    "    return [s1, s2]\n",
    "end"
   ]
  },
  {
   "cell_type": "code",
   "execution_count": 673,
   "metadata": {},
   "outputs": [
    {
     "data": {
      "text/plain": [
       "MPS\n",
       "[1] ((dim=2|id=942|\"S=1/2,Site,n=1\"),)\n",
       "[2] ((dim=2|id=490|\"S=1/2,Site,n=2\"),)\n",
       "[3] ((dim=2|id=338|\"S=1/2,Site,n=3\"),)\n",
       "[4] ((dim=2|id=932|\"S=1/2,Site,n=4\"),)\n",
       "[5] ((dim=2|id=442|\"S=1/2,Site,n=5\"),)\n",
       "[6] ((dim=2|id=681|\"S=1/2,Site,n=6\"),)\n",
       "[7] ((dim=2|id=262|\"S=1/2,Site,n=7\"),)\n",
       "[8] ((dim=2|id=868|\"S=1/2,Site,n=8\"),)\n",
       "[9] ((dim=2|id=195|\"S=1/2,Site,n=9\"),)\n",
       "[10] ((dim=2|id=586|\"S=1/2,Site,n=10\"),)\n"
      ]
     },
     "metadata": {},
     "output_type": "display_data"
    }
   ],
   "source": [
    "ps = MPS([ITensor(feature_map(rand()), si) for si in s])"
   ]
  },
  {
   "cell_type": "markdown",
   "metadata": {},
   "source": [
    "make bond tensor"
   ]
  },
  {
   "cell_type": "code",
   "execution_count": 674,
   "metadata": {},
   "outputs": [
    {
     "data": {
      "text/plain": [
       "ITensor ord=3 (dim=2|id=942|\"S=1/2,Site,n=1\") (dim=2|id=490|\"S=1/2,Site,n=2\") (dim=4|id=87|\"Link,l=2\")\n",
       "NDTensors.Dense{ComplexF64, Vector{ComplexF64}}"
      ]
     },
     "metadata": {},
     "output_type": "display_data"
    }
   ],
   "source": [
    "BT = mps[1] * mps[2]"
   ]
  },
  {
   "cell_type": "code",
   "execution_count": 675,
   "metadata": {},
   "outputs": [
    {
     "data": {
      "text/plain": [
       "nll (generic function with 1 method)"
      ]
     },
     "metadata": {},
     "output_type": "display_data"
    }
   ],
   "source": [
    "function nll(BT, mps, ps)\n",
    "    yhat = BT * ps[1] * ps[2]\n",
    "    for i = 3:length(mps)\n",
    "        yhat *= mps[i] * ps[i]\n",
    "    end\n",
    "    yhat = abs(yhat[])^2\n",
    "    return -log(yhat)\n",
    "end"
   ]
  },
  {
   "cell_type": "code",
   "execution_count": 676,
   "metadata": {},
   "outputs": [
    {
     "data": {
      "text/plain": [
       "7.528188588716975"
      ]
     },
     "metadata": {},
     "output_type": "display_data"
    }
   ],
   "source": [
    "nll(BT, mps, ps)"
   ]
  },
  {
   "cell_type": "code",
   "execution_count": 677,
   "metadata": {},
   "outputs": [
    {
     "data": {
      "text/plain": [
       "#111 (generic function with 1 method)"
      ]
     },
     "metadata": {},
     "output_type": "display_data"
    }
   ],
   "source": [
    "loss = x -> nll(x, mps, ps)"
   ]
  },
  {
   "cell_type": "code",
   "execution_count": 678,
   "metadata": {},
   "outputs": [
    {
     "data": {
      "text/plain": [
       "(val = 7.528188588716975, grad = (ITensor ord=3\n",
       "Dim 1: (dim=4|id=87|\"Link,l=2\")\n",
       "Dim 2: (dim=2|id=490|\"S=1/2,Site,n=2\")\n",
       "Dim 3: (dim=2|id=942|\"S=1/2,Site,n=1\")\n",
       "NDTensors.Dense{ComplexF64, Vector{ComplexF64}}\n",
       " 4×2×2\n",
       "[:, :, 1] =\n",
       " 0.9567526545414118 + 0.1112409821442079im  …  -0.33630065193966974 + 0.23497961924904395im\n",
       "   5.40396809656421 - 2.746919788791954im       -0.9454992260385585 + 2.4027020287540477im\n",
       " 4.5766573682735965 - 1.5536554793645652im      -1.0191610795819446 + 1.7886431020212867im\n",
       " -2.039171249344322 + 1.9128432150440846im       0.1090955329529418 - 1.1858759867348216im\n",
       "\n",
       "[:, :, 2] =\n",
       " -0.5683576606167874 - 0.15836135866804887im  …   0.2258614841165202 - 0.11018573227695233im\n",
       " -3.5314194977196465 + 1.147936975314718im         0.800783758307358 - 1.3639298806560691im\n",
       " -2.9172475354115375 + 0.5046066957467812im       0.7869215082831295 - 0.9853447417741049im\n",
       "  1.4159625382358079 - 0.9634321099435424im      -0.1788673044670502 + 0.707207402237001im,))"
      ]
     },
     "metadata": {},
     "output_type": "display_data"
    }
   ],
   "source": [
    "f, (g,) = withgradient(loss, BT)"
   ]
  },
  {
   "cell_type": "code",
   "execution_count": 679,
   "metadata": {},
   "outputs": [],
   "source": [
    "#BT_old = BT"
   ]
  },
  {
   "cell_type": "code",
   "execution_count": 680,
   "metadata": {},
   "outputs": [],
   "source": [
    "# for i in 1:100\n",
    "#     f, (g,) = withgradient(loss, BT_old)\n",
    "#     BT_new = BT_old - 0.4 * g\n",
    "#     println(f)\n",
    "#     BT_old = BT_new\n",
    "# end"
   ]
  },
  {
   "cell_type": "code",
   "execution_count": 681,
   "metadata": {},
   "outputs": [
    {
     "data": {
      "text/plain": [
       "Dim 1: (dim=4|id=87|\"Link,l=2\")\n",
       "Dim 2: (dim=2|id=490|\"S=1/2,Site,n=2\")\n",
       "Dim 3: (dim=2|id=942|\"S=1/2,Site,n=1\")\n",
       "NDTensors.Dense{ComplexF64, Vector{ComplexF64}}\n",
       " 4×2×2\n",
       "[:, :, 1] =\n",
       " 0.9567526545414118 + 0.1112409821442079im  …  -0.33630065193966974 + 0.23497961924904395im\n",
       "   5.40396809656421 - 2.746919788791954im       -0.9454992260385585 + 2.4027020287540477im\n",
       " 4.5766573682735965 - 1.5536554793645652im      -1.0191610795819446 + 1.7886431020212867im\n",
       " -2.039171249344322 + 1.9128432150440846im       0.1090955329529418 - 1.1858759867348216im\n",
       "\n",
       "[:, :, 2] =\n",
       " -0.5683576606167874 - 0.15836135866804887im  …   0.2258614841165202 - 0.11018573227695233im\n",
       " -3.5314194977196465 + 1.147936975314718im         0.800783758307358 - 1.3639298806560691im\n",
       " -2.9172475354115375 + 0.5046066957467812im       0.7869215082831295 - 0.9853447417741049im\n",
       "  1.4159625382358079 - 0.9634321099435424im      -0.1788673044670502 + 0.707207402237001im"
      ]
     },
     "metadata": {},
     "output_type": "display_data"
    }
   ],
   "source": [
    "g.tensor"
   ]
  },
  {
   "cell_type": "code",
   "execution_count": 682,
   "metadata": {},
   "outputs": [
    {
     "data": {
      "text/plain": [
       "ITensor ord=3 (dim=2|id=942|\"S=1/2,Site,n=1\") (dim=2|id=490|\"S=1/2,Site,n=2\") (dim=4|id=87|\"Link,l=2\")\n",
       "NDTensors.Dense{ComplexF64, Vector{ComplexF64}}"
      ]
     },
     "metadata": {},
     "output_type": "display_data"
    }
   ],
   "source": [
    "BT_new = BT - 0.4 * g"
   ]
  },
  {
   "cell_type": "code",
   "execution_count": 683,
   "metadata": {},
   "outputs": [
    {
     "data": {
      "text/plain": [
       "1.2250030445176554"
      ]
     },
     "metadata": {},
     "output_type": "display_data"
    }
   ],
   "source": [
    "loss(BT_new)"
   ]
  },
  {
   "cell_type": "code",
   "execution_count": 684,
   "metadata": {},
   "outputs": [
    {
     "data": {
      "text/plain": [
       "ITensor ord=3 (dim=2|id=942|\"S=1/2,Site,n=1\") (dim=2|id=490|\"S=1/2,Site,n=2\") (dim=4|id=87|\"Link,l=2\")\n",
       "NDTensors.Dense{ComplexF64, Vector{ComplexF64}}"
      ]
     },
     "metadata": {},
     "output_type": "display_data"
    }
   ],
   "source": [
    "BT_old = BT"
   ]
  },
  {
   "cell_type": "markdown",
   "metadata": {},
   "source": [
    "Analytical gradient"
   ]
  },
  {
   "cell_type": "code",
   "execution_count": 685,
   "metadata": {},
   "outputs": [],
   "source": [
    "phi_tilde = ps[1] * ps[2]\n",
    "for i in 3:length(mps)\n",
    "    phi_tilde *= mps[i] * ps[i]\n",
    "end"
   ]
  },
  {
   "cell_type": "code",
   "execution_count": 686,
   "metadata": {},
   "outputs": [
    {
     "data": {
      "text/plain": [
       "-0.007234770243740869 + 0.022031102810516658im"
      ]
     },
     "metadata": {},
     "output_type": "display_data"
    }
   ],
   "source": [
    "f_out = (BT * phi_tilde)[]"
   ]
  },
  {
   "cell_type": "code",
   "execution_count": 687,
   "metadata": {},
   "outputs": [
    {
     "data": {
      "text/plain": [
       "ITensor ord=3 (dim=2|id=942|\"S=1/2,Site,n=1\") (dim=2|id=490|\"S=1/2,Site,n=2\") (dim=4|id=87|\"Link,l=2\")\n",
       "NDTensors.Dense{ComplexF64, Vector{ComplexF64}}"
      ]
     },
     "metadata": {},
     "output_type": "display_data"
    }
   ],
   "source": [
    "full_analytical_gradient = conj(phi_tilde)/conj(f_out)"
   ]
  },
  {
   "cell_type": "code",
   "execution_count": 688,
   "metadata": {},
   "outputs": [
    {
     "data": {
      "text/plain": [
       "Dim 1: (dim=2|id=942|\"S=1/2,Site,n=1\")\n",
       "Dim 2: (dim=2|id=490|\"S=1/2,Site,n=2\")\n",
       "Dim 3: (dim=4|id=87|\"Link,l=2\")\n",
       "NDTensors.Dense{ComplexF64, Vector{ComplexF64}}\n",
       " 2×2×4\n",
       "[:, :, 1] =\n",
       "  0.9567526545414118 + 0.1112409821442079im   …  -0.33630065193966974 + 0.23497961924904395im\n",
       " -0.5683576606167874 - 0.15836135866804887im       0.2258614841165202 - 0.11018573227695233im\n",
       "\n",
       "[:, :, 2] =\n",
       "    5.40396809656421 - 2.746919788791954im  …  -0.9454992260385585 + 2.4027020287540477im\n",
       " -3.5314194977196465 + 1.147936975314718im       0.800783758307358 - 1.3639298806560691im\n",
       "\n",
       "[:, :, 3] =\n",
       "  4.5766573682735965 - 1.5536554793645652im  …  -1.0191610795819446 + 1.7886431020212867im\n",
       " -2.9172475354115375 + 0.5046066957467812im      0.7869215082831295 - 0.9853447417741049im\n",
       "\n",
       "[:, :, 4] =\n",
       " -2.039171249344322 + 1.9128432150440846im  …   0.1090955329529418 - 1.1858759867348216im\n",
       " 1.4159625382358079 - 0.9634321099435424im     -0.1788673044670502 + 0.707207402237001im"
      ]
     },
     "metadata": {},
     "output_type": "display_data"
    }
   ],
   "source": [
    "permute(g, (inds(g)[3], inds(g)[2], inds(g)[1])).tensor"
   ]
  },
  {
   "cell_type": "code",
   "execution_count": 689,
   "metadata": {},
   "outputs": [
    {
     "data": {
      "text/plain": [
       "Dim 1: (dim=2|id=942|\"S=1/2,Site,n=1\")\n",
       "Dim 2: (dim=2|id=490|\"S=1/2,Site,n=2\")\n",
       "Dim 3: (dim=4|id=87|\"Link,l=2\")\n",
       "NDTensors.Dense{ComplexF64, Vector{ComplexF64}}\n",
       " 2×2×4\n",
       "[:, :, 1] =\n",
       "  0.9567526545414133 + 0.1112409821442075im   …  -0.33630065193967007 + 0.2349796192490445im\n",
       " -0.5683576606167882 - 0.15836135866804765im      0.22586148411652027 - 0.11018573227695293im\n",
       "\n",
       "[:, :, 2] =\n",
       "   5.403968096564213 - 2.746919788791959im   …  -0.9454992260385587 + 2.402702028754051im\n",
       " -3.5314194977196505 + 1.1479369753147206im      0.8007837583073587 - 1.3639298806560716im\n",
       "\n",
       "[:, :, 3] =\n",
       "   4.576657368273598 - 1.5536554793645678im  …  -1.0191610795819446 + 1.7886431020212892im\n",
       " -2.9172475354115397 + 0.5046066957467831im      0.7869215082831297 - 0.985344741774106im\n",
       "\n",
       "[:, :, 4] =\n",
       " -2.039171249344323 + 1.9128432150440875im  …   0.10909553295294167 - 1.1858759867348228im\n",
       " 1.4159625382358079 - 0.9634321099435432im     -0.17886730446705032 + 0.7072074022370017im"
      ]
     },
     "metadata": {},
     "output_type": "display_data"
    }
   ],
   "source": [
    "(-full_analytical_gradient * 2).tensor"
   ]
  },
  {
   "cell_type": "code",
   "execution_count": 690,
   "metadata": {},
   "outputs": [
    {
     "data": {
      "text/plain": [
       "ITensor ord=3 (dim=2|id=942|\"S=1/2,Site,n=1\") (dim=2|id=490|\"S=1/2,Site,n=2\") (dim=4|id=87|\"Link,l=2\")\n",
       "NDTensors.Dense{ComplexF64, Vector{ComplexF64}}"
      ]
     },
     "metadata": {},
     "output_type": "display_data"
    }
   ],
   "source": [
    "BT_new_ag = BT - 0.4 * full_analytical_gradient"
   ]
  },
  {
   "cell_type": "code",
   "execution_count": 691,
   "metadata": {},
   "outputs": [
    {
     "data": {
      "text/plain": [
       "2.8860361193259614"
      ]
     },
     "metadata": {},
     "output_type": "display_data"
    }
   ],
   "source": [
    "loss(BT_new_ag)"
   ]
  },
  {
   "cell_type": "code",
   "execution_count": 692,
   "metadata": {},
   "outputs": [
    {
     "data": {
      "text/plain": [
       "ITensor ord=3 (dim=2|id=942|\"S=1/2,Site,n=1\") (dim=2|id=490|\"S=1/2,Site,n=2\") (dim=4|id=87|\"Link,l=2\")\n",
       "NDTensors.Dense{ComplexF64, Vector{ComplexF64}}"
      ]
     },
     "metadata": {},
     "output_type": "display_data"
    }
   ],
   "source": [
    "BT_old = mps[1] * mps[2]"
   ]
  },
  {
   "cell_type": "code",
   "execution_count": 693,
   "metadata": {},
   "outputs": [
    {
     "data": {
      "text/plain": [
       "7.528188588716975"
      ]
     },
     "metadata": {},
     "output_type": "display_data"
    }
   ],
   "source": [
    "loss(BT_old)"
   ]
  },
  {
   "cell_type": "code",
   "execution_count": 694,
   "metadata": {},
   "outputs": [],
   "source": []
  }
 ],
 "metadata": {
  "kernelspec": {
   "display_name": "Julia 1.10.2",
   "language": "julia",
   "name": "julia-1.10"
  },
  "language_info": {
   "file_extension": ".jl",
   "mimetype": "application/julia",
   "name": "julia",
   "version": "1.10.2"
  }
 },
 "nbformat": 4,
 "nbformat_minor": 2
}
