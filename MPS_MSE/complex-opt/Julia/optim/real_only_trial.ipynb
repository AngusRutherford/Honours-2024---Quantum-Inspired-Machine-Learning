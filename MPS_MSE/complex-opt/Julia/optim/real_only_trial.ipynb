{
 "cells": [
  {
   "cell_type": "code",
   "execution_count": 1,
   "metadata": {},
   "outputs": [],
   "source": [
    "using ITensors\n",
    "using Zygote"
   ]
  },
  {
   "cell_type": "code",
   "execution_count": 2,
   "metadata": {},
   "outputs": [
    {
     "data": {
      "text/plain": [
       "10-element Vector{Index{Int64}}:\n",
       " (dim=2|id=140|\"S=1/2,Site,n=1\")\n",
       " (dim=2|id=127|\"S=1/2,Site,n=2\")\n",
       " (dim=2|id=989|\"S=1/2,Site,n=3\")\n",
       " (dim=2|id=791|\"S=1/2,Site,n=4\")\n",
       " (dim=2|id=989|\"S=1/2,Site,n=5\")\n",
       " (dim=2|id=61|\"S=1/2,Site,n=6\")\n",
       " (dim=2|id=844|\"S=1/2,Site,n=7\")\n",
       " (dim=2|id=473|\"S=1/2,Site,n=8\")\n",
       " (dim=2|id=381|\"S=1/2,Site,n=9\")\n",
       " (dim=2|id=277|\"S=1/2,Site,n=10\")"
      ]
     },
     "metadata": {},
     "output_type": "display_data"
    }
   ],
   "source": [
    "s = siteinds(\"S=1/2\", 10)"
   ]
  },
  {
   "cell_type": "code",
   "execution_count": 3,
   "metadata": {},
   "outputs": [
    {
     "data": {
      "text/plain": [
       "MPS\n",
       "#undef\n",
       "#undef\n",
       "#undef\n",
       "#undef\n",
       "#undef\n",
       "#undef\n",
       "#undef\n",
       "#undef\n",
       "#undef\n",
       "#undef\n"
      ]
     },
     "metadata": {},
     "output_type": "display_data"
    }
   ],
   "source": [
    "product_state = MPS(10)"
   ]
  },
  {
   "cell_type": "code",
   "execution_count": 4,
   "metadata": {},
   "outputs": [],
   "source": [
    "for i=1:10\n",
    "    product_state[i] = ITensor(rand(ComplexF64, 2), s[i])\n",
    "end"
   ]
  },
  {
   "cell_type": "code",
   "execution_count": 5,
   "metadata": {},
   "outputs": [
    {
     "data": {
      "text/plain": [
       "MPS\n",
       "[1] ((dim=2|id=140|\"S=1/2,Site,n=1\"), (dim=4|id=27|\"Link,l=1\"))\n",
       "[2] ((dim=4|id=27|\"Link,l=1\"), (dim=2|id=127|\"S=1/2,Site,n=2\"), (dim=4|id=659|\"Link,l=2\"))\n",
       "[3] ((dim=4|id=659|\"Link,l=2\"), (dim=2|id=989|\"S=1/2,Site,n=3\"), (dim=4|id=296|\"Link,l=3\"))\n",
       "[4] ((dim=4|id=296|\"Link,l=3\"), (dim=2|id=791|\"S=1/2,Site,n=4\"), (dim=4|id=939|\"Link,l=4\"))\n",
       "[5] ((dim=4|id=939|\"Link,l=4\"), (dim=2|id=989|\"S=1/2,Site,n=5\"), (dim=4|id=138|\"Link,l=5\"))\n",
       "[6] ((dim=4|id=138|\"Link,l=5\"), (dim=2|id=61|\"S=1/2,Site,n=6\"), (dim=4|id=337|\"Link,l=6\"))\n",
       "[7] ((dim=4|id=337|\"Link,l=6\"), (dim=2|id=844|\"S=1/2,Site,n=7\"), (dim=4|id=70|\"Link,l=7\"))\n",
       "[8] ((dim=4|id=70|\"Link,l=7\"), (dim=2|id=473|\"S=1/2,Site,n=8\"), (dim=4|id=700|\"Link,l=8\"))\n",
       "[9] ((dim=4|id=700|\"Link,l=8\"), (dim=2|id=381|\"S=1/2,Site,n=9\"), (dim=2|id=780|\"Link,l=9\"))\n",
       "[10] ((dim=2|id=780|\"Link,l=9\"), (dim=2|id=277|\"S=1/2,Site,n=10\"))\n"
      ]
     },
     "metadata": {},
     "output_type": "display_data"
    }
   ],
   "source": [
    "mps = randomMPS(ComplexF64, s; linkdims=4)"
   ]
  },
  {
   "cell_type": "code",
   "execution_count": 6,
   "metadata": {},
   "outputs": [
    {
     "data": {
      "text/plain": [
       "0.00831234133273315"
      ]
     },
     "metadata": {},
     "output_type": "display_data"
    }
   ],
   "source": [
    "abs(inner(mps, product_state))"
   ]
  },
  {
   "cell_type": "markdown",
   "metadata": {},
   "source": [
    "# Make bond tensor\n",
    "Between sites 1 and 2"
   ]
  },
  {
   "cell_type": "code",
   "execution_count": 7,
   "metadata": {},
   "outputs": [
    {
     "data": {
      "text/plain": [
       "ITensor ord=3 (dim=2|id=140|\"S=1/2,Site,n=1\") (dim=2|id=127|\"S=1/2,Site,n=2\") (dim=4|id=659|\"Link,l=2\")\n",
       "NDTensors.Dense{ComplexF64, Vector{ComplexF64}}"
      ]
     },
     "metadata": {},
     "output_type": "display_data"
    }
   ],
   "source": [
    "BT = mps[1] * mps[2]"
   ]
  },
  {
   "cell_type": "code",
   "execution_count": 8,
   "metadata": {},
   "outputs": [
    {
     "name": "stdout",
     "output_type": "stream",
     "text": [
      "BT = ITensor ord=3\n",
      "Dim 1: (dim=2|id=140|\"S=1/2,Site,n=1\")\n",
      "Dim 2: (dim=2|id=127|\"S=1/2,Site,n=2\")\n",
      "Dim 3: (dim=4|id=659|\"Link,l=2\")\n",
      "NDTensors.Dense{ComplexF64, Vector{ComplexF64}}\n",
      " 2×2×4\n",
      "[:, :, 1] =\n",
      "  -0.2866678570659727 + 0.2592472699194157im   0.13439450625730168 - 0.38714541043676143im\n",
      " -0.18846321207809516 - 0.08347770361500684im  0.15449126397327292 + 0.06350403714866566im\n",
      "\n",
      "[:, :, 2] =\n",
      " -0.20920735204886712 - 0.08856343558527496im    0.33327617722682834 - 0.06274461009874686im\n",
      "  0.11835278856321182 - 0.006280138579714749im  -0.22653321379235258 - 0.08836216271865201im\n",
      "\n",
      "[:, :, 3] =\n",
      " -0.012558372550253882 - 0.06461145337532816im  -0.16495648628795348 + 0.08406222047964898im\n",
      "   0.06765197351914512 - 0.06617349007583978im   0.03253677402397865 + 0.2300724407772281im\n",
      "\n",
      "[:, :, 4] =\n",
      " -0.1393298300412895 - 0.14122190707215163im  -0.040396168557552604 + 0.0037947074550154425im\n",
      " 0.22862878922955648 - 0.1408464166615023im      -0.322165644917835 - 0.23244197554442383im\n"
     ]
    },
    {
     "data": {
      "text/plain": [
       "ITensor ord=3 (dim=2|id=140|\"S=1/2,Site,n=1\") (dim=2|id=127|\"S=1/2,Site,n=2\") (dim=4|id=659|\"Link,l=2\")\n",
       "NDTensors.Dense{ComplexF64, Vector{ComplexF64}}"
      ]
     },
     "metadata": {},
     "output_type": "display_data"
    }
   ],
   "source": [
    "@show BT"
   ]
  },
  {
   "cell_type": "markdown",
   "metadata": {},
   "source": [
    "Make a c index which indexes either the real or imag part"
   ]
  },
  {
   "cell_type": "code",
   "execution_count": 37,
   "metadata": {},
   "outputs": [
    {
     "data": {
      "text/plain": [
       "ITensor ord=1 (dim=2|id=843|\"C\")\n",
       "NDTensors.EmptyStorage{NDTensors.EmptyNumber, NDTensors.Dense{NDTensors.EmptyNumber, Vector{NDTensors.EmptyNumber}}}"
      ]
     },
     "metadata": {},
     "output_type": "display_data"
    }
   ],
   "source": [
    "C_index = Index(2, \"C\")\n",
    "C_tensor = ITensor(C_index)"
   ]
  },
  {
   "cell_type": "code",
   "execution_count": 43,
   "metadata": {},
   "outputs": [
    {
     "data": {
      "text/plain": [
       "ITensor ord=3 (dim=2|id=738|\"S=1/2,Site,n=1\") (dim=2|id=570|\"S=1/2,Site,n=2\") (dim=4|id=84|\"Link,l=2\")\n",
       "NDTensors.Dense{Float64, Vector{Float64}}"
      ]
     },
     "metadata": {},
     "output_type": "display_data"
    }
   ],
   "source": [
    "BT_real = real(BT)"
   ]
  },
  {
   "cell_type": "code",
   "execution_count": 44,
   "metadata": {},
   "outputs": [
    {
     "name": "stdout",
     "output_type": "stream",
     "text": [
      "BT_real = ITensor ord=3\n",
      "Dim 1: (dim=2|id=738|\"S=1/2,Site,n=1\")\n",
      "Dim 2: (dim=2|id=570|\"S=1/2,Site,n=2\")\n",
      "Dim 3: (dim=4|id=84|\"Link,l=2\")\n",
      "NDTensors.Dense{Float64, Vector{Float64}}\n",
      " 2×2×4\n",
      "[:, :, 1] =\n",
      "  0.09903311144060208  -0.15243692525032473\n",
      " -0.29040780518041215   0.2251327626461751\n",
      "\n",
      "[:, :, 2] =\n",
      " -0.11307314859850143  -0.03331575386807011\n",
      " -0.3092917328883151    0.14223377551300734\n",
      "\n",
      "[:, :, 3] =\n",
      "  0.06000747937058725  -0.04022781961752627\n",
      " -0.15910497924039743  -0.21278491508241953\n",
      "\n",
      "[:, :, 4] =\n",
      "  0.14392781307341299  -0.10303357985299319\n",
      " -0.2660203827624759   -0.0102464921254156\n"
     ]
    },
    {
     "data": {
      "text/plain": [
       "ITensor ord=3 (dim=2|id=738|\"S=1/2,Site,n=1\") (dim=2|id=570|\"S=1/2,Site,n=2\") (dim=4|id=84|\"Link,l=2\")\n",
       "NDTensors.Dense{Float64, Vector{Float64}}"
      ]
     },
     "metadata": {},
     "output_type": "display_data"
    }
   ],
   "source": [
    "@show BT_real"
   ]
  },
  {
   "cell_type": "code",
   "execution_count": 45,
   "metadata": {},
   "outputs": [
    {
     "data": {
      "text/plain": [
       "ITensor ord=3 (dim=2|id=738|\"S=1/2,Site,n=1\") (dim=2|id=570|\"S=1/2,Site,n=2\") (dim=4|id=84|\"Link,l=2\")\n",
       "NDTensors.Dense{Float64, Vector{Float64}}"
      ]
     },
     "metadata": {},
     "output_type": "display_data"
    }
   ],
   "source": [
    "BT_imag = imag(BT)"
   ]
  },
  {
   "cell_type": "code",
   "execution_count": 46,
   "metadata": {},
   "outputs": [
    {
     "name": "stdout",
     "output_type": "stream",
     "text": [
      "BT_imag = ITensor ord=3\n",
      "Dim 1: (dim=2|id=738|\"S=1/2,Site,n=1\")\n",
      "Dim 2: (dim=2|id=570|\"S=1/2,Site,n=2\")\n",
      "Dim 3: (dim=4|id=84|\"Link,l=2\")\n",
      "NDTensors.Dense{Float64, Vector{Float64}}\n",
      " 2×2×4\n",
      "[:, :, 1] =\n",
      "  0.39039724573405904   0.33719666576403334\n",
      " -0.1354473070995107   -0.1950125321177967\n",
      "\n",
      "[:, :, 2] =\n",
      "  0.13560873998134645  0.17333459522667377\n",
      " -0.05433048733995355  0.052265158142864886\n",
      "\n",
      "[:, :, 3] =\n",
      " -0.06245876480943065  0.2112713713535821\n",
      "  0.2317361793063493   0.12370446610486674\n",
      "\n",
      "[:, :, 4] =\n",
      "  0.05117969002794545   -0.16023203686430004\n",
      " -0.005967430946292576  -0.04070349728561418\n"
     ]
    },
    {
     "data": {
      "text/plain": [
       "ITensor ord=3 (dim=2|id=738|\"S=1/2,Site,n=1\") (dim=2|id=570|\"S=1/2,Site,n=2\") (dim=4|id=84|\"Link,l=2\")\n",
       "NDTensors.Dense{Float64, Vector{Float64}}"
      ]
     },
     "metadata": {},
     "output_type": "display_data"
    }
   ],
   "source": [
    "@show BT_imag"
   ]
  },
  {
   "cell_type": "code",
   "execution_count": 51,
   "metadata": {},
   "outputs": [
    {
     "data": {
      "text/plain": [
       "ITensor ord=1 (dim=2|id=843|\"C\")\n",
       "NDTensors.Dense{Float64, Vector{Float64}}"
      ]
     },
     "metadata": {},
     "output_type": "display_data"
    }
   ],
   "source": [
    "C_tensor_real = ITensor([1; 0], C_index)"
   ]
  },
  {
   "cell_type": "code",
   "execution_count": 52,
   "metadata": {},
   "outputs": [
    {
     "name": "stdout",
     "output_type": "stream",
     "text": [
      "C_tensor_real = ITensor ord=1\n",
      "Dim 1: (dim=2|id=843|\"C\")\n",
      "NDTensors.Dense{Float64, Vector{Float64}}\n",
      " 2-element\n",
      " 1.0\n",
      " 0.0\n"
     ]
    },
    {
     "data": {
      "text/plain": [
       "ITensor ord=1 (dim=2|id=843|\"C\")\n",
       "NDTensors.Dense{Float64, Vector{Float64}}"
      ]
     },
     "metadata": {},
     "output_type": "display_data"
    }
   ],
   "source": [
    "@show C_tensor_real"
   ]
  },
  {
   "cell_type": "code",
   "execution_count": 54,
   "metadata": {},
   "outputs": [
    {
     "data": {
      "text/plain": [
       "ITensor ord=4 (dim=2|id=738|\"S=1/2,Site,n=1\") (dim=2|id=570|\"S=1/2,Site,n=2\") (dim=4|id=84|\"Link,l=2\") (dim=2|id=843|\"C\")\n",
       "NDTensors.Dense{Float64, Vector{Float64}}"
      ]
     },
     "metadata": {},
     "output_type": "display_data"
    }
   ],
   "source": [
    "BT_real_with_index = BT_real * C_tensor_real"
   ]
  },
  {
   "cell_type": "code",
   "execution_count": 56,
   "metadata": {},
   "outputs": [
    {
     "data": {
      "text/plain": [
       "ITensor ord=1 (dim=2|id=843|\"C\")\n",
       "NDTensors.Dense{Float64, Vector{Float64}}"
      ]
     },
     "metadata": {},
     "output_type": "display_data"
    }
   ],
   "source": [
    "C_tensor_imag = ITensor([0; 1], C_index)"
   ]
  },
  {
   "cell_type": "code",
   "execution_count": 57,
   "metadata": {},
   "outputs": [
    {
     "name": "stdout",
     "output_type": "stream",
     "text": [
      "C_tensor_imag = ITensor ord=1\n",
      "Dim 1: (dim=2|id=843|\"C\")\n",
      "NDTensors.Dense{Float64, Vector{Float64}}\n",
      " 2-element\n",
      " 0.0\n",
      " 1.0\n"
     ]
    },
    {
     "data": {
      "text/plain": [
       "ITensor ord=1 (dim=2|id=843|\"C\")\n",
       "NDTensors.Dense{Float64, Vector{Float64}}"
      ]
     },
     "metadata": {},
     "output_type": "display_data"
    }
   ],
   "source": [
    "@show C_tensor_imag"
   ]
  },
  {
   "cell_type": "code",
   "execution_count": 59,
   "metadata": {},
   "outputs": [
    {
     "data": {
      "text/plain": [
       "ITensor ord=4 (dim=2|id=738|\"S=1/2,Site,n=1\") (dim=2|id=570|\"S=1/2,Site,n=2\") (dim=4|id=84|\"Link,l=2\") (dim=2|id=843|\"C\")\n",
       "NDTensors.Dense{Float64, Vector{Float64}}"
      ]
     },
     "metadata": {},
     "output_type": "display_data"
    }
   ],
   "source": [
    "BT_imag_with_index = BT_imag * C_tensor_imag"
   ]
  },
  {
   "cell_type": "markdown",
   "metadata": {},
   "source": [
    "Combine the seperate parts (with attached indexes) back into a combined tensor. Now when we set c => 1, we obtain the real part and when c => 2 we obtain the imaginary part."
   ]
  },
  {
   "cell_type": "code",
   "execution_count": 61,
   "metadata": {},
   "outputs": [
    {
     "data": {
      "text/plain": [
       "ITensor ord=4 (dim=2|id=738|\"S=1/2,Site,n=1\") (dim=2|id=570|\"S=1/2,Site,n=2\") (dim=4|id=84|\"Link,l=2\") (dim=2|id=843|\"C\")\n",
       "NDTensors.Dense{Float64, Vector{Float64}}"
      ]
     },
     "metadata": {},
     "output_type": "display_data"
    }
   ],
   "source": [
    "combined_real_and_imag_BT_wth_labels = BT_real_with_index + BT_imag_with_index"
   ]
  },
  {
   "cell_type": "code",
   "execution_count": 62,
   "metadata": {},
   "outputs": [
    {
     "name": "stdout",
     "output_type": "stream",
     "text": [
      "combined_real_and_imag_BT_wth_labels = ITensor ord=4\n",
      "Dim 1: (dim=2|id=738|\"S=1/2,Site,n=1\")\n",
      "Dim 2: (dim=2|id=570|\"S=1/2,Site,n=2\")\n",
      "Dim 3: (dim=4|id=84|\"Link,l=2\")\n",
      "Dim 4: (dim=2|id=843|\"C\")\n",
      "NDTensors.Dense{Float64, Vector{Float64}}\n",
      " 2×2×4×2\n",
      "[:, :, 1, 1] =\n",
      "  0.09903311144060208  -0.15243692525032473\n",
      " -0.29040780518041215   0.2251327626461751\n",
      "\n",
      "[:, :, 2, 1] =\n",
      " -0.11307314859850143  -0.03331575386807011\n",
      " -0.3092917328883151    0.14223377551300734\n",
      "\n",
      "[:, :, 3, 1] =\n",
      "  0.06000747937058725  -0.04022781961752627\n",
      " -0.15910497924039743  -0.21278491508241953\n",
      "\n",
      "[:, :, 4, 1] =\n",
      "  0.14392781307341299  -0.10303357985299319\n",
      " -0.2660203827624759   -0.0102464921254156\n",
      "\n",
      "[:, :, 1, 2] =\n",
      "  0.39039724573405904   0.33719666576403334\n",
      " -0.1354473070995107   -0.1950125321177967\n",
      "\n",
      "[:, :, 2, 2] =\n",
      "  0.13560873998134645  0.17333459522667377\n",
      " -0.05433048733995355  0.052265158142864886\n",
      "\n",
      "[:, :, 3, 2] =\n",
      " -0.06245876480943065  0.2112713713535821\n",
      "  0.2317361793063493   0.12370446610486674\n",
      "\n",
      "[:, :, 4, 2] =\n",
      "  0.05117969002794545   -0.16023203686430004\n",
      " -0.005967430946292576  -0.04070349728561418\n"
     ]
    },
    {
     "data": {
      "text/plain": [
       "ITensor ord=4 (dim=2|id=738|\"S=1/2,Site,n=1\") (dim=2|id=570|\"S=1/2,Site,n=2\") (dim=4|id=84|\"Link,l=2\") (dim=2|id=843|\"C\")\n",
       "NDTensors.Dense{Float64, Vector{Float64}}"
      ]
     },
     "metadata": {},
     "output_type": "display_data"
    }
   ],
   "source": [
    "@show combined_real_and_imag_BT_wth_labels"
   ]
  },
  {
   "cell_type": "markdown",
   "metadata": {},
   "source": [
    "Now let's see what happens when we set the c index to 1. We should obtain the real part of the original bond tensor..."
   ]
  },
  {
   "cell_type": "code",
   "execution_count": 66,
   "metadata": {},
   "outputs": [
    {
     "data": {
      "text/plain": [
       "Dim 1: 2\n",
       "Dim 2: 2\n",
       "Dim 3: 4\n",
       "NDTensors.Dense{Float64, Base.ReshapedArray{Float64, 1, SubArray{Float64, 3, Array{Float64, 4}, Tuple{Base.Slice{Base.OneTo{Int64}}, Base.Slice{Base.OneTo{Int64}}, Base.Slice{Base.OneTo{Int64}}, Int64}, true}, Tuple{}}}\n",
       " 2×2×4\n",
       "[:, :, 1] =\n",
       "  0.09903311144060208  -0.15243692525032473\n",
       " -0.29040780518041215   0.2251327626461751\n",
       "\n",
       "[:, :, 2] =\n",
       " -0.11307314859850143  -0.03331575386807011\n",
       " -0.3092917328883151    0.14223377551300734\n",
       "\n",
       "[:, :, 3] =\n",
       "  0.06000747937058725  -0.04022781961752627\n",
       " -0.15910497924039743  -0.21278491508241953\n",
       "\n",
       "[:, :, 4] =\n",
       "  0.14392781307341299  -0.10303357985299319\n",
       " -0.2660203827624759   -0.0102464921254156"
      ]
     },
     "metadata": {},
     "output_type": "display_data"
    }
   ],
   "source": [
    "combined_real_and_imag_BT_wth_labels.tensor[:, :, :, 1]"
   ]
  },
  {
   "cell_type": "code",
   "execution_count": 75,
   "metadata": {},
   "outputs": [
    {
     "name": "stdout",
     "output_type": "stream",
     "text": [
      "BT_real = ITensor ord=3\n",
      "Dim 1: (dim=2|id=738|\"S=1/2,Site,n=1\")\n",
      "Dim 2: (dim=2|id=570|\"S=1/2,Site,n=2\")\n",
      "Dim 3: (dim=4|id=84|\"Link,l=2\")\n",
      "NDTensors.Dense{Float64, Vector{Float64}}\n",
      " 2×2×4\n",
      "[:, :, 1] =\n",
      "  0.09903311144060208  -0.15243692525032473\n",
      " -0.29040780518041215   0.2251327626461751\n",
      "\n",
      "[:, :, 2] =\n",
      " -0.11307314859850143  -0.03331575386807011\n",
      " -0.3092917328883151    0.14223377551300734\n",
      "\n",
      "[:, :, 3] =\n",
      "  0.06000747937058725  -0.04022781961752627\n",
      " -0.15910497924039743  -0.21278491508241953\n",
      "\n",
      "[:, :, 4] =\n",
      "  0.14392781307341299  -0.10303357985299319\n",
      " -0.2660203827624759   -0.0102464921254156\n"
     ]
    },
    {
     "data": {
      "text/plain": [
       "ITensor ord=3 (dim=2|id=738|\"S=1/2,Site,n=1\") (dim=2|id=570|\"S=1/2,Site,n=2\") (dim=4|id=84|\"Link,l=2\")\n",
       "NDTensors.Dense{Float64, Vector{Float64}}"
      ]
     },
     "metadata": {},
     "output_type": "display_data"
    }
   ],
   "source": [
    "@show BT_real"
   ]
  },
  {
   "cell_type": "markdown",
   "metadata": {},
   "source": [
    "Now let's set it to 2 and see what happens..."
   ]
  },
  {
   "cell_type": "code",
   "execution_count": 72,
   "metadata": {},
   "outputs": [
    {
     "data": {
      "text/plain": [
       "Dim 1: 2\n",
       "Dim 2: 2\n",
       "Dim 3: 4\n",
       "NDTensors.Dense{Float64, Base.ReshapedArray{Float64, 1, SubArray{Float64, 3, Array{Float64, 4}, Tuple{Base.Slice{Base.OneTo{Int64}}, Base.Slice{Base.OneTo{Int64}}, Base.Slice{Base.OneTo{Int64}}, Int64}, true}, Tuple{}}}\n",
       " 2×2×4\n",
       "[:, :, 1] =\n",
       "  0.39039724573405904   0.33719666576403334\n",
       " -0.1354473070995107   -0.1950125321177967\n",
       "\n",
       "[:, :, 2] =\n",
       "  0.13560873998134645  0.17333459522667377\n",
       " -0.05433048733995355  0.052265158142864886\n",
       "\n",
       "[:, :, 3] =\n",
       " -0.06245876480943065  0.2112713713535821\n",
       "  0.2317361793063493   0.12370446610486674\n",
       "\n",
       "[:, :, 4] =\n",
       "  0.05117969002794545   -0.16023203686430004\n",
       " -0.005967430946292576  -0.04070349728561418"
      ]
     },
     "metadata": {},
     "output_type": "display_data"
    }
   ],
   "source": [
    "combined_real_and_imag_BT_wth_labels.tensor[:, :, :, 2]"
   ]
  },
  {
   "cell_type": "code",
   "execution_count": 74,
   "metadata": {},
   "outputs": [
    {
     "name": "stdout",
     "output_type": "stream",
     "text": [
      "BT_imag = ITensor ord=3\n",
      "Dim 1: (dim=2|id=738|\"S=1/2,Site,n=1\")\n",
      "Dim 2: (dim=2|id=570|\"S=1/2,Site,n=2\")\n",
      "Dim 3: (dim=4|id=84|\"Link,l=2\")\n",
      "NDTensors.Dense{Float64, Vector{Float64}}\n",
      " 2×2×4\n",
      "[:, :, 1] =\n",
      "  0.39039724573405904   0.33719666576403334\n",
      " -0.1354473070995107   -0.1950125321177967\n",
      "\n",
      "[:, :, 2] =\n",
      "  0.13560873998134645  0.17333459522667377\n",
      " -0.05433048733995355  0.052265158142864886\n",
      "\n",
      "[:, :, 3] =\n",
      " -0.06245876480943065  0.2112713713535821\n",
      "  0.2317361793063493   0.12370446610486674\n",
      "\n",
      "[:, :, 4] =\n",
      "  0.05117969002794545   -0.16023203686430004\n",
      " -0.005967430946292576  -0.04070349728561418\n"
     ]
    },
    {
     "data": {
      "text/plain": [
       "ITensor ord=3 (dim=2|id=738|\"S=1/2,Site,n=1\") (dim=2|id=570|\"S=1/2,Site,n=2\") (dim=4|id=84|\"Link,l=2\")\n",
       "NDTensors.Dense{Float64, Vector{Float64}}"
      ]
     },
     "metadata": {},
     "output_type": "display_data"
    }
   ],
   "source": [
    "@show BT_imag"
   ]
  },
  {
   "cell_type": "markdown",
   "metadata": {},
   "source": [
    "Now we can optimise both components in one go. Let's redefine the cost function to use the components seperately and join them to get the overall output."
   ]
  },
  {
   "cell_type": "code",
   "execution_count": 90,
   "metadata": {},
   "outputs": [
    {
     "data": {
      "text/plain": [
       "cost_fn_regular (generic function with 1 method)"
      ]
     },
     "metadata": {},
     "output_type": "display_data"
    }
   ],
   "source": [
    "function cost_fn_regular(BT::ITensor, product_state::MPS, mps::MPS)\n",
    "    ps = product_state\n",
    "    y = 1\n",
    "    phi_tilde = 1\n",
    "    for i = 3:10\n",
    "        phi_tilde *= mps[i] * ps[i]\n",
    "    end\n",
    "    yhat = phi_tilde * BT * ps[1] * ps[2]\n",
    "    abs_diff_sq = norm(yhat[] - y)^2\n",
    "    cost = 0.5 * abs_diff_sq\n",
    "    return cost\n",
    "end"
   ]
  },
  {
   "cell_type": "code",
   "execution_count": 93,
   "metadata": {},
   "outputs": [
    {
     "name": "stdout",
     "output_type": "stream",
     "text": [
      "cost_fn_regular(BT, product_state, mps) = 0.5067369917212301\n"
     ]
    },
    {
     "data": {
      "text/plain": [
       "0.5067369917212301"
      ]
     },
     "metadata": {},
     "output_type": "display_data"
    }
   ],
   "source": [
    "@show cost_fn_regular(BT, product_state, mps)"
   ]
  },
  {
   "cell_type": "markdown",
   "metadata": {},
   "source": [
    "Now using the real, complex valued tensor"
   ]
  },
  {
   "cell_type": "code",
   "execution_count": 94,
   "metadata": {},
   "outputs": [
    {
     "data": {
      "text/plain": [
       "ITensor ord=4 (dim=2|id=738|\"S=1/2,Site,n=1\") (dim=2|id=570|\"S=1/2,Site,n=2\") (dim=4|id=84|\"Link,l=2\") (dim=2|id=843|\"C\")\n",
       "NDTensors.Dense{Float64, Vector{Float64}}"
      ]
     },
     "metadata": {},
     "output_type": "display_data"
    }
   ],
   "source": [
    "combined_real_and_imag_BT_wth_labels"
   ]
  },
  {
   "cell_type": "code",
   "execution_count": 129,
   "metadata": {},
   "outputs": [
    {
     "data": {
      "text/plain": [
       "ITensor ord=4 (dim=2|id=738|\"S=1/2,Site,n=1\") (dim=2|id=570|\"S=1/2,Site,n=2\") (dim=4|id=84|\"Link,l=2\") (dim=2|id=843|\"C\")\n",
       "NDTensors.Dense{Float64, Vector{Float64}}"
      ]
     },
     "metadata": {},
     "output_type": "display_data"
    }
   ],
   "source": [
    "combined_real_and_imag_BT_wth_labels"
   ]
  },
  {
   "cell_type": "code",
   "execution_count": 143,
   "metadata": {},
   "outputs": [
    {
     "name": "stdout",
     "output_type": "stream",
     "text": [
      "onehot(C_index => 1) = ITensor ord=1\n",
      "Dim 1: (dim=2|id=843|\"C\")\n",
      "NDTensors.Dense{Float64, Vector{Float64}}\n",
      " 2-element\n",
      " 1.0\n",
      " 0.0\n"
     ]
    },
    {
     "data": {
      "text/plain": [
       "ITensor ord=1 (dim=2|id=843|\"C\")\n",
       "NDTensors.Dense{Float64, Vector{Float64}}"
      ]
     },
     "metadata": {},
     "output_type": "display_data"
    }
   ],
   "source": [
    "@show onehot(C_index => 1)"
   ]
  },
  {
   "cell_type": "code",
   "execution_count": 156,
   "metadata": {},
   "outputs": [
    {
     "data": {
      "text/plain": [
       "cost_function_combined (generic function with 1 method)"
      ]
     },
     "metadata": {},
     "output_type": "display_data"
    }
   ],
   "source": [
    "function cost_function_combined(BT_combined::ITensor, product_state::MPS, mps::MPS)\n",
    "    # reconstruct complex valued bond tensor by slicing along index c to recover real and imaginary parts \n",
    "    BT_real = deepcopy(BT_combined) * onehot(C_index => 1)\n",
    "    BT_imag = deepcopy(BT_combined) * onehot(C_index => 2)\n",
    "    # reform bond tensor\n",
    "    BT = BT_real + im * BT_imag\n",
    "    ps = product_state\n",
    "    y = 1\n",
    "    phi_tilde = 1\n",
    "    for i = 3:10\n",
    "        phi_tilde *= mps[i] * ps[i]\n",
    "    end\n",
    "    yhat = phi_tilde * BT * ps[1] * ps[2]\n",
    "    abs_diff_sq = norm(yhat[] - y)^2\n",
    "    cost = 0.5 * abs_diff_sq\n",
    "    return cost\n",
    "end"
   ]
  },
  {
   "cell_type": "code",
   "execution_count": 159,
   "metadata": {},
   "outputs": [
    {
     "data": {
      "text/plain": [
       "0.5067369917212301"
      ]
     },
     "metadata": {},
     "output_type": "display_data"
    }
   ],
   "source": [
    "cost_fn_regular(BT, product_state, mps)"
   ]
  },
  {
   "cell_type": "code",
   "execution_count": 157,
   "metadata": {},
   "outputs": [
    {
     "data": {
      "text/plain": [
       "0.5067369917212301"
      ]
     },
     "metadata": {},
     "output_type": "display_data"
    }
   ],
   "source": [
    "cost_function_combined(combined_real_and_imag_BT_wth_labels, product_state, mps)"
   ]
  },
  {
   "cell_type": "code",
   "execution_count": 167,
   "metadata": {},
   "outputs": [
    {
     "data": {
      "text/plain": [
       "ITensor ord=4 (dim=2|id=738|\"S=1/2,Site,n=1\") (dim=2|id=570|\"S=1/2,Site,n=2\") (dim=4|id=84|\"Link,l=2\") (dim=2|id=843|\"C\")\n",
       "NDTensors.Dense{Float64, Vector{Float64}}"
      ]
     },
     "metadata": {},
     "output_type": "display_data"
    }
   ],
   "source": [
    "combined_real_and_imag_BT_wth_labels"
   ]
  },
  {
   "cell_type": "code",
   "execution_count": 170,
   "metadata": {},
   "outputs": [
    {
     "data": {
      "text/plain": [
       "(dim=2|id=843|\"C\")"
      ]
     },
     "metadata": {},
     "output_type": "display_data"
    }
   ],
   "source": [
    "findinds(combined_real_and_imag_BT_wth_labels, \"C\")[1]"
   ]
  },
  {
   "cell_type": "code",
   "execution_count": 173,
   "metadata": {},
   "outputs": [
    {
     "data": {
      "text/plain": [
       "UpdateBondTensorCombined (generic function with 1 method)"
      ]
     },
     "metadata": {},
     "output_type": "display_data"
    }
   ],
   "source": [
    "function UpdateBondTensorCombined(BT_combined::ITensor, mps::MPS, product_state::MPS)\n",
    "\n",
    "    C_index = findinds(combined_real_and_imag_BT_wth_labels, \"C\")[1] # get the C index for reconstruction\n",
    "    BT_real = deepcopy(BT_combined) * onehot(C_index => 1)\n",
    "    BT_imag = deepcopy(BT_combined) * onehot(C_index => 2)\n",
    "    # reform bond tensor\n",
    "    BT = BT_real + im * BT_imag\n",
    "    ps = product_state\n",
    "    y = 1\n",
    "    phi_tilde = ps[1] * ps[2]\n",
    "    for i = 3:10\n",
    "        phi_tilde *= mps[i] * ps[i]\n",
    "    end\n",
    "    yhat = phi_tilde * BT\n",
    "    dP = yhat[] - y\n",
    "    grad = dP * conj(phi_tilde)\n",
    "    # gradient is complex valued, reconstruct the real valued representation\n",
    "    # extract the real part\n",
    "    grad_real = real(grad)\n",
    "    # attach the c label again\n",
    "    C_tensor_real = ITensor([1; 0], C_index)\n",
    "    grad_real *= C_tensor_real\n",
    "    println(grad_real)\n",
    "\n",
    "    grad_imag = imag(grad)\n",
    "    C_tensor_imag = ITensor([0; 1], C_index)\n",
    "    grad_imag *= C_tensor_imag\n",
    "    println(grad_imag)\n",
    "\n",
    "    # combine them back into a real valued combined gradient tensor\n",
    "    grad_combined = grad_real + grad_imag\n",
    "\n",
    "    return grad, grad_combined\n",
    "\n",
    "end"
   ]
  },
  {
   "cell_type": "code",
   "execution_count": 174,
   "metadata": {},
   "outputs": [
    {
     "name": "stdout",
     "output_type": "stream",
     "text": [
      "ITensor ord=4\n",
      "Dim 1: (dim=2|id=738|\"S=1/2,Site,n=1\")\n",
      "Dim 2: (dim=2|id=570|\"S=1/2,Site,n=2\")\n",
      "Dim 3: (dim=4|id=84|\"Link,l=2\")\n",
      "Dim 4: (dim=2|id=843|\"C\")\n",
      "NDTensors.Dense{Float64, Vector{Float64}}\n",
      " 2×2×4×2\n",
      "[:, :, 1, 1] =\n",
      " -0.07678342875644033   0.005999972016754378\n",
      " -0.13781489043556708  -0.051659634819890714\n",
      "\n",
      "[:, :, 2, 1] =\n",
      " -0.06139161357542321  -0.1723516951354123\n",
      "  0.24787764100908932   0.029891412953245586\n",
      "\n",
      "[:, :, 3, 1] =\n",
      " -0.02627162473367759  -0.1056341435581\n",
      "  0.1705113389724046    0.025603556741501707\n",
      "\n",
      "[:, :, 4, 1] =\n",
      " 0.11284933350879413  0.0271481330632332\n",
      " 0.1298500099548474   0.0614699153307548\n",
      "\n",
      "[:, :, 1, 2] =\n",
      " 0.0  0.0\n",
      " 0.0  0.0\n",
      "\n",
      "[:, :, 2, 2] =\n",
      " 0.0  0.0\n",
      " 0.0  0.0\n",
      "\n",
      "[:, :, 3, 2] =\n",
      " 0.0  0.0\n",
      " 0.0  0.0\n",
      "\n",
      "[:, :, 4, 2] =\n",
      " 0.0  0.0\n",
      " 0.0  0.0\n",
      "ITensor ord=4\n",
      "Dim 1: (dim=2|id=738|\"S=1/2,Site,n=1\")\n",
      "Dim 2: (dim=2|id=570|\"S=1/2,Site,n=2\")\n",
      "Dim 3: (dim=4|id=84|\"Link,l=2\")\n",
      "Dim 4: (dim=2|id=843|\"C\")\n",
      "NDTensors.Dense{Float64, Vector{Float64}}\n",
      " 2×2×4×2\n",
      "[:, :, 1, 1] =\n",
      " 0.0  0.0\n",
      " 0.0  0.0\n",
      "\n",
      "[:, :, 2, 1] =\n",
      " 0.0  0.0\n",
      " 0.0  0.0\n",
      "\n",
      "[:, :, 3, 1] =\n",
      " 0.0  0.0\n",
      " 0.0  0.0\n",
      "\n",
      "[:, :, 4, 1] =\n",
      " 0.0  0.0\n",
      " 0.0  0.0\n",
      "\n",
      "[:, :, 1, 2] =\n",
      " -0.1782357080435647   -0.10915794649326933\n",
      " -0.07111710583697281  -0.07044877116611023\n",
      "\n",
      "[:, :, 2, 2] =\n",
      " 0.5634633924594051   0.2687699636780599\n",
      " 0.37907925491325406  0.25338321712756534\n",
      "\n",
      "[:, :, 3, 2] =\n",
      " 0.36816854613963523  0.17908836596780833\n",
      " 0.2406708973465691   0.16416538186185695\n",
      "\n",
      "[:, :, 4, 2] =\n",
      " 0.1186223263628183   0.08814277066340162\n",
      " 0.01601299214983753  0.040659151358635764\n"
     ]
    },
    {
     "data": {
      "text/plain": [
       "(ITensor ord=3\n",
       "Dim 1: (dim=2|id=738|\"S=1/2,Site,n=1\")\n",
       "Dim 2: (dim=2|id=570|\"S=1/2,Site,n=2\")\n",
       "Dim 3: (dim=4|id=84|\"Link,l=2\")\n",
       "NDTensors.Dense{ComplexF64, Vector{ComplexF64}}\n",
       " 2×2×4\n",
       "[:, :, 1] =\n",
       " -0.07678342875644033 - 0.1782357080435647im   …   0.005999972016754378 - 0.10915794649326933im\n",
       " -0.13781489043556708 - 0.07111710583697281im     -0.051659634819890714 - 0.07044877116611023im\n",
       "\n",
       "[:, :, 2] =\n",
       " -0.06139161357542321 + 0.5634633924594051im   …   -0.1723516951354123 + 0.2687699636780599im\n",
       "  0.24787764100908932 + 0.37907925491325406im     0.029891412953245586 + 0.25338321712756534im\n",
       "\n",
       "[:, :, 3] =\n",
       " -0.02627162473367759 + 0.36816854613963523im  …      -0.1056341435581 + 0.17908836596780833im\n",
       "   0.1705113389724046 + 0.2406708973465691im      0.025603556741501707 + 0.16416538186185695im\n",
       "\n",
       "[:, :, 4] =\n",
       " 0.11284933350879413 + 0.1186223263628183im   …  0.0271481330632332 + 0.08814277066340162im\n",
       "  0.1298500099548474 + 0.01601299214983753im     0.0614699153307548 + 0.040659151358635764im, ITensor ord=4\n",
       "Dim 1: (dim=2|id=738|\"S=1/2,Site,n=1\")\n",
       "Dim 2: (dim=2|id=570|\"S=1/2,Site,n=2\")\n",
       "Dim 3: (dim=4|id=84|\"Link,l=2\")\n",
       "Dim 4: (dim=2|id=843|\"C\")\n",
       "NDTensors.Dense{Float64, Vector{Float64}}\n",
       " 2×2×4×2\n",
       "[:, :, 1, 1] =\n",
       " -0.07678342875644033   0.005999972016754378\n",
       " -0.13781489043556708  -0.051659634819890714\n",
       "\n",
       "[:, :, 2, 1] =\n",
       " -0.06139161357542321  -0.1723516951354123\n",
       "  0.24787764100908932   0.029891412953245586\n",
       "\n",
       "[:, :, 3, 1] =\n",
       " -0.02627162473367759  -0.1056341435581\n",
       "  0.1705113389724046    0.025603556741501707\n",
       "\n",
       "[:, :, 4, 1] =\n",
       " 0.11284933350879413  0.0271481330632332\n",
       " 0.1298500099548474   0.0614699153307548\n",
       "\n",
       "[:, :, 1, 2] =\n",
       " -0.1782357080435647   -0.10915794649326933\n",
       " -0.07111710583697281  -0.07044877116611023\n",
       "\n",
       "[:, :, 2, 2] =\n",
       " 0.5634633924594051   0.2687699636780599\n",
       " 0.37907925491325406  0.25338321712756534\n",
       "\n",
       "[:, :, 3, 2] =\n",
       " 0.36816854613963523  0.17908836596780833\n",
       " 0.2406708973465691   0.16416538186185695\n",
       "\n",
       "[:, :, 4, 2] =\n",
       " 0.1186223263628183   0.08814277066340162\n",
       " 0.01601299214983753  0.040659151358635764)"
      ]
     },
     "metadata": {},
     "output_type": "display_data"
    }
   ],
   "source": [
    "ΔBT, ΔBT_combined =  UpdateBondTensorCombined(combined_real_and_imag_BT_wth_labels, mps, product_state)"
   ]
  },
  {
   "cell_type": "code",
   "execution_count": null,
   "metadata": {},
   "outputs": [],
   "source": []
  }
 ],
 "metadata": {
  "kernelspec": {
   "display_name": "Julia 1.10.2",
   "language": "julia",
   "name": "julia-1.10"
  },
  "language_info": {
   "file_extension": ".jl",
   "mimetype": "application/julia",
   "name": "julia",
   "version": "1.10.2"
  }
 },
 "nbformat": 4,
 "nbformat_minor": 2
}
