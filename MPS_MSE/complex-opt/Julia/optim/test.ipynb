{
 "cells": [
  {
   "cell_type": "code",
   "execution_count": 44,
   "metadata": {},
   "outputs": [],
   "source": [
    "using ITensors\n",
    "using Random\n",
    "include(\"real_complex_final_fixed.jl\");"
   ]
  },
  {
   "cell_type": "code",
   "execution_count": 13,
   "metadata": {},
   "outputs": [],
   "source": [
    "dset = rand(10, 10)\n",
    "labels = rand([0, 1], 10);\n",
    "s = siteinds(\"S=1/2\", 10);\n",
    "mps = randomMPS(ComplexF64, s; linkdims=5);"
   ]
  },
  {
   "cell_type": "code",
   "execution_count": 14,
   "metadata": {},
   "outputs": [],
   "source": [
    "training_pstates = dataset_to_product_state(dset, labels, s);"
   ]
  },
  {
   "cell_type": "markdown",
   "metadata": {},
   "source": [
    "manual check inner product/overlap"
   ]
  },
  {
   "cell_type": "code",
   "execution_count": 16,
   "metadata": {},
   "outputs": [
    {
     "data": {
      "text/plain": [
       "MPS\n",
       "[1] ((dim=2|id=564|\"S=1/2,Site,n=1\"),)\n",
       "[2] ((dim=2|id=783|\"S=1/2,Site,n=2\"),)\n",
       "[3] ((dim=2|id=315|\"S=1/2,Site,n=3\"),)\n",
       "[4] ((dim=2|id=327|\"S=1/2,Site,n=4\"),)\n",
       "[5] ((dim=2|id=380|\"S=1/2,Site,n=5\"),)\n",
       "[6] ((dim=2|id=527|\"S=1/2,Site,n=6\"),)\n",
       "[7] ((dim=2|id=193|\"S=1/2,Site,n=7\"),)\n",
       "[8] ((dim=2|id=977|\"S=1/2,Site,n=8\"),)\n",
       "[9] ((dim=2|id=51|\"S=1/2,Site,n=9\"),)\n",
       "[10] ((dim=2|id=270|\"S=1/2,Site,n=10\"),)\n"
      ]
     },
     "metadata": {},
     "output_type": "display_data"
    }
   ],
   "source": [
    "ps = training_pstates[1].pstate"
   ]
  },
  {
   "cell_type": "code",
   "execution_count": 39,
   "metadata": {},
   "outputs": [
    {
     "data": {
      "text/plain": [
       "-0.025238215706567674 - 0.01038481154450671im"
      ]
     },
     "metadata": {},
     "output_type": "display_data"
    }
   ],
   "source": [
    "inner(ps, mps)"
   ]
  },
  {
   "cell_type": "code",
   "execution_count": 40,
   "metadata": {},
   "outputs": [
    {
     "data": {
      "text/plain": [
       "(ITensor[#undef #undef … #undef #undef; #undef #undef … #undef #undef; … ; #undef #undef … #undef #undef; #undef #undef … #undef #undef], ITensor[ITensor ord=0\n",
       "NDTensors.Dense{ComplexF64, Vector{ComplexF64}}\n",
       " 0-dimensional\n",
       "-0.025238215706567677 - 0.0103848115445067im ITensor ord=1\n",
       "Dim 1: (dim=5|id=752|\"Link,l=1\")\n",
       "NDTensors.Dense{ComplexF64, Vector{ComplexF64}}\n",
       " 5-element\n",
       " -0.021516117530988345 + 0.026287717820871706im\n",
       " -0.001041757488820583 + 0.007372456495327922im\n",
       " -0.021497167287010864 - 0.016484188391739815im\n",
       " -0.005935328386858356 - 0.036177915424446504im\n",
       " -0.014658854781395425 - 0.00502561183358491im … ITensor ord=1\n",
       "Dim 1: (dim=4|id=312|\"Link,l=8\")\n",
       "NDTensors.Dense{ComplexF64, Vector{ComplexF64}}\n",
       " 4-element\n",
       "   0.5359304965014184 - 0.49287587096434826im\n",
       " -0.04117689697622809 + 0.2579355491937334im\n",
       " -0.27001897743763453 + 0.04471106123561237im\n",
       "  -0.5026463779417771 + 0.27214497226137896im ITensor ord=1\n",
       "Dim 1: (dim=2|id=146|\"Link,l=9\")\n",
       "NDTensors.Dense{ComplexF64, Vector{ComplexF64}}\n",
       " 2-element\n",
       " -0.2738637937131784 - 0.44353662391734033im\n",
       "  0.4615863745114907 + 0.7177826304685644im; ITensor ord=0\n",
       "NDTensors.Dense{ComplexF64, Vector{ComplexF64}}\n",
       " 0-dimensional\n",
       "0.0009124156875132648 + 0.004973553589748499im ITensor ord=1\n",
       "Dim 1: (dim=5|id=752|\"Link,l=1\")\n",
       "NDTensors.Dense{ComplexF64, Vector{ComplexF64}}\n",
       " 5-element\n",
       "    0.02735470810037446 - 0.03398488020672049im\n",
       "     0.0185555287519833 - 0.016977683456634602im\n",
       "   0.013608940203736741 - 0.004588058079564035im\n",
       "  -0.002065116088222584 + 0.002723693548970209im\n",
       " -0.0036528914673902577 + 0.021378425036359967im … ITensor ord=1\n",
       "Dim 1: (dim=4|id=312|\"Link,l=8\")\n",
       "NDTensors.Dense{ComplexF64, Vector{ComplexF64}}\n",
       " 4-element\n",
       " -0.13361092344780065 + 0.19840441614936877im\n",
       " -0.35301896878139855 - 0.37880939949549014im\n",
       "   0.2095290884097347 - 0.6562620016628483im\n",
       " -0.41096395435575556 + 0.1766103899157007im ITensor ord=1\n",
       "Dim 1: (dim=2|id=146|\"Link,l=9\")\n",
       "NDTensors.Dense{ComplexF64, Vector{ComplexF64}}\n",
       " 2-element\n",
       "  -0.230357729118672 + 0.55412158256788im\n",
       " -0.1474648903854083 + 0.7862179688046922im; … ; ITensor ord=0\n",
       "NDTensors.Dense{ComplexF64, Vector{ComplexF64}}\n",
       " 0-dimensional\n",
       "0.01106532205162105 + 0.012401575899096969im ITensor ord=1\n",
       "Dim 1: (dim=5|id=752|\"Link,l=1\")\n",
       "NDTensors.Dense{ComplexF64, Vector{ComplexF64}}\n",
       " 5-element\n",
       "   0.02443206881660127 + 0.04092934944146111im\n",
       "    0.0230523044256926 + 0.00023961761884924872im\n",
       "    0.0279141903185258 - 0.0244787883388832im\n",
       "  -0.02726324047057754 + 0.028348832706951075im\n",
       " -0.020670884343725385 + 0.007606009860177924im … ITensor ord=1\n",
       "Dim 1: (dim=4|id=312|\"Link,l=8\")\n",
       "NDTensors.Dense{ComplexF64, Vector{ComplexF64}}\n",
       " 4-element\n",
       " 0.28691292608689883 + 0.04840352500891779im\n",
       " -0.3790098169817024 + 0.3186802958840357im\n",
       " -0.4153560726288306 - 0.2775580858703557im\n",
       " -0.3839597467262603 + 0.5226358713769741im ITensor ord=1\n",
       "Dim 1: (dim=2|id=146|\"Link,l=9\")\n",
       "NDTensors.Dense{ComplexF64, Vector{ComplexF64}}\n",
       " 2-element\n",
       " -0.2871683428946612 + 0.2710084829154687im\n",
       " 0.21861939560274946 + 0.8923532399746633im; ITensor ord=0\n",
       "NDTensors.Dense{ComplexF64, Vector{ComplexF64}}\n",
       " 0-dimensional\n",
       "-0.015194529898137799 - 0.014193947618840878im ITensor ord=1\n",
       "Dim 1: (dim=5|id=752|\"Link,l=1\")\n",
       "NDTensors.Dense{ComplexF64, Vector{ComplexF64}}\n",
       " 5-element\n",
       "  0.02446197794715632 + 0.008345466404077162im\n",
       " -0.03789066567293884 - 0.0035341053950681896im\n",
       " -0.03426248043768097 - 0.0202820630957428im\n",
       " 0.011198263808024937 + 0.0016792773050415188im\n",
       " 0.006827311057804758 - 0.012177956001467533im … ITensor ord=1\n",
       "Dim 1: (dim=4|id=312|\"Link,l=8\")\n",
       "NDTensors.Dense{ComplexF64, Vector{ComplexF64}}\n",
       " 4-element\n",
       "  0.34959304535449154 + 0.1284110873728187im\n",
       "  -0.3309882440590232 + 0.11183321579869973im\n",
       " -0.37124837944090416 - 0.3954633827730959im\n",
       "  -0.4807968922981239 + 0.4624425493215105im ITensor ord=1\n",
       "Dim 1: (dim=2|id=146|\"Link,l=9\")\n",
       "NDTensors.Dense{ComplexF64, Vector{ComplexF64}}\n",
       " 2-element\n",
       " -0.29460634583625056 + 0.20987637416143667im\n",
       "   0.2657643828375259 + 0.8936041077439435im])"
      ]
     },
     "metadata": {},
     "output_type": "display_data"
    }
   ],
   "source": [
    "LE, RE = construct_caches(mps, training_pstates; going_left=false)"
   ]
  },
  {
   "cell_type": "code",
   "execution_count": 32,
   "metadata": {},
   "outputs": [
    {
     "data": {
      "text/plain": [
       "ITensor ord=3 (dim=2|id=564|\"S=1/2,Site,n=1\") (dim=2|id=783|\"S=1/2,Site,n=2\") (dim=5|id=397|\"Link,l=2\")\n",
       "NDTensors.Dense{ComplexF64, Vector{ComplexF64}}"
      ]
     },
     "metadata": {},
     "output_type": "display_data"
    }
   ],
   "source": [
    "BT = mps[1] * mps[2]"
   ]
  },
  {
   "cell_type": "code",
   "execution_count": 43,
   "metadata": {},
   "outputs": [
    {
     "name": "stdout",
     "output_type": "stream",
     "text": [
      "BT * RE[1, 3] * conj(ps[1]) * conj(ps[2]) = ITensor ord=0\n",
      "NDTensors.Dense{ComplexF64, Vector{ComplexF64}}\n",
      " 0-dimensional\n",
      "-0.02523821570656768 - 0.010384811544506706im\n"
     ]
    },
    {
     "data": {
      "text/plain": [
       "ITensor ord=0\n",
       "NDTensors.Dense{ComplexF64, Vector{ComplexF64}}"
      ]
     },
     "metadata": {},
     "output_type": "display_data"
    }
   ],
   "source": [
    "@show BT * RE[1, 3] * conj(ps[1]) * conj(ps[2])"
   ]
  },
  {
   "cell_type": "code",
   "execution_count": 33,
   "metadata": {},
   "outputs": [
    {
     "data": {
      "text/plain": [
       "ITensor ord=3 (dim=2|id=564|\"S=1/2,Site,n=1\") (dim=2|id=783|\"S=1/2,Site,n=2\") (dim=5|id=397|\"Link,l=2\")\n",
       "NDTensors.Dense{Float64, Vector{Float64}}"
      ]
     },
     "metadata": {},
     "output_type": "display_data"
    }
   ],
   "source": [
    "C_index = Index(2, \"C\")\n",
    "bt_real = real(BT)\n",
    "bt_imag = imag(BT)"
   ]
  },
  {
   "cell_type": "code",
   "execution_count": 34,
   "metadata": {},
   "outputs": [
    {
     "data": {
      "text/plain": [
       "ITensor ord=4 (dim=2|id=564|\"S=1/2,Site,n=1\") (dim=2|id=783|\"S=1/2,Site,n=2\") (dim=5|id=397|\"Link,l=2\") (dim=2|id=780|\"C\")\n",
       "NDTensors.Dense{Float64, Vector{Float64}}"
      ]
     },
     "metadata": {},
     "output_type": "display_data"
    }
   ],
   "source": [
    "bt_real_index_tensor = ITensor([1; 0], C_index)\n",
    "bt_real *= bt_real_index_tensor\n",
    "bt_imag_index_tensor = ITensor([0; 1], C_index)\n",
    "bt_imag *= bt_imag_index_tensor"
   ]
  },
  {
   "cell_type": "code",
   "execution_count": 35,
   "metadata": {},
   "outputs": [
    {
     "data": {
      "text/plain": [
       "ITensor ord=4 (dim=2|id=564|\"S=1/2,Site,n=1\") (dim=2|id=783|\"S=1/2,Site,n=2\") (dim=5|id=397|\"Link,l=2\") (dim=2|id=780|\"C\")\n",
       "NDTensors.Dense{Float64, Vector{Float64}}"
      ]
     },
     "metadata": {},
     "output_type": "display_data"
    }
   ],
   "source": [
    "bt_combined_real_imag = bt_real + bt_imag"
   ]
  },
  {
   "cell_type": "code",
   "execution_count": 45,
   "metadata": {},
   "outputs": [
    {
     "data": {
      "text/plain": [
       "(ITensor ord=0\n",
       "NDTensors.Dense{ComplexF64, Vector{ComplexF64}}\n",
       " 0-dimensional\n",
       "-0.02523821570656768 - 0.010384811544506708im, ITensor ord=3\n",
       "Dim 1: (dim=2|id=564|\"S=1/2,Site,n=1\")\n",
       "Dim 2: (dim=2|id=783|\"S=1/2,Site,n=2\")\n",
       "Dim 3: (dim=5|id=397|\"Link,l=2\")\n",
       "NDTensors.Dense{ComplexF64, Vector{ComplexF64}}\n",
       " 2×2×5\n",
       "[:, :, 1] =\n",
       "  0.018923847274471765 + 0.006800728343477763im  …    0.0327766089007112 + 0.013601884883983322im\n",
       " -0.004409836698904342 + 0.005092374934531295im     -0.00820756744260228 + 0.0086000549807179im\n",
       "\n",
       "[:, :, 2] =\n",
       " 0.005289672508348033 - 0.011435863538912534im   …  0.010299588318087126 - 0.0197065642581231im\n",
       " 0.002934916997445232 + 0.0030336174440655007im     0.004914540419911635 + 0.005597679995856064im\n",
       "\n",
       "[:, :, 3] =\n",
       " -0.0018980865229370153 - 0.017155889668963427im   …  -0.0018821975082217726 - 0.030402334056147572im\n",
       "   0.005590133900866669 + 0.0014781308030236988im       0.009727543812326161 + 0.003082358955740567im\n",
       "\n",
       "[:, :, 4] =\n",
       " -0.013567425111544209 - 0.00189261369518474im   …  -0.023753629028164996 - 0.0044934856005153815im\n",
       " 0.0022294307955046514 - 0.004011132109351324im     0.0042719624591978245 - 0.006880170910817361im\n",
       "\n",
       "[:, :, 5] =\n",
       "    0.0044040165971094 + 0.021398030679419294im   …   0.005937473179221941 + 0.03809366335563646im\n",
       " -0.007218288199840848 - 0.0012072228104891766im     -0.012620575922649152 - 0.002743727843911579im)"
      ]
     },
     "metadata": {},
     "output_type": "display_data"
    }
   ],
   "source": [
    "yhat, d_yhat_dW = compute_yhat_and_derivative(bt_combined_real_imag, LE, RE, training_pstates[1], 1, 2)"
   ]
  },
  {
   "cell_type": "code",
   "execution_count": 46,
   "metadata": {},
   "outputs": [
    {
     "data": {
      "text/plain": [
       "2-element Vector{Any}:\n",
       " 0.5256106216280007\n",
       "  ITensor ord=3\n",
       "Dim 1: (dim=2|id=564|\"S=1/2,Site,n=1\")\n",
       "Dim 2: (dim=2|id=783|\"S=1/2,Site,n=2\")\n",
       "Dim 3: (dim=5|id=397|\"Link,l=2\")\n",
       "NDTensors.Dense{ComplexF64, Vector{ComplexF64}}\n",
       " 2×2×5\n",
       "[:, :, 1] =\n",
       " -0.019472075696195426 + 0.006775846004729807im  …  -0.03374508503744739 + 0.013604793282199308im\n",
       "   0.00446824975473295 + 0.005266692714647884im     0.008325401849897726 + 0.008902339064539853im\n",
       "\n",
       "[:, :, 2] =\n",
       " -0.0053044151164305196 - 0.011779416581829832im  …  -0.010354882593737534 - 0.020310882061374283im\n",
       " -0.0030404926111623747 + 0.003079701975572794im     -0.005096705502971431 + 0.005687918874959175im\n",
       "\n",
       "[:, :, 3] =\n",
       " 0.002124151521123163 - 0.01756916244223093im    …  0.0022454233246228684 - 0.031150088454627328im\n",
       " -0.00574656901591287 + 0.0014573837000038743im     -0.010005059378224624 + 0.003059133486668678im\n",
       "\n",
       "[:, :, 4] =\n",
       "   0.01392949714964311 - 0.001799484734945422im  …   0.024399792242530915 - 0.004360216198419926im\n",
       " -0.002244042799788729 - 0.004135518145417507im     -0.004308329890930583 - 0.007098177673426599im\n",
       "\n",
       "[:, :, 5] =\n",
       " -0.004737380633991894 + 0.02189234391100237im    …  -0.006482919923059269 + 0.0389934199084426im\n",
       "  0.007413001695839762 - 0.0011627303975569074im      0.012967589836714522 - 0.0026819123365364847im"
      ]
     },
     "metadata": {},
     "output_type": "display_data"
    }
   ],
   "source": [
    "compute_loss_and_gradient_per_sample(bt_combined_real_imag, LE, RE, training_pstates[1], 1, 2)"
   ]
  },
  {
   "cell_type": "code",
   "execution_count": null,
   "metadata": {},
   "outputs": [],
   "source": []
  }
 ],
 "metadata": {
  "kernelspec": {
   "display_name": "Julia 1.10.2",
   "language": "julia",
   "name": "julia-1.10"
  },
  "language_info": {
   "file_extension": ".jl",
   "mimetype": "application/julia",
   "name": "julia",
   "version": "1.10.2"
  }
 },
 "nbformat": 4,
 "nbformat_minor": 2
}
