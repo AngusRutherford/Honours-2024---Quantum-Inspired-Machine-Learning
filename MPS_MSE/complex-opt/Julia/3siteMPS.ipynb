{
 "cells": [
  {
   "cell_type": "code",
   "execution_count": 80,
   "metadata": {},
   "outputs": [],
   "source": [
    "using Zygote\n",
    "using Distributions\n",
    "using ITensors\n",
    "using Random\n",
    "using Plots \n",
    "using Base.Threads"
   ]
  },
  {
   "cell_type": "code",
   "execution_count": 81,
   "metadata": {},
   "outputs": [],
   "source": [
    "struct PState\n",
    "    pstate::MPS\n",
    "    label::Int\n",
    "end"
   ]
  },
  {
   "cell_type": "code",
   "execution_count": 82,
   "metadata": {},
   "outputs": [
    {
     "data": {
      "text/plain": [
       "complex_feature_map (generic function with 1 method)"
      ]
     },
     "metadata": {},
     "output_type": "display_data"
    }
   ],
   "source": [
    "function complex_feature_map(x::Float64)\n",
    "    s1 = exp(1im * (3π/2) * x) * cospi(0.5 * x)\n",
    "    s2 = exp(-1im * (2π/2) * x) * sinpi(0.5 * x)\n",
    "    return [s1, s2]\n",
    "end"
   ]
  },
  {
   "cell_type": "code",
   "execution_count": 83,
   "metadata": {},
   "outputs": [
    {
     "data": {
      "text/plain": [
       "generate_training_data (generic function with 1 method)"
      ]
     },
     "metadata": {},
     "output_type": "display_data"
    }
   ],
   "source": [
    "function generate_training_data(samples_per_class::Int)\n",
    "\n",
    "    class_A_samples = zeros(samples_per_class, 3)\n",
    "    class_B_samples = ones(samples_per_class, 3)\n",
    "    all_samples = vcat(class_A_samples, class_B_samples)\n",
    "    all_labels = Int.(vcat(zeros(size(class_A_samples)[1]), ones(size(class_B_samples)[1])))\n",
    "\n",
    "    return all_samples, all_labels\n",
    "\n",
    "end"
   ]
  },
  {
   "cell_type": "code",
   "execution_count": 84,
   "metadata": {},
   "outputs": [
    {
     "data": {
      "text/plain": [
       "sample_to_product_state (generic function with 1 method)"
      ]
     },
     "metadata": {},
     "output_type": "display_data"
    }
   ],
   "source": [
    "function sample_to_product_state(sample::Vector, site_inds::Vector{Index{Int64}})\n",
    "    n_sites = length(site_inds)\n",
    "    product_state = MPS(ComplexF64, site_inds; linkdims=1)\n",
    "    for j=1:n_sites\n",
    "        T = ITensor(site_inds[j])\n",
    "        zero_state, one_state = complex_feature_map(sample[j])\n",
    "        T[1] = zero_state\n",
    "        T[2] = one_state\n",
    "        product_state[j] = T \n",
    "    end\n",
    "    return product_state\n",
    "end"
   ]
  },
  {
   "cell_type": "code",
   "execution_count": 85,
   "metadata": {},
   "outputs": [
    {
     "data": {
      "text/plain": [
       "dataset_to_product_state (generic function with 1 method)"
      ]
     },
     "metadata": {},
     "output_type": "display_data"
    }
   ],
   "source": [
    "function dataset_to_product_state(dataset::Matrix, labels::Vector, sites::Vector{Index{Int64}})\n",
    "\n",
    "    all_product_states = Vector{PState}(undef, size(dataset)[1])\n",
    "    for p=1:length(all_product_states)\n",
    "        sample_pstate = sample_to_product_state(dataset[p, :], sites)\n",
    "        sample_label = labels[p]\n",
    "        product_state = PState(sample_pstate, sample_label)\n",
    "        all_product_states[p] = product_state\n",
    "    end\n",
    "\n",
    "    return all_product_states\n",
    "\n",
    "end"
   ]
  },
  {
   "cell_type": "code",
   "execution_count": 86,
   "metadata": {},
   "outputs": [],
   "source": [
    "s = siteinds(\"S=1/2\", 3)\n",
    "mps = randomMPS(ComplexF64, s; linkdims=4)\n",
    "all_samples, all_labels = generate_training_data(100)\n",
    "all_pstates = dataset_to_product_state(all_samples, all_labels, s);"
   ]
  },
  {
   "cell_type": "code",
   "execution_count": 87,
   "metadata": {},
   "outputs": [
    {
     "data": {
      "text/plain": [
       "MPS\n",
       "[1] ((dim=2|id=943|\"S=1/2,Site,n=1\"), (dim=4|id=25|\"Link,l=1\"))\n",
       "[2] ((dim=4|id=25|\"Link,l=1\"), (dim=2|id=484|\"S=1/2,Site,n=2\"), (dim=2|id=880|\"Link,l=2\"))\n",
       "[3] ((dim=2|id=880|\"Link,l=2\"), (dim=2|id=316|\"S=1/2,Site,n=3\"))\n"
      ]
     },
     "metadata": {},
     "output_type": "display_data"
    }
   ],
   "source": [
    "mps"
   ]
  },
  {
   "cell_type": "markdown",
   "metadata": {},
   "source": [
    "Make loss function. Takes in:\n",
    "- Bond Tensor\n",
    "- product state\n",
    "- LE\n",
    "- RE \n",
    "\\\n",
    "Outputs:\n",
    "- Loss"
   ]
  },
  {
   "cell_type": "code",
   "execution_count": 88,
   "metadata": {},
   "outputs": [
    {
     "data": {
      "text/plain": [
       "3"
      ]
     },
     "metadata": {},
     "output_type": "display_data"
    }
   ],
   "source": [
    "N_train = 200\n",
    "num_sites = 3"
   ]
  },
  {
   "cell_type": "code",
   "execution_count": 89,
   "metadata": {},
   "outputs": [
    {
     "data": {
      "text/plain": [
       "ITensor ord=0\n",
       "NDTensors.EmptyStorage{NDTensors.EmptyNumber, NDTensors.Dense{NDTensors.EmptyNumber, Vector{NDTensors.EmptyNumber}}}"
      ]
     },
     "metadata": {},
     "output_type": "display_data"
    }
   ],
   "source": [
    "ITensor()"
   ]
  },
  {
   "cell_type": "code",
   "execution_count": 90,
   "metadata": {},
   "outputs": [],
   "source": [
    "LE = Matrix{ITensor}(undef, N_train, num_sites);\n",
    "RE = Matrix{ITensor}(undef, N_train, num_sites);"
   ]
  },
  {
   "cell_type": "code",
   "execution_count": 91,
   "metadata": {},
   "outputs": [],
   "source": [
    "for i = 1:N_train\n",
    "    RE[i, num_sites] = conj(all_pstates[i].pstate[num_sites]) * mps[num_sites]\n",
    "end\n",
    "\n",
    "for j = (num_sites-1):-1:1\n",
    "    for i = 1:N_train\n",
    "        RE[i, j] = RE[i, j+1] * mps[j] * conj(all_pstates[i].pstate[j])\n",
    "    end\n",
    "end"
   ]
  },
  {
   "cell_type": "code",
   "execution_count": 92,
   "metadata": {},
   "outputs": [
    {
     "data": {
      "text/plain": [
       "ITensor ord=3 (dim=2|id=943|\"S=1/2,Site,n=1\") (dim=2|id=484|\"S=1/2,Site,n=2\") (dim=2|id=880|\"Link,l=2\")\n",
       "NDTensors.Dense{ComplexF64, Vector{ComplexF64}}"
      ]
     },
     "metadata": {},
     "output_type": "display_data"
    }
   ],
   "source": [
    "BT = mps[1] * mps[2]"
   ]
  },
  {
   "cell_type": "code",
   "execution_count": 93,
   "metadata": {},
   "outputs": [
    {
     "data": {
      "text/plain": [
       "loss_per_sample (generic function with 1 method)"
      ]
     },
     "metadata": {},
     "output_type": "display_data"
    }
   ],
   "source": [
    "function loss_per_sample(BT::ITensor, ps::PState, RE::Matrix, psid::Int, lid::Int, rid::Int)\n",
    "    y = ps.label\n",
    "    yhat = BT * conj(ps.pstate[lid]) * conj(ps.pstate[rid])\n",
    "    yhat *= RE[psid, rid+1]\n",
    "    \n",
    "    yhat = yhat[]\n",
    "\n",
    "    diff_sq = (abs((yhat - y)))^2\n",
    "\n",
    "    loss = 0.5 * diff_sq\n",
    "\n",
    "    return loss\n",
    "    \n",
    "end\n"
   ]
  },
  {
   "cell_type": "code",
   "execution_count": 95,
   "metadata": {},
   "outputs": [
    {
     "data": {
      "text/plain": [
       "ITensor ord=3 (dim=2|id=880|\"Link,l=2\") (dim=2|id=484|\"S=1/2,Site,n=2\") (dim=2|id=943|\"S=1/2,Site,n=1\")\n",
       "NDTensors.Dense{ComplexF64, Vector{ComplexF64}}"
      ]
     },
     "metadata": {},
     "output_type": "display_data"
    }
   ],
   "source": [
    "nab = gradient(loss_per_sample, BT, all_pstates[1], RE, 1, 1, 2)[1]"
   ]
  },
  {
   "cell_type": "code",
   "execution_count": 105,
   "metadata": {},
   "outputs": [
    {
     "name": "stdout",
     "output_type": "stream",
     "text": [
      "nab = ITensor ord=3\n",
      "Dim 1: (dim=2|id=880|\"Link,l=2\")\n",
      "Dim 2: (dim=2|id=484|\"S=1/2,Site,n=2\")\n",
      "Dim 3: (dim=2|id=943|\"S=1/2,Site,n=1\")\n",
      "NDTensors.Dense{ComplexF64, Vector{ComplexF64}}\n",
      " 2×2×2\n",
      "[:, :, 1] =\n",
      " 0.007835624488941928 + 0.35001139410642584im  0.0 + 0.0im\n",
      " -0.02352789190592701 - 0.16642213948453546im  0.0 + 0.0im\n",
      "\n",
      "[:, :, 2] =\n",
      " 0.0 + 0.0im  0.0 + 0.0im\n",
      " 0.0 + 0.0im  0.0 + 0.0im\n"
     ]
    },
    {
     "data": {
      "text/plain": [
       "ITensor ord=3 (dim=2|id=880|\"Link,l=2\") (dim=2|id=484|\"S=1/2,Site,n=2\") (dim=2|id=943|\"S=1/2,Site,n=1\")\n",
       "NDTensors.Dense{ComplexF64, Vector{ComplexF64}}"
      ]
     },
     "metadata": {},
     "output_type": "display_data"
    }
   ],
   "source": [
    "@show nab"
   ]
  },
  {
   "cell_type": "code",
   "execution_count": 103,
   "metadata": {},
   "outputs": [
    {
     "data": {
      "text/plain": [
       "loss_and_grad_analytical (generic function with 3 methods)"
      ]
     },
     "metadata": {},
     "output_type": "display_data"
    }
   ],
   "source": [
    "function loss_and_grad_analytical(BT::ITensor, ps::PState, pid::Int, LE::Matrix, RE::Matrix, lid::Int, rid::Int)\n",
    "    \"\"\"Analytical form of the gradient for a single product state\"\"\"\n",
    "    y = ps.label\n",
    "    num_sites = length(ps.pstate)\n",
    "    phi_tilde = conj(ps.pstate[lid]) * conj(ps.pstate[rid]) # two sites corresp to bond tensor\n",
    "\n",
    "    if lid == 1\n",
    "        # no left environment exists\n",
    "        phi_tilde *= RE[pid, rid+1]\n",
    "    elseif rid == num_sites\n",
    "        phi_tilde *= LE[pid, lid-1]\n",
    "    else\n",
    "        phi_tilde *= LE[pid, lid-1] * RE[pid, rid+1]\n",
    "    end\n",
    "\n",
    "    # now for the loss\n",
    "    yhat = BT * phi_tilde\n",
    "    \n",
    "\n",
    "    diff_sq = (abs(yhat[] - y))^2\n",
    "    loss = 0.5 * diff_sq\n",
    "\n",
    "    gradient = 0.5 * (yhat[]-y) * phi_tilde\n",
    "\n",
    "    return loss, gradient\n",
    "\n",
    "end"
   ]
  },
  {
   "cell_type": "code",
   "execution_count": 104,
   "metadata": {},
   "outputs": [
    {
     "name": "stdout",
     "output_type": "stream",
     "text": [
      "grad.tensor = ComplexF64[0.11683788458079092 - 0.13035049666399298im 0.0 + 0.0im; 0.0 + 0.0im 0.0 + 0.0im;;; -0.06307257102486938 + 0.055536684599907474im 0.0 + 0.0im; 0.0 + 0.0im 0.0 + 0.0im]\n"
     ]
    },
    {
     "data": {
      "text/plain": [
       "Dim 1: (dim=2|id=943|\"S=1/2,Site,n=1\")\n",
       "Dim 2: (dim=2|id=484|\"S=1/2,Site,n=2\")\n",
       "Dim 3: (dim=2|id=880|\"Link,l=2\")\n",
       "NDTensors.Dense{ComplexF64, Vector{ComplexF64}}\n",
       " 2×2×2\n",
       "[:, :, 1] =\n",
       " 0.11683788458079092 - 0.13035049666399298im  0.0 + 0.0im\n",
       "                 0.0 + 0.0im                  0.0 + 0.0im\n",
       "\n",
       "[:, :, 2] =\n",
       " -0.06307257102486938 + 0.055536684599907474im  0.0 + 0.0im\n",
       "                  0.0 + 0.0im                   0.0 + 0.0im"
      ]
     },
     "metadata": {},
     "output_type": "display_data"
    }
   ],
   "source": [
    "loss, grad = loss_and_grad_analytical(BT, all_pstates[1], 1, LE, RE, 1, 2);\n",
    "@show grad.tensor"
   ]
  },
  {
   "cell_type": "code",
   "execution_count": 32,
   "metadata": {},
   "outputs": [
    {
     "data": {
      "text/plain": [
       "loss_all (generic function with 1 method)"
      ]
     },
     "metadata": {},
     "output_type": "display_data"
    }
   ],
   "source": [
    "function loss_all(BT::ITensor, pss::Vector{PState}, RE::Matrix, lid::Int, rid::Int)\n",
    "    # loop over all samples and get the loss\n",
    "    losses = 0\n",
    "    for (index, ps) in enumerate(pss)\n",
    "        y = ps.label\n",
    "        yhat = BT * conj(ps.pstate[lid]) * conj(ps.pstate[rid])\n",
    "        yhat *= RE[index, rid+1]\n",
    "        yhat = abs(yhat[])\n",
    "        diff_sq = (yhat - y)^2\n",
    "        loss = 0.5 * diff_sq\n",
    "        losses += loss\n",
    "    end\n",
    "\n",
    "    total_loss = losses / length(pss)\n",
    "    return total_loss\n",
    "\n",
    "end"
   ]
  },
  {
   "cell_type": "code",
   "execution_count": 33,
   "metadata": {},
   "outputs": [
    {
     "data": {
      "text/plain": [
       "0.0980056452410914"
      ]
     },
     "metadata": {},
     "output_type": "display_data"
    }
   ],
   "source": [
    "loss_all(BT, all_pstates, RE, 1, 2)"
   ]
  },
  {
   "cell_type": "code",
   "execution_count": 18,
   "metadata": {},
   "outputs": [
    {
     "data": {
      "text/plain": [
       "0.1664146844804412"
      ]
     },
     "metadata": {},
     "output_type": "display_data"
    }
   ],
   "source": [
    "loss_per_sample(BT, all_pstates[101], RE, 101, 1, 2)"
   ]
  },
  {
   "cell_type": "markdown",
   "metadata": {},
   "source": [
    "Returns gradient of loss function with resepct to each argument, so it will return 6 outputs. We only want the first (w.r.t. BT)"
   ]
  },
  {
   "cell_type": "code",
   "execution_count": 42,
   "metadata": {},
   "outputs": [],
   "source": [
    "using BenchmarkTools"
   ]
  },
  {
   "cell_type": "code",
   "execution_count": 50,
   "metadata": {},
   "outputs": [
    {
     "data": {
      "text/plain": [
       "BenchmarkTools.Trial: 49 samples with 1 evaluation.\n",
       " Range \u001b[90m(\u001b[39m\u001b[36m\u001b[1mmin\u001b[22m\u001b[39m … \u001b[35mmax\u001b[39m\u001b[90m):  \u001b[39m\u001b[36m\u001b[1m101.130 ms\u001b[22m\u001b[39m … \u001b[35m116.523 ms\u001b[39m  \u001b[90m┊\u001b[39m GC \u001b[90m(\u001b[39mmin … max\u001b[90m): \u001b[39m0.00% … 1.52%\n",
       " Time  \u001b[90m(\u001b[39m\u001b[34m\u001b[1mmedian\u001b[22m\u001b[39m\u001b[90m):     \u001b[39m\u001b[34m\u001b[1m103.181 ms               \u001b[22m\u001b[39m\u001b[90m┊\u001b[39m GC \u001b[90m(\u001b[39mmedian\u001b[90m):    \u001b[39m0.00%\n",
       " Time  \u001b[90m(\u001b[39m\u001b[32m\u001b[1mmean\u001b[22m\u001b[39m ± \u001b[32mσ\u001b[39m\u001b[90m):   \u001b[39m\u001b[32m\u001b[1m103.766 ms\u001b[22m\u001b[39m ± \u001b[32m  2.438 ms\u001b[39m  \u001b[90m┊\u001b[39m GC \u001b[90m(\u001b[39mmean ± σ\u001b[90m):  \u001b[39m0.92% ± 1.02%\n",
       "\n",
       "  \u001b[39m \u001b[39m \u001b[39m \u001b[39m \u001b[39m█\u001b[39m▄\u001b[39m \u001b[34m \u001b[39m\u001b[39m \u001b[39m \u001b[32m \u001b[39m\u001b[39m▄\u001b[39m \u001b[39m \u001b[39m▂\u001b[39m▂\u001b[39m \u001b[39m \u001b[39m \u001b[39m \u001b[39m \u001b[39m \u001b[39m \u001b[39m \u001b[39m \u001b[39m \u001b[39m \u001b[39m \u001b[39m \u001b[39m \u001b[39m \u001b[39m \u001b[39m \u001b[39m \u001b[39m \u001b[39m \u001b[39m \u001b[39m \u001b[39m \u001b[39m \u001b[39m \u001b[39m \u001b[39m \u001b[39m \u001b[39m \u001b[39m \u001b[39m \u001b[39m \u001b[39m \u001b[39m \u001b[39m \u001b[39m \u001b[39m \u001b[39m \u001b[39m \u001b[39m \u001b[39m \u001b[39m \u001b[39m \u001b[39m \u001b[39m \u001b[39m \u001b[39m \n",
       "  \u001b[39m▆\u001b[39m▆\u001b[39m▆\u001b[39m█\u001b[39m█\u001b[39m█\u001b[39m█\u001b[34m▁\u001b[39m\u001b[39m▄\u001b[39m▄\u001b[32m▄\u001b[39m\u001b[39m█\u001b[39m▄\u001b[39m▆\u001b[39m█\u001b[39m█\u001b[39m▆\u001b[39m▁\u001b[39m▁\u001b[39m▁\u001b[39m▁\u001b[39m▄\u001b[39m▁\u001b[39m▄\u001b[39m▁\u001b[39m▁\u001b[39m▁\u001b[39m▁\u001b[39m▄\u001b[39m▁\u001b[39m▁\u001b[39m▁\u001b[39m▁\u001b[39m▁\u001b[39m▁\u001b[39m▁\u001b[39m▁\u001b[39m▁\u001b[39m▁\u001b[39m▁\u001b[39m▁\u001b[39m▁\u001b[39m▁\u001b[39m▁\u001b[39m▁\u001b[39m▁\u001b[39m▁\u001b[39m▁\u001b[39m▁\u001b[39m▁\u001b[39m▁\u001b[39m▁\u001b[39m▁\u001b[39m▁\u001b[39m▁\u001b[39m▁\u001b[39m▁\u001b[39m▁\u001b[39m▁\u001b[39m▁\u001b[39m▄\u001b[39m \u001b[39m▁\n",
       "  101 ms\u001b[90m           Histogram: frequency by time\u001b[39m          117 ms \u001b[0m\u001b[1m<\u001b[22m\n",
       "\n",
       " Memory estimate\u001b[90m: \u001b[39m\u001b[33m20.25 MiB\u001b[39m, allocs estimate\u001b[90m: \u001b[39m\u001b[33m253138\u001b[39m."
      ]
     },
     "metadata": {},
     "output_type": "display_data"
    }
   ],
   "source": [
    "@benchmark gradient(loss_all, BT, all_pstates, RE, 1, 2)"
   ]
  },
  {
   "cell_type": "code",
   "execution_count": 36,
   "metadata": {},
   "outputs": [
    {
     "data": {
      "text/plain": [
       "(val = 0.1664146844804412, grad = (ITensor ord=3\n",
       "Dim 1: (dim=2|id=386|\"Link,l=2\")\n",
       "Dim 2: (dim=2|id=777|\"S=1/2,Site,n=2\")\n",
       "Dim 3: (dim=2|id=711|\"S=1/2,Site,n=1\")\n",
       "NDTensors.Dense{ComplexF64, Vector{ComplexF64}}\n",
       " 2×2×2\n",
       "[:, :, 1] =\n",
       " 0.0 + 0.0im  0.0 + 0.0im\n",
       " 0.0 + 0.0im  0.0 + 0.0im\n",
       "\n",
       "[:, :, 2] =\n",
       " 0.0 + 0.0im   0.12236994843263635 - 0.5586193164948039im\n",
       " 0.0 + 0.0im  0.037272833889576744 - 0.06640903382970201im, (pstate = (data = Union{Nothing, ITensor}[ITensor ord=1\n",
       "Dim 1: (dim=2|id=711|\"S=1/2,Site,n=1\")\n",
       "NDTensors.Dense{ComplexF64, Vector{ComplexF64}}\n",
       " 2-element\n",
       " -0.2003500985052977 + 0.08898968182014054im\n",
       "  0.2440842891898694 + 6.474164065252424e-17im, ITensor ord=1\n",
       "Dim 1: (dim=2|id=777|\"S=1/2,Site,n=2\")\n",
       "NDTensors.Dense{ComplexF64, Vector{ComplexF64}}\n",
       " 2-element\n",
       " 0.0017623652742804123 - 0.27960794579555726im\n",
       "    0.4881685783797388 + 1.215852552788401e-16im, nothing], llim = nothing, rlim = nothing), label = 0.5769136581507517), Union{Nothing, ITensor}[nothing nothing nothing; nothing nothing nothing; … ; nothing nothing nothing; nothing nothing nothing], nothing, nothing, nothing))"
      ]
     },
     "metadata": {},
     "output_type": "display_data"
    }
   ],
   "source": [
    "f, (∇,) = withgradient(loss_per_sample, BT, all_pstates[101], RE, 101, 1, 2)"
   ]
  },
  {
   "cell_type": "code",
   "execution_count": 48,
   "metadata": {},
   "outputs": [
    {
     "data": {
      "text/plain": [
       "test_alternative_approach (generic function with 1 method)"
      ]
     },
     "metadata": {},
     "output_type": "display_data"
    }
   ],
   "source": [
    "function test_alternative_approach()\n",
    "    nabs = Vector{ITensor}(undef, 200)\n",
    "    fs = Vector{Float64}(undef, 200)\n",
    "    for i=1:200\n",
    "        f, (∇,) = withgradient(loss_per_sample, BT, all_pstates[i], RE, i, 1, 2)\n",
    "        nabs[i] = ∇\n",
    "        fs[i] = f\n",
    "    end\n",
    "end"
   ]
  },
  {
   "cell_type": "code",
   "execution_count": 51,
   "metadata": {},
   "outputs": [
    {
     "data": {
      "text/plain": [
       "BenchmarkTools.Trial: 31 samples with 1 evaluation.\n",
       " Range \u001b[90m(\u001b[39m\u001b[36m\u001b[1mmin\u001b[22m\u001b[39m … \u001b[35mmax\u001b[39m\u001b[90m):  \u001b[39m\u001b[36m\u001b[1m159.902 ms\u001b[22m\u001b[39m … \u001b[35m170.203 ms\u001b[39m  \u001b[90m┊\u001b[39m GC \u001b[90m(\u001b[39mmin … max\u001b[90m): \u001b[39m0.00% … 1.06%\n",
       " Time  \u001b[90m(\u001b[39m\u001b[34m\u001b[1mmedian\u001b[22m\u001b[39m\u001b[90m):     \u001b[39m\u001b[34m\u001b[1m162.480 ms               \u001b[22m\u001b[39m\u001b[90m┊\u001b[39m GC \u001b[90m(\u001b[39mmedian\u001b[90m):    \u001b[39m0.00%\n",
       " Time  \u001b[90m(\u001b[39m\u001b[32m\u001b[1mmean\u001b[22m\u001b[39m ± \u001b[32mσ\u001b[39m\u001b[90m):   \u001b[39m\u001b[32m\u001b[1m163.108 ms\u001b[22m\u001b[39m ± \u001b[32m  2.504 ms\u001b[39m  \u001b[90m┊\u001b[39m GC \u001b[90m(\u001b[39mmean ± σ\u001b[90m):  \u001b[39m0.45% ± 0.58%\n",
       "\n",
       "  \u001b[39m█\u001b[39m \u001b[39m█\u001b[39m▁\u001b[39m▁\u001b[39m▁\u001b[39m \u001b[39m▁\u001b[39m \u001b[39m▁\u001b[39m▁\u001b[39m█\u001b[39m \u001b[39m█\u001b[39m▁\u001b[34m▁\u001b[39m\u001b[39m \u001b[39m \u001b[39m \u001b[32m▁\u001b[39m\u001b[39m▁\u001b[39m█\u001b[39m█\u001b[39m \u001b[39m▁\u001b[39m \u001b[39m▁\u001b[39m \u001b[39m▁\u001b[39m \u001b[39m█\u001b[39m \u001b[39m \u001b[39m \u001b[39m \u001b[39m \u001b[39m \u001b[39m \u001b[39m \u001b[39m \u001b[39m▁\u001b[39m \u001b[39m \u001b[39m▁\u001b[39m \u001b[39m \u001b[39m \u001b[39m \u001b[39m▁\u001b[39m \u001b[39m \u001b[39m \u001b[39m \u001b[39m \u001b[39m \u001b[39m \u001b[39m \u001b[39m \u001b[39m \u001b[39m \u001b[39m▁\u001b[39m \u001b[39m \n",
       "  \u001b[39m█\u001b[39m▁\u001b[39m█\u001b[39m█\u001b[39m█\u001b[39m█\u001b[39m▁\u001b[39m█\u001b[39m▁\u001b[39m█\u001b[39m█\u001b[39m█\u001b[39m▁\u001b[39m█\u001b[39m█\u001b[34m█\u001b[39m\u001b[39m▁\u001b[39m▁\u001b[39m▁\u001b[32m█\u001b[39m\u001b[39m█\u001b[39m█\u001b[39m█\u001b[39m▁\u001b[39m█\u001b[39m▁\u001b[39m█\u001b[39m▁\u001b[39m█\u001b[39m▁\u001b[39m█\u001b[39m▁\u001b[39m▁\u001b[39m▁\u001b[39m▁\u001b[39m▁\u001b[39m▁\u001b[39m▁\u001b[39m▁\u001b[39m▁\u001b[39m█\u001b[39m▁\u001b[39m▁\u001b[39m█\u001b[39m▁\u001b[39m▁\u001b[39m▁\u001b[39m▁\u001b[39m█\u001b[39m▁\u001b[39m▁\u001b[39m▁\u001b[39m▁\u001b[39m▁\u001b[39m▁\u001b[39m▁\u001b[39m▁\u001b[39m▁\u001b[39m▁\u001b[39m▁\u001b[39m█\u001b[39m \u001b[39m▁\n",
       "  160 ms\u001b[90m           Histogram: frequency by time\u001b[39m          170 ms \u001b[0m\u001b[1m<\u001b[22m\n",
       "\n",
       " Memory estimate\u001b[90m: \u001b[39m\u001b[33m17.73 MiB\u001b[39m, allocs estimate\u001b[90m: \u001b[39m\u001b[33m203719\u001b[39m."
      ]
     },
     "metadata": {},
     "output_type": "display_data"
    }
   ],
   "source": [
    "@benchmark test_alternative_approach()"
   ]
  },
  {
   "cell_type": "code",
   "execution_count": 37,
   "metadata": {},
   "outputs": [],
   "source": [
    "nabs = Vector{ITensor}(undef, 200)\n",
    "fs = Vector{Float64}(undef, 200)\n",
    "for i=1:200\n",
    "    f, (∇,) = withgradient(loss_per_sample, BT, all_pstates[i], RE, i, 1, 2)\n",
    "    nabs[i] = ∇\n",
    "    fs[i] = f\n",
    "end"
   ]
  },
  {
   "cell_type": "code",
   "execution_count": 38,
   "metadata": {},
   "outputs": [
    {
     "data": {
      "text/plain": [
       "19.601129048218283"
      ]
     },
     "metadata": {},
     "output_type": "display_data"
    }
   ],
   "source": [
    "∇_total = sum(nabs)\n",
    "fs_total = sum(fs)"
   ]
  },
  {
   "cell_type": "code",
   "execution_count": 39,
   "metadata": {},
   "outputs": [
    {
     "data": {
      "text/plain": [
       "0.09800564524109141"
      ]
     },
     "metadata": {},
     "output_type": "display_data"
    }
   ],
   "source": [
    "gradient_tensor = ∇_total ./ 200\n",
    "loss_final = fs_total / 200"
   ]
  },
  {
   "cell_type": "code",
   "execution_count": 41,
   "metadata": {},
   "outputs": [
    {
     "name": "stdout",
     "output_type": "stream",
     "text": [
      "gradient_tensor = ITensor ord=3\n",
      "Dim 1: (dim=2|id=386|\"Link,l=2\")\n",
      "Dim 2: (dim=2|id=777|\"S=1/2,Site,n=2\")\n",
      "Dim 3: (dim=2|id=711|\"S=1/2,Site,n=1\")\n",
      "NDTensors.Dense{ComplexF64, Vector{ComplexF64}}\n",
      " 2×2×2\n",
      "[:, :, 1] =\n",
      " 0.004857329134037524 - 0.0153055904724757im   0.0 + 0.0im\n",
      " -0.06839490082813432 + 0.09931055228702056im  0.0 + 0.0im\n",
      "\n",
      "[:, :, 2] =\n",
      " 0.0 + 0.0im  0.06118497421631818 - 0.2793096582474026im\n",
      " 0.0 + 0.0im  0.01863641694478835 - 0.03320451691485096im\n"
     ]
    },
    {
     "data": {
      "text/plain": [
       "ITensor ord=3 (dim=2|id=386|\"Link,l=2\") (dim=2|id=777|\"S=1/2,Site,n=2\") (dim=2|id=711|\"S=1/2,Site,n=1\")\n",
       "NDTensors.Dense{ComplexF64, Vector{ComplexF64}}"
      ]
     },
     "metadata": {},
     "output_type": "display_data"
    }
   ],
   "source": [
    "@show gradient_tensor"
   ]
  },
  {
   "cell_type": "code",
   "execution_count": null,
   "metadata": {},
   "outputs": [],
   "source": []
  },
  {
   "cell_type": "markdown",
   "metadata": {},
   "source": [
    "Apply update"
   ]
  },
  {
   "cell_type": "code",
   "execution_count": 23,
   "metadata": {},
   "outputs": [
    {
     "data": {
      "text/plain": [
       "ITensor ord=3 (dim=2|id=711|\"S=1/2,Site,n=1\") (dim=2|id=777|\"S=1/2,Site,n=2\") (dim=2|id=386|\"Link,l=2\")\n",
       "NDTensors.Dense{ComplexF64, Vector{ComplexF64}}"
      ]
     },
     "metadata": {},
     "output_type": "display_data"
    }
   ],
   "source": [
    "BT_old = BT"
   ]
  },
  {
   "cell_type": "code",
   "execution_count": 24,
   "metadata": {},
   "outputs": [
    {
     "data": {
      "text/plain": [
       "ITensor ord=3 (dim=2|id=711|\"S=1/2,Site,n=1\") (dim=2|id=777|\"S=1/2,Site,n=2\") (dim=2|id=386|\"Link,l=2\")\n",
       "NDTensors.Dense{ComplexF64, Vector{ComplexF64}}"
      ]
     },
     "metadata": {},
     "output_type": "display_data"
    }
   ],
   "source": [
    "lr = 0.5\n",
    "BT_new = BT_old - lr * gradient_tensor"
   ]
  },
  {
   "cell_type": "code",
   "execution_count": 25,
   "metadata": {},
   "outputs": [
    {
     "data": {
      "text/plain": [
       "0.093608260020248"
      ]
     },
     "metadata": {},
     "output_type": "display_data"
    }
   ],
   "source": [
    "loss_per_sample(BT_new, all_pstates[101], RE, 101, 1, 2)"
   ]
  },
  {
   "cell_type": "markdown",
   "metadata": {},
   "source": [
    "#### SVD apart new bond tensor"
   ]
  },
  {
   "cell_type": "code",
   "execution_count": 349,
   "metadata": {},
   "outputs": [
    {
     "data": {
      "text/plain": [
       "ITensor ord=3 (dim=2|id=703|\"S=1/2,Site,n=1\") (dim=2|id=922|\"S=1/2,Site,n=2\") (dim=2|id=767|\"Link,l=2\")\n",
       "NDTensors.Dense{ComplexF64, Vector{ComplexF64}}"
      ]
     },
     "metadata": {},
     "output_type": "display_data"
    }
   ],
   "source": [
    "BT_new"
   ]
  },
  {
   "cell_type": "code",
   "execution_count": 350,
   "metadata": {},
   "outputs": [
    {
     "data": {
      "text/plain": [
       "1-element Vector{Index{Int64}}:\n",
       " (dim=2|id=703|\"S=1/2,Site,n=1\")"
      ]
     },
     "metadata": {},
     "output_type": "display_data"
    }
   ],
   "source": [
    "left_site_index = uniqueinds(mps[1], mps[2])"
   ]
  },
  {
   "cell_type": "code",
   "execution_count": 351,
   "metadata": {},
   "outputs": [],
   "source": [
    "U, S, V = svd(BT_new, left_site_index; lefttags=\"Link,l=1\");"
   ]
  },
  {
   "cell_type": "code",
   "execution_count": 352,
   "metadata": {},
   "outputs": [
    {
     "data": {
      "text/plain": [
       "ITensor ord=2 (dim=2|id=703|\"S=1/2,Site,n=1\") (dim=2|id=986|\"Link,l=1\")\n",
       "NDTensors.Dense{ComplexF64, Vector{ComplexF64}}"
      ]
     },
     "metadata": {},
     "output_type": "display_data"
    }
   ],
   "source": [
    "U"
   ]
  },
  {
   "cell_type": "code",
   "execution_count": 353,
   "metadata": {},
   "outputs": [
    {
     "data": {
      "text/plain": [
       "ITensor ord=2 (dim=2|id=986|\"Link,l=1\") (dim=2|id=211|\"Link,v\")\n",
       "NDTensors.Diag{Float64, Vector{Float64}}"
      ]
     },
     "metadata": {},
     "output_type": "display_data"
    }
   ],
   "source": [
    "S"
   ]
  },
  {
   "cell_type": "code",
   "execution_count": 354,
   "metadata": {},
   "outputs": [
    {
     "data": {
      "text/plain": [
       "ITensor ord=3 (dim=2|id=922|\"S=1/2,Site,n=2\") (dim=2|id=767|\"Link,l=2\") (dim=2|id=211|\"Link,v\")\n",
       "NDTensors.Dense{ComplexF64, Vector{ComplexF64}}"
      ]
     },
     "metadata": {},
     "output_type": "display_data"
    }
   ],
   "source": [
    "V"
   ]
  },
  {
   "cell_type": "code",
   "execution_count": 355,
   "metadata": {},
   "outputs": [
    {
     "data": {
      "text/plain": [
       "ITensor ord=3 (dim=2|id=986|\"Link,l=1\") (dim=2|id=922|\"S=1/2,Site,n=2\") (dim=2|id=767|\"Link,l=2\")\n",
       "NDTensors.Dense{ComplexF64, Vector{ComplexF64}}"
      ]
     },
     "metadata": {},
     "output_type": "display_data"
    }
   ],
   "source": [
    "left_site_new = U\n",
    "right_site_new = S * V"
   ]
  },
  {
   "cell_type": "code",
   "execution_count": 356,
   "metadata": {},
   "outputs": [],
   "source": [
    "for i = 1:200\n",
    "    LE[i, 1] = left_site_new * conj(all_pstates[i].pstate[1])\n",
    "end"
   ]
  },
  {
   "cell_type": "markdown",
   "metadata": {},
   "source": [
    "Add sites back into the mps"
   ]
  },
  {
   "cell_type": "code",
   "execution_count": 357,
   "metadata": {},
   "outputs": [
    {
     "data": {
      "text/plain": [
       "ITensor ord=2 (dim=2|id=703|\"S=1/2,Site,n=1\") (dim=2|id=986|\"Link,l=1\")\n",
       "NDTensors.Dense{ComplexF64, Vector{ComplexF64}}"
      ]
     },
     "metadata": {},
     "output_type": "display_data"
    }
   ],
   "source": [
    "mps[1] = left_site_new"
   ]
  },
  {
   "cell_type": "code",
   "execution_count": 358,
   "metadata": {},
   "outputs": [
    {
     "data": {
      "text/plain": [
       "ITensor ord=3 (dim=2|id=986|\"Link,l=1\") (dim=2|id=922|\"S=1/2,Site,n=2\") (dim=2|id=767|\"Link,l=2\")\n",
       "NDTensors.Dense{ComplexF64, Vector{ComplexF64}}"
      ]
     },
     "metadata": {},
     "output_type": "display_data"
    }
   ],
   "source": [
    "mps[2] = right_site_new"
   ]
  },
  {
   "cell_type": "code",
   "execution_count": 359,
   "metadata": {},
   "outputs": [
    {
     "data": {
      "text/plain": [
       "MPS\n",
       "[1] ((dim=2|id=703|\"S=1/2,Site,n=1\"), (dim=2|id=986|\"Link,l=1\"))\n",
       "[2] ((dim=2|id=986|\"Link,l=1\"), (dim=2|id=922|\"S=1/2,Site,n=2\"), (dim=2|id=767|\"Link,l=2\"))\n",
       "[3] ((dim=2|id=767|\"Link,l=2\"), (dim=2|id=503|\"S=1/2,Site,n=3\"))\n"
      ]
     },
     "metadata": {},
     "output_type": "display_data"
    }
   ],
   "source": [
    "normalize!(mps)"
   ]
  },
  {
   "cell_type": "markdown",
   "metadata": {},
   "source": [
    "# Now for sites 2-3"
   ]
  },
  {
   "cell_type": "code",
   "execution_count": 360,
   "metadata": {},
   "outputs": [
    {
     "data": {
      "text/plain": [
       "ITensor ord=3 (dim=2|id=986|\"Link,l=1\") (dim=2|id=922|\"S=1/2,Site,n=2\") (dim=2|id=503|\"S=1/2,Site,n=3\")\n",
       "NDTensors.Dense{ComplexF64, Vector{ComplexF64}}"
      ]
     },
     "metadata": {},
     "output_type": "display_data"
    }
   ],
   "source": [
    "BT_s2s3 = mps[2] * mps[3]"
   ]
  },
  {
   "cell_type": "code",
   "execution_count": 380,
   "metadata": {},
   "outputs": [
    {
     "data": {
      "text/plain": [
       "loss_per_sample2 (generic function with 2 methods)"
      ]
     },
     "metadata": {},
     "output_type": "display_data"
    }
   ],
   "source": [
    "function loss_per_sample2(BT::ITensor, ps::PState, LE::Matrix, psid::Int, lid::Int, rid::Int)\n",
    "    y = ps.label\n",
    "    yhat = BT * conj(ps.pstate[lid]) * conj(ps.pstate[rid])\n",
    "    yhat *= LE[psid, lid-1]\n",
    "    \n",
    "    yhat = abs(yhat[])\n",
    "\n",
    "    diff_sq = (yhat - y)^2\n",
    "\n",
    "    loss = 0.5 * diff_sq\n",
    "\n",
    "    return loss\n",
    "    \n",
    "end\n"
   ]
  },
  {
   "cell_type": "code",
   "execution_count": 394,
   "metadata": {},
   "outputs": [
    {
     "data": {
      "text/plain": [
       "0.16517458495287118"
      ]
     },
     "metadata": {},
     "output_type": "display_data"
    }
   ],
   "source": [
    "loss_per_sample2(BT_s2s3, all_pstates[101], LE, 101, 2, 3)"
   ]
  },
  {
   "cell_type": "code",
   "execution_count": 375,
   "metadata": {},
   "outputs": [
    {
     "data": {
      "text/plain": [
       "200-element Vector{ITensor}:\n",
       " ITensor ord=1\n",
       "Dim 1: (dim=2|id=986|\"Link,l=1\")\n",
       "NDTensors.Dense{ComplexF64, Vector{ComplexF64}}\n",
       " 2-element\n",
       " -0.7171921444508376 + 4.6419259161868125e-18im\n",
       " -0.6968754752019972 - 4.9483564363427824e-18im\n",
       " ITensor ord=1\n",
       "Dim 1: (dim=2|id=986|\"Link,l=1\")\n",
       "NDTensors.Dense{ComplexF64, Vector{ComplexF64}}\n",
       " 2-element\n",
       " -0.7171921444508376 + 4.6419259161868125e-18im\n",
       " -0.6968754752019972 - 4.9483564363427824e-18im\n",
       " ITensor ord=1\n",
       "Dim 1: (dim=2|id=986|\"Link,l=1\")\n",
       "NDTensors.Dense{ComplexF64, Vector{ComplexF64}}\n",
       " 2-element\n",
       " -0.7171921444508376 + 4.6419259161868125e-18im\n",
       " -0.6968754752019972 - 4.9483564363427824e-18im\n",
       " ITensor ord=1\n",
       "Dim 1: (dim=2|id=986|\"Link,l=1\")\n",
       "NDTensors.Dense{ComplexF64, Vector{ComplexF64}}\n",
       " 2-element\n",
       " -0.7171921444508376 + 4.6419259161868125e-18im\n",
       " -0.6968754752019972 - 4.9483564363427824e-18im\n",
       " ITensor ord=1\n",
       "Dim 1: (dim=2|id=986|\"Link,l=1\")\n",
       "NDTensors.Dense{ComplexF64, Vector{ComplexF64}}\n",
       " 2-element\n",
       " -0.7171921444508376 + 4.6419259161868125e-18im\n",
       " -0.6968754752019972 - 4.9483564363427824e-18im\n",
       " ITensor ord=1\n",
       "Dim 1: (dim=2|id=986|\"Link,l=1\")\n",
       "NDTensors.Dense{ComplexF64, Vector{ComplexF64}}\n",
       " 2-element\n",
       " -0.7171921444508376 + 4.6419259161868125e-18im\n",
       " -0.6968754752019972 - 4.9483564363427824e-18im\n",
       " ITensor ord=1\n",
       "Dim 1: (dim=2|id=986|\"Link,l=1\")\n",
       "NDTensors.Dense{ComplexF64, Vector{ComplexF64}}\n",
       " 2-element\n",
       " -0.7171921444508376 + 4.6419259161868125e-18im\n",
       " -0.6968754752019972 - 4.9483564363427824e-18im\n",
       " ITensor ord=1\n",
       "Dim 1: (dim=2|id=986|\"Link,l=1\")\n",
       "NDTensors.Dense{ComplexF64, Vector{ComplexF64}}\n",
       " 2-element\n",
       " -0.7171921444508376 + 4.6419259161868125e-18im\n",
       " -0.6968754752019972 - 4.9483564363427824e-18im\n",
       " ITensor ord=1\n",
       "Dim 1: (dim=2|id=986|\"Link,l=1\")\n",
       "NDTensors.Dense{ComplexF64, Vector{ComplexF64}}\n",
       " 2-element\n",
       " -0.7171921444508376 + 4.6419259161868125e-18im\n",
       " -0.6968754752019972 - 4.9483564363427824e-18im\n",
       " ITensor ord=1\n",
       "Dim 1: (dim=2|id=986|\"Link,l=1\")\n",
       "NDTensors.Dense{ComplexF64, Vector{ComplexF64}}\n",
       " 2-element\n",
       " -0.7171921444508376 + 4.6419259161868125e-18im\n",
       " -0.6968754752019972 - 4.9483564363427824e-18im\n",
       " ⋮\n",
       " ITensor ord=1\n",
       "Dim 1: (dim=2|id=986|\"Link,l=1\")\n",
       "NDTensors.Dense{ComplexF64, Vector{ComplexF64}}\n",
       " 2-element\n",
       " -0.5835650839276536 - 0.38090316454253786im\n",
       "  0.6005783082657514 + 0.3920079944371533im\n",
       " ITensor ord=1\n",
       "Dim 1: (dim=2|id=986|\"Link,l=1\")\n",
       "NDTensors.Dense{ComplexF64, Vector{ComplexF64}}\n",
       " 2-element\n",
       " -0.5835650839276536 - 0.38090316454253786im\n",
       "  0.6005783082657514 + 0.3920079944371533im\n",
       " ITensor ord=1\n",
       "Dim 1: (dim=2|id=986|\"Link,l=1\")\n",
       "NDTensors.Dense{ComplexF64, Vector{ComplexF64}}\n",
       " 2-element\n",
       " -0.5835650839276536 - 0.38090316454253786im\n",
       "  0.6005783082657514 + 0.3920079944371533im\n",
       " ITensor ord=1\n",
       "Dim 1: (dim=2|id=986|\"Link,l=1\")\n",
       "NDTensors.Dense{ComplexF64, Vector{ComplexF64}}\n",
       " 2-element\n",
       " -0.5835650839276536 - 0.38090316454253786im\n",
       "  0.6005783082657514 + 0.3920079944371533im\n",
       " ITensor ord=1\n",
       "Dim 1: (dim=2|id=986|\"Link,l=1\")\n",
       "NDTensors.Dense{ComplexF64, Vector{ComplexF64}}\n",
       " 2-element\n",
       " -0.5835650839276536 - 0.38090316454253786im\n",
       "  0.6005783082657514 + 0.3920079944371533im\n",
       " ITensor ord=1\n",
       "Dim 1: (dim=2|id=986|\"Link,l=1\")\n",
       "NDTensors.Dense{ComplexF64, Vector{ComplexF64}}\n",
       " 2-element\n",
       " -0.5835650839276536 - 0.38090316454253786im\n",
       "  0.6005783082657514 + 0.3920079944371533im\n",
       " ITensor ord=1\n",
       "Dim 1: (dim=2|id=986|\"Link,l=1\")\n",
       "NDTensors.Dense{ComplexF64, Vector{ComplexF64}}\n",
       " 2-element\n",
       " -0.5835650839276536 - 0.38090316454253786im\n",
       "  0.6005783082657514 + 0.3920079944371533im\n",
       " ITensor ord=1\n",
       "Dim 1: (dim=2|id=986|\"Link,l=1\")\n",
       "NDTensors.Dense{ComplexF64, Vector{ComplexF64}}\n",
       " 2-element\n",
       " -0.5835650839276536 - 0.38090316454253786im\n",
       "  0.6005783082657514 + 0.3920079944371533im\n",
       " ITensor ord=1\n",
       "Dim 1: (dim=2|id=986|\"Link,l=1\")\n",
       "NDTensors.Dense{ComplexF64, Vector{ComplexF64}}\n",
       " 2-element\n",
       " -0.5835650839276536 - 0.38090316454253786im\n",
       "  0.6005783082657514 + 0.3920079944371533im"
      ]
     },
     "metadata": {},
     "output_type": "display_data"
    }
   ],
   "source": [
    "LE[:, 2] = LE[:, 1]\n",
    "LE[:, 3] = LE[:, 1]"
   ]
  },
  {
   "cell_type": "code",
   "execution_count": 377,
   "metadata": {},
   "outputs": [
    {
     "data": {
      "text/plain": [
       "(ITensor ord=3\n",
       "Dim 1: (dim=2|id=986|\"Link,l=1\")\n",
       "Dim 2: (dim=2|id=503|\"S=1/2,Site,n=3\")\n",
       "Dim 3: (dim=2|id=922|\"S=1/2,Site,n=2\")\n",
       "NDTensors.Dense{ComplexF64, Vector{ComplexF64}}\n",
       " 2×2×2\n",
       "[:, :, 1] =\n",
       " -0.049483289637400146 + 0.2229569378368305im   0.0 + 0.0im\n",
       "  -0.04808152354628181 + 0.21664099810183296im  0.0 + 0.0im\n",
       "\n",
       "[:, :, 2] =\n",
       " 0.0 + 0.0im  0.0 + 0.0im\n",
       " 0.0 + 0.0im  0.0 + 0.0im, (pstate = (data = Union{Nothing, ITensor}[nothing, ITensor ord=1\n",
       "Dim 1: (dim=2|id=922|\"S=1/2,Site,n=2\")\n",
       "NDTensors.Dense{ComplexF64, Vector{ComplexF64}}\n",
       " 2-element\n",
       " 0.10140354704800512 + 1.2042038752093967e-18im\n",
       " 0.07096073107074409 + 0.05167708915573277im, ITensor ord=1\n",
       "Dim 1: (dim=2|id=503|\"S=1/2,Site,n=3\")\n",
       "NDTensors.Dense{ComplexF64, Vector{ComplexF64}}\n",
       " 2-element\n",
       " 0.20280709409601025 + 2.4084077504187934e-18im\n",
       " 0.09035702443087401 - 0.04775258323717094im], llim = nothing, rlim = nothing), label = -0.3184392360372778), Union{Nothing, ITensor}[ITensor ord=1\n",
       "Dim 1: (dim=2|id=986|\"Link,l=1\")\n",
       "NDTensors.Dense{ComplexF64, Vector{ComplexF64}}\n",
       " 2-element\n",
       " -0.030614979690052717 - 0.06530052709142074im\n",
       "  -0.11400419004377911 + 0.06720429506418055im nothing nothing; nothing nothing nothing; … ; nothing nothing nothing; nothing nothing nothing], nothing, nothing, nothing)"
      ]
     },
     "metadata": {},
     "output_type": "display_data"
    }
   ],
   "source": [
    "nab = gradient(loss_per_sample2, BT_s2s3, all_pstates[1], LE, 1, 2, 3)"
   ]
  },
  {
   "cell_type": "code",
   "execution_count": 378,
   "metadata": {},
   "outputs": [
    {
     "data": {
      "text/plain": [
       "ITensor ord=3 (dim=2|id=986|\"Link,l=1\") (dim=2|id=503|\"S=1/2,Site,n=3\") (dim=2|id=922|\"S=1/2,Site,n=2\")\n",
       "NDTensors.Dense{ComplexF64, Vector{ComplexF64}}"
      ]
     },
     "metadata": {},
     "output_type": "display_data"
    }
   ],
   "source": [
    "nab[1]"
   ]
  },
  {
   "cell_type": "code",
   "execution_count": 382,
   "metadata": {},
   "outputs": [],
   "source": [
    "nabs = Vector{ITensor}(undef, 200)\n",
    "fs = Vector{Float64}(undef, 200)\n",
    "for i=1:200\n",
    "    f, (∇,) = withgradient(loss_per_sample2, BT_s2s3, all_pstates[i], LE, i, 2, 3)\n",
    "    nabs[i] = ∇\n",
    "    fs[i] = f\n",
    "end"
   ]
  },
  {
   "cell_type": "code",
   "execution_count": 385,
   "metadata": {},
   "outputs": [
    {
     "data": {
      "text/plain": [
       "21.58763584768739"
      ]
     },
     "metadata": {},
     "output_type": "display_data"
    }
   ],
   "source": [
    "∇_total = sum(nabs)\n",
    "fs_total = sum(fs)"
   ]
  },
  {
   "cell_type": "code",
   "execution_count": 386,
   "metadata": {},
   "outputs": [
    {
     "data": {
      "text/plain": [
       "0.10793817923843696"
      ]
     },
     "metadata": {},
     "output_type": "display_data"
    }
   ],
   "source": [
    "gradient_tensor = ∇_total ./ 200\n",
    "loss_final = fs_total / 200"
   ]
  },
  {
   "cell_type": "code",
   "execution_count": 387,
   "metadata": {},
   "outputs": [
    {
     "data": {
      "text/plain": [
       "ITensor ord=3 (dim=2|id=986|\"Link,l=1\") (dim=2|id=922|\"S=1/2,Site,n=2\") (dim=2|id=503|\"S=1/2,Site,n=3\")\n",
       "NDTensors.Dense{ComplexF64, Vector{ComplexF64}}"
      ]
     },
     "metadata": {},
     "output_type": "display_data"
    }
   ],
   "source": [
    "BT_old = BT_s2s3"
   ]
  },
  {
   "cell_type": "code",
   "execution_count": 388,
   "metadata": {},
   "outputs": [
    {
     "data": {
      "text/plain": [
       "ITensor ord=3 (dim=2|id=986|\"Link,l=1\") (dim=2|id=922|\"S=1/2,Site,n=2\") (dim=2|id=503|\"S=1/2,Site,n=3\")\n",
       "NDTensors.Dense{ComplexF64, Vector{ComplexF64}}"
      ]
     },
     "metadata": {},
     "output_type": "display_data"
    }
   ],
   "source": [
    "lr = 0.5\n",
    "BT_new = BT_old - lr * gradient_tensor"
   ]
  },
  {
   "cell_type": "code",
   "execution_count": 395,
   "metadata": {},
   "outputs": [
    {
     "data": {
      "text/plain": [
       "0.09291070403599008"
      ]
     },
     "metadata": {},
     "output_type": "display_data"
    }
   ],
   "source": [
    "loss_per_sample2(BT_new, all_pstates[101], LE, 101, 2, 3)"
   ]
  },
  {
   "cell_type": "code",
   "execution_count": 396,
   "metadata": {},
   "outputs": [
    {
     "data": {
      "text/plain": [
       "2-element Vector{Index{Int64}}:\n",
       " (dim=2|id=986|\"Link,l=1\")\n",
       " (dim=2|id=922|\"S=1/2,Site,n=2\")"
      ]
     },
     "metadata": {},
     "output_type": "display_data"
    }
   ],
   "source": [
    "left_site_index = uniqueinds(mps[2], mps[3])"
   ]
  },
  {
   "cell_type": "code",
   "execution_count": 397,
   "metadata": {},
   "outputs": [
    {
     "data": {
      "text/plain": [
       "ITensors.TruncSVD(ITensor ord=3\n",
       "Dim 1: (dim=2|id=986|\"Link,l=1\")\n",
       "Dim 2: (dim=2|id=922|\"S=1/2,Site,n=2\")\n",
       "Dim 3: (dim=2|id=20|\"Link,l=2\")\n",
       "NDTensors.Dense{ComplexF64, Vector{ComplexF64}}\n",
       " 2×2×2\n",
       "[:, :, 1] =\n",
       " -0.3455968705625582 + 0.08904580273074056im  …    0.7960877894942596 - 0.26786833948040506im\n",
       "   0.199377085293357 - 0.29330252798591516im     -0.07330340522004175 - 0.18966667581760785im\n",
       "\n",
       "[:, :, 2] =\n",
       " -0.061426409141553825 - 0.48859884184919017im  …  -0.32048491126437545 - 0.24380718428862477im\n",
       "    0.6507872317632465 - 0.3843265599983129im      0.014211587966985833 + 0.15463683767451142im, ITensor ord=2\n",
       "Dim 1: (dim=2|id=20|\"Link,l=2\")\n",
       "Dim 2: (dim=2|id=677|\"Link,v\")\n",
       "NDTensors.Diag{Float64, Vector{Float64}}\n",
       " 2×2\n",
       " 1.0149924244704531  0.0\n",
       " 0.0                 0.3022111408935106, ITensor ord=2\n",
       "Dim 1: (dim=2|id=503|\"S=1/2,Site,n=3\")\n",
       "Dim 2: (dim=2|id=677|\"Link,v\")\n",
       "NDTensors.Dense{ComplexF64, Vector{ComplexF64}}\n",
       " 2×2\n",
       " -0.5007863554939016 + 0.0im                 …  -0.8655709249686796 + 0.0im\n",
       " -0.3805265328822674 - 0.7774397622476847im     0.22015815235214425 + 0.44979702289116424im, Spectrum{Vector{Float64}, Float64}([1.0302096217324086, 0.0913315736801573], 0.0), (dim=2|id=20|\"Link,l=2\"), (dim=2|id=677|\"Link,v\"))"
      ]
     },
     "metadata": {},
     "output_type": "display_data"
    }
   ],
   "source": [
    "U, S, V = svd(BT_new, left_site_index; lefttags=\"Link,l=2\")"
   ]
  },
  {
   "cell_type": "code",
   "execution_count": 403,
   "metadata": {},
   "outputs": [
    {
     "data": {
      "text/plain": [
       "ITensor ord=2 (dim=2|id=20|\"Link,l=2\") (dim=2|id=503|\"S=1/2,Site,n=3\")\n",
       "NDTensors.Dense{ComplexF64, Vector{ComplexF64}}"
      ]
     },
     "metadata": {},
     "output_type": "display_data"
    }
   ],
   "source": [
    "left_site_new = U\n",
    "right_site_new = S * V"
   ]
  },
  {
   "cell_type": "code",
   "execution_count": 411,
   "metadata": {},
   "outputs": [
    {
     "data": {
      "text/plain": [
       "ITensor ord=2 (dim=2|id=20|\"Link,l=2\") (dim=2|id=503|\"S=1/2,Site,n=3\")\n",
       "NDTensors.Dense{ComplexF64, Vector{ComplexF64}}"
      ]
     },
     "metadata": {},
     "output_type": "display_data"
    }
   ],
   "source": [
    "mps[2] = left_site_new\n",
    "mps[3] = right_site_new"
   ]
  },
  {
   "cell_type": "code",
   "execution_count": 413,
   "metadata": {},
   "outputs": [
    {
     "data": {
      "text/plain": [
       "MPS\n",
       "[1] ((dim=2|id=703|\"S=1/2,Site,n=1\"), (dim=2|id=986|\"Link,l=1\"))\n",
       "[2] ((dim=2|id=986|\"Link,l=1\"), (dim=2|id=922|\"S=1/2,Site,n=2\"), (dim=2|id=20|\"Link,l=2\"))\n",
       "[3] ((dim=2|id=20|\"Link,l=2\"), (dim=2|id=503|\"S=1/2,Site,n=3\"))\n"
      ]
     },
     "metadata": {},
     "output_type": "display_data"
    }
   ],
   "source": [
    "normalize!(mps)"
   ]
  },
  {
   "cell_type": "code",
   "execution_count": 422,
   "metadata": {},
   "outputs": [],
   "source": [
    "res = 1\n",
    "for i=1:3\n",
    "    res *= mps[i] * all_pstates[101].pstate[i]\n",
    "end"
   ]
  },
  {
   "cell_type": "markdown",
   "metadata": {},
   "source": []
  },
  {
   "cell_type": "code",
   "execution_count": null,
   "metadata": {},
   "outputs": [],
   "source": []
  }
 ],
 "metadata": {
  "kernelspec": {
   "display_name": "Julia 1.10.2",
   "language": "julia",
   "name": "julia-1.10"
  },
  "language_info": {
   "file_extension": ".jl",
   "mimetype": "application/julia",
   "name": "julia",
   "version": "1.10.2"
  }
 },
 "nbformat": 4,
 "nbformat_minor": 2
}
