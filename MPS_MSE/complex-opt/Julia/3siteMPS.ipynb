{
 "cells": [
  {
   "cell_type": "code",
   "execution_count": 328,
   "metadata": {},
   "outputs": [],
   "source": [
    "using Zygote\n",
    "using Distributions\n",
    "using ITensors\n",
    "using Random\n",
    "using Plots \n",
    "using Base.Threads"
   ]
  },
  {
   "cell_type": "code",
   "execution_count": 329,
   "metadata": {},
   "outputs": [],
   "source": [
    "struct PState\n",
    "    pstate::MPS\n",
    "    label::Int\n",
    "end"
   ]
  },
  {
   "cell_type": "code",
   "execution_count": 330,
   "metadata": {},
   "outputs": [
    {
     "data": {
      "text/plain": [
       "complex_feature_map (generic function with 1 method)"
      ]
     },
     "metadata": {},
     "output_type": "display_data"
    }
   ],
   "source": [
    "function complex_feature_map(x::Float64)\n",
    "    s1 = exp(1im * (3π/2) * x) * cospi(0.5 * x)\n",
    "    s2 = exp(-1im * (2π/2) * x) * sinpi(0.5 * x)\n",
    "    return [s1, s2]\n",
    "end"
   ]
  },
  {
   "cell_type": "code",
   "execution_count": 331,
   "metadata": {},
   "outputs": [
    {
     "data": {
      "text/plain": [
       "generate_training_data (generic function with 1 method)"
      ]
     },
     "metadata": {},
     "output_type": "display_data"
    }
   ],
   "source": [
    "function generate_training_data(samples_per_class::Int)\n",
    "\n",
    "    class_A_samples = zeros(samples_per_class, 3)\n",
    "    class_B_samples = ones(samples_per_class, 3)\n",
    "    all_samples = vcat(class_A_samples, class_B_samples)\n",
    "    all_labels = Int.(vcat(zeros(size(class_A_samples)[1]), ones(size(class_B_samples)[1])))\n",
    "\n",
    "    return all_samples, all_labels\n",
    "\n",
    "end"
   ]
  },
  {
   "cell_type": "code",
   "execution_count": 332,
   "metadata": {},
   "outputs": [
    {
     "data": {
      "text/plain": [
       "sample_to_product_state (generic function with 1 method)"
      ]
     },
     "metadata": {},
     "output_type": "display_data"
    }
   ],
   "source": [
    "function sample_to_product_state(sample::Vector, site_inds::Vector{Index{Int64}})\n",
    "    n_sites = length(site_inds)\n",
    "    product_state = MPS(ComplexF64, site_inds; linkdims=1)\n",
    "    for j=1:n_sites\n",
    "        T = ITensor(site_inds[j])\n",
    "        zero_state, one_state = complex_feature_map(sample[j])\n",
    "        T[1] = zero_state\n",
    "        T[2] = one_state\n",
    "        product_state[j] = T \n",
    "    end\n",
    "    return product_state\n",
    "end"
   ]
  },
  {
   "cell_type": "code",
   "execution_count": 333,
   "metadata": {},
   "outputs": [
    {
     "data": {
      "text/plain": [
       "dataset_to_product_state (generic function with 1 method)"
      ]
     },
     "metadata": {},
     "output_type": "display_data"
    }
   ],
   "source": [
    "function dataset_to_product_state(dataset::Matrix, labels::Vector, sites::Vector{Index{Int64}})\n",
    "\n",
    "    all_product_states = Vector{PState}(undef, size(dataset)[1])\n",
    "    for p=1:length(all_product_states)\n",
    "        sample_pstate = sample_to_product_state(dataset[p, :], sites)\n",
    "        sample_label = labels[p]\n",
    "        product_state = PState(sample_pstate, sample_label)\n",
    "        all_product_states[p] = product_state\n",
    "    end\n",
    "\n",
    "    return all_product_states\n",
    "\n",
    "end"
   ]
  },
  {
   "cell_type": "code",
   "execution_count": 334,
   "metadata": {},
   "outputs": [],
   "source": [
    "s = siteinds(\"S=1/2\", 3)\n",
    "mps = randomMPS(ComplexF64, s; linkdims=4)\n",
    "all_samples, all_labels = generate_training_data(100)\n",
    "all_pstates = dataset_to_product_state(all_samples, all_labels, s);"
   ]
  },
  {
   "cell_type": "code",
   "execution_count": 335,
   "metadata": {},
   "outputs": [
    {
     "data": {
      "text/plain": [
       "MPS\n",
       "[1] ((dim=2|id=703|\"S=1/2,Site,n=1\"), (dim=4|id=931|\"Link,l=1\"))\n",
       "[2] ((dim=4|id=931|\"Link,l=1\"), (dim=2|id=922|\"S=1/2,Site,n=2\"), (dim=2|id=767|\"Link,l=2\"))\n",
       "[3] ((dim=2|id=767|\"Link,l=2\"), (dim=2|id=503|\"S=1/2,Site,n=3\"))\n"
      ]
     },
     "metadata": {},
     "output_type": "display_data"
    }
   ],
   "source": [
    "mps"
   ]
  },
  {
   "cell_type": "markdown",
   "metadata": {},
   "source": [
    "Make loss function. Takes in:\n",
    "- Bond Tensor\n",
    "- product state\n",
    "- LE\n",
    "- RE \n",
    "\\\n",
    "Outputs:\n",
    "- Loss"
   ]
  },
  {
   "cell_type": "code",
   "execution_count": 336,
   "metadata": {},
   "outputs": [
    {
     "data": {
      "text/plain": [
       "3"
      ]
     },
     "metadata": {},
     "output_type": "display_data"
    }
   ],
   "source": [
    "N_train = 200\n",
    "num_sites = 3"
   ]
  },
  {
   "cell_type": "code",
   "execution_count": 337,
   "metadata": {},
   "outputs": [
    {
     "data": {
      "text/plain": [
       "ITensor ord=0\n",
       "NDTensors.EmptyStorage{NDTensors.EmptyNumber, NDTensors.Dense{NDTensors.EmptyNumber, Vector{NDTensors.EmptyNumber}}}"
      ]
     },
     "metadata": {},
     "output_type": "display_data"
    }
   ],
   "source": [
    "ITensor()"
   ]
  },
  {
   "cell_type": "code",
   "execution_count": 338,
   "metadata": {},
   "outputs": [],
   "source": [
    "LE = Matrix{ITensor}(undef, N_train, num_sites);\n",
    "RE = Matrix{ITensor}(undef, N_train, num_sites);"
   ]
  },
  {
   "cell_type": "code",
   "execution_count": 339,
   "metadata": {},
   "outputs": [],
   "source": [
    "for i = 1:N_train\n",
    "    RE[i, num_sites] = conj(all_pstates[i].pstate[num_sites]) * mps[num_sites]\n",
    "end\n",
    "\n",
    "for j = (num_sites-1):-1:1\n",
    "    for i = 1:N_train\n",
    "        RE[i, j] = RE[i, j+1] * mps[j] * conj(all_pstates[i].pstate[j])\n",
    "    end\n",
    "end"
   ]
  },
  {
   "cell_type": "code",
   "execution_count": 340,
   "metadata": {},
   "outputs": [
    {
     "data": {
      "text/plain": [
       "ITensor ord=3 (dim=2|id=703|\"S=1/2,Site,n=1\") (dim=2|id=922|\"S=1/2,Site,n=2\") (dim=2|id=767|\"Link,l=2\")\n",
       "NDTensors.Dense{ComplexF64, Vector{ComplexF64}}"
      ]
     },
     "metadata": {},
     "output_type": "display_data"
    }
   ],
   "source": [
    "BT = mps[1] * mps[2]"
   ]
  },
  {
   "cell_type": "code",
   "execution_count": 341,
   "metadata": {},
   "outputs": [
    {
     "data": {
      "text/plain": [
       "loss_per_sample (generic function with 6 methods)"
      ]
     },
     "metadata": {},
     "output_type": "display_data"
    }
   ],
   "source": [
    "function loss_per_sample(BT::ITensor, ps::PState, RE::Matrix, psid::Int, lid::Int, rid::Int)\n",
    "    y = ps.label\n",
    "    yhat = BT * conj(ps.pstate[lid]) * conj(ps.pstate[rid])\n",
    "    yhat *= RE[psid, rid+1]\n",
    "    \n",
    "    yhat = abs(yhat[])\n",
    "\n",
    "    diff_sq = (yhat - y)^2\n",
    "\n",
    "    loss = 0.5 * diff_sq\n",
    "\n",
    "    return loss\n",
    "    \n",
    "end\n"
   ]
  },
  {
   "cell_type": "code",
   "execution_count": 342,
   "metadata": {},
   "outputs": [
    {
     "data": {
      "text/plain": [
       "0.2665887185082914"
      ]
     },
     "metadata": {},
     "output_type": "display_data"
    }
   ],
   "source": [
    "loss_per_sample(BT, all_pstates[101], RE, 1, 1, 2)"
   ]
  },
  {
   "cell_type": "markdown",
   "metadata": {},
   "source": [
    "Returns gradient of loss function with resepct to each argument, so it will return 6 outputs. We only want the first (w.r.t. BT)"
   ]
  },
  {
   "cell_type": "code",
   "execution_count": 343,
   "metadata": {},
   "outputs": [
    {
     "data": {
      "text/plain": [
       "(val = 0.28868500425883253, grad = (ITensor ord=3\n",
       "Dim 1: (dim=2|id=767|\"Link,l=2\")\n",
       "Dim 2: (dim=2|id=922|\"S=1/2,Site,n=2\")\n",
       "Dim 3: (dim=2|id=703|\"S=1/2,Site,n=1\")\n",
       "NDTensors.Dense{ComplexF64, Vector{ComplexF64}}\n",
       " 2×2×2\n",
       "[:, :, 1] =\n",
       " 0.0 + 0.0im  0.0 + 0.0im\n",
       " 0.0 + 0.0im  0.0 + 0.0im\n",
       "\n",
       "[:, :, 2] =\n",
       " 0.0 + 0.0im  0.30019180092467457 + 0.1113492473465553im\n",
       " 0.0 + 0.0im  0.42217271984552895 + 0.544634217533979im, (pstate = (data = Union{Nothing, ITensor}[ITensor ord=1\n",
       "Dim 1: (dim=2|id=703|\"S=1/2,Site,n=1\")\n",
       "NDTensors.Dense{ComplexF64, Vector{ComplexF64}}\n",
       " 2-element\n",
       " -0.20129162898120856 + 0.3819683557724241im\n",
       "   0.1824786662312385 + 2.176810701100838e-17im, ITensor ord=1\n",
       "Dim 1: (dim=2|id=922|\"S=1/2,Site,n=2\")\n",
       "NDTensors.Dense{ComplexF64, Vector{ComplexF64}}\n",
       " 2-element\n",
       " -0.40113790112571196 + 0.3815515686438984im\n",
       "    0.364957332462477 + 3.8913218532997554e-17im, nothing], llim = nothing, rlim = nothing), label = 0.7598486747489036), Union{Nothing, ITensor}[nothing nothing nothing; nothing nothing nothing; … ; nothing nothing nothing; nothing nothing nothing], nothing, nothing, nothing))"
      ]
     },
     "metadata": {},
     "output_type": "display_data"
    }
   ],
   "source": [
    "f, (∇,) = withgradient(loss_per_sample, BT, all_pstates[101], RE, 101, 1, 2)"
   ]
  },
  {
   "cell_type": "code",
   "execution_count": 344,
   "metadata": {},
   "outputs": [],
   "source": [
    "nabs = Vector{ITensor}(undef, 200)\n",
    "fs = Vector{Float64}(undef, 200)\n",
    "for i=1:200\n",
    "    f, (∇,) = withgradient(loss_per_sample, BT, all_pstates[i], RE, i, 1, 2)\n",
    "    nabs[i] = ∇\n",
    "    fs[i] = f\n",
    "end"
   ]
  },
  {
   "cell_type": "code",
   "execution_count": 345,
   "metadata": {},
   "outputs": [
    {
     "data": {
      "text/plain": [
       "38.08994033569402"
      ]
     },
     "metadata": {},
     "output_type": "display_data"
    }
   ],
   "source": [
    "∇_total = sum(nabs)\n",
    "fs_total = sum(fs)"
   ]
  },
  {
   "cell_type": "code",
   "execution_count": 346,
   "metadata": {},
   "outputs": [
    {
     "data": {
      "text/plain": [
       "0.19044970167847008"
      ]
     },
     "metadata": {},
     "output_type": "display_data"
    }
   ],
   "source": [
    "gradient_tensor = ∇_total ./ 200\n",
    "loss_final = fs_total / 200"
   ]
  },
  {
   "cell_type": "markdown",
   "metadata": {},
   "source": [
    "Apply update"
   ]
  },
  {
   "cell_type": "code",
   "execution_count": 347,
   "metadata": {},
   "outputs": [
    {
     "data": {
      "text/plain": [
       "ITensor ord=3 (dim=2|id=703|\"S=1/2,Site,n=1\") (dim=2|id=922|\"S=1/2,Site,n=2\") (dim=2|id=767|\"Link,l=2\")\n",
       "NDTensors.Dense{ComplexF64, Vector{ComplexF64}}"
      ]
     },
     "metadata": {},
     "output_type": "display_data"
    }
   ],
   "source": [
    "BT_old = BT"
   ]
  },
  {
   "cell_type": "code",
   "execution_count": 348,
   "metadata": {},
   "outputs": [
    {
     "data": {
      "text/plain": [
       "ITensor ord=3 (dim=2|id=703|\"S=1/2,Site,n=1\") (dim=2|id=922|\"S=1/2,Site,n=2\") (dim=2|id=767|\"Link,l=2\")\n",
       "NDTensors.Dense{ComplexF64, Vector{ComplexF64}}"
      ]
     },
     "metadata": {},
     "output_type": "display_data"
    }
   ],
   "source": [
    "lr = 0.5\n",
    "BT_new = BT_old - lr * gradient_tensor"
   ]
  },
  {
   "cell_type": "markdown",
   "metadata": {},
   "source": [
    "#### SVD apart new bond tensor"
   ]
  },
  {
   "cell_type": "code",
   "execution_count": 349,
   "metadata": {},
   "outputs": [
    {
     "data": {
      "text/plain": [
       "ITensor ord=3 (dim=2|id=703|\"S=1/2,Site,n=1\") (dim=2|id=922|\"S=1/2,Site,n=2\") (dim=2|id=767|\"Link,l=2\")\n",
       "NDTensors.Dense{ComplexF64, Vector{ComplexF64}}"
      ]
     },
     "metadata": {},
     "output_type": "display_data"
    }
   ],
   "source": [
    "BT_new"
   ]
  },
  {
   "cell_type": "code",
   "execution_count": 350,
   "metadata": {},
   "outputs": [
    {
     "data": {
      "text/plain": [
       "1-element Vector{Index{Int64}}:\n",
       " (dim=2|id=703|\"S=1/2,Site,n=1\")"
      ]
     },
     "metadata": {},
     "output_type": "display_data"
    }
   ],
   "source": [
    "left_site_index = uniqueinds(mps[1], mps[2])"
   ]
  },
  {
   "cell_type": "code",
   "execution_count": 351,
   "metadata": {},
   "outputs": [],
   "source": [
    "U, S, V = svd(BT_new, left_site_index; lefttags=\"Link,l=1\");"
   ]
  },
  {
   "cell_type": "code",
   "execution_count": 352,
   "metadata": {},
   "outputs": [
    {
     "data": {
      "text/plain": [
       "ITensor ord=2 (dim=2|id=703|\"S=1/2,Site,n=1\") (dim=2|id=986|\"Link,l=1\")\n",
       "NDTensors.Dense{ComplexF64, Vector{ComplexF64}}"
      ]
     },
     "metadata": {},
     "output_type": "display_data"
    }
   ],
   "source": [
    "U"
   ]
  },
  {
   "cell_type": "code",
   "execution_count": 353,
   "metadata": {},
   "outputs": [
    {
     "data": {
      "text/plain": [
       "ITensor ord=2 (dim=2|id=986|\"Link,l=1\") (dim=2|id=211|\"Link,v\")\n",
       "NDTensors.Diag{Float64, Vector{Float64}}"
      ]
     },
     "metadata": {},
     "output_type": "display_data"
    }
   ],
   "source": [
    "S"
   ]
  },
  {
   "cell_type": "code",
   "execution_count": 354,
   "metadata": {},
   "outputs": [
    {
     "data": {
      "text/plain": [
       "ITensor ord=3 (dim=2|id=922|\"S=1/2,Site,n=2\") (dim=2|id=767|\"Link,l=2\") (dim=2|id=211|\"Link,v\")\n",
       "NDTensors.Dense{ComplexF64, Vector{ComplexF64}}"
      ]
     },
     "metadata": {},
     "output_type": "display_data"
    }
   ],
   "source": [
    "V"
   ]
  },
  {
   "cell_type": "code",
   "execution_count": 355,
   "metadata": {},
   "outputs": [
    {
     "data": {
      "text/plain": [
       "ITensor ord=3 (dim=2|id=986|\"Link,l=1\") (dim=2|id=922|\"S=1/2,Site,n=2\") (dim=2|id=767|\"Link,l=2\")\n",
       "NDTensors.Dense{ComplexF64, Vector{ComplexF64}}"
      ]
     },
     "metadata": {},
     "output_type": "display_data"
    }
   ],
   "source": [
    "left_site_new = U\n",
    "right_site_new = S * V"
   ]
  },
  {
   "cell_type": "code",
   "execution_count": 356,
   "metadata": {},
   "outputs": [],
   "source": [
    "for i = 1:200\n",
    "    LE[i, 1] = left_site_new * conj(all_pstates[i].pstate[1])\n",
    "end"
   ]
  },
  {
   "cell_type": "markdown",
   "metadata": {},
   "source": [
    "Add sites back into the mps"
   ]
  },
  {
   "cell_type": "code",
   "execution_count": 357,
   "metadata": {},
   "outputs": [
    {
     "data": {
      "text/plain": [
       "ITensor ord=2 (dim=2|id=703|\"S=1/2,Site,n=1\") (dim=2|id=986|\"Link,l=1\")\n",
       "NDTensors.Dense{ComplexF64, Vector{ComplexF64}}"
      ]
     },
     "metadata": {},
     "output_type": "display_data"
    }
   ],
   "source": [
    "mps[1] = left_site_new"
   ]
  },
  {
   "cell_type": "code",
   "execution_count": 358,
   "metadata": {},
   "outputs": [
    {
     "data": {
      "text/plain": [
       "ITensor ord=3 (dim=2|id=986|\"Link,l=1\") (dim=2|id=922|\"S=1/2,Site,n=2\") (dim=2|id=767|\"Link,l=2\")\n",
       "NDTensors.Dense{ComplexF64, Vector{ComplexF64}}"
      ]
     },
     "metadata": {},
     "output_type": "display_data"
    }
   ],
   "source": [
    "mps[2] = right_site_new"
   ]
  },
  {
   "cell_type": "code",
   "execution_count": 359,
   "metadata": {},
   "outputs": [
    {
     "data": {
      "text/plain": [
       "MPS\n",
       "[1] ((dim=2|id=703|\"S=1/2,Site,n=1\"), (dim=2|id=986|\"Link,l=1\"))\n",
       "[2] ((dim=2|id=986|\"Link,l=1\"), (dim=2|id=922|\"S=1/2,Site,n=2\"), (dim=2|id=767|\"Link,l=2\"))\n",
       "[3] ((dim=2|id=767|\"Link,l=2\"), (dim=2|id=503|\"S=1/2,Site,n=3\"))\n"
      ]
     },
     "metadata": {},
     "output_type": "display_data"
    }
   ],
   "source": [
    "normalize!(mps)"
   ]
  },
  {
   "cell_type": "markdown",
   "metadata": {},
   "source": [
    "# Now for sites 2-3"
   ]
  },
  {
   "cell_type": "code",
   "execution_count": 360,
   "metadata": {},
   "outputs": [
    {
     "data": {
      "text/plain": [
       "ITensor ord=3 (dim=2|id=986|\"Link,l=1\") (dim=2|id=922|\"S=1/2,Site,n=2\") (dim=2|id=503|\"S=1/2,Site,n=3\")\n",
       "NDTensors.Dense{ComplexF64, Vector{ComplexF64}}"
      ]
     },
     "metadata": {},
     "output_type": "display_data"
    }
   ],
   "source": [
    "BT_s2s3 = mps[2] * mps[3]"
   ]
  },
  {
   "cell_type": "code",
   "execution_count": 361,
   "metadata": {},
   "outputs": [
    {
     "data": {
      "text/plain": [
       "loss_per_sample2 (generic function with 2 methods)"
      ]
     },
     "metadata": {},
     "output_type": "display_data"
    }
   ],
   "source": [
    "function loss_per_sample2(BT::ITensor, ps::PState, LE::Matrix, psid::Int, lid::Int, rid::Int)\n",
    "    y = ps.label\n",
    "    yhat = BT * conj(ps.pstate[lid]) * conj(ps.pstate[rid])\n",
    "    yhat *= LE[psid, lid-1]\n",
    "    \n",
    "    yhat = abs(yhat[])\n",
    "\n",
    "    diff_sq = (yhat - y)^2\n",
    "\n",
    "    loss = 0.5 * diff_sq\n",
    "\n",
    "    return loss\n",
    "    \n",
    "end\n"
   ]
  },
  {
   "cell_type": "code",
   "execution_count": 362,
   "metadata": {},
   "outputs": [
    {
     "data": {
      "text/plain": [
       "0.05070177352400256"
      ]
     },
     "metadata": {},
     "output_type": "display_data"
    }
   ],
   "source": [
    "loss_per_sample2(BT_s2s3, all_pstates[1], LE, 1, 2, 3)"
   ]
  },
  {
   "cell_type": "code",
   "execution_count": 375,
   "metadata": {},
   "outputs": [
    {
     "data": {
      "text/plain": [
       "200-element Vector{ITensor}:\n",
       " ITensor ord=1\n",
       "Dim 1: (dim=2|id=986|\"Link,l=1\")\n",
       "NDTensors.Dense{ComplexF64, Vector{ComplexF64}}\n",
       " 2-element\n",
       " -0.7171921444508376 + 4.6419259161868125e-18im\n",
       " -0.6968754752019972 - 4.9483564363427824e-18im\n",
       " ITensor ord=1\n",
       "Dim 1: (dim=2|id=986|\"Link,l=1\")\n",
       "NDTensors.Dense{ComplexF64, Vector{ComplexF64}}\n",
       " 2-element\n",
       " -0.7171921444508376 + 4.6419259161868125e-18im\n",
       " -0.6968754752019972 - 4.9483564363427824e-18im\n",
       " ITensor ord=1\n",
       "Dim 1: (dim=2|id=986|\"Link,l=1\")\n",
       "NDTensors.Dense{ComplexF64, Vector{ComplexF64}}\n",
       " 2-element\n",
       " -0.7171921444508376 + 4.6419259161868125e-18im\n",
       " -0.6968754752019972 - 4.9483564363427824e-18im\n",
       " ITensor ord=1\n",
       "Dim 1: (dim=2|id=986|\"Link,l=1\")\n",
       "NDTensors.Dense{ComplexF64, Vector{ComplexF64}}\n",
       " 2-element\n",
       " -0.7171921444508376 + 4.6419259161868125e-18im\n",
       " -0.6968754752019972 - 4.9483564363427824e-18im\n",
       " ITensor ord=1\n",
       "Dim 1: (dim=2|id=986|\"Link,l=1\")\n",
       "NDTensors.Dense{ComplexF64, Vector{ComplexF64}}\n",
       " 2-element\n",
       " -0.7171921444508376 + 4.6419259161868125e-18im\n",
       " -0.6968754752019972 - 4.9483564363427824e-18im\n",
       " ITensor ord=1\n",
       "Dim 1: (dim=2|id=986|\"Link,l=1\")\n",
       "NDTensors.Dense{ComplexF64, Vector{ComplexF64}}\n",
       " 2-element\n",
       " -0.7171921444508376 + 4.6419259161868125e-18im\n",
       " -0.6968754752019972 - 4.9483564363427824e-18im\n",
       " ITensor ord=1\n",
       "Dim 1: (dim=2|id=986|\"Link,l=1\")\n",
       "NDTensors.Dense{ComplexF64, Vector{ComplexF64}}\n",
       " 2-element\n",
       " -0.7171921444508376 + 4.6419259161868125e-18im\n",
       " -0.6968754752019972 - 4.9483564363427824e-18im\n",
       " ITensor ord=1\n",
       "Dim 1: (dim=2|id=986|\"Link,l=1\")\n",
       "NDTensors.Dense{ComplexF64, Vector{ComplexF64}}\n",
       " 2-element\n",
       " -0.7171921444508376 + 4.6419259161868125e-18im\n",
       " -0.6968754752019972 - 4.9483564363427824e-18im\n",
       " ITensor ord=1\n",
       "Dim 1: (dim=2|id=986|\"Link,l=1\")\n",
       "NDTensors.Dense{ComplexF64, Vector{ComplexF64}}\n",
       " 2-element\n",
       " -0.7171921444508376 + 4.6419259161868125e-18im\n",
       " -0.6968754752019972 - 4.9483564363427824e-18im\n",
       " ITensor ord=1\n",
       "Dim 1: (dim=2|id=986|\"Link,l=1\")\n",
       "NDTensors.Dense{ComplexF64, Vector{ComplexF64}}\n",
       " 2-element\n",
       " -0.7171921444508376 + 4.6419259161868125e-18im\n",
       " -0.6968754752019972 - 4.9483564363427824e-18im\n",
       " ⋮\n",
       " ITensor ord=1\n",
       "Dim 1: (dim=2|id=986|\"Link,l=1\")\n",
       "NDTensors.Dense{ComplexF64, Vector{ComplexF64}}\n",
       " 2-element\n",
       " -0.5835650839276536 - 0.38090316454253786im\n",
       "  0.6005783082657514 + 0.3920079944371533im\n",
       " ITensor ord=1\n",
       "Dim 1: (dim=2|id=986|\"Link,l=1\")\n",
       "NDTensors.Dense{ComplexF64, Vector{ComplexF64}}\n",
       " 2-element\n",
       " -0.5835650839276536 - 0.38090316454253786im\n",
       "  0.6005783082657514 + 0.3920079944371533im\n",
       " ITensor ord=1\n",
       "Dim 1: (dim=2|id=986|\"Link,l=1\")\n",
       "NDTensors.Dense{ComplexF64, Vector{ComplexF64}}\n",
       " 2-element\n",
       " -0.5835650839276536 - 0.38090316454253786im\n",
       "  0.6005783082657514 + 0.3920079944371533im\n",
       " ITensor ord=1\n",
       "Dim 1: (dim=2|id=986|\"Link,l=1\")\n",
       "NDTensors.Dense{ComplexF64, Vector{ComplexF64}}\n",
       " 2-element\n",
       " -0.5835650839276536 - 0.38090316454253786im\n",
       "  0.6005783082657514 + 0.3920079944371533im\n",
       " ITensor ord=1\n",
       "Dim 1: (dim=2|id=986|\"Link,l=1\")\n",
       "NDTensors.Dense{ComplexF64, Vector{ComplexF64}}\n",
       " 2-element\n",
       " -0.5835650839276536 - 0.38090316454253786im\n",
       "  0.6005783082657514 + 0.3920079944371533im\n",
       " ITensor ord=1\n",
       "Dim 1: (dim=2|id=986|\"Link,l=1\")\n",
       "NDTensors.Dense{ComplexF64, Vector{ComplexF64}}\n",
       " 2-element\n",
       " -0.5835650839276536 - 0.38090316454253786im\n",
       "  0.6005783082657514 + 0.3920079944371533im\n",
       " ITensor ord=1\n",
       "Dim 1: (dim=2|id=986|\"Link,l=1\")\n",
       "NDTensors.Dense{ComplexF64, Vector{ComplexF64}}\n",
       " 2-element\n",
       " -0.5835650839276536 - 0.38090316454253786im\n",
       "  0.6005783082657514 + 0.3920079944371533im\n",
       " ITensor ord=1\n",
       "Dim 1: (dim=2|id=986|\"Link,l=1\")\n",
       "NDTensors.Dense{ComplexF64, Vector{ComplexF64}}\n",
       " 2-element\n",
       " -0.5835650839276536 - 0.38090316454253786im\n",
       "  0.6005783082657514 + 0.3920079944371533im\n",
       " ITensor ord=1\n",
       "Dim 1: (dim=2|id=986|\"Link,l=1\")\n",
       "NDTensors.Dense{ComplexF64, Vector{ComplexF64}}\n",
       " 2-element\n",
       " -0.5835650839276536 - 0.38090316454253786im\n",
       "  0.6005783082657514 + 0.3920079944371533im"
      ]
     },
     "metadata": {},
     "output_type": "display_data"
    }
   ],
   "source": [
    "LE[:, 2] = LE[:, 1]\n",
    "LE[:, 3] = LE[:, 1]"
   ]
  },
  {
   "cell_type": "code",
   "execution_count": 377,
   "metadata": {},
   "outputs": [
    {
     "data": {
      "text/plain": [
       "(ITensor ord=3\n",
       "Dim 1: (dim=2|id=986|\"Link,l=1\")\n",
       "Dim 2: (dim=2|id=503|\"S=1/2,Site,n=3\")\n",
       "Dim 3: (dim=2|id=922|\"S=1/2,Site,n=2\")\n",
       "NDTensors.Dense{ComplexF64, Vector{ComplexF64}}\n",
       " 2×2×2\n",
       "[:, :, 1] =\n",
       " -0.049483289637400146 + 0.2229569378368305im   0.0 + 0.0im\n",
       "  -0.04808152354628181 + 0.21664099810183296im  0.0 + 0.0im\n",
       "\n",
       "[:, :, 2] =\n",
       " 0.0 + 0.0im  0.0 + 0.0im\n",
       " 0.0 + 0.0im  0.0 + 0.0im, (pstate = (data = Union{Nothing, ITensor}[nothing, ITensor ord=1\n",
       "Dim 1: (dim=2|id=922|\"S=1/2,Site,n=2\")\n",
       "NDTensors.Dense{ComplexF64, Vector{ComplexF64}}\n",
       " 2-element\n",
       " 0.10140354704800512 + 1.2042038752093967e-18im\n",
       " 0.07096073107074409 + 0.05167708915573277im, ITensor ord=1\n",
       "Dim 1: (dim=2|id=503|\"S=1/2,Site,n=3\")\n",
       "NDTensors.Dense{ComplexF64, Vector{ComplexF64}}\n",
       " 2-element\n",
       " 0.20280709409601025 + 2.4084077504187934e-18im\n",
       " 0.09035702443087401 - 0.04775258323717094im], llim = nothing, rlim = nothing), label = -0.3184392360372778), Union{Nothing, ITensor}[ITensor ord=1\n",
       "Dim 1: (dim=2|id=986|\"Link,l=1\")\n",
       "NDTensors.Dense{ComplexF64, Vector{ComplexF64}}\n",
       " 2-element\n",
       " -0.030614979690052717 - 0.06530052709142074im\n",
       "  -0.11400419004377911 + 0.06720429506418055im nothing nothing; nothing nothing nothing; … ; nothing nothing nothing; nothing nothing nothing], nothing, nothing, nothing)"
      ]
     },
     "metadata": {},
     "output_type": "display_data"
    }
   ],
   "source": [
    "nab = gradient(loss_per_sample2, BT_s2s3, all_pstates[1], LE, 1, 2, 3)"
   ]
  },
  {
   "cell_type": "code",
   "execution_count": 378,
   "metadata": {},
   "outputs": [
    {
     "data": {
      "text/plain": [
       "ITensor ord=3 (dim=2|id=986|\"Link,l=1\") (dim=2|id=503|\"S=1/2,Site,n=3\") (dim=2|id=922|\"S=1/2,Site,n=2\")\n",
       "NDTensors.Dense{ComplexF64, Vector{ComplexF64}}"
      ]
     },
     "metadata": {},
     "output_type": "display_data"
    }
   ],
   "source": [
    "nab[1]"
   ]
  },
  {
   "cell_type": "code",
   "execution_count": null,
   "metadata": {},
   "outputs": [],
   "source": []
  }
 ],
 "metadata": {
  "kernelspec": {
   "display_name": "Julia 1.9.2",
   "language": "julia",
   "name": "julia-1.9"
  },
  "language_info": {
   "file_extension": ".jl",
   "mimetype": "application/julia",
   "name": "julia",
   "version": "1.9.2"
  }
 },
 "nbformat": 4,
 "nbformat_minor": 2
}
