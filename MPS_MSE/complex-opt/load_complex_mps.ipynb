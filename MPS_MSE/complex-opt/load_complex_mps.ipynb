{
 "cells": [
  {
   "cell_type": "code",
   "execution_count": 155,
   "metadata": {},
   "outputs": [],
   "source": [
    "using HDF5\n",
    "using ITensors"
   ]
  },
  {
   "cell_type": "code",
   "execution_count": 156,
   "metadata": {},
   "outputs": [
    {
     "data": {
      "text/plain": [
       "load_complex_dataset_as_array (generic function with 1 method)"
      ]
     },
     "metadata": {},
     "output_type": "display_data"
    }
   ],
   "source": [
    "function load_complex_dataset_as_array(file_path, dataset_name)\n",
    "    file = h5open(file_path, \"r\")\n",
    "    dataset = read(file[dataset_name]) \n",
    "    close(file)\n",
    "    \n",
    "    # Initialise an array to hold the complex numbers, without predefining a shape\n",
    "    complex_array = [complex(d.real, d.imag) for d in dataset]\n",
    "    \n",
    "    return complex_array\n",
    "end"
   ]
  },
  {
   "cell_type": "code",
   "execution_count": 157,
   "metadata": {},
   "outputs": [],
   "source": [
    "s1 = load_complex_dataset_as_array(\"complex_data.h5\", \"site1\");\n",
    "s2 = load_complex_dataset_as_array(\"complex_data.h5\", \"site2\");"
   ]
  },
  {
   "cell_type": "code",
   "execution_count": 158,
   "metadata": {},
   "outputs": [
    {
     "data": {
      "text/plain": [
       "-0.8357146382331848 - 1.3114923238754272im"
      ]
     },
     "metadata": {},
     "output_type": "display_data"
    }
   ],
   "source": [
    "s2[1]"
   ]
  },
  {
   "cell_type": "code",
   "execution_count": 159,
   "metadata": {},
   "outputs": [
    {
     "data": {
      "text/plain": [
       "0.8082578182220459 - 0.1832321584224701im"
      ]
     },
     "metadata": {},
     "output_type": "display_data"
    }
   ],
   "source": [
    "s1_final = Array{ComplexF64}(undef, 1, 2, 4)\n",
    "s1_final[1, 1, 1] = s1[1]\n",
    "s1_final[1, 1, 2] = s1[2]\n",
    "s1_final[1, 1, 3] = s1[3]\n",
    "s1_final[1, 1, 4] = s1[4]\n",
    "\n",
    "s1_final[1, 2, 1] = s1[5]\n",
    "s1_final[1, 2, 2] = s1[6]\n",
    "s1_final[1, 2, 3] = s1[7]\n",
    "s1_final[1, 2, 4] = s1[8]"
   ]
  },
  {
   "cell_type": "code",
   "execution_count": 160,
   "metadata": {},
   "outputs": [],
   "source": [
    "s2_final = Array{ComplexF64}(undef, 4, 2, 1);\n",
    "s2_final[1, 1, 1] = s2[1];\n",
    "s2_final[1, 2, 1] = s2[2];\n",
    "\n",
    "s2_final[2, 1, 1] = s2[3];\n",
    "s2_final[2, 2, 1] = s2[4];\n",
    "\n",
    "s2_final[3, 1, 1] = s2[5];\n",
    "s2_final[3, 2, 1] = s2[6];\n",
    "\n",
    "s2_final[4, 1, 1] = s2[7];\n",
    "s2_final[4, 2, 1] = s2[8];\n"
   ]
  },
  {
   "cell_type": "code",
   "execution_count": 161,
   "metadata": {},
   "outputs": [
    {
     "data": {
      "text/plain": [
       "4×2×1 Array{ComplexF64, 3}:\n",
       "[:, :, 1] =\n",
       " -0.835715-1.31149im    0.420888+0.579194im\n",
       "  0.510843-1.20403im   -0.225118+1.28012im\n",
       "   0.40536-0.28335im   -0.137874+0.106533im\n",
       "   1.07665+0.999973im   0.687609-0.615196im"
      ]
     },
     "metadata": {},
     "output_type": "display_data"
    }
   ],
   "source": [
    "s2_final"
   ]
  },
  {
   "cell_type": "markdown",
   "metadata": {},
   "source": [
    "Make into ITensors"
   ]
  },
  {
   "cell_type": "code",
   "execution_count": 162,
   "metadata": {},
   "outputs": [
    {
     "data": {
      "text/plain": [
       "2-element Vector{Index{Int64}}:\n",
       " (dim=2|id=249|\"S=1/2,Site,n=1\")\n",
       " (dim=2|id=27|\"S=1/2,Site,n=2\")"
      ]
     },
     "metadata": {},
     "output_type": "display_data"
    }
   ],
   "source": [
    "s = siteinds(\"S=1/2\", 2)"
   ]
  },
  {
   "cell_type": "code",
   "execution_count": 163,
   "metadata": {},
   "outputs": [
    {
     "data": {
      "text/plain": [
       "4×2 Matrix{ComplexF64}:\n",
       " -0.835715-1.31149im    0.420888+0.579194im\n",
       "  0.510843-1.20403im   -0.225118+1.28012im\n",
       "   0.40536-0.28335im   -0.137874+0.106533im\n",
       "   1.07665+0.999973im   0.687609-0.615196im"
      ]
     },
     "metadata": {},
     "output_type": "display_data"
    }
   ],
   "source": [
    "reshape(s2_final, (4, 2))"
   ]
  },
  {
   "cell_type": "code",
   "execution_count": 164,
   "metadata": {},
   "outputs": [
    {
     "data": {
      "text/plain": [
       "ITensor ord=3 (dim=1|id=10|\"dummy\") (dim=2|id=937|\"S=1/2,Site,n=1\") (dim=4|id=264|\"Link,l=1\")\n",
       "NDTensors.Dense{ComplexF64, Vector{ComplexF64}}"
      ]
     },
     "metadata": {},
     "output_type": "display_data"
    }
   ],
   "source": [
    "site_1_idx = Index(2, \"S=1/2,Site,n=1\");\n",
    "link_1_idx = Index(4, \"Link,l=1\");\n",
    "dummy_index = Index(1, \"dummy\");\n",
    "\n",
    "s1_tensor = ITensor(s1_final, dummy_index, site_1_idx, link_1_idx)"
   ]
  },
  {
   "cell_type": "code",
   "execution_count": 165,
   "metadata": {},
   "outputs": [
    {
     "data": {
      "text/plain": [
       "ITensor ord=3 (dim=1|id=10|\"dummy\") (dim=2|id=908|\"S=1/2,Site,n=2\") (dim=4|id=264|\"Link,l=1\")\n",
       "NDTensors.Dense{ComplexF64, Vector{ComplexF64}}"
      ]
     },
     "metadata": {},
     "output_type": "display_data"
    }
   ],
   "source": [
    "site_2_idx = Index(2, \"S=1/2,Site,n=2\")\n",
    "s2_tensor = ITensor(s2_final, dummy_index, site_2_idx, link_1_idx)"
   ]
  },
  {
   "cell_type": "markdown",
   "metadata": {},
   "source": [
    "Combine into an MPS"
   ]
  },
  {
   "cell_type": "code",
   "execution_count": 166,
   "metadata": {},
   "outputs": [
    {
     "data": {
      "text/plain": [
       "MPS\n",
       "[1] ((dim=1|id=10|\"dummy\"), (dim=2|id=937|\"S=1/2,Site,n=1\"), (dim=4|id=264|\"Link,l=1\"))\n",
       "[2] ((dim=1|id=10|\"dummy\"), (dim=2|id=908|\"S=1/2,Site,n=2\"), (dim=4|id=264|\"Link,l=1\"))\n"
      ]
     },
     "metadata": {},
     "output_type": "display_data"
    }
   ],
   "source": [
    "mps = MPS([s1_tensor, s2_tensor])"
   ]
  },
  {
   "cell_type": "code",
   "execution_count": 167,
   "metadata": {},
   "outputs": [
    {
     "name": "stdout",
     "output_type": "stream",
     "text": [
      "mps[1] = ITensor ord=3\n",
      "Dim 1: (dim=1|id=10|\"dummy\")\n",
      "Dim 2: (dim=2|id=937|\"S=1/2,Site,n=1\")\n",
      "Dim 3: (dim=4|id=264|\"Link,l=1\")\n",
      "NDTensors.Dense{ComplexF64, Vector{ComplexF64}}\n",
      " 1×2×4\n",
      "[:, :, 1] =\n",
      " -0.6767696738243103 - 0.928959310054779im  0.21445874869823456 - 0.9110893607139587im\n",
      "\n",
      "[:, :, 2] =\n",
      " -0.28865286707878113 - 0.4180883765220642im  0.22639237344264984 + 0.1902822107076645im\n",
      "\n",
      "[:, :, 3] =\n",
      " 0.4713106155395508 + 0.3606642186641693im  0.06180282309651375 + 0.8166481852531433im\n",
      "\n",
      "[:, :, 4] =\n",
      " -0.33472883701324463 - 1.3707609176635742im  0.8082578182220459 - 0.1832321584224701im\n"
     ]
    },
    {
     "data": {
      "text/plain": [
       "ITensor ord=3 (dim=1|id=10|\"dummy\") (dim=2|id=937|\"S=1/2,Site,n=1\") (dim=4|id=264|\"Link,l=1\")\n",
       "NDTensors.Dense{ComplexF64, Vector{ComplexF64}}"
      ]
     },
     "metadata": {},
     "output_type": "display_data"
    }
   ],
   "source": [
    "@show mps[1]"
   ]
  },
  {
   "cell_type": "markdown",
   "metadata": {},
   "source": [
    "Let's make some example data using the complex feature map:"
   ]
  },
  {
   "cell_type": "code",
   "execution_count": 168,
   "metadata": {},
   "outputs": [
    {
     "data": {
      "text/plain": [
       "ComplexAngleEncoder (generic function with 1 method)"
      ]
     },
     "metadata": {},
     "output_type": "display_data"
    }
   ],
   "source": [
    "function ComplexAngleEncoder(x) \n",
    "    \"\"\"Function to convert normalised time series to an angle encoding.\"\"\"\n",
    "    if x <= 1.0 && x >= 0.0\n",
    "        s1 = exp(1im * (3pi/2)*x) * cospi(0.5 * x)\n",
    "        s2 = exp(-1im * (3pi/2)*x) * sinpi(0.5 * x)\n",
    "        return [s1, s2]\n",
    "    else\n",
    "        println(\"Data points must be rescaled between 1 and 0 before encoding using the angle encoder.\")\n",
    "    end\n",
    "end"
   ]
  },
  {
   "cell_type": "code",
   "execution_count": 169,
   "metadata": {},
   "outputs": [
    {
     "data": {
      "text/plain": [
       "NormalisedDataToProductState (generic function with 1 method)"
      ]
     },
     "metadata": {},
     "output_type": "display_data"
    }
   ],
   "source": [
    "function NormalisedDataToProductState(sample::Vector, site_indices::Vector{Index{Int64}})\n",
    "    \"\"\"Function to convert a single normalised sample to a product state\n",
    "    with local dimension 2, as specified by the feature map.\"\"\"\n",
    "\n",
    "    n_sites = length(site_indices) # number of mps sites\n",
    "    product_state = MPS(site_indices; linkdims=1)\n",
    "    \n",
    "    # check that the number of sites matches the length of the time series\n",
    "    if n_sites !== length(sample)\n",
    "        error(\"Number of MPS sites: $n_sites does not match the time series length: $(length(sample))\")\n",
    "    end\n",
    "\n",
    "    for j=1:n_sites\n",
    "        T = ITensor(site_indices[j])\n",
    "        # map 0 to |0> and 1 to |1> \n",
    "        zero_state, one_state = ComplexAngleEncoder(sample[j])\n",
    "        T[1] = zero_state\n",
    "        T[2] = one_state\n",
    "        product_state[j] = T\n",
    "    end\n",
    "\n",
    "    return product_state\n",
    "\n",
    "end"
   ]
  },
  {
   "cell_type": "code",
   "execution_count": 175,
   "metadata": {},
   "outputs": [
    {
     "data": {
      "text/plain": [
       "2-element Vector{Int64}:\n",
       " 0\n",
       " 0"
      ]
     },
     "metadata": {},
     "output_type": "display_data"
    }
   ],
   "source": [
    "sample = [0, 0]"
   ]
  },
  {
   "cell_type": "code",
   "execution_count": 176,
   "metadata": {},
   "outputs": [
    {
     "data": {
      "text/plain": [
       "MPS\n",
       "[1] ((dim=2|id=937|\"S=1/2,Site,n=1\"),)\n",
       "[2] ((dim=2|id=908|\"S=1/2,Site,n=2\"),)\n"
      ]
     },
     "metadata": {},
     "output_type": "display_data"
    }
   ],
   "source": [
    "ps = NormalisedDataToProductState(sample, siteinds(mps))"
   ]
  },
  {
   "cell_type": "code",
   "execution_count": 179,
   "metadata": {},
   "outputs": [
    {
     "name": "stdout",
     "output_type": "stream",
     "text": [
      "ps[1] = ITensor ord=1\n",
      "Dim 1: (dim=2|id=937|\"S=1/2,Site,n=1\")\n",
      "NDTensors.Dense{ComplexF64, Vector{ComplexF64}}\n",
      " 2-element\n",
      " 1.0 + 0.0im\n",
      " 0.0 - 0.0im\n"
     ]
    },
    {
     "data": {
      "text/plain": [
       "ITensor ord=1 (dim=2|id=937|\"S=1/2,Site,n=1\")\n",
       "NDTensors.Dense{ComplexF64, Vector{ComplexF64}}"
      ]
     },
     "metadata": {},
     "output_type": "display_data"
    }
   ],
   "source": [
    "@show ps[1]"
   ]
  },
  {
   "cell_type": "code",
   "execution_count": 172,
   "metadata": {},
   "outputs": [
    {
     "data": {
      "text/plain": [
       "1.5502376636186155 - 1.02034104682372im"
      ]
     },
     "metadata": {},
     "output_type": "display_data"
    }
   ],
   "source": [
    "inner(mps, ps)"
   ]
  },
  {
   "cell_type": "code",
   "execution_count": 173,
   "metadata": {},
   "outputs": [
    {
     "data": {
      "text/plain": [
       "1.8558913399051757"
      ]
     },
     "metadata": {},
     "output_type": "display_data"
    }
   ],
   "source": [
    "abs(inner(mps, ps))"
   ]
  },
  {
   "cell_type": "code",
   "execution_count": 174,
   "metadata": {},
   "outputs": [],
   "source": []
  }
 ],
 "metadata": {
  "kernelspec": {
   "display_name": "Julia 1.9.2",
   "language": "julia",
   "name": "julia-1.9"
  },
  "language_info": {
   "file_extension": ".jl",
   "mimetype": "application/julia",
   "name": "julia",
   "version": "1.9.2"
  }
 },
 "nbformat": 4,
 "nbformat_minor": 2
}
